{
  "nbformat": 4,
  "nbformat_minor": 0,
  "metadata": {
    "kernelspec": {
      "display_name": "Python 3",
      "language": "python",
      "name": "python3"
    },
    "language_info": {
      "codemirror_mode": {
        "name": "ipython",
        "version": 3
      },
      "file_extension": ".py",
      "mimetype": "text/x-python",
      "name": "python",
      "nbconvert_exporter": "python",
      "pygments_lexer": "ipython3",
      "version": "3.7.1"
    },
    "colab": {
      "name": "Lead_Scoring_Assignment_Vishak Nair_Souptik Majumder.ipynb",
      "provenance": [],
      "include_colab_link": true
    }
  },
  "cells": [
    {
      "cell_type": "markdown",
      "metadata": {
        "id": "view-in-github",
        "colab_type": "text"
      },
      "source": [
        "<a href=\"https://colab.research.google.com/github/souptikmajumder/customer_conversion_for_educompany/blob/master/Lead_Scoring_Assignment_Vishak_Nair_Souptik_Majumder.ipynb\" target=\"_parent\"><img src=\"https://colab.research.google.com/assets/colab-badge.svg\" alt=\"Open In Colab\"/></a>"
      ]
    },
    {
      "cell_type": "code",
      "metadata": {
        "id": "UHAZgDzj30iJ",
        "colab_type": "code",
        "colab": {}
      },
      "source": [
        "#Importing the libraries.\n",
        "import numpy as np\n",
        "import pandas as pd\n",
        "import seaborn as sns\n",
        "import matplotlib.pyplot as plt"
      ],
      "execution_count": 0,
      "outputs": []
    },
    {
      "cell_type": "code",
      "metadata": {
        "id": "FwmZf9hC30iQ",
        "colab_type": "code",
        "colab": {}
      },
      "source": [
        "#Supress Warnings\n",
        "import warnings\n",
        "warnings.filterwarnings('ignore')"
      ],
      "execution_count": 0,
      "outputs": []
    },
    {
      "cell_type": "code",
      "metadata": {
        "id": "mLCn0PlM30iT",
        "colab_type": "code",
        "colab": {}
      },
      "source": [
        "#To view all columns of the dataframe\n",
        "pd.set_option('display.max_columns',500)"
      ],
      "execution_count": 0,
      "outputs": []
    },
    {
      "cell_type": "code",
      "metadata": {
        "id": "hVQpeQWb30iX",
        "colab_type": "code",
        "colab": {}
      },
      "source": [
        "#Importing the dataset\n",
        "lead = pd.read_csv('Leads.csv')"
      ],
      "execution_count": 0,
      "outputs": []
    },
    {
      "cell_type": "markdown",
      "metadata": {
        "id": "laQuLgXG30ia",
        "colab_type": "text"
      },
      "source": [
        "#### DATA UNDERSTANDING"
      ]
    },
    {
      "cell_type": "code",
      "metadata": {
        "id": "E3u-NDAG30ic",
        "colab_type": "code",
        "colab": {},
        "outputId": "14267c3b-47e1-48f7-aeea-419b14fe8562"
      },
      "source": [
        "#To view the head of the dataset\n",
        "lead.head()"
      ],
      "execution_count": 0,
      "outputs": [
        {
          "output_type": "execute_result",
          "data": {
            "text/html": [
              "<div>\n",
              "<style scoped>\n",
              "    .dataframe tbody tr th:only-of-type {\n",
              "        vertical-align: middle;\n",
              "    }\n",
              "\n",
              "    .dataframe tbody tr th {\n",
              "        vertical-align: top;\n",
              "    }\n",
              "\n",
              "    .dataframe thead th {\n",
              "        text-align: right;\n",
              "    }\n",
              "</style>\n",
              "<table border=\"1\" class=\"dataframe\">\n",
              "  <thead>\n",
              "    <tr style=\"text-align: right;\">\n",
              "      <th></th>\n",
              "      <th>Prospect ID</th>\n",
              "      <th>Lead Number</th>\n",
              "      <th>Lead Origin</th>\n",
              "      <th>Lead Source</th>\n",
              "      <th>Do Not Email</th>\n",
              "      <th>Do Not Call</th>\n",
              "      <th>Converted</th>\n",
              "      <th>TotalVisits</th>\n",
              "      <th>Total Time Spent on Website</th>\n",
              "      <th>Page Views Per Visit</th>\n",
              "      <th>Last Activity</th>\n",
              "      <th>Country</th>\n",
              "      <th>Specialization</th>\n",
              "      <th>How did you hear about X Education</th>\n",
              "      <th>What is your current occupation</th>\n",
              "      <th>What matters most to you in choosing a course</th>\n",
              "      <th>Search</th>\n",
              "      <th>Magazine</th>\n",
              "      <th>Newspaper Article</th>\n",
              "      <th>X Education Forums</th>\n",
              "      <th>Newspaper</th>\n",
              "      <th>Digital Advertisement</th>\n",
              "      <th>Through Recommendations</th>\n",
              "      <th>Receive More Updates About Our Courses</th>\n",
              "      <th>Tags</th>\n",
              "      <th>Lead Quality</th>\n",
              "      <th>Update me on Supply Chain Content</th>\n",
              "      <th>Get updates on DM Content</th>\n",
              "      <th>Lead Profile</th>\n",
              "      <th>City</th>\n",
              "      <th>Asymmetrique Activity Index</th>\n",
              "      <th>Asymmetrique Profile Index</th>\n",
              "      <th>Asymmetrique Activity Score</th>\n",
              "      <th>Asymmetrique Profile Score</th>\n",
              "      <th>I agree to pay the amount through cheque</th>\n",
              "      <th>A free copy of Mastering The Interview</th>\n",
              "      <th>Last Notable Activity</th>\n",
              "    </tr>\n",
              "  </thead>\n",
              "  <tbody>\n",
              "    <tr>\n",
              "      <th>0</th>\n",
              "      <td>7927b2df-8bba-4d29-b9a2-b6e0beafe620</td>\n",
              "      <td>660737</td>\n",
              "      <td>API</td>\n",
              "      <td>Olark Chat</td>\n",
              "      <td>No</td>\n",
              "      <td>No</td>\n",
              "      <td>0</td>\n",
              "      <td>0.0</td>\n",
              "      <td>0</td>\n",
              "      <td>0.0</td>\n",
              "      <td>Page Visited on Website</td>\n",
              "      <td>NaN</td>\n",
              "      <td>Select</td>\n",
              "      <td>Select</td>\n",
              "      <td>Unemployed</td>\n",
              "      <td>Better Career Prospects</td>\n",
              "      <td>No</td>\n",
              "      <td>No</td>\n",
              "      <td>No</td>\n",
              "      <td>No</td>\n",
              "      <td>No</td>\n",
              "      <td>No</td>\n",
              "      <td>No</td>\n",
              "      <td>No</td>\n",
              "      <td>Interested in other courses</td>\n",
              "      <td>Low in Relevance</td>\n",
              "      <td>No</td>\n",
              "      <td>No</td>\n",
              "      <td>Select</td>\n",
              "      <td>Select</td>\n",
              "      <td>02.Medium</td>\n",
              "      <td>02.Medium</td>\n",
              "      <td>15.0</td>\n",
              "      <td>15.0</td>\n",
              "      <td>No</td>\n",
              "      <td>No</td>\n",
              "      <td>Modified</td>\n",
              "    </tr>\n",
              "    <tr>\n",
              "      <th>1</th>\n",
              "      <td>2a272436-5132-4136-86fa-dcc88c88f482</td>\n",
              "      <td>660728</td>\n",
              "      <td>API</td>\n",
              "      <td>Organic Search</td>\n",
              "      <td>No</td>\n",
              "      <td>No</td>\n",
              "      <td>0</td>\n",
              "      <td>5.0</td>\n",
              "      <td>674</td>\n",
              "      <td>2.5</td>\n",
              "      <td>Email Opened</td>\n",
              "      <td>India</td>\n",
              "      <td>Select</td>\n",
              "      <td>Select</td>\n",
              "      <td>Unemployed</td>\n",
              "      <td>Better Career Prospects</td>\n",
              "      <td>No</td>\n",
              "      <td>No</td>\n",
              "      <td>No</td>\n",
              "      <td>No</td>\n",
              "      <td>No</td>\n",
              "      <td>No</td>\n",
              "      <td>No</td>\n",
              "      <td>No</td>\n",
              "      <td>Ringing</td>\n",
              "      <td>NaN</td>\n",
              "      <td>No</td>\n",
              "      <td>No</td>\n",
              "      <td>Select</td>\n",
              "      <td>Select</td>\n",
              "      <td>02.Medium</td>\n",
              "      <td>02.Medium</td>\n",
              "      <td>15.0</td>\n",
              "      <td>15.0</td>\n",
              "      <td>No</td>\n",
              "      <td>No</td>\n",
              "      <td>Email Opened</td>\n",
              "    </tr>\n",
              "    <tr>\n",
              "      <th>2</th>\n",
              "      <td>8cc8c611-a219-4f35-ad23-fdfd2656bd8a</td>\n",
              "      <td>660727</td>\n",
              "      <td>Landing Page Submission</td>\n",
              "      <td>Direct Traffic</td>\n",
              "      <td>No</td>\n",
              "      <td>No</td>\n",
              "      <td>1</td>\n",
              "      <td>2.0</td>\n",
              "      <td>1532</td>\n",
              "      <td>2.0</td>\n",
              "      <td>Email Opened</td>\n",
              "      <td>India</td>\n",
              "      <td>Business Administration</td>\n",
              "      <td>Select</td>\n",
              "      <td>Student</td>\n",
              "      <td>Better Career Prospects</td>\n",
              "      <td>No</td>\n",
              "      <td>No</td>\n",
              "      <td>No</td>\n",
              "      <td>No</td>\n",
              "      <td>No</td>\n",
              "      <td>No</td>\n",
              "      <td>No</td>\n",
              "      <td>No</td>\n",
              "      <td>Will revert after reading the email</td>\n",
              "      <td>Might be</td>\n",
              "      <td>No</td>\n",
              "      <td>No</td>\n",
              "      <td>Potential Lead</td>\n",
              "      <td>Mumbai</td>\n",
              "      <td>02.Medium</td>\n",
              "      <td>01.High</td>\n",
              "      <td>14.0</td>\n",
              "      <td>20.0</td>\n",
              "      <td>No</td>\n",
              "      <td>Yes</td>\n",
              "      <td>Email Opened</td>\n",
              "    </tr>\n",
              "    <tr>\n",
              "      <th>3</th>\n",
              "      <td>0cc2df48-7cf4-4e39-9de9-19797f9b38cc</td>\n",
              "      <td>660719</td>\n",
              "      <td>Landing Page Submission</td>\n",
              "      <td>Direct Traffic</td>\n",
              "      <td>No</td>\n",
              "      <td>No</td>\n",
              "      <td>0</td>\n",
              "      <td>1.0</td>\n",
              "      <td>305</td>\n",
              "      <td>1.0</td>\n",
              "      <td>Unreachable</td>\n",
              "      <td>India</td>\n",
              "      <td>Media and Advertising</td>\n",
              "      <td>Word Of Mouth</td>\n",
              "      <td>Unemployed</td>\n",
              "      <td>Better Career Prospects</td>\n",
              "      <td>No</td>\n",
              "      <td>No</td>\n",
              "      <td>No</td>\n",
              "      <td>No</td>\n",
              "      <td>No</td>\n",
              "      <td>No</td>\n",
              "      <td>No</td>\n",
              "      <td>No</td>\n",
              "      <td>Ringing</td>\n",
              "      <td>Not Sure</td>\n",
              "      <td>No</td>\n",
              "      <td>No</td>\n",
              "      <td>Select</td>\n",
              "      <td>Mumbai</td>\n",
              "      <td>02.Medium</td>\n",
              "      <td>01.High</td>\n",
              "      <td>13.0</td>\n",
              "      <td>17.0</td>\n",
              "      <td>No</td>\n",
              "      <td>No</td>\n",
              "      <td>Modified</td>\n",
              "    </tr>\n",
              "    <tr>\n",
              "      <th>4</th>\n",
              "      <td>3256f628-e534-4826-9d63-4a8b88782852</td>\n",
              "      <td>660681</td>\n",
              "      <td>Landing Page Submission</td>\n",
              "      <td>Google</td>\n",
              "      <td>No</td>\n",
              "      <td>No</td>\n",
              "      <td>1</td>\n",
              "      <td>2.0</td>\n",
              "      <td>1428</td>\n",
              "      <td>1.0</td>\n",
              "      <td>Converted to Lead</td>\n",
              "      <td>India</td>\n",
              "      <td>Select</td>\n",
              "      <td>Other</td>\n",
              "      <td>Unemployed</td>\n",
              "      <td>Better Career Prospects</td>\n",
              "      <td>No</td>\n",
              "      <td>No</td>\n",
              "      <td>No</td>\n",
              "      <td>No</td>\n",
              "      <td>No</td>\n",
              "      <td>No</td>\n",
              "      <td>No</td>\n",
              "      <td>No</td>\n",
              "      <td>Will revert after reading the email</td>\n",
              "      <td>Might be</td>\n",
              "      <td>No</td>\n",
              "      <td>No</td>\n",
              "      <td>Select</td>\n",
              "      <td>Mumbai</td>\n",
              "      <td>02.Medium</td>\n",
              "      <td>01.High</td>\n",
              "      <td>15.0</td>\n",
              "      <td>18.0</td>\n",
              "      <td>No</td>\n",
              "      <td>No</td>\n",
              "      <td>Modified</td>\n",
              "    </tr>\n",
              "  </tbody>\n",
              "</table>\n",
              "</div>"
            ],
            "text/plain": [
              "                            Prospect ID  Lead Number              Lead Origin  \\\n",
              "0  7927b2df-8bba-4d29-b9a2-b6e0beafe620       660737                      API   \n",
              "1  2a272436-5132-4136-86fa-dcc88c88f482       660728                      API   \n",
              "2  8cc8c611-a219-4f35-ad23-fdfd2656bd8a       660727  Landing Page Submission   \n",
              "3  0cc2df48-7cf4-4e39-9de9-19797f9b38cc       660719  Landing Page Submission   \n",
              "4  3256f628-e534-4826-9d63-4a8b88782852       660681  Landing Page Submission   \n",
              "\n",
              "      Lead Source Do Not Email Do Not Call  Converted  TotalVisits  \\\n",
              "0      Olark Chat           No          No          0          0.0   \n",
              "1  Organic Search           No          No          0          5.0   \n",
              "2  Direct Traffic           No          No          1          2.0   \n",
              "3  Direct Traffic           No          No          0          1.0   \n",
              "4          Google           No          No          1          2.0   \n",
              "\n",
              "   Total Time Spent on Website  Page Views Per Visit            Last Activity  \\\n",
              "0                            0                   0.0  Page Visited on Website   \n",
              "1                          674                   2.5             Email Opened   \n",
              "2                         1532                   2.0             Email Opened   \n",
              "3                          305                   1.0              Unreachable   \n",
              "4                         1428                   1.0        Converted to Lead   \n",
              "\n",
              "  Country           Specialization How did you hear about X Education  \\\n",
              "0     NaN                   Select                             Select   \n",
              "1   India                   Select                             Select   \n",
              "2   India  Business Administration                             Select   \n",
              "3   India    Media and Advertising                      Word Of Mouth   \n",
              "4   India                   Select                              Other   \n",
              "\n",
              "  What is your current occupation  \\\n",
              "0                      Unemployed   \n",
              "1                      Unemployed   \n",
              "2                         Student   \n",
              "3                      Unemployed   \n",
              "4                      Unemployed   \n",
              "\n",
              "  What matters most to you in choosing a course Search Magazine  \\\n",
              "0                       Better Career Prospects     No       No   \n",
              "1                       Better Career Prospects     No       No   \n",
              "2                       Better Career Prospects     No       No   \n",
              "3                       Better Career Prospects     No       No   \n",
              "4                       Better Career Prospects     No       No   \n",
              "\n",
              "  Newspaper Article X Education Forums Newspaper Digital Advertisement  \\\n",
              "0                No                 No        No                    No   \n",
              "1                No                 No        No                    No   \n",
              "2                No                 No        No                    No   \n",
              "3                No                 No        No                    No   \n",
              "4                No                 No        No                    No   \n",
              "\n",
              "  Through Recommendations Receive More Updates About Our Courses  \\\n",
              "0                      No                                     No   \n",
              "1                      No                                     No   \n",
              "2                      No                                     No   \n",
              "3                      No                                     No   \n",
              "4                      No                                     No   \n",
              "\n",
              "                                  Tags      Lead Quality  \\\n",
              "0          Interested in other courses  Low in Relevance   \n",
              "1                              Ringing               NaN   \n",
              "2  Will revert after reading the email          Might be   \n",
              "3                              Ringing          Not Sure   \n",
              "4  Will revert after reading the email          Might be   \n",
              "\n",
              "  Update me on Supply Chain Content Get updates on DM Content    Lead Profile  \\\n",
              "0                                No                        No          Select   \n",
              "1                                No                        No          Select   \n",
              "2                                No                        No  Potential Lead   \n",
              "3                                No                        No          Select   \n",
              "4                                No                        No          Select   \n",
              "\n",
              "     City Asymmetrique Activity Index Asymmetrique Profile Index  \\\n",
              "0  Select                   02.Medium                  02.Medium   \n",
              "1  Select                   02.Medium                  02.Medium   \n",
              "2  Mumbai                   02.Medium                    01.High   \n",
              "3  Mumbai                   02.Medium                    01.High   \n",
              "4  Mumbai                   02.Medium                    01.High   \n",
              "\n",
              "   Asymmetrique Activity Score  Asymmetrique Profile Score  \\\n",
              "0                         15.0                        15.0   \n",
              "1                         15.0                        15.0   \n",
              "2                         14.0                        20.0   \n",
              "3                         13.0                        17.0   \n",
              "4                         15.0                        18.0   \n",
              "\n",
              "  I agree to pay the amount through cheque  \\\n",
              "0                                       No   \n",
              "1                                       No   \n",
              "2                                       No   \n",
              "3                                       No   \n",
              "4                                       No   \n",
              "\n",
              "  A free copy of Mastering The Interview Last Notable Activity  \n",
              "0                                     No              Modified  \n",
              "1                                     No          Email Opened  \n",
              "2                                    Yes          Email Opened  \n",
              "3                                     No              Modified  \n",
              "4                                     No              Modified  "
            ]
          },
          "metadata": {
            "tags": []
          },
          "execution_count": 5
        }
      ]
    },
    {
      "cell_type": "code",
      "metadata": {
        "id": "qOZCDq9Q30ig",
        "colab_type": "code",
        "colab": {}
      },
      "source": [
        "#Dimensions of the dataset\n",
        "intial_lead_shape = lead.shape"
      ],
      "execution_count": 0,
      "outputs": []
    },
    {
      "cell_type": "code",
      "metadata": {
        "id": "0Pa_RpFN30ik",
        "colab_type": "code",
        "colab": {},
        "outputId": "f118d97f-9b5e-4adf-e83e-fc7e4c11c131"
      },
      "source": [
        "#Info of the dataframe for initial spotting of missing values and identify type of the column.\n",
        "lead.info()"
      ],
      "execution_count": 0,
      "outputs": [
        {
          "output_type": "stream",
          "text": [
            "<class 'pandas.core.frame.DataFrame'>\n",
            "RangeIndex: 9240 entries, 0 to 9239\n",
            "Data columns (total 37 columns):\n",
            "Prospect ID                                      9240 non-null object\n",
            "Lead Number                                      9240 non-null int64\n",
            "Lead Origin                                      9240 non-null object\n",
            "Lead Source                                      9204 non-null object\n",
            "Do Not Email                                     9240 non-null object\n",
            "Do Not Call                                      9240 non-null object\n",
            "Converted                                        9240 non-null int64\n",
            "TotalVisits                                      9103 non-null float64\n",
            "Total Time Spent on Website                      9240 non-null int64\n",
            "Page Views Per Visit                             9103 non-null float64\n",
            "Last Activity                                    9137 non-null object\n",
            "Country                                          6779 non-null object\n",
            "Specialization                                   7802 non-null object\n",
            "How did you hear about X Education               7033 non-null object\n",
            "What is your current occupation                  6550 non-null object\n",
            "What matters most to you in choosing a course    6531 non-null object\n",
            "Search                                           9240 non-null object\n",
            "Magazine                                         9240 non-null object\n",
            "Newspaper Article                                9240 non-null object\n",
            "X Education Forums                               9240 non-null object\n",
            "Newspaper                                        9240 non-null object\n",
            "Digital Advertisement                            9240 non-null object\n",
            "Through Recommendations                          9240 non-null object\n",
            "Receive More Updates About Our Courses           9240 non-null object\n",
            "Tags                                             5887 non-null object\n",
            "Lead Quality                                     4473 non-null object\n",
            "Update me on Supply Chain Content                9240 non-null object\n",
            "Get updates on DM Content                        9240 non-null object\n",
            "Lead Profile                                     6531 non-null object\n",
            "City                                             7820 non-null object\n",
            "Asymmetrique Activity Index                      5022 non-null object\n",
            "Asymmetrique Profile Index                       5022 non-null object\n",
            "Asymmetrique Activity Score                      5022 non-null float64\n",
            "Asymmetrique Profile Score                       5022 non-null float64\n",
            "I agree to pay the amount through cheque         9240 non-null object\n",
            "A free copy of Mastering The Interview           9240 non-null object\n",
            "Last Notable Activity                            9240 non-null object\n",
            "dtypes: float64(4), int64(3), object(30)\n",
            "memory usage: 2.6+ MB\n"
          ],
          "name": "stdout"
        }
      ]
    },
    {
      "cell_type": "markdown",
      "metadata": {
        "id": "j14sYyFT30in",
        "colab_type": "text"
      },
      "source": [
        "<font color = green> We could see that there are many missing values in the dataset with many columns having missing values. We will observe and treat accordingly for the same later. Also we could see,almost many object/categorical columns in the dataset which might need to converted by suitable techniques such as one-hot encoding or simple replace, which also will be taken care of."
      ]
    },
    {
      "cell_type": "code",
      "metadata": {
        "id": "4zPZio9j30ip",
        "colab_type": "code",
        "colab": {},
        "outputId": "7476679e-a77a-4565-a267-4d78ad14c35b"
      },
      "source": [
        "#Initial Stats of the dataframe\n",
        "lead.describe()"
      ],
      "execution_count": 0,
      "outputs": [
        {
          "output_type": "execute_result",
          "data": {
            "text/html": [
              "<div>\n",
              "<style scoped>\n",
              "    .dataframe tbody tr th:only-of-type {\n",
              "        vertical-align: middle;\n",
              "    }\n",
              "\n",
              "    .dataframe tbody tr th {\n",
              "        vertical-align: top;\n",
              "    }\n",
              "\n",
              "    .dataframe thead th {\n",
              "        text-align: right;\n",
              "    }\n",
              "</style>\n",
              "<table border=\"1\" class=\"dataframe\">\n",
              "  <thead>\n",
              "    <tr style=\"text-align: right;\">\n",
              "      <th></th>\n",
              "      <th>Lead Number</th>\n",
              "      <th>Converted</th>\n",
              "      <th>TotalVisits</th>\n",
              "      <th>Total Time Spent on Website</th>\n",
              "      <th>Page Views Per Visit</th>\n",
              "      <th>Asymmetrique Activity Score</th>\n",
              "      <th>Asymmetrique Profile Score</th>\n",
              "    </tr>\n",
              "  </thead>\n",
              "  <tbody>\n",
              "    <tr>\n",
              "      <th>count</th>\n",
              "      <td>9240.000000</td>\n",
              "      <td>9240.000000</td>\n",
              "      <td>9103.000000</td>\n",
              "      <td>9240.000000</td>\n",
              "      <td>9103.000000</td>\n",
              "      <td>5022.000000</td>\n",
              "      <td>5022.000000</td>\n",
              "    </tr>\n",
              "    <tr>\n",
              "      <th>mean</th>\n",
              "      <td>617188.435606</td>\n",
              "      <td>0.385390</td>\n",
              "      <td>3.445238</td>\n",
              "      <td>487.698268</td>\n",
              "      <td>2.362820</td>\n",
              "      <td>14.306252</td>\n",
              "      <td>16.344883</td>\n",
              "    </tr>\n",
              "    <tr>\n",
              "      <th>std</th>\n",
              "      <td>23405.995698</td>\n",
              "      <td>0.486714</td>\n",
              "      <td>4.854853</td>\n",
              "      <td>548.021466</td>\n",
              "      <td>2.161418</td>\n",
              "      <td>1.386694</td>\n",
              "      <td>1.811395</td>\n",
              "    </tr>\n",
              "    <tr>\n",
              "      <th>min</th>\n",
              "      <td>579533.000000</td>\n",
              "      <td>0.000000</td>\n",
              "      <td>0.000000</td>\n",
              "      <td>0.000000</td>\n",
              "      <td>0.000000</td>\n",
              "      <td>7.000000</td>\n",
              "      <td>11.000000</td>\n",
              "    </tr>\n",
              "    <tr>\n",
              "      <th>25%</th>\n",
              "      <td>596484.500000</td>\n",
              "      <td>0.000000</td>\n",
              "      <td>1.000000</td>\n",
              "      <td>12.000000</td>\n",
              "      <td>1.000000</td>\n",
              "      <td>14.000000</td>\n",
              "      <td>15.000000</td>\n",
              "    </tr>\n",
              "    <tr>\n",
              "      <th>50%</th>\n",
              "      <td>615479.000000</td>\n",
              "      <td>0.000000</td>\n",
              "      <td>3.000000</td>\n",
              "      <td>248.000000</td>\n",
              "      <td>2.000000</td>\n",
              "      <td>14.000000</td>\n",
              "      <td>16.000000</td>\n",
              "    </tr>\n",
              "    <tr>\n",
              "      <th>75%</th>\n",
              "      <td>637387.250000</td>\n",
              "      <td>1.000000</td>\n",
              "      <td>5.000000</td>\n",
              "      <td>936.000000</td>\n",
              "      <td>3.000000</td>\n",
              "      <td>15.000000</td>\n",
              "      <td>18.000000</td>\n",
              "    </tr>\n",
              "    <tr>\n",
              "      <th>max</th>\n",
              "      <td>660737.000000</td>\n",
              "      <td>1.000000</td>\n",
              "      <td>251.000000</td>\n",
              "      <td>2272.000000</td>\n",
              "      <td>55.000000</td>\n",
              "      <td>18.000000</td>\n",
              "      <td>20.000000</td>\n",
              "    </tr>\n",
              "  </tbody>\n",
              "</table>\n",
              "</div>"
            ],
            "text/plain": [
              "         Lead Number    Converted  TotalVisits  Total Time Spent on Website  \\\n",
              "count    9240.000000  9240.000000  9103.000000                  9240.000000   \n",
              "mean   617188.435606     0.385390     3.445238                   487.698268   \n",
              "std     23405.995698     0.486714     4.854853                   548.021466   \n",
              "min    579533.000000     0.000000     0.000000                     0.000000   \n",
              "25%    596484.500000     0.000000     1.000000                    12.000000   \n",
              "50%    615479.000000     0.000000     3.000000                   248.000000   \n",
              "75%    637387.250000     1.000000     5.000000                   936.000000   \n",
              "max    660737.000000     1.000000   251.000000                  2272.000000   \n",
              "\n",
              "       Page Views Per Visit  Asymmetrique Activity Score  \\\n",
              "count           9103.000000                  5022.000000   \n",
              "mean               2.362820                    14.306252   \n",
              "std                2.161418                     1.386694   \n",
              "min                0.000000                     7.000000   \n",
              "25%                1.000000                    14.000000   \n",
              "50%                2.000000                    14.000000   \n",
              "75%                3.000000                    15.000000   \n",
              "max               55.000000                    18.000000   \n",
              "\n",
              "       Asymmetrique Profile Score  \n",
              "count                 5022.000000  \n",
              "mean                    16.344883  \n",
              "std                      1.811395  \n",
              "min                     11.000000  \n",
              "25%                     15.000000  \n",
              "50%                     16.000000  \n",
              "75%                     18.000000  \n",
              "max                     20.000000  "
            ]
          },
          "metadata": {
            "tags": []
          },
          "execution_count": 8
        }
      ]
    },
    {
      "cell_type": "markdown",
      "metadata": {
        "id": "hCI4i9fq30is",
        "colab_type": "text"
      },
      "source": [
        "<font color = green> Among the numerical columns in hand, the initial stats shows the presence of outliers. As we observe above, features such as `TotalVisits,Total Time Spent on Website,Page Views Per Visit` are not gradually increasing, hence presence of outlier in the dataset."
      ]
    },
    {
      "cell_type": "code",
      "metadata": {
        "id": "2MJJdQAH30it",
        "colab_type": "code",
        "colab": {},
        "outputId": "9cd65327-030c-4a6e-fc6c-9c6e95e8340a"
      },
      "source": [
        "#Checking for the percentage of null values for each column.\n",
        "round(100*(lead.isnull().sum()/len(lead.index)),2)"
      ],
      "execution_count": 0,
      "outputs": [
        {
          "output_type": "execute_result",
          "data": {
            "text/plain": [
              "Prospect ID                                       0.00\n",
              "Lead Number                                       0.00\n",
              "Lead Origin                                       0.00\n",
              "Lead Source                                       0.39\n",
              "Do Not Email                                      0.00\n",
              "Do Not Call                                       0.00\n",
              "Converted                                         0.00\n",
              "TotalVisits                                       1.48\n",
              "Total Time Spent on Website                       0.00\n",
              "Page Views Per Visit                              1.48\n",
              "Last Activity                                     1.11\n",
              "Country                                          26.63\n",
              "Specialization                                   15.56\n",
              "How did you hear about X Education               23.89\n",
              "What is your current occupation                  29.11\n",
              "What matters most to you in choosing a course    29.32\n",
              "Search                                            0.00\n",
              "Magazine                                          0.00\n",
              "Newspaper Article                                 0.00\n",
              "X Education Forums                                0.00\n",
              "Newspaper                                         0.00\n",
              "Digital Advertisement                             0.00\n",
              "Through Recommendations                           0.00\n",
              "Receive More Updates About Our Courses            0.00\n",
              "Tags                                             36.29\n",
              "Lead Quality                                     51.59\n",
              "Update me on Supply Chain Content                 0.00\n",
              "Get updates on DM Content                         0.00\n",
              "Lead Profile                                     29.32\n",
              "City                                             15.37\n",
              "Asymmetrique Activity Index                      45.65\n",
              "Asymmetrique Profile Index                       45.65\n",
              "Asymmetrique Activity Score                      45.65\n",
              "Asymmetrique Profile Score                       45.65\n",
              "I agree to pay the amount through cheque          0.00\n",
              "A free copy of Mastering The Interview            0.00\n",
              "Last Notable Activity                             0.00\n",
              "dtype: float64"
            ]
          },
          "metadata": {
            "tags": []
          },
          "execution_count": 9
        }
      ]
    },
    {
      "cell_type": "markdown",
      "metadata": {
        "id": "QBboqpIV30ix",
        "colab_type": "text"
      },
      "source": [
        "<font color = green> As seen above, we could find many columns with large number of missing values. Columns such as `Lead Quality,Asymmetrique Activity Index,Asymmetrique Profile Index,Asymmetrique Activity Score,Asymmetrique Profile Score,Tags` are having high % of missing values. We need to go for certain approach, either to drop these columns or impute these missing values with appropriate values. For this, we can understand each feature and their importance by deep diving."
      ]
    },
    {
      "cell_type": "markdown",
      "metadata": {
        "id": "yZ9HA3Fu30iy",
        "colab_type": "text"
      },
      "source": [
        "### DATA CLEANING"
      ]
    },
    {
      "cell_type": "markdown",
      "metadata": {
        "id": "JK5NRt2p30iz",
        "colab_type": "text"
      },
      "source": [
        "#### TREATMENT FOR NULL VALUES"
      ]
    },
    {
      "cell_type": "code",
      "metadata": {
        "id": "Q4na45We30i0",
        "colab_type": "code",
        "colab": {},
        "outputId": "d7a4ee6e-c041-43aa-a37a-463b070b5f6d"
      },
      "source": [
        "#Observing the existing different levels for Lead Quality\n",
        "lead['Lead Quality'].unique()"
      ],
      "execution_count": 0,
      "outputs": [
        {
          "output_type": "execute_result",
          "data": {
            "text/plain": [
              "array(['Low in Relevance', nan, 'Might be', 'Not Sure', 'Worst',\n",
              "       'High in Relevance'], dtype=object)"
            ]
          },
          "metadata": {
            "tags": []
          },
          "execution_count": 10
        }
      ]
    },
    {
      "cell_type": "code",
      "metadata": {
        "id": "W7kVUXrK30i3",
        "colab_type": "code",
        "colab": {},
        "outputId": "4424d9a5-50f5-4480-eb52-b3de24c6a233"
      },
      "source": [
        "#Assessing the number of entries in lead-quality\n",
        "from collections import Counter      \n",
        "Counter(lead['Lead Quality'])"
      ],
      "execution_count": 0,
      "outputs": [
        {
          "output_type": "execute_result",
          "data": {
            "text/plain": [
              "Counter({'Low in Relevance': 583,\n",
              "         nan: 4767,\n",
              "         'Might be': 1560,\n",
              "         'Not Sure': 1092,\n",
              "         'Worst': 601,\n",
              "         'High in Relevance': 637})"
            ]
          },
          "metadata": {
            "tags": []
          },
          "execution_count": 11
        }
      ]
    },
    {
      "cell_type": "markdown",
      "metadata": {
        "id": "q5gVRcan30i7",
        "colab_type": "text"
      },
      "source": [
        "<font color = green> 51.6% of the values for `Lead Quality` are not present. We can replace the null values with a new level say 'Unknown'. From the different levels for Lead quality we can see levels 'Might be' or 'Not Sure' will be almost similar to 'Unknown. Hence we will go with imputing 'Not Sure' values for the same."
      ]
    },
    {
      "cell_type": "code",
      "metadata": {
        "id": "79qlXsoQ30i8",
        "colab_type": "code",
        "colab": {}
      },
      "source": [
        "#Replacing the missing values with 'Not Sure' category for 'Lead Quality'\n",
        "lead['Lead Quality'].replace(np.nan,'Not Sure',inplace=True)"
      ],
      "execution_count": 0,
      "outputs": []
    },
    {
      "cell_type": "code",
      "metadata": {
        "id": "3rV7iKRt30jC",
        "colab_type": "code",
        "colab": {},
        "outputId": "3abb5f70-0508-46ad-bf47-546a33640f9c"
      },
      "source": [
        "round(100*(lead.isnull().sum()/len(lead.index)),2)"
      ],
      "execution_count": 0,
      "outputs": [
        {
          "output_type": "execute_result",
          "data": {
            "text/plain": [
              "Prospect ID                                       0.00\n",
              "Lead Number                                       0.00\n",
              "Lead Origin                                       0.00\n",
              "Lead Source                                       0.39\n",
              "Do Not Email                                      0.00\n",
              "Do Not Call                                       0.00\n",
              "Converted                                         0.00\n",
              "TotalVisits                                       1.48\n",
              "Total Time Spent on Website                       0.00\n",
              "Page Views Per Visit                              1.48\n",
              "Last Activity                                     1.11\n",
              "Country                                          26.63\n",
              "Specialization                                   15.56\n",
              "How did you hear about X Education               23.89\n",
              "What is your current occupation                  29.11\n",
              "What matters most to you in choosing a course    29.32\n",
              "Search                                            0.00\n",
              "Magazine                                          0.00\n",
              "Newspaper Article                                 0.00\n",
              "X Education Forums                                0.00\n",
              "Newspaper                                         0.00\n",
              "Digital Advertisement                             0.00\n",
              "Through Recommendations                           0.00\n",
              "Receive More Updates About Our Courses            0.00\n",
              "Tags                                             36.29\n",
              "Lead Quality                                      0.00\n",
              "Update me on Supply Chain Content                 0.00\n",
              "Get updates on DM Content                         0.00\n",
              "Lead Profile                                     29.32\n",
              "City                                             15.37\n",
              "Asymmetrique Activity Index                      45.65\n",
              "Asymmetrique Profile Index                       45.65\n",
              "Asymmetrique Activity Score                      45.65\n",
              "Asymmetrique Profile Score                       45.65\n",
              "I agree to pay the amount through cheque          0.00\n",
              "A free copy of Mastering The Interview            0.00\n",
              "Last Notable Activity                             0.00\n",
              "dtype: float64"
            ]
          },
          "metadata": {
            "tags": []
          },
          "execution_count": 13
        }
      ]
    },
    {
      "cell_type": "code",
      "metadata": {
        "id": "S2QB67Vz30jG",
        "colab_type": "code",
        "colab": {},
        "outputId": "043cb04a-f48f-471a-9a82-a70d94ccdfd4"
      },
      "source": [
        "Counter(lead['Asymmetrique Activity Index'])"
      ],
      "execution_count": 0,
      "outputs": [
        {
          "output_type": "execute_result",
          "data": {
            "text/plain": [
              "Counter({'02.Medium': 3839, '01.High': 821, '03.Low': 362, nan: 4218})"
            ]
          },
          "metadata": {
            "tags": []
          },
          "execution_count": 14
        }
      ]
    },
    {
      "cell_type": "code",
      "metadata": {
        "id": "i3nhJ0De30jJ",
        "colab_type": "code",
        "colab": {},
        "outputId": "eb2f4671-bc52-4f3f-ef86-8ce03f7d7450"
      },
      "source": [
        "Counter(lead['Asymmetrique Profile Index'])"
      ],
      "execution_count": 0,
      "outputs": [
        {
          "output_type": "execute_result",
          "data": {
            "text/plain": [
              "Counter({'02.Medium': 2788, '01.High': 2203, '03.Low': 31, nan: 4218})"
            ]
          },
          "metadata": {
            "tags": []
          },
          "execution_count": 15
        }
      ]
    },
    {
      "cell_type": "markdown",
      "metadata": {
        "id": "ze08iWuJ30jN",
        "colab_type": "text"
      },
      "source": [
        "<font color = green> We can see that same amount of Null values for the columns `Asymmetrique Activity Index and Asymmetrique Profile Index` which are closely related and mostly these both columns would be empty for same records. We could see around 45.7% of these are missing values. Hence imputing this with mode can introduce bias here. We can impute/replace the null values here with a new level `Unknown`."
      ]
    },
    {
      "cell_type": "code",
      "metadata": {
        "id": "F2s2RC5830jO",
        "colab_type": "code",
        "colab": {}
      },
      "source": [
        "#Replacing the missing values with 'Unknown' category for 'Asymmetrique Activity Index'\n",
        "lead['Asymmetrique Activity Index'].replace(np.nan,'Unknown',inplace=True)"
      ],
      "execution_count": 0,
      "outputs": []
    },
    {
      "cell_type": "code",
      "metadata": {
        "id": "JduAf3st30jR",
        "colab_type": "code",
        "colab": {}
      },
      "source": [
        "#Replacing the missing values with 'Unknown' category for 'Asymmetrique Profile Index'\n",
        "lead['Asymmetrique Profile Index'].replace(np.nan,'Unknown',inplace=True)"
      ],
      "execution_count": 0,
      "outputs": []
    },
    {
      "cell_type": "markdown",
      "metadata": {
        "id": "YEFz33Wa30jU",
        "colab_type": "text"
      },
      "source": [
        "<font color = green> Similar approach can be done for the `Asymmetrique Activity Score and  Asymmetrique Profile Score` columns which are also having same amount of NULL values. But interesting thing here is, these columns are continuous features and we can see the distribution of these features."
      ]
    },
    {
      "cell_type": "code",
      "metadata": {
        "id": "g9tw41Pb30jV",
        "colab_type": "code",
        "colab": {},
        "outputId": "956dc35d-7761-4788-a9ce-7d73c3209dcf"
      },
      "source": [
        "lead['Asymmetrique Activity Score'].value_counts()"
      ],
      "execution_count": 0,
      "outputs": [
        {
          "output_type": "execute_result",
          "data": {
            "text/plain": [
              "14.0    1771\n",
              "15.0    1293\n",
              "13.0     775\n",
              "16.0     467\n",
              "17.0     349\n",
              "12.0     196\n",
              "11.0      95\n",
              "10.0      57\n",
              "9.0        9\n",
              "18.0       5\n",
              "8.0        4\n",
              "7.0        1\n",
              "Name: Asymmetrique Activity Score, dtype: int64"
            ]
          },
          "metadata": {
            "tags": []
          },
          "execution_count": 18
        }
      ]
    },
    {
      "cell_type": "code",
      "metadata": {
        "id": "lXPSOG-U30jd",
        "colab_type": "code",
        "colab": {},
        "outputId": "39833b92-5105-4520-a127-e542306acb22"
      },
      "source": [
        "sns.boxplot(lead['Asymmetrique Activity Score'])"
      ],
      "execution_count": 0,
      "outputs": [
        {
          "output_type": "execute_result",
          "data": {
            "text/plain": [
              "<matplotlib.axes._subplots.AxesSubplot at 0xaa2edd8>"
            ]
          },
          "metadata": {
            "tags": []
          },
          "execution_count": 19
        },
        {
          "output_type": "display_data",
          "data": {
            "image/png": "[encoded data removed]",
            "text/plain": [
              "<Figure size 432x288 with 1 Axes>"
            ]
          },
          "metadata": {
            "tags": [],
            "needs_background": "light"
          }
        }
      ]
    },
    {
      "cell_type": "code",
      "metadata": {
        "id": "krW9pnCt30jh",
        "colab_type": "code",
        "colab": {},
        "outputId": "34e8bff9-8518-4bc7-a6c9-fa125537dd04"
      },
      "source": [
        "lead['Asymmetrique Profile Score'].value_counts()"
      ],
      "execution_count": 0,
      "outputs": [
        {
          "output_type": "execute_result",
          "data": {
            "text/plain": [
              "15.0    1759\n",
              "18.0    1071\n",
              "16.0     599\n",
              "17.0     579\n",
              "20.0     308\n",
              "19.0     245\n",
              "14.0     226\n",
              "13.0     204\n",
              "12.0      22\n",
              "11.0       9\n",
              "Name: Asymmetrique Profile Score, dtype: int64"
            ]
          },
          "metadata": {
            "tags": []
          },
          "execution_count": 20
        }
      ]
    },
    {
      "cell_type": "code",
      "metadata": {
        "id": "GXYbiMo_30jl",
        "colab_type": "code",
        "colab": {},
        "outputId": "1f546e54-999f-428b-da1b-93b0b84a98f6"
      },
      "source": [
        "sns.boxplot(lead['Asymmetrique Profile Score'])"
      ],
      "execution_count": 0,
      "outputs": [
        {
          "output_type": "execute_result",
          "data": {
            "text/plain": [
              "<matplotlib.axes._subplots.AxesSubplot at 0xad0beb8>"
            ]
          },
          "metadata": {
            "tags": []
          },
          "execution_count": 21
        },
        {
          "output_type": "display_data",
          "data": {
            "image/png": "[encoded data removed]",
            "text/plain": [
              "<Figure size 432x288 with 1 Axes>"
            ]
          },
          "metadata": {
            "tags": [],
            "needs_background": "light"
          }
        }
      ]
    },
    {
      "cell_type": "markdown",
      "metadata": {
        "id": "gD5LEAhL30jo",
        "colab_type": "text"
      },
      "source": [
        "<font color = green> We can see the different unique values and their counts in the dataset. Again ` Asymmetrique Activity Score and  Asymmetrique Profile Score` are having high number of missing values. But imputing those values with whatever values should not change the initial distribution of the variable."
      ]
    },
    {
      "cell_type": "code",
      "metadata": {
        "id": "jsHjOvsh30jp",
        "colab_type": "code",
        "colab": {},
        "outputId": "c8d809d6-c755-4609-8d10-b65dba957e84"
      },
      "source": [
        "sns.distplot(lead['Asymmetrique Activity Score'].dropna())"
      ],
      "execution_count": 0,
      "outputs": [
        {
          "output_type": "execute_result",
          "data": {
            "text/plain": [
              "<matplotlib.axes._subplots.AxesSubplot at 0xad6a320>"
            ]
          },
          "metadata": {
            "tags": []
          },
          "execution_count": 22
        },
        {
          "output_type": "display_data",
          "data": {
            "image/png": "[encoded data removed]",
            "text/plain": [
              "<Figure size 432x288 with 1 Axes>"
            ]
          },
          "metadata": {
            "tags": [],
            "needs_background": "light"
          }
        }
      ]
    },
    {
      "cell_type": "code",
      "metadata": {
        "id": "_cN2g3nh30js",
        "colab_type": "code",
        "colab": {}
      },
      "source": [
        "#Replacing the missing values with mean value for 'Asymmetrique Activity Score'\n",
        "lead['Asymmetrique Activity Score'].replace(np.nan,lead['Asymmetrique Activity Score'].mean(),inplace=True)"
      ],
      "execution_count": 0,
      "outputs": []
    },
    {
      "cell_type": "code",
      "metadata": {
        "id": "kIm1SPUh30jv",
        "colab_type": "code",
        "colab": {},
        "outputId": "8fbe830d-679b-466a-ea05-b8f37a8f909d"
      },
      "source": [
        "sns.distplot(lead['Asymmetrique Activity Score'])"
      ],
      "execution_count": 0,
      "outputs": [
        {
          "output_type": "execute_result",
          "data": {
            "text/plain": [
              "<matplotlib.axes._subplots.AxesSubplot at 0xad0b320>"
            ]
          },
          "metadata": {
            "tags": []
          },
          "execution_count": 24
        },
        {
          "output_type": "display_data",
          "data": {
            "image/png": "[encoded data removed]",
            "text/plain": [
              "<Figure size 432x288 with 1 Axes>"
            ]
          },
          "metadata": {
            "tags": [],
            "needs_background": "light"
          }
        }
      ]
    },
    {
      "cell_type": "code",
      "metadata": {
        "id": "eeBJq6J-30jy",
        "colab_type": "code",
        "colab": {},
        "outputId": "51dd5532-f2a7-499e-cc44-7e0257282693"
      },
      "source": [
        "sns.boxplot(lead['Asymmetrique Activity Score'])"
      ],
      "execution_count": 0,
      "outputs": [
        {
          "output_type": "execute_result",
          "data": {
            "text/plain": [
              "<matplotlib.axes._subplots.AxesSubplot at 0xb4c65f8>"
            ]
          },
          "metadata": {
            "tags": []
          },
          "execution_count": 25
        },
        {
          "output_type": "display_data",
          "data": {
            "image/png": "[encoded data removed]",
            "text/plain": [
              "<Figure size 432x288 with 1 Axes>"
            ]
          },
          "metadata": {
            "tags": [],
            "needs_background": "light"
          }
        }
      ]
    },
    {
      "cell_type": "code",
      "metadata": {
        "id": "BuZFk4LX30j2",
        "colab_type": "code",
        "colab": {},
        "outputId": "e32ddf0d-2b21-483f-ab75-c8f49ff4fc90"
      },
      "source": [
        "sns.distplot(lead['Asymmetrique Profile Score'].dropna())"
      ],
      "execution_count": 0,
      "outputs": [
        {
          "output_type": "execute_result",
          "data": {
            "text/plain": [
              "<matplotlib.axes._subplots.AxesSubplot at 0xb5125f8>"
            ]
          },
          "metadata": {
            "tags": []
          },
          "execution_count": 26
        },
        {
          "output_type": "display_data",
          "data": {
            "image/png": "[encoded data removed]",
            "text/plain": [
              "<Figure size 432x288 with 1 Axes>"
            ]
          },
          "metadata": {
            "tags": [],
            "needs_background": "light"
          }
        }
      ]
    },
    {
      "cell_type": "code",
      "metadata": {
        "id": "QeoimGoz30j5",
        "colab_type": "code",
        "colab": {}
      },
      "source": [
        "#Replacing the missing values with mean value for 'Asymmetrique Profile Score'\n",
        "lead['Asymmetrique Profile Score'].replace(np.nan,lead['Asymmetrique Profile Score'].mean(),inplace=True)"
      ],
      "execution_count": 0,
      "outputs": []
    },
    {
      "cell_type": "code",
      "metadata": {
        "id": "iOCURuOl30j8",
        "colab_type": "code",
        "colab": {},
        "outputId": "e2568ed2-79ff-4c0b-a149-ba3d87961082"
      },
      "source": [
        "sns.distplot(lead['Asymmetrique Profile Score'])"
      ],
      "execution_count": 0,
      "outputs": [
        {
          "output_type": "execute_result",
          "data": {
            "text/plain": [
              "<matplotlib.axes._subplots.AxesSubplot at 0xb2b3a90>"
            ]
          },
          "metadata": {
            "tags": []
          },
          "execution_count": 28
        },
        {
          "output_type": "display_data",
          "data": {
            "image/png": "[encoded data removed]",
            "text/plain": [
              "<Figure size 432x288 with 1 Axes>"
            ]
          },
          "metadata": {
            "tags": [],
            "needs_background": "light"
          }
        }
      ]
    },
    {
      "cell_type": "code",
      "metadata": {
        "id": "kpMYio5P30j_",
        "colab_type": "code",
        "colab": {},
        "outputId": "6f35d9d5-9f2a-4a1d-ebe4-d368946e1bde"
      },
      "source": [
        "sns.boxplot(lead['Asymmetrique Profile Score'])"
      ],
      "execution_count": 0,
      "outputs": [
        {
          "output_type": "execute_result",
          "data": {
            "text/plain": [
              "<matplotlib.axes._subplots.AxesSubplot at 0xb885f60>"
            ]
          },
          "metadata": {
            "tags": []
          },
          "execution_count": 29
        },
        {
          "output_type": "display_data",
          "data": {
            "image/png": "[encoded data removed]",
            "text/plain": [
              "<Figure size 432x288 with 1 Axes>"
            ]
          },
          "metadata": {
            "tags": [],
            "needs_background": "light"
          }
        }
      ]
    },
    {
      "cell_type": "markdown",
      "metadata": {
        "id": "pYa3sK4v30kD",
        "colab_type": "text"
      },
      "source": [
        "<font color = green> We can see that, for the Profile Score after imputing with the mean value does introduce some outliers (this is introduced due to large number of null values replaced with mean values), but that is better than imputing with 0 as it changes the distribution of the profile scores."
      ]
    },
    {
      "cell_type": "code",
      "metadata": {
        "id": "rDWtrPWH30kE",
        "colab_type": "code",
        "colab": {},
        "outputId": "b8582eda-bb84-4d8d-9833-f65af39bc4c2"
      },
      "source": [
        "Counter(lead['Tags'])"
      ],
      "execution_count": 0,
      "outputs": [
        {
          "output_type": "execute_result",
          "data": {
            "text/plain": [
              "Counter({'Interested in other courses': 513,\n",
              "         'Ringing': 1203,\n",
              "         'Will revert after reading the email': 2072,\n",
              "         nan: 3353,\n",
              "         'Lost to EINS': 175,\n",
              "         'In confusion whether part time or DLP': 5,\n",
              "         'Busy': 186,\n",
              "         'switched off': 240,\n",
              "         'in touch with EINS': 12,\n",
              "         'Already a student': 465,\n",
              "         'Diploma holder (Not Eligible)': 63,\n",
              "         'Graduation in progress': 111,\n",
              "         'Closed by Horizzon': 358,\n",
              "         'number not provided': 27,\n",
              "         'opp hangup': 33,\n",
              "         'Not doing further education': 145,\n",
              "         'invalid number': 83,\n",
              "         'wrong number given': 47,\n",
              "         'Interested  in full time MBA': 117,\n",
              "         'Still Thinking': 6,\n",
              "         'Lost to Others': 7,\n",
              "         'Shall take in the next coming month': 2,\n",
              "         'Lateral student': 3,\n",
              "         'Interested in Next batch': 5,\n",
              "         'Recognition issue (DEC approval)': 1,\n",
              "         'Want to take admission but has financial problems': 6,\n",
              "         'University not recognized': 2})"
            ]
          },
          "metadata": {
            "tags": []
          },
          "execution_count": 30
        }
      ]
    },
    {
      "cell_type": "code",
      "metadata": {
        "id": "KbJLB-8930kH",
        "colab_type": "code",
        "colab": {}
      },
      "source": [
        "#Replacing the missing values with 'Unknown' category for 'Tags'\n",
        "lead['Tags'].replace(np.nan,'Unknown',inplace=True)"
      ],
      "execution_count": 0,
      "outputs": []
    },
    {
      "cell_type": "code",
      "metadata": {
        "id": "9QSL_OSb30kK",
        "colab_type": "code",
        "colab": {},
        "outputId": "fccad59d-b307-40b0-e038-a4c0164c2843"
      },
      "source": [
        "round(100*(lead.isnull().sum()/len(lead.index)),2)"
      ],
      "execution_count": 0,
      "outputs": [
        {
          "output_type": "execute_result",
          "data": {
            "text/plain": [
              "Prospect ID                                       0.00\n",
              "Lead Number                                       0.00\n",
              "Lead Origin                                       0.00\n",
              "Lead Source                                       0.39\n",
              "Do Not Email                                      0.00\n",
              "Do Not Call                                       0.00\n",
              "Converted                                         0.00\n",
              "TotalVisits                                       1.48\n",
              "Total Time Spent on Website                       0.00\n",
              "Page Views Per Visit                              1.48\n",
              "Last Activity                                     1.11\n",
              "Country                                          26.63\n",
              "Specialization                                   15.56\n",
              "How did you hear about X Education               23.89\n",
              "What is your current occupation                  29.11\n",
              "What matters most to you in choosing a course    29.32\n",
              "Search                                            0.00\n",
              "Magazine                                          0.00\n",
              "Newspaper Article                                 0.00\n",
              "X Education Forums                                0.00\n",
              "Newspaper                                         0.00\n",
              "Digital Advertisement                             0.00\n",
              "Through Recommendations                           0.00\n",
              "Receive More Updates About Our Courses            0.00\n",
              "Tags                                              0.00\n",
              "Lead Quality                                      0.00\n",
              "Update me on Supply Chain Content                 0.00\n",
              "Get updates on DM Content                         0.00\n",
              "Lead Profile                                     29.32\n",
              "City                                             15.37\n",
              "Asymmetrique Activity Index                       0.00\n",
              "Asymmetrique Profile Index                        0.00\n",
              "Asymmetrique Activity Score                       0.00\n",
              "Asymmetrique Profile Score                        0.00\n",
              "I agree to pay the amount through cheque          0.00\n",
              "A free copy of Mastering The Interview            0.00\n",
              "Last Notable Activity                             0.00\n",
              "dtype: float64"
            ]
          },
          "metadata": {
            "tags": []
          },
          "execution_count": 32
        }
      ]
    },
    {
      "cell_type": "code",
      "metadata": {
        "id": "Ytw-GjFR30kO",
        "colab_type": "code",
        "colab": {},
        "outputId": "cba51100-49eb-44c2-d16b-87c4d567739f"
      },
      "source": [
        "Counter(lead['What matters most to you in choosing a course'])"
      ],
      "execution_count": 0,
      "outputs": [
        {
          "output_type": "execute_result",
          "data": {
            "text/plain": [
              "Counter({'Better Career Prospects': 6528,\n",
              "         nan: 2709,\n",
              "         'Flexibility & Convenience': 2,\n",
              "         'Other': 1})"
            ]
          },
          "metadata": {
            "tags": []
          },
          "execution_count": 33
        }
      ]
    },
    {
      "cell_type": "markdown",
      "metadata": {
        "id": "43uz9Grp30kR",
        "colab_type": "text"
      },
      "source": [
        "<font color = green> We could find the motive behind most of the people who choose this course is for Better Career Prospects. We can hence impute the missing values hence with the mode here."
      ]
    },
    {
      "cell_type": "code",
      "metadata": {
        "id": "MXLbOw0630kR",
        "colab_type": "code",
        "colab": {}
      },
      "source": [
        "lead['What matters most to you in choosing a course'].fillna(lead['What matters most to you in choosing a course'].mode()[0],inplace=True) #imputing with mode"
      ],
      "execution_count": 0,
      "outputs": []
    },
    {
      "cell_type": "code",
      "metadata": {
        "id": "pkBsS21N30kW",
        "colab_type": "code",
        "colab": {},
        "outputId": "e3dae16c-8909-4ca1-890f-4decf2c1eb51"
      },
      "source": [
        "Counter(lead['Lead Profile'])"
      ],
      "execution_count": 0,
      "outputs": [
        {
          "output_type": "execute_result",
          "data": {
            "text/plain": [
              "Counter({'Select': 4146,\n",
              "         'Potential Lead': 1613,\n",
              "         nan: 2709,\n",
              "         'Other Leads': 487,\n",
              "         'Lateral Student': 24,\n",
              "         'Dual Specialization Student': 20,\n",
              "         'Student of SomeSchool': 241})"
            ]
          },
          "metadata": {
            "tags": []
          },
          "execution_count": 35
        }
      ]
    },
    {
      "cell_type": "markdown",
      "metadata": {
        "id": "oil_Xfp930kZ",
        "colab_type": "text"
      },
      "source": [
        "<font color = green> Here the customer can be either be a potential Lead or a Lateral which we cannot know. Also, we could see the level `Select` is as  similar as the value null. Hence we can replace both these values with a new level 'Unknown', instead of imputing with the values."
      ]
    },
    {
      "cell_type": "code",
      "metadata": {
        "id": "CtmQ3n3S30ka",
        "colab_type": "code",
        "colab": {}
      },
      "source": [
        "#Replacing the missing values as well for 'Select' with 'Unknown' category for 'Lead Profile'\n",
        "lead['Lead Profile'].replace(np.nan,'Unknown',inplace=True)\n",
        "lead['Lead Profile'].replace('Select','Unknown',inplace=True)"
      ],
      "execution_count": 0,
      "outputs": []
    },
    {
      "cell_type": "code",
      "metadata": {
        "id": "zqTcglVN30kd",
        "colab_type": "code",
        "colab": {},
        "outputId": "833d4e68-102d-4ace-ead1-0b34ac45077e"
      },
      "source": [
        "Counter(lead['Lead Profile'])"
      ],
      "execution_count": 0,
      "outputs": [
        {
          "output_type": "execute_result",
          "data": {
            "text/plain": [
              "Counter({'Unknown': 6855,\n",
              "         'Potential Lead': 1613,\n",
              "         'Other Leads': 487,\n",
              "         'Lateral Student': 24,\n",
              "         'Dual Specialization Student': 20,\n",
              "         'Student of SomeSchool': 241})"
            ]
          },
          "metadata": {
            "tags": []
          },
          "execution_count": 37
        }
      ]
    },
    {
      "cell_type": "code",
      "metadata": {
        "id": "aujuekcA30kf",
        "colab_type": "code",
        "colab": {},
        "outputId": "4d4ee762-59a3-4c01-c213-928d38e90a94"
      },
      "source": [
        "Counter(lead['What is your current occupation'])"
      ],
      "execution_count": 0,
      "outputs": [
        {
          "output_type": "execute_result",
          "data": {
            "text/plain": [
              "Counter({'Unemployed': 5600,\n",
              "         'Student': 210,\n",
              "         nan: 2690,\n",
              "         'Working Professional': 706,\n",
              "         'Businessman': 8,\n",
              "         'Other': 16,\n",
              "         'Housewife': 10})"
            ]
          },
          "metadata": {
            "tags": []
          },
          "execution_count": 38
        }
      ]
    },
    {
      "cell_type": "markdown",
      "metadata": {
        "id": "IVjSNQG-30ki",
        "colab_type": "text"
      },
      "source": [
        "<font color = green> Again the approach of imputing mode here to the value 'Unempoyed' won't be a good approach, since the customer can be rated based on whether the customer is a student/working professional or unemployed. We can see a column `Other`,which can be used to add all the missing values."
      ]
    },
    {
      "cell_type": "code",
      "metadata": {
        "id": "IuJbh_ag30kj",
        "colab_type": "code",
        "colab": {}
      },
      "source": [
        "lead['What is your current occupation'].fillna(lead['What is your current occupation'].mode()[0],inplace=True)"
      ],
      "execution_count": 0,
      "outputs": []
    },
    {
      "cell_type": "code",
      "metadata": {
        "id": "PLRSUVd-30km",
        "colab_type": "code",
        "colab": {},
        "outputId": "08b11709-6ac6-49f6-98b5-e9d201f9b52c"
      },
      "source": [
        "Counter(lead['What is your current occupation'])"
      ],
      "execution_count": 0,
      "outputs": [
        {
          "output_type": "execute_result",
          "data": {
            "text/plain": [
              "Counter({'Unemployed': 8290,\n",
              "         'Student': 210,\n",
              "         'Working Professional': 706,\n",
              "         'Businessman': 8,\n",
              "         'Other': 16,\n",
              "         'Housewife': 10})"
            ]
          },
          "metadata": {
            "tags": []
          },
          "execution_count": 40
        }
      ]
    },
    {
      "cell_type": "code",
      "metadata": {
        "id": "4J2HHObC30ks",
        "colab_type": "code",
        "colab": {},
        "outputId": "936a6c11-f9e6-4638-f2e7-373ae3001e84"
      },
      "source": [
        "Counter(lead['Country'])"
      ],
      "execution_count": 0,
      "outputs": [
        {
          "output_type": "execute_result",
          "data": {
            "text/plain": [
              "Counter({nan: 2461,\n",
              "         'India': 6492,\n",
              "         'Russia': 1,\n",
              "         'Kuwait': 4,\n",
              "         'Oman': 6,\n",
              "         'United Arab Emirates': 53,\n",
              "         'United States': 69,\n",
              "         'Australia': 13,\n",
              "         'United Kingdom': 15,\n",
              "         'Bahrain': 7,\n",
              "         'Ghana': 2,\n",
              "         'Singapore': 24,\n",
              "         'Qatar': 10,\n",
              "         'Saudi Arabia': 21,\n",
              "         'Belgium': 2,\n",
              "         'France': 6,\n",
              "         'Sri Lanka': 1,\n",
              "         'China': 2,\n",
              "         'Canada': 4,\n",
              "         'Netherlands': 2,\n",
              "         'Sweden': 3,\n",
              "         'Nigeria': 4,\n",
              "         'Hong Kong': 7,\n",
              "         'Germany': 4,\n",
              "         'Asia/Pacific Region': 2,\n",
              "         'Uganda': 2,\n",
              "         'Kenya': 1,\n",
              "         'Italy': 2,\n",
              "         'South Africa': 4,\n",
              "         'Tanzania': 1,\n",
              "         'unknown': 5,\n",
              "         'Malaysia': 1,\n",
              "         'Liberia': 1,\n",
              "         'Switzerland': 1,\n",
              "         'Denmark': 1,\n",
              "         'Philippines': 2,\n",
              "         'Bangladesh': 2,\n",
              "         'Vietnam': 1,\n",
              "         'Indonesia': 1})"
            ]
          },
          "metadata": {
            "tags": []
          },
          "execution_count": 41
        }
      ]
    },
    {
      "cell_type": "markdown",
      "metadata": {
        "id": "UW1ZcJlL30ky",
        "colab_type": "text"
      },
      "source": [
        "<font color = green> Although we can see the highest number of customers are from `India`, still for many missing values as large as 2461, for those customers, the target branding and promotional activities will be stressed based on the number of customers in the country. Hence imputing mode won't be a good option. Also a level 'unknown' can be seen in the list of countries. We can replace null values with this category of 'unknown'."
      ]
    },
    {
      "cell_type": "code",
      "metadata": {
        "id": "huTfqAPK30kz",
        "colab_type": "code",
        "colab": {}
      },
      "source": [
        "lead['Country'].replace(np.nan,'unknown',inplace=True)"
      ],
      "execution_count": 0,
      "outputs": []
    },
    {
      "cell_type": "code",
      "metadata": {
        "id": "5VPyyl_h30k2",
        "colab_type": "code",
        "colab": {},
        "outputId": "3c419ea7-8f11-41ee-efeb-299053c29d97"
      },
      "source": [
        "Counter(lead['Country'])"
      ],
      "execution_count": 0,
      "outputs": [
        {
          "output_type": "execute_result",
          "data": {
            "text/plain": [
              "Counter({'unknown': 2466,\n",
              "         'India': 6492,\n",
              "         'Russia': 1,\n",
              "         'Kuwait': 4,\n",
              "         'Oman': 6,\n",
              "         'United Arab Emirates': 53,\n",
              "         'United States': 69,\n",
              "         'Australia': 13,\n",
              "         'United Kingdom': 15,\n",
              "         'Bahrain': 7,\n",
              "         'Ghana': 2,\n",
              "         'Singapore': 24,\n",
              "         'Qatar': 10,\n",
              "         'Saudi Arabia': 21,\n",
              "         'Belgium': 2,\n",
              "         'France': 6,\n",
              "         'Sri Lanka': 1,\n",
              "         'China': 2,\n",
              "         'Canada': 4,\n",
              "         'Netherlands': 2,\n",
              "         'Sweden': 3,\n",
              "         'Nigeria': 4,\n",
              "         'Hong Kong': 7,\n",
              "         'Germany': 4,\n",
              "         'Asia/Pacific Region': 2,\n",
              "         'Uganda': 2,\n",
              "         'Kenya': 1,\n",
              "         'Italy': 2,\n",
              "         'South Africa': 4,\n",
              "         'Tanzania': 1,\n",
              "         'Malaysia': 1,\n",
              "         'Liberia': 1,\n",
              "         'Switzerland': 1,\n",
              "         'Denmark': 1,\n",
              "         'Philippines': 2,\n",
              "         'Bangladesh': 2,\n",
              "         'Vietnam': 1,\n",
              "         'Indonesia': 1})"
            ]
          },
          "metadata": {
            "tags": []
          },
          "execution_count": 43
        }
      ]
    },
    {
      "cell_type": "code",
      "metadata": {
        "id": "LQpRDqNL30k6",
        "colab_type": "code",
        "colab": {},
        "outputId": "78f760ed-272e-469b-a633-aa3cb44b0ebd"
      },
      "source": [
        "Counter(lead['How did you hear about X Education'])"
      ],
      "execution_count": 0,
      "outputs": [
        {
          "output_type": "execute_result",
          "data": {
            "text/plain": [
              "Counter({'Select': 5043,\n",
              "         'Word Of Mouth': 348,\n",
              "         'Other': 186,\n",
              "         nan: 2207,\n",
              "         'Online Search': 808,\n",
              "         'Multiple Sources': 152,\n",
              "         'Advertisements': 70,\n",
              "         'Student of SomeSchool': 310,\n",
              "         'Email': 26,\n",
              "         'Social Media': 67,\n",
              "         'SMS': 23})"
            ]
          },
          "metadata": {
            "tags": []
          },
          "execution_count": 44
        }
      ]
    },
    {
      "cell_type": "markdown",
      "metadata": {
        "id": "L-5vUxrZ30k_",
        "colab_type": "text"
      },
      "source": [
        "<font color = green> Here we can see along with missing values,categories - 'Select' and 'Other'. We can merge all these values into a single category of Other."
      ]
    },
    {
      "cell_type": "code",
      "metadata": {
        "id": "JBwjN0nD30lB",
        "colab_type": "code",
        "colab": {}
      },
      "source": [
        "lead['How did you hear about X Education'].replace(np.nan,'Other',inplace=True)\n",
        "lead['How did you hear about X Education'].replace('Select','Other',inplace=True)"
      ],
      "execution_count": 0,
      "outputs": []
    },
    {
      "cell_type": "code",
      "metadata": {
        "id": "EYZqrjgW30lE",
        "colab_type": "code",
        "colab": {},
        "outputId": "95d94bb6-34aa-4467-acf5-0be2785305cf"
      },
      "source": [
        "Counter(lead['How did you hear about X Education'])"
      ],
      "execution_count": 0,
      "outputs": [
        {
          "output_type": "execute_result",
          "data": {
            "text/plain": [
              "Counter({'Other': 7436,\n",
              "         'Word Of Mouth': 348,\n",
              "         'Online Search': 808,\n",
              "         'Multiple Sources': 152,\n",
              "         'Advertisements': 70,\n",
              "         'Student of SomeSchool': 310,\n",
              "         'Email': 26,\n",
              "         'Social Media': 67,\n",
              "         'SMS': 23})"
            ]
          },
          "metadata": {
            "tags": []
          },
          "execution_count": 46
        }
      ]
    },
    {
      "cell_type": "code",
      "metadata": {
        "id": "FaTfi-ny30lI",
        "colab_type": "code",
        "colab": {},
        "outputId": "f9c5a71b-2edd-4d2f-bec8-da0fe723bc56"
      },
      "source": [
        "Counter(lead['City'])"
      ],
      "execution_count": 0,
      "outputs": [
        {
          "output_type": "execute_result",
          "data": {
            "text/plain": [
              "Counter({'Select': 2249,\n",
              "         'Mumbai': 3222,\n",
              "         nan: 1420,\n",
              "         'Thane & Outskirts': 752,\n",
              "         'Other Metro Cities': 380,\n",
              "         'Other Cities': 686,\n",
              "         'Other Cities of Maharashtra': 457,\n",
              "         'Tier II Cities': 74})"
            ]
          },
          "metadata": {
            "tags": []
          },
          "execution_count": 47
        }
      ]
    },
    {
      "cell_type": "markdown",
      "metadata": {
        "id": "BDihI9Aq30lM",
        "colab_type": "text"
      },
      "source": [
        "<font color = green> We will place `Select`, missing values into a single category of 'Other Cities'."
      ]
    },
    {
      "cell_type": "code",
      "metadata": {
        "id": "95dhwbVv30lN",
        "colab_type": "code",
        "colab": {}
      },
      "source": [
        "lead['City'].replace(np.nan,lead['City'].mode()[0],inplace=True)\n",
        "lead['City'].replace('Select',lead['City'].mode()[0],inplace=True)"
      ],
      "execution_count": 0,
      "outputs": []
    },
    {
      "cell_type": "code",
      "metadata": {
        "id": "K-RvJOEl30lP",
        "colab_type": "code",
        "colab": {},
        "outputId": "d8a7dbe7-cc7b-49e7-d140-3e0e68b0e4ab"
      },
      "source": [
        "Counter(lead['Specialization'])"
      ],
      "execution_count": 0,
      "outputs": [
        {
          "output_type": "execute_result",
          "data": {
            "text/plain": [
              "Counter({'Select': 1942,\n",
              "         'Business Administration': 403,\n",
              "         'Media and Advertising': 203,\n",
              "         nan: 1438,\n",
              "         'Supply Chain Management': 349,\n",
              "         'IT Projects Management': 366,\n",
              "         'Finance Management': 976,\n",
              "         'Travel and Tourism': 203,\n",
              "         'Human Resource Management': 848,\n",
              "         'Marketing Management': 838,\n",
              "         'Banking, Investment And Insurance': 338,\n",
              "         'International Business': 178,\n",
              "         'E-COMMERCE': 112,\n",
              "         'Operations Management': 503,\n",
              "         'Retail Management': 100,\n",
              "         'Services Excellence': 40,\n",
              "         'Hospitality Management': 114,\n",
              "         'Rural and Agribusiness': 73,\n",
              "         'Healthcare Management': 159,\n",
              "         'E-Business': 57})"
            ]
          },
          "metadata": {
            "tags": []
          },
          "execution_count": 49
        }
      ]
    },
    {
      "cell_type": "code",
      "metadata": {
        "id": "eDzB65SU30lS",
        "colab_type": "code",
        "colab": {}
      },
      "source": [
        "lead['Specialization'].replace(np.nan,'Unknown',inplace=True)\n",
        "lead['Specialization'].replace('Select','Unknown',inplace=True)"
      ],
      "execution_count": 0,
      "outputs": []
    },
    {
      "cell_type": "code",
      "metadata": {
        "id": "HOr73e4A30lU",
        "colab_type": "code",
        "colab": {},
        "outputId": "50a738e8-da7b-4ffa-e60c-b6a253badec3"
      },
      "source": [
        "lead.isnull().sum()"
      ],
      "execution_count": 0,
      "outputs": [
        {
          "output_type": "execute_result",
          "data": {
            "text/plain": [
              "Prospect ID                                        0\n",
              "Lead Number                                        0\n",
              "Lead Origin                                        0\n",
              "Lead Source                                       36\n",
              "Do Not Email                                       0\n",
              "Do Not Call                                        0\n",
              "Converted                                          0\n",
              "TotalVisits                                      137\n",
              "Total Time Spent on Website                        0\n",
              "Page Views Per Visit                             137\n",
              "Last Activity                                    103\n",
              "Country                                            0\n",
              "Specialization                                     0\n",
              "How did you hear about X Education                 0\n",
              "What is your current occupation                    0\n",
              "What matters most to you in choosing a course      0\n",
              "Search                                             0\n",
              "Magazine                                           0\n",
              "Newspaper Article                                  0\n",
              "X Education Forums                                 0\n",
              "Newspaper                                          0\n",
              "Digital Advertisement                              0\n",
              "Through Recommendations                            0\n",
              "Receive More Updates About Our Courses             0\n",
              "Tags                                               0\n",
              "Lead Quality                                       0\n",
              "Update me on Supply Chain Content                  0\n",
              "Get updates on DM Content                          0\n",
              "Lead Profile                                       0\n",
              "City                                               0\n",
              "Asymmetrique Activity Index                        0\n",
              "Asymmetrique Profile Index                         0\n",
              "Asymmetrique Activity Score                        0\n",
              "Asymmetrique Profile Score                         0\n",
              "I agree to pay the amount through cheque           0\n",
              "A free copy of Mastering The Interview             0\n",
              "Last Notable Activity                              0\n",
              "dtype: int64"
            ]
          },
          "metadata": {
            "tags": []
          },
          "execution_count": 51
        }
      ]
    },
    {
      "cell_type": "markdown",
      "metadata": {
        "id": "lndkW1Fi30lX",
        "colab_type": "text"
      },
      "source": [
        "<font color = green> We have now treated almost major portion of the null values present in the dataset. Now we are having very small amount of null values for which those records can be removed which won't result in major loosing of information."
      ]
    },
    {
      "cell_type": "code",
      "metadata": {
        "id": "AIFj6dJU30lY",
        "colab_type": "code",
        "colab": {}
      },
      "source": [
        "lead = lead.loc[lead['TotalVisits'].isnull() !=True] \n",
        "lead = lead.loc[lead['Page Views Per Visit'].isnull() !=True] \n",
        "lead = lead.loc[lead['Last Activity'].isnull() !=True] \n",
        "lead = lead.loc[lead['Lead Source'].isnull() !=True] "
      ],
      "execution_count": 0,
      "outputs": []
    },
    {
      "cell_type": "code",
      "metadata": {
        "id": "X7l9HjKi30la",
        "colab_type": "code",
        "colab": {},
        "outputId": "9e6862af-e522-43a9-ebfa-46cd4eb8b758"
      },
      "source": [
        "lead.isnull().sum()"
      ],
      "execution_count": 0,
      "outputs": [
        {
          "output_type": "execute_result",
          "data": {
            "text/plain": [
              "Prospect ID                                      0\n",
              "Lead Number                                      0\n",
              "Lead Origin                                      0\n",
              "Lead Source                                      0\n",
              "Do Not Email                                     0\n",
              "Do Not Call                                      0\n",
              "Converted                                        0\n",
              "TotalVisits                                      0\n",
              "Total Time Spent on Website                      0\n",
              "Page Views Per Visit                             0\n",
              "Last Activity                                    0\n",
              "Country                                          0\n",
              "Specialization                                   0\n",
              "How did you hear about X Education               0\n",
              "What is your current occupation                  0\n",
              "What matters most to you in choosing a course    0\n",
              "Search                                           0\n",
              "Magazine                                         0\n",
              "Newspaper Article                                0\n",
              "X Education Forums                               0\n",
              "Newspaper                                        0\n",
              "Digital Advertisement                            0\n",
              "Through Recommendations                          0\n",
              "Receive More Updates About Our Courses           0\n",
              "Tags                                             0\n",
              "Lead Quality                                     0\n",
              "Update me on Supply Chain Content                0\n",
              "Get updates on DM Content                        0\n",
              "Lead Profile                                     0\n",
              "City                                             0\n",
              "Asymmetrique Activity Index                      0\n",
              "Asymmetrique Profile Index                       0\n",
              "Asymmetrique Activity Score                      0\n",
              "Asymmetrique Profile Score                       0\n",
              "I agree to pay the amount through cheque         0\n",
              "A free copy of Mastering The Interview           0\n",
              "Last Notable Activity                            0\n",
              "dtype: int64"
            ]
          },
          "metadata": {
            "tags": []
          },
          "execution_count": 53
        }
      ]
    },
    {
      "cell_type": "markdown",
      "metadata": {
        "id": "eP0tfBoW30lc",
        "colab_type": "text"
      },
      "source": [
        "<font color = green>Hence now data is cleaned and doesn't contain any NULL values."
      ]
    },
    {
      "cell_type": "markdown",
      "metadata": {
        "id": "9-LX35X130ld",
        "colab_type": "text"
      },
      "source": [
        "<font color = green> We can observe that the column `Prospect ID` which helps in identifying the customer can be dropped,since the `Lead Number` is also a similar column with unique values that can identify each customer."
      ]
    },
    {
      "cell_type": "code",
      "metadata": {
        "id": "ME_ge8X230ld",
        "colab_type": "code",
        "colab": {}
      },
      "source": [
        "lead.drop(['Prospect ID'],axis=1,inplace=True)"
      ],
      "execution_count": 0,
      "outputs": []
    },
    {
      "cell_type": "code",
      "metadata": {
        "id": "O8kdkLAA30lf",
        "colab_type": "code",
        "colab": {},
        "outputId": "7b0eae09-8c9c-4acd-a9d8-1fb2b3150f76"
      },
      "source": [
        "#Dimensions of final dataset after data cleaning\n",
        "lead.shape"
      ],
      "execution_count": 0,
      "outputs": [
        {
          "output_type": "execute_result",
          "data": {
            "text/plain": [
              "(9074, 36)"
            ]
          },
          "metadata": {
            "tags": []
          },
          "execution_count": 55
        }
      ]
    },
    {
      "cell_type": "code",
      "metadata": {
        "id": "Yzi0-fxn30lk",
        "colab_type": "code",
        "colab": {},
        "outputId": "c03dbad9-acaf-4cbd-bec9-b08844842486"
      },
      "source": [
        "lead.head()"
      ],
      "execution_count": 0,
      "outputs": [
        {
          "output_type": "execute_result",
          "data": {
            "text/html": [
              "<div>\n",
              "<style scoped>\n",
              "    .dataframe tbody tr th:only-of-type {\n",
              "        vertical-align: middle;\n",
              "    }\n",
              "\n",
              "    .dataframe tbody tr th {\n",
              "        vertical-align: top;\n",
              "    }\n",
              "\n",
              "    .dataframe thead th {\n",
              "        text-align: right;\n",
              "    }\n",
              "</style>\n",
              "<table border=\"1\" class=\"dataframe\">\n",
              "  <thead>\n",
              "    <tr style=\"text-align: right;\">\n",
              "      <th></th>\n",
              "      <th>Lead Number</th>\n",
              "      <th>Lead Origin</th>\n",
              "      <th>Lead Source</th>\n",
              "      <th>Do Not Email</th>\n",
              "      <th>Do Not Call</th>\n",
              "      <th>Converted</th>\n",
              "      <th>TotalVisits</th>\n",
              "      <th>Total Time Spent on Website</th>\n",
              "      <th>Page Views Per Visit</th>\n",
              "      <th>Last Activity</th>\n",
              "      <th>Country</th>\n",
              "      <th>Specialization</th>\n",
              "      <th>How did you hear about X Education</th>\n",
              "      <th>What is your current occupation</th>\n",
              "      <th>What matters most to you in choosing a course</th>\n",
              "      <th>Search</th>\n",
              "      <th>Magazine</th>\n",
              "      <th>Newspaper Article</th>\n",
              "      <th>X Education Forums</th>\n",
              "      <th>Newspaper</th>\n",
              "      <th>Digital Advertisement</th>\n",
              "      <th>Through Recommendations</th>\n",
              "      <th>Receive More Updates About Our Courses</th>\n",
              "      <th>Tags</th>\n",
              "      <th>Lead Quality</th>\n",
              "      <th>Update me on Supply Chain Content</th>\n",
              "      <th>Get updates on DM Content</th>\n",
              "      <th>Lead Profile</th>\n",
              "      <th>City</th>\n",
              "      <th>Asymmetrique Activity Index</th>\n",
              "      <th>Asymmetrique Profile Index</th>\n",
              "      <th>Asymmetrique Activity Score</th>\n",
              "      <th>Asymmetrique Profile Score</th>\n",
              "      <th>I agree to pay the amount through cheque</th>\n",
              "      <th>A free copy of Mastering The Interview</th>\n",
              "      <th>Last Notable Activity</th>\n",
              "    </tr>\n",
              "  </thead>\n",
              "  <tbody>\n",
              "    <tr>\n",
              "      <th>0</th>\n",
              "      <td>660737</td>\n",
              "      <td>API</td>\n",
              "      <td>Olark Chat</td>\n",
              "      <td>No</td>\n",
              "      <td>No</td>\n",
              "      <td>0</td>\n",
              "      <td>0.0</td>\n",
              "      <td>0</td>\n",
              "      <td>0.0</td>\n",
              "      <td>Page Visited on Website</td>\n",
              "      <td>unknown</td>\n",
              "      <td>Unknown</td>\n",
              "      <td>Other</td>\n",
              "      <td>Unemployed</td>\n",
              "      <td>Better Career Prospects</td>\n",
              "      <td>No</td>\n",
              "      <td>No</td>\n",
              "      <td>No</td>\n",
              "      <td>No</td>\n",
              "      <td>No</td>\n",
              "      <td>No</td>\n",
              "      <td>No</td>\n",
              "      <td>No</td>\n",
              "      <td>Interested in other courses</td>\n",
              "      <td>Low in Relevance</td>\n",
              "      <td>No</td>\n",
              "      <td>No</td>\n",
              "      <td>Unknown</td>\n",
              "      <td>Mumbai</td>\n",
              "      <td>02.Medium</td>\n",
              "      <td>02.Medium</td>\n",
              "      <td>15.0</td>\n",
              "      <td>15.0</td>\n",
              "      <td>No</td>\n",
              "      <td>No</td>\n",
              "      <td>Modified</td>\n",
              "    </tr>\n",
              "    <tr>\n",
              "      <th>1</th>\n",
              "      <td>660728</td>\n",
              "      <td>API</td>\n",
              "      <td>Organic Search</td>\n",
              "      <td>No</td>\n",
              "      <td>No</td>\n",
              "      <td>0</td>\n",
              "      <td>5.0</td>\n",
              "      <td>674</td>\n",
              "      <td>2.5</td>\n",
              "      <td>Email Opened</td>\n",
              "      <td>India</td>\n",
              "      <td>Unknown</td>\n",
              "      <td>Other</td>\n",
              "      <td>Unemployed</td>\n",
              "      <td>Better Career Prospects</td>\n",
              "      <td>No</td>\n",
              "      <td>No</td>\n",
              "      <td>No</td>\n",
              "      <td>No</td>\n",
              "      <td>No</td>\n",
              "      <td>No</td>\n",
              "      <td>No</td>\n",
              "      <td>No</td>\n",
              "      <td>Ringing</td>\n",
              "      <td>Not Sure</td>\n",
              "      <td>No</td>\n",
              "      <td>No</td>\n",
              "      <td>Unknown</td>\n",
              "      <td>Mumbai</td>\n",
              "      <td>02.Medium</td>\n",
              "      <td>02.Medium</td>\n",
              "      <td>15.0</td>\n",
              "      <td>15.0</td>\n",
              "      <td>No</td>\n",
              "      <td>No</td>\n",
              "      <td>Email Opened</td>\n",
              "    </tr>\n",
              "    <tr>\n",
              "      <th>2</th>\n",
              "      <td>660727</td>\n",
              "      <td>Landing Page Submission</td>\n",
              "      <td>Direct Traffic</td>\n",
              "      <td>No</td>\n",
              "      <td>No</td>\n",
              "      <td>1</td>\n",
              "      <td>2.0</td>\n",
              "      <td>1532</td>\n",
              "      <td>2.0</td>\n",
              "      <td>Email Opened</td>\n",
              "      <td>India</td>\n",
              "      <td>Business Administration</td>\n",
              "      <td>Other</td>\n",
              "      <td>Student</td>\n",
              "      <td>Better Career Prospects</td>\n",
              "      <td>No</td>\n",
              "      <td>No</td>\n",
              "      <td>No</td>\n",
              "      <td>No</td>\n",
              "      <td>No</td>\n",
              "      <td>No</td>\n",
              "      <td>No</td>\n",
              "      <td>No</td>\n",
              "      <td>Will revert after reading the email</td>\n",
              "      <td>Might be</td>\n",
              "      <td>No</td>\n",
              "      <td>No</td>\n",
              "      <td>Potential Lead</td>\n",
              "      <td>Mumbai</td>\n",
              "      <td>02.Medium</td>\n",
              "      <td>01.High</td>\n",
              "      <td>14.0</td>\n",
              "      <td>20.0</td>\n",
              "      <td>No</td>\n",
              "      <td>Yes</td>\n",
              "      <td>Email Opened</td>\n",
              "    </tr>\n",
              "    <tr>\n",
              "      <th>3</th>\n",
              "      <td>660719</td>\n",
              "      <td>Landing Page Submission</td>\n",
              "      <td>Direct Traffic</td>\n",
              "      <td>No</td>\n",
              "      <td>No</td>\n",
              "      <td>0</td>\n",
              "      <td>1.0</td>\n",
              "      <td>305</td>\n",
              "      <td>1.0</td>\n",
              "      <td>Unreachable</td>\n",
              "      <td>India</td>\n",
              "      <td>Media and Advertising</td>\n",
              "      <td>Word Of Mouth</td>\n",
              "      <td>Unemployed</td>\n",
              "      <td>Better Career Prospects</td>\n",
              "      <td>No</td>\n",
              "      <td>No</td>\n",
              "      <td>No</td>\n",
              "      <td>No</td>\n",
              "      <td>No</td>\n",
              "      <td>No</td>\n",
              "      <td>No</td>\n",
              "      <td>No</td>\n",
              "      <td>Ringing</td>\n",
              "      <td>Not Sure</td>\n",
              "      <td>No</td>\n",
              "      <td>No</td>\n",
              "      <td>Unknown</td>\n",
              "      <td>Mumbai</td>\n",
              "      <td>02.Medium</td>\n",
              "      <td>01.High</td>\n",
              "      <td>13.0</td>\n",
              "      <td>17.0</td>\n",
              "      <td>No</td>\n",
              "      <td>No</td>\n",
              "      <td>Modified</td>\n",
              "    </tr>\n",
              "    <tr>\n",
              "      <th>4</th>\n",
              "      <td>660681</td>\n",
              "      <td>Landing Page Submission</td>\n",
              "      <td>Google</td>\n",
              "      <td>No</td>\n",
              "      <td>No</td>\n",
              "      <td>1</td>\n",
              "      <td>2.0</td>\n",
              "      <td>1428</td>\n",
              "      <td>1.0</td>\n",
              "      <td>Converted to Lead</td>\n",
              "      <td>India</td>\n",
              "      <td>Unknown</td>\n",
              "      <td>Other</td>\n",
              "      <td>Unemployed</td>\n",
              "      <td>Better Career Prospects</td>\n",
              "      <td>No</td>\n",
              "      <td>No</td>\n",
              "      <td>No</td>\n",
              "      <td>No</td>\n",
              "      <td>No</td>\n",
              "      <td>No</td>\n",
              "      <td>No</td>\n",
              "      <td>No</td>\n",
              "      <td>Will revert after reading the email</td>\n",
              "      <td>Might be</td>\n",
              "      <td>No</td>\n",
              "      <td>No</td>\n",
              "      <td>Unknown</td>\n",
              "      <td>Mumbai</td>\n",
              "      <td>02.Medium</td>\n",
              "      <td>01.High</td>\n",
              "      <td>15.0</td>\n",
              "      <td>18.0</td>\n",
              "      <td>No</td>\n",
              "      <td>No</td>\n",
              "      <td>Modified</td>\n",
              "    </tr>\n",
              "  </tbody>\n",
              "</table>\n",
              "</div>"
            ],
            "text/plain": [
              "   Lead Number              Lead Origin     Lead Source Do Not Email  \\\n",
              "0       660737                      API      Olark Chat           No   \n",
              "1       660728                      API  Organic Search           No   \n",
              "2       660727  Landing Page Submission  Direct Traffic           No   \n",
              "3       660719  Landing Page Submission  Direct Traffic           No   \n",
              "4       660681  Landing Page Submission          Google           No   \n",
              "\n",
              "  Do Not Call  Converted  TotalVisits  Total Time Spent on Website  \\\n",
              "0          No          0          0.0                            0   \n",
              "1          No          0          5.0                          674   \n",
              "2          No          1          2.0                         1532   \n",
              "3          No          0          1.0                          305   \n",
              "4          No          1          2.0                         1428   \n",
              "\n",
              "   Page Views Per Visit            Last Activity  Country  \\\n",
              "0                   0.0  Page Visited on Website  unknown   \n",
              "1                   2.5             Email Opened    India   \n",
              "2                   2.0             Email Opened    India   \n",
              "3                   1.0              Unreachable    India   \n",
              "4                   1.0        Converted to Lead    India   \n",
              "\n",
              "            Specialization How did you hear about X Education  \\\n",
              "0                  Unknown                              Other   \n",
              "1                  Unknown                              Other   \n",
              "2  Business Administration                              Other   \n",
              "3    Media and Advertising                      Word Of Mouth   \n",
              "4                  Unknown                              Other   \n",
              "\n",
              "  What is your current occupation  \\\n",
              "0                      Unemployed   \n",
              "1                      Unemployed   \n",
              "2                         Student   \n",
              "3                      Unemployed   \n",
              "4                      Unemployed   \n",
              "\n",
              "  What matters most to you in choosing a course Search Magazine  \\\n",
              "0                       Better Career Prospects     No       No   \n",
              "1                       Better Career Prospects     No       No   \n",
              "2                       Better Career Prospects     No       No   \n",
              "3                       Better Career Prospects     No       No   \n",
              "4                       Better Career Prospects     No       No   \n",
              "\n",
              "  Newspaper Article X Education Forums Newspaper Digital Advertisement  \\\n",
              "0                No                 No        No                    No   \n",
              "1                No                 No        No                    No   \n",
              "2                No                 No        No                    No   \n",
              "3                No                 No        No                    No   \n",
              "4                No                 No        No                    No   \n",
              "\n",
              "  Through Recommendations Receive More Updates About Our Courses  \\\n",
              "0                      No                                     No   \n",
              "1                      No                                     No   \n",
              "2                      No                                     No   \n",
              "3                      No                                     No   \n",
              "4                      No                                     No   \n",
              "\n",
              "                                  Tags      Lead Quality  \\\n",
              "0          Interested in other courses  Low in Relevance   \n",
              "1                              Ringing          Not Sure   \n",
              "2  Will revert after reading the email          Might be   \n",
              "3                              Ringing          Not Sure   \n",
              "4  Will revert after reading the email          Might be   \n",
              "\n",
              "  Update me on Supply Chain Content Get updates on DM Content    Lead Profile  \\\n",
              "0                                No                        No         Unknown   \n",
              "1                                No                        No         Unknown   \n",
              "2                                No                        No  Potential Lead   \n",
              "3                                No                        No         Unknown   \n",
              "4                                No                        No         Unknown   \n",
              "\n",
              "     City Asymmetrique Activity Index Asymmetrique Profile Index  \\\n",
              "0  Mumbai                   02.Medium                  02.Medium   \n",
              "1  Mumbai                   02.Medium                  02.Medium   \n",
              "2  Mumbai                   02.Medium                    01.High   \n",
              "3  Mumbai                   02.Medium                    01.High   \n",
              "4  Mumbai                   02.Medium                    01.High   \n",
              "\n",
              "   Asymmetrique Activity Score  Asymmetrique Profile Score  \\\n",
              "0                         15.0                        15.0   \n",
              "1                         15.0                        15.0   \n",
              "2                         14.0                        20.0   \n",
              "3                         13.0                        17.0   \n",
              "4                         15.0                        18.0   \n",
              "\n",
              "  I agree to pay the amount through cheque  \\\n",
              "0                                       No   \n",
              "1                                       No   \n",
              "2                                       No   \n",
              "3                                       No   \n",
              "4                                       No   \n",
              "\n",
              "  A free copy of Mastering The Interview Last Notable Activity  \n",
              "0                                     No              Modified  \n",
              "1                                     No          Email Opened  \n",
              "2                                    Yes          Email Opened  \n",
              "3                                     No              Modified  \n",
              "4                                     No              Modified  "
            ]
          },
          "metadata": {
            "tags": []
          },
          "execution_count": 56
        }
      ]
    },
    {
      "cell_type": "code",
      "metadata": {
        "id": "zPPvZAR830ln",
        "colab_type": "code",
        "colab": {},
        "outputId": "4cdd05f3-b2aa-4e6b-d1d5-e95805ba37d4"
      },
      "source": [
        "lead['Lead Source'].unique()"
      ],
      "execution_count": 0,
      "outputs": [
        {
          "output_type": "execute_result",
          "data": {
            "text/plain": [
              "array(['Olark Chat', 'Organic Search', 'Direct Traffic', 'Google',\n",
              "       'Referral Sites', 'Reference', 'google', 'Welingak Website',\n",
              "       'Facebook', 'blog', 'Pay per Click Ads', 'bing', 'Social Media',\n",
              "       'WeLearn', 'Click2call', 'Live Chat', 'welearnblog_Home',\n",
              "       'youtubechannel', 'testone', 'Press_Release', 'NC_EDM'],\n",
              "      dtype=object)"
            ]
          },
          "metadata": {
            "tags": []
          },
          "execution_count": 57
        }
      ]
    },
    {
      "cell_type": "code",
      "metadata": {
        "id": "gcVs4hOr30lq",
        "colab_type": "code",
        "colab": {}
      },
      "source": [
        "lead['Lead Source'].replace('google','Google',inplace=True)"
      ],
      "execution_count": 0,
      "outputs": []
    },
    {
      "cell_type": "markdown",
      "metadata": {
        "id": "mXBba4Hq30lx",
        "colab_type": "text"
      },
      "source": [
        "#### DATA INBALANCE"
      ]
    },
    {
      "cell_type": "code",
      "metadata": {
        "id": "JlHxViP930lx",
        "colab_type": "code",
        "colab": {},
        "outputId": "e563ea3d-9373-440d-e738-baf153cfe4d0"
      },
      "source": [
        "#Data Inbalance check for the Converted column.\n",
        "yes=lead[lead['Converted']==1]['Converted'].value_counts()\n",
        "no=lead[lead['Converted']==0]['Converted'].value_counts()\n",
        "\n",
        "converted=np.array((yes/len(lead))*100) \n",
        "not_converted=np.array((no/len(lead))*100) \n",
        "stat_summ=pd.DataFrame({'Percentage':[converted[0],not_converted[0]]},index=['converted','not_converted'])\n",
        "sns.barplot(x=stat_summ.index,y=stat_summ['Percentage'],palette='RdYlGn')\n",
        "plt.title('Percent of Customers who gets converted ')\n",
        "plt.show()"
      ],
      "execution_count": 0,
      "outputs": [
        {
          "output_type": "display_data",
          "data": {
            "image/png": "[encoded data removed]",
            "text/plain": [
              "<Figure size 432x288 with 1 Axes>"
            ]
          },
          "metadata": {
            "tags": [],
            "needs_background": "light"
          }
        }
      ]
    },
    {
      "cell_type": "markdown",
      "metadata": {
        "id": "27v_iD9L30l0",
        "colab_type": "text"
      },
      "source": [
        "<font color = green>We can see a little bit of Data Inbalance between these 2 categories of converted and Not converted. We can see out of total percentage around 30%+ ~ nearly 40% of the leads are only getting converted which supports the initial claim that `The typical lead conversion rate at X education is around 30%.`"
      ]
    },
    {
      "cell_type": "markdown",
      "metadata": {
        "id": "43B3-trq30l1",
        "colab_type": "text"
      },
      "source": [
        "<font color = green> We can check now all the columns with `Binary response` i.e with only levels - Yes and No."
      ]
    },
    {
      "cell_type": "code",
      "metadata": {
        "id": "HJ1BTZSW30l2",
        "colab_type": "code",
        "colab": {},
        "outputId": "19b67b75-0841-4b6c-8735-d765b3ef172b"
      },
      "source": [
        "plt.figure(figsize=(17,10))\n",
        "plt.subplot(3,3,1)\n",
        "temp = lead['Do Not Email'].value_counts()\n",
        "df2 = pd.DataFrame({'Do Not Email': temp.index,'Values': temp.values})\n",
        "sns.barplot(x = 'Do Not Email', y= 'Values', data=df2)\n",
        "locs, labels = plt.xticks()\n",
        "plt.subplot(3,3,2)\n",
        "temp = lead['Do Not Call'].value_counts()\n",
        "df3 = pd.DataFrame({'Do Not Call': temp.index,'Values': temp.values})\n",
        "sns.barplot(x = 'Do Not Call', y= 'Values', data=df3)\n",
        "locs, labels = plt.xticks()\n",
        "plt.subplot(3,3,3)\n",
        "temp = lead['Search'].value_counts()\n",
        "df4 = pd.DataFrame({'Search': temp.index,'Values': temp.values})\n",
        "sns.barplot(x = 'Search', y= 'Values', data=df4)\n",
        "locs, labels = plt.xticks()\n",
        "plt.show()"
      ],
      "execution_count": 0,
      "outputs": [
        {
          "output_type": "display_data",
          "data": {
            "image/png": "[encoded data removed]",
            "text/plain": [
              "<Figure size 1224x720 with 3 Axes>"
            ]
          },
          "metadata": {
            "tags": [],
            "needs_background": "light"
          }
        }
      ]
    },
    {
      "cell_type": "code",
      "metadata": {
        "id": "mNCAlgOZ30l5",
        "colab_type": "code",
        "colab": {},
        "outputId": "b0d0a8e9-ac0b-4923-ddca-9195d7b04e8c"
      },
      "source": [
        "plt.figure(figsize=(17,10))\n",
        "plt.subplot(3,3,1)\n",
        "temp = lead['Magazine'].value_counts()\n",
        "df2 = pd.DataFrame({'Magazine': temp.index,'Values': temp.values})\n",
        "sns.barplot(x = 'Magazine', y= 'Values', data=df2)\n",
        "locs, labels = plt.xticks()\n",
        "plt.subplot(3,3,2)\n",
        "temp = lead['Newspaper Article'].value_counts()\n",
        "df3 = pd.DataFrame({'Newspaper Article': temp.index,'Values': temp.values})\n",
        "sns.barplot(x = 'Newspaper Article', y= 'Values', data=df3)\n",
        "locs, labels = plt.xticks()\n",
        "plt.subplot(3,3,3)\n",
        "temp = lead['X Education Forums'].value_counts()\n",
        "df4 = pd.DataFrame({'X Education Forums': temp.index,'Values': temp.values})\n",
        "sns.barplot(x = 'X Education Forums', y= 'Values', data=df4)\n",
        "locs, labels = plt.xticks()\n",
        "plt.show()"
      ],
      "execution_count": 0,
      "outputs": [
        {
          "output_type": "display_data",
          "data": {
            "image/png": "[encoded data removed]",
            "text/plain": [
              "<Figure size 1224x720 with 3 Axes>"
            ]
          },
          "metadata": {
            "tags": [],
            "needs_background": "light"
          }
        }
      ]
    },
    {
      "cell_type": "code",
      "metadata": {
        "id": "yx7-PMwU30l8",
        "colab_type": "code",
        "colab": {},
        "outputId": "cf657d2b-7f8f-4b90-c65f-d987c7c4a48c"
      },
      "source": [
        "plt.figure(figsize=(17,10))\n",
        "plt.subplot(3,3,1)\n",
        "temp = lead['Newspaper'].value_counts()\n",
        "df2 = pd.DataFrame({'Newspaper': temp.index,'Values': temp.values})\n",
        "sns.barplot(x = 'Newspaper', y= 'Values', data=df2)\n",
        "locs, labels = plt.xticks()\n",
        "plt.subplot(3,3,2)\n",
        "temp = lead['Digital Advertisement'].value_counts()\n",
        "df3 = pd.DataFrame({'Digital Advertisement': temp.index,'Values': temp.values})\n",
        "sns.barplot(x = 'Digital Advertisement', y= 'Values', data=df3)\n",
        "locs, labels = plt.xticks()\n",
        "plt.subplot(3,3,3)\n",
        "temp = lead['Through Recommendations'].value_counts()\n",
        "df4 = pd.DataFrame({'Through Recommendations': temp.index,'Values': temp.values})\n",
        "sns.barplot(x = 'Through Recommendations', y= 'Values', data=df4)\n",
        "locs, labels = plt.xticks()\n",
        "plt.show()"
      ],
      "execution_count": 0,
      "outputs": [
        {
          "output_type": "display_data",
          "data": {
            "image/png": "[encoded data removed]",
            "text/plain": [
              "<Figure size 1224x720 with 3 Axes>"
            ]
          },
          "metadata": {
            "tags": [],
            "needs_background": "light"
          }
        }
      ]
    },
    {
      "cell_type": "code",
      "metadata": {
        "id": "IzRYQiOC30mA",
        "colab_type": "code",
        "colab": {},
        "outputId": "e54b04e0-4334-4b84-aa5e-e9ee84d5122a"
      },
      "source": [
        "plt.figure(figsize=(17,10))\n",
        "plt.subplot(3,3,1)\n",
        "temp = lead['I agree to pay the amount through cheque'].value_counts()\n",
        "df2 = pd.DataFrame({'I agree to pay the amount through cheque': temp.index,'Values': temp.values})\n",
        "sns.barplot(x = 'I agree to pay the amount through cheque', y= 'Values', data=df2)\n",
        "locs, labels = plt.xticks()\n",
        "plt.subplot(3,3,2)\n",
        "temp = lead['Update me on Supply Chain Content'].value_counts()\n",
        "df3 = pd.DataFrame({'Update me on Supply Chain Content': temp.index,'Values': temp.values})\n",
        "sns.barplot(x = 'Update me on Supply Chain Content', y= 'Values', data=df3)\n",
        "locs, labels = plt.xticks()\n",
        "plt.subplot(3,3,3)\n",
        "temp = lead['Get updates on DM Content'].value_counts()\n",
        "df4 = pd.DataFrame({'Get updates on DM Content': temp.index,'Values': temp.values})\n",
        "sns.barplot(x = 'Get updates on DM Content', y= 'Values', data=df4)\n",
        "locs, labels = plt.xticks()\n",
        "plt.show()"
      ],
      "execution_count": 0,
      "outputs": [
        {
          "output_type": "display_data",
          "data": {
            "image/png": "[encoded data removed]",
            "text/plain": [
              "<Figure size 1224x720 with 3 Axes>"
            ]
          },
          "metadata": {
            "tags": [],
            "needs_background": "light"
          }
        }
      ]
    },
    {
      "cell_type": "code",
      "metadata": {
        "id": "fw7CUeoa30mD",
        "colab_type": "code",
        "colab": {},
        "outputId": "2df582df-a095-4632-fae7-ccf90bbf8285"
      },
      "source": [
        "plt.figure(figsize=(12,3))\n",
        "plt.subplot(1,2,1)\n",
        "temp = lead['Receive More Updates About Our Courses'].value_counts()\n",
        "df2 = pd.DataFrame({'Receive More Updates About Our Courses': temp.index,'Values': temp.values})\n",
        "sns.barplot(x = 'Receive More Updates About Our Courses', y= 'Values', data=df2)\n",
        "locs, labels = plt.xticks()\n",
        "plt.subplot(1,2,2)\n",
        "temp = lead['A free copy of Mastering The Interview'].value_counts()\n",
        "df3 = pd.DataFrame({'A free copy of Mastering The Interview': temp.index,'Values': temp.values})\n",
        "sns.barplot(x = 'A free copy of Mastering The Interview', y= 'Values', data=df3)\n",
        "locs, labels = plt.xticks()\n",
        "plt.show()"
      ],
      "execution_count": 0,
      "outputs": [
        {
          "output_type": "display_data",
          "data": {
            "image/png": "[encoded data removed]",
            "text/plain": [
              "<Figure size 864x216 with 2 Axes>"
            ]
          },
          "metadata": {
            "tags": [],
            "needs_background": "light"
          }
        }
      ]
    },
    {
      "cell_type": "markdown",
      "metadata": {
        "id": "YJBxj6u330mF",
        "colab_type": "text"
      },
      "source": [
        "<font color = green> <b> From all the above barplots we can see that almost all of these Binary columns are highly inbalanced and have got either only one value or very high inbalance ratio. Hence, all these columns won't add any relevant information and give us variance for model building. Hence we can go ahead and drop these columns.Along with this, we can also drop the column `A free copy of Mastering The Interview`,even though there is not much of a data inbalance. This column doesn't feel to be an important contributor in finding potential lead,since this value just indicate more of a complimentary offer provided to the customers."
      ]
    },
    {
      "cell_type": "markdown",
      "metadata": {
        "id": "3y2nWFJ630mF",
        "colab_type": "text"
      },
      "source": [
        "<font color = green> The column `'What matters most to you in choosing a course'` as well most of the leads have mentioned as the reason Better Career Prospects and hence heavily inbalanced. We can remove this column as well."
      ]
    },
    {
      "cell_type": "code",
      "metadata": {
        "id": "9_0D6Stw30mG",
        "colab_type": "code",
        "colab": {},
        "outputId": "f062d880-87dc-4047-af7e-d8235bef30c0"
      },
      "source": [
        "temp = lead['What matters most to you in choosing a course'].value_counts()\n",
        "df3 = pd.DataFrame({'What matters most to you in choosing a course': temp.index,'Values': temp.values})\n",
        "sns.barplot(x = 'What matters most to you in choosing a course', y= 'Values', data=df3)\n",
        "locs, labels = plt.xticks()\n",
        "plt.show()"
      ],
      "execution_count": 0,
      "outputs": [
        {
          "output_type": "display_data",
          "data": {
            "image/png": "[encoded data removed]",
            "text/plain": [
              "<Figure size 432x288 with 1 Axes>"
            ]
          },
          "metadata": {
            "tags": [],
            "needs_background": "light"
          }
        }
      ]
    },
    {
      "cell_type": "code",
      "metadata": {
        "id": "qdD9jFTN30mI",
        "colab_type": "code",
        "colab": {}
      },
      "source": [
        "lead.drop(['Do Not Email','Do Not Call','Search','Magazine','Newspaper Article','X Education Forums','Newspaper','Digital Advertisement','Through Recommendations','I agree to pay the amount through cheque','Update me on Supply Chain Content','Get updates on DM Content','Receive More Updates About Our Courses','A free copy of Mastering The Interview','What matters most to you in choosing a course'],axis=1,inplace=True)\n"
      ],
      "execution_count": 0,
      "outputs": []
    },
    {
      "cell_type": "code",
      "metadata": {
        "id": "r_5TF82g30mL",
        "colab_type": "code",
        "colab": {},
        "outputId": "4e8057aa-7244-4f86-e7e6-41b50ddb28b1"
      },
      "source": [
        "lead.head()"
      ],
      "execution_count": 0,
      "outputs": [
        {
          "output_type": "execute_result",
          "data": {
            "text/html": [
              "<div>\n",
              "<style scoped>\n",
              "    .dataframe tbody tr th:only-of-type {\n",
              "        vertical-align: middle;\n",
              "    }\n",
              "\n",
              "    .dataframe tbody tr th {\n",
              "        vertical-align: top;\n",
              "    }\n",
              "\n",
              "    .dataframe thead th {\n",
              "        text-align: right;\n",
              "    }\n",
              "</style>\n",
              "<table border=\"1\" class=\"dataframe\">\n",
              "  <thead>\n",
              "    <tr style=\"text-align: right;\">\n",
              "      <th></th>\n",
              "      <th>Lead Number</th>\n",
              "      <th>Lead Origin</th>\n",
              "      <th>Lead Source</th>\n",
              "      <th>Converted</th>\n",
              "      <th>TotalVisits</th>\n",
              "      <th>Total Time Spent on Website</th>\n",
              "      <th>Page Views Per Visit</th>\n",
              "      <th>Last Activity</th>\n",
              "      <th>Country</th>\n",
              "      <th>Specialization</th>\n",
              "      <th>How did you hear about X Education</th>\n",
              "      <th>What is your current occupation</th>\n",
              "      <th>Tags</th>\n",
              "      <th>Lead Quality</th>\n",
              "      <th>Lead Profile</th>\n",
              "      <th>City</th>\n",
              "      <th>Asymmetrique Activity Index</th>\n",
              "      <th>Asymmetrique Profile Index</th>\n",
              "      <th>Asymmetrique Activity Score</th>\n",
              "      <th>Asymmetrique Profile Score</th>\n",
              "      <th>Last Notable Activity</th>\n",
              "    </tr>\n",
              "  </thead>\n",
              "  <tbody>\n",
              "    <tr>\n",
              "      <th>0</th>\n",
              "      <td>660737</td>\n",
              "      <td>API</td>\n",
              "      <td>Olark Chat</td>\n",
              "      <td>0</td>\n",
              "      <td>0.0</td>\n",
              "      <td>0</td>\n",
              "      <td>0.0</td>\n",
              "      <td>Page Visited on Website</td>\n",
              "      <td>unknown</td>\n",
              "      <td>Unknown</td>\n",
              "      <td>Other</td>\n",
              "      <td>Unemployed</td>\n",
              "      <td>Interested in other courses</td>\n",
              "      <td>Low in Relevance</td>\n",
              "      <td>Unknown</td>\n",
              "      <td>Mumbai</td>\n",
              "      <td>02.Medium</td>\n",
              "      <td>02.Medium</td>\n",
              "      <td>15.0</td>\n",
              "      <td>15.0</td>\n",
              "      <td>Modified</td>\n",
              "    </tr>\n",
              "    <tr>\n",
              "      <th>1</th>\n",
              "      <td>660728</td>\n",
              "      <td>API</td>\n",
              "      <td>Organic Search</td>\n",
              "      <td>0</td>\n",
              "      <td>5.0</td>\n",
              "      <td>674</td>\n",
              "      <td>2.5</td>\n",
              "      <td>Email Opened</td>\n",
              "      <td>India</td>\n",
              "      <td>Unknown</td>\n",
              "      <td>Other</td>\n",
              "      <td>Unemployed</td>\n",
              "      <td>Ringing</td>\n",
              "      <td>Not Sure</td>\n",
              "      <td>Unknown</td>\n",
              "      <td>Mumbai</td>\n",
              "      <td>02.Medium</td>\n",
              "      <td>02.Medium</td>\n",
              "      <td>15.0</td>\n",
              "      <td>15.0</td>\n",
              "      <td>Email Opened</td>\n",
              "    </tr>\n",
              "    <tr>\n",
              "      <th>2</th>\n",
              "      <td>660727</td>\n",
              "      <td>Landing Page Submission</td>\n",
              "      <td>Direct Traffic</td>\n",
              "      <td>1</td>\n",
              "      <td>2.0</td>\n",
              "      <td>1532</td>\n",
              "      <td>2.0</td>\n",
              "      <td>Email Opened</td>\n",
              "      <td>India</td>\n",
              "      <td>Business Administration</td>\n",
              "      <td>Other</td>\n",
              "      <td>Student</td>\n",
              "      <td>Will revert after reading the email</td>\n",
              "      <td>Might be</td>\n",
              "      <td>Potential Lead</td>\n",
              "      <td>Mumbai</td>\n",
              "      <td>02.Medium</td>\n",
              "      <td>01.High</td>\n",
              "      <td>14.0</td>\n",
              "      <td>20.0</td>\n",
              "      <td>Email Opened</td>\n",
              "    </tr>\n",
              "    <tr>\n",
              "      <th>3</th>\n",
              "      <td>660719</td>\n",
              "      <td>Landing Page Submission</td>\n",
              "      <td>Direct Traffic</td>\n",
              "      <td>0</td>\n",
              "      <td>1.0</td>\n",
              "      <td>305</td>\n",
              "      <td>1.0</td>\n",
              "      <td>Unreachable</td>\n",
              "      <td>India</td>\n",
              "      <td>Media and Advertising</td>\n",
              "      <td>Word Of Mouth</td>\n",
              "      <td>Unemployed</td>\n",
              "      <td>Ringing</td>\n",
              "      <td>Not Sure</td>\n",
              "      <td>Unknown</td>\n",
              "      <td>Mumbai</td>\n",
              "      <td>02.Medium</td>\n",
              "      <td>01.High</td>\n",
              "      <td>13.0</td>\n",
              "      <td>17.0</td>\n",
              "      <td>Modified</td>\n",
              "    </tr>\n",
              "    <tr>\n",
              "      <th>4</th>\n",
              "      <td>660681</td>\n",
              "      <td>Landing Page Submission</td>\n",
              "      <td>Google</td>\n",
              "      <td>1</td>\n",
              "      <td>2.0</td>\n",
              "      <td>1428</td>\n",
              "      <td>1.0</td>\n",
              "      <td>Converted to Lead</td>\n",
              "      <td>India</td>\n",
              "      <td>Unknown</td>\n",
              "      <td>Other</td>\n",
              "      <td>Unemployed</td>\n",
              "      <td>Will revert after reading the email</td>\n",
              "      <td>Might be</td>\n",
              "      <td>Unknown</td>\n",
              "      <td>Mumbai</td>\n",
              "      <td>02.Medium</td>\n",
              "      <td>01.High</td>\n",
              "      <td>15.0</td>\n",
              "      <td>18.0</td>\n",
              "      <td>Modified</td>\n",
              "    </tr>\n",
              "  </tbody>\n",
              "</table>\n",
              "</div>"
            ],
            "text/plain": [
              "   Lead Number              Lead Origin     Lead Source  Converted  \\\n",
              "0       660737                      API      Olark Chat          0   \n",
              "1       660728                      API  Organic Search          0   \n",
              "2       660727  Landing Page Submission  Direct Traffic          1   \n",
              "3       660719  Landing Page Submission  Direct Traffic          0   \n",
              "4       660681  Landing Page Submission          Google          1   \n",
              "\n",
              "   TotalVisits  Total Time Spent on Website  Page Views Per Visit  \\\n",
              "0          0.0                            0                   0.0   \n",
              "1          5.0                          674                   2.5   \n",
              "2          2.0                         1532                   2.0   \n",
              "3          1.0                          305                   1.0   \n",
              "4          2.0                         1428                   1.0   \n",
              "\n",
              "             Last Activity  Country           Specialization  \\\n",
              "0  Page Visited on Website  unknown                  Unknown   \n",
              "1             Email Opened    India                  Unknown   \n",
              "2             Email Opened    India  Business Administration   \n",
              "3              Unreachable    India    Media and Advertising   \n",
              "4        Converted to Lead    India                  Unknown   \n",
              "\n",
              "  How did you hear about X Education What is your current occupation  \\\n",
              "0                              Other                      Unemployed   \n",
              "1                              Other                      Unemployed   \n",
              "2                              Other                         Student   \n",
              "3                      Word Of Mouth                      Unemployed   \n",
              "4                              Other                      Unemployed   \n",
              "\n",
              "                                  Tags      Lead Quality    Lead Profile  \\\n",
              "0          Interested in other courses  Low in Relevance         Unknown   \n",
              "1                              Ringing          Not Sure         Unknown   \n",
              "2  Will revert after reading the email          Might be  Potential Lead   \n",
              "3                              Ringing          Not Sure         Unknown   \n",
              "4  Will revert after reading the email          Might be         Unknown   \n",
              "\n",
              "     City Asymmetrique Activity Index Asymmetrique Profile Index  \\\n",
              "0  Mumbai                   02.Medium                  02.Medium   \n",
              "1  Mumbai                   02.Medium                  02.Medium   \n",
              "2  Mumbai                   02.Medium                    01.High   \n",
              "3  Mumbai                   02.Medium                    01.High   \n",
              "4  Mumbai                   02.Medium                    01.High   \n",
              "\n",
              "   Asymmetrique Activity Score  Asymmetrique Profile Score  \\\n",
              "0                         15.0                        15.0   \n",
              "1                         15.0                        15.0   \n",
              "2                         14.0                        20.0   \n",
              "3                         13.0                        17.0   \n",
              "4                         15.0                        18.0   \n",
              "\n",
              "  Last Notable Activity  \n",
              "0              Modified  \n",
              "1          Email Opened  \n",
              "2          Email Opened  \n",
              "3              Modified  \n",
              "4              Modified  "
            ]
          },
          "metadata": {
            "tags": []
          },
          "execution_count": 67
        }
      ]
    },
    {
      "cell_type": "code",
      "metadata": {
        "id": "EAApcZcS30mN",
        "colab_type": "code",
        "colab": {},
        "outputId": "4a612646-7287-41f1-efb0-cb0274947ca0"
      },
      "source": [
        "lead.shape"
      ],
      "execution_count": 0,
      "outputs": [
        {
          "output_type": "execute_result",
          "data": {
            "text/plain": [
              "(9074, 21)"
            ]
          },
          "metadata": {
            "tags": []
          },
          "execution_count": 68
        }
      ]
    },
    {
      "cell_type": "markdown",
      "metadata": {
        "id": "Sgi0CIvU30mQ",
        "colab_type": "text"
      },
      "source": [
        "#### OUTLIER ANALYSIS AND TREATMENT"
      ]
    },
    {
      "cell_type": "markdown",
      "metadata": {
        "id": "KZ_qkpnu30mQ",
        "colab_type": "text"
      },
      "source": [
        "<font color = green> We can take the Numerical features and see for the existence of outliers and their impact and treat it accordingly."
      ]
    },
    {
      "cell_type": "code",
      "metadata": {
        "id": "U4xTWS8F30mR",
        "colab_type": "code",
        "colab": {},
        "outputId": "286654b2-0989-4dd0-f58c-a4bf176b5de2"
      },
      "source": [
        "#Ditribution for some of the numerical features.\n",
        "plt.figure(figsize=(17,4))\n",
        "plt.subplot(1,3,1)\n",
        "sns.boxplot(y=lead['TotalVisits'])\n",
        "plt.subplot(1,3,2)\n",
        "sns.boxplot(y=lead['Total Time Spent on Website'])\n",
        "plt.subplot(1,3,3)\n",
        "sns.boxplot(y=lead['Page Views Per Visit'])\n",
        "plt.show()"
      ],
      "execution_count": 0,
      "outputs": [
        {
          "output_type": "display_data",
          "data": {
            "image/png": "[encoded data removed]",
            "text/plain": [
              "<Figure size 1224x288 with 3 Axes>"
            ]
          },
          "metadata": {
            "tags": [],
            "needs_background": "light"
          }
        }
      ]
    },
    {
      "cell_type": "markdown",
      "metadata": {
        "id": "kIGqUlqF30mT",
        "colab_type": "text"
      },
      "source": [
        "<font color = green> We can clearly spot outliers in the features such as `TotalVisits and Page Views Per Visit`. Total time spent on Website doesn't have any outliers. We can see that there are as many as 250 visits recorded for total visits by possible leads. As high as this number of visits to a website seems to be not like a correct capture and hence we can remove these outliers. Similarly for the page views per visit, as many as 20+ page views in a single visit seems to be not correct. We can remove these as well.!"
      ]
    },
    {
      "cell_type": "code",
      "metadata": {
        "id": "BJGYmcT730mT",
        "colab_type": "code",
        "colab": {}
      },
      "source": [
        "#Removing the outlier for TotalVisits\n",
        "Q1 = lead['TotalVisits'].quantile(0.05)\n",
        "Q3 = lead['TotalVisits'].quantile(0.95)\n",
        "IQR = Q3 - Q1\n",
        "lead = lead[(lead['TotalVisits'] >= Q1) & (lead['TotalVisits'] <= Q3)]"
      ],
      "execution_count": 0,
      "outputs": []
    },
    {
      "cell_type": "code",
      "metadata": {
        "id": "ySquqz4530mW",
        "colab_type": "code",
        "colab": {},
        "outputId": "6f073c63-6e95-4e92-b109-d9fe7c7351ea"
      },
      "source": [
        "sns.boxplot(y=lead['TotalVisits'])"
      ],
      "execution_count": 0,
      "outputs": [
        {
          "output_type": "execute_result",
          "data": {
            "text/plain": [
              "<matplotlib.axes._subplots.AxesSubplot at 0xc4152b0>"
            ]
          },
          "metadata": {
            "tags": []
          },
          "execution_count": 71
        },
        {
          "output_type": "display_data",
          "data": {
            "image/png": "[encoded data removed]",
            "text/plain": [
              "<Figure size 432x288 with 1 Axes>"
            ]
          },
          "metadata": {
            "tags": [],
            "needs_background": "light"
          }
        }
      ]
    },
    {
      "cell_type": "code",
      "metadata": {
        "id": "ccMK7SV-30mY",
        "colab_type": "code",
        "colab": {}
      },
      "source": [
        "#Removing the outlier for 'Page Views Per Visit'\n",
        "Q1 = lead['Page Views Per Visit'].quantile(0.05)\n",
        "Q3 = lead['Page Views Per Visit'].quantile(0.95)\n",
        "IQR = Q3 - Q1\n",
        "lead = lead[(lead['Page Views Per Visit'] >= Q1) & (lead['Page Views Per Visit'] <= Q3)]"
      ],
      "execution_count": 0,
      "outputs": []
    },
    {
      "cell_type": "code",
      "metadata": {
        "id": "c5zVKGqo30mZ",
        "colab_type": "code",
        "colab": {},
        "outputId": "092eda43-0617-4c7d-d6a9-eaa34e9e919d"
      },
      "source": [
        "lead.shape"
      ],
      "execution_count": 0,
      "outputs": [
        {
          "output_type": "execute_result",
          "data": {
            "text/plain": [
              "(8445, 21)"
            ]
          },
          "metadata": {
            "tags": []
          },
          "execution_count": 73
        }
      ]
    },
    {
      "cell_type": "code",
      "metadata": {
        "id": "FhLqNxza30mb",
        "colab_type": "code",
        "colab": {},
        "outputId": "235b8058-20a1-406a-cb5c-33ec88081c75"
      },
      "source": [
        "sns.boxplot(y=lead['Page Views Per Visit'])"
      ],
      "execution_count": 0,
      "outputs": [
        {
          "output_type": "execute_result",
          "data": {
            "text/plain": [
              "<matplotlib.axes._subplots.AxesSubplot at 0xc370278>"
            ]
          },
          "metadata": {
            "tags": []
          },
          "execution_count": 74
        },
        {
          "output_type": "display_data",
          "data": {
            "image/png": "[encoded data removed]",
            "text/plain": [
              "<Figure size 432x288 with 1 Axes>"
            ]
          },
          "metadata": {
            "tags": [],
            "needs_background": "light"
          }
        }
      ]
    },
    {
      "cell_type": "code",
      "metadata": {
        "id": "iCnrV0gJ30mg",
        "colab_type": "code",
        "colab": {},
        "outputId": "6cae8d9f-97d7-4cb6-edeb-86564cc4a17c"
      },
      "source": [
        "100*(lead.shape[0]/intial_lead_shape[0])"
      ],
      "execution_count": 0,
      "outputs": [
        {
          "output_type": "execute_result",
          "data": {
            "text/plain": [
              "91.3961038961039"
            ]
          },
          "metadata": {
            "tags": []
          },
          "execution_count": 75
        }
      ]
    },
    {
      "cell_type": "markdown",
      "metadata": {
        "id": "itNLt5QL30mi",
        "colab_type": "text"
      },
      "source": [
        "<font color = green> After the data cleaning process,we are left with 91.4% of the data,hence we can proceed with this dataset further for model building process."
      ]
    },
    {
      "cell_type": "markdown",
      "metadata": {
        "id": "3cPHbxcD30mj",
        "colab_type": "text"
      },
      "source": [
        "#### DATA PREPARATION"
      ]
    },
    {
      "cell_type": "code",
      "metadata": {
        "id": "ym1ig2v530mk",
        "colab_type": "code",
        "colab": {},
        "outputId": "9c9f452a-eb5a-4b1d-d2a0-2712a52d8a4c"
      },
      "source": [
        "lead.head()"
      ],
      "execution_count": 0,
      "outputs": [
        {
          "output_type": "execute_result",
          "data": {
            "text/html": [
              "<div>\n",
              "<style scoped>\n",
              "    .dataframe tbody tr th:only-of-type {\n",
              "        vertical-align: middle;\n",
              "    }\n",
              "\n",
              "    .dataframe tbody tr th {\n",
              "        vertical-align: top;\n",
              "    }\n",
              "\n",
              "    .dataframe thead th {\n",
              "        text-align: right;\n",
              "    }\n",
              "</style>\n",
              "<table border=\"1\" class=\"dataframe\">\n",
              "  <thead>\n",
              "    <tr style=\"text-align: right;\">\n",
              "      <th></th>\n",
              "      <th>Lead Number</th>\n",
              "      <th>Lead Origin</th>\n",
              "      <th>Lead Source</th>\n",
              "      <th>Converted</th>\n",
              "      <th>TotalVisits</th>\n",
              "      <th>Total Time Spent on Website</th>\n",
              "      <th>Page Views Per Visit</th>\n",
              "      <th>Last Activity</th>\n",
              "      <th>Country</th>\n",
              "      <th>Specialization</th>\n",
              "      <th>How did you hear about X Education</th>\n",
              "      <th>What is your current occupation</th>\n",
              "      <th>Tags</th>\n",
              "      <th>Lead Quality</th>\n",
              "      <th>Lead Profile</th>\n",
              "      <th>City</th>\n",
              "      <th>Asymmetrique Activity Index</th>\n",
              "      <th>Asymmetrique Profile Index</th>\n",
              "      <th>Asymmetrique Activity Score</th>\n",
              "      <th>Asymmetrique Profile Score</th>\n",
              "      <th>Last Notable Activity</th>\n",
              "    </tr>\n",
              "  </thead>\n",
              "  <tbody>\n",
              "    <tr>\n",
              "      <th>0</th>\n",
              "      <td>660737</td>\n",
              "      <td>API</td>\n",
              "      <td>Olark Chat</td>\n",
              "      <td>0</td>\n",
              "      <td>0.0</td>\n",
              "      <td>0</td>\n",
              "      <td>0.0</td>\n",
              "      <td>Page Visited on Website</td>\n",
              "      <td>unknown</td>\n",
              "      <td>Unknown</td>\n",
              "      <td>Other</td>\n",
              "      <td>Unemployed</td>\n",
              "      <td>Interested in other courses</td>\n",
              "      <td>Low in Relevance</td>\n",
              "      <td>Unknown</td>\n",
              "      <td>Mumbai</td>\n",
              "      <td>02.Medium</td>\n",
              "      <td>02.Medium</td>\n",
              "      <td>15.0</td>\n",
              "      <td>15.0</td>\n",
              "      <td>Modified</td>\n",
              "    </tr>\n",
              "    <tr>\n",
              "      <th>1</th>\n",
              "      <td>660728</td>\n",
              "      <td>API</td>\n",
              "      <td>Organic Search</td>\n",
              "      <td>0</td>\n",
              "      <td>5.0</td>\n",
              "      <td>674</td>\n",
              "      <td>2.5</td>\n",
              "      <td>Email Opened</td>\n",
              "      <td>India</td>\n",
              "      <td>Unknown</td>\n",
              "      <td>Other</td>\n",
              "      <td>Unemployed</td>\n",
              "      <td>Ringing</td>\n",
              "      <td>Not Sure</td>\n",
              "      <td>Unknown</td>\n",
              "      <td>Mumbai</td>\n",
              "      <td>02.Medium</td>\n",
              "      <td>02.Medium</td>\n",
              "      <td>15.0</td>\n",
              "      <td>15.0</td>\n",
              "      <td>Email Opened</td>\n",
              "    </tr>\n",
              "    <tr>\n",
              "      <th>2</th>\n",
              "      <td>660727</td>\n",
              "      <td>Landing Page Submission</td>\n",
              "      <td>Direct Traffic</td>\n",
              "      <td>1</td>\n",
              "      <td>2.0</td>\n",
              "      <td>1532</td>\n",
              "      <td>2.0</td>\n",
              "      <td>Email Opened</td>\n",
              "      <td>India</td>\n",
              "      <td>Business Administration</td>\n",
              "      <td>Other</td>\n",
              "      <td>Student</td>\n",
              "      <td>Will revert after reading the email</td>\n",
              "      <td>Might be</td>\n",
              "      <td>Potential Lead</td>\n",
              "      <td>Mumbai</td>\n",
              "      <td>02.Medium</td>\n",
              "      <td>01.High</td>\n",
              "      <td>14.0</td>\n",
              "      <td>20.0</td>\n",
              "      <td>Email Opened</td>\n",
              "    </tr>\n",
              "    <tr>\n",
              "      <th>3</th>\n",
              "      <td>660719</td>\n",
              "      <td>Landing Page Submission</td>\n",
              "      <td>Direct Traffic</td>\n",
              "      <td>0</td>\n",
              "      <td>1.0</td>\n",
              "      <td>305</td>\n",
              "      <td>1.0</td>\n",
              "      <td>Unreachable</td>\n",
              "      <td>India</td>\n",
              "      <td>Media and Advertising</td>\n",
              "      <td>Word Of Mouth</td>\n",
              "      <td>Unemployed</td>\n",
              "      <td>Ringing</td>\n",
              "      <td>Not Sure</td>\n",
              "      <td>Unknown</td>\n",
              "      <td>Mumbai</td>\n",
              "      <td>02.Medium</td>\n",
              "      <td>01.High</td>\n",
              "      <td>13.0</td>\n",
              "      <td>17.0</td>\n",
              "      <td>Modified</td>\n",
              "    </tr>\n",
              "    <tr>\n",
              "      <th>4</th>\n",
              "      <td>660681</td>\n",
              "      <td>Landing Page Submission</td>\n",
              "      <td>Google</td>\n",
              "      <td>1</td>\n",
              "      <td>2.0</td>\n",
              "      <td>1428</td>\n",
              "      <td>1.0</td>\n",
              "      <td>Converted to Lead</td>\n",
              "      <td>India</td>\n",
              "      <td>Unknown</td>\n",
              "      <td>Other</td>\n",
              "      <td>Unemployed</td>\n",
              "      <td>Will revert after reading the email</td>\n",
              "      <td>Might be</td>\n",
              "      <td>Unknown</td>\n",
              "      <td>Mumbai</td>\n",
              "      <td>02.Medium</td>\n",
              "      <td>01.High</td>\n",
              "      <td>15.0</td>\n",
              "      <td>18.0</td>\n",
              "      <td>Modified</td>\n",
              "    </tr>\n",
              "  </tbody>\n",
              "</table>\n",
              "</div>"
            ],
            "text/plain": [
              "   Lead Number              Lead Origin     Lead Source  Converted  \\\n",
              "0       660737                      API      Olark Chat          0   \n",
              "1       660728                      API  Organic Search          0   \n",
              "2       660727  Landing Page Submission  Direct Traffic          1   \n",
              "3       660719  Landing Page Submission  Direct Traffic          0   \n",
              "4       660681  Landing Page Submission          Google          1   \n",
              "\n",
              "   TotalVisits  Total Time Spent on Website  Page Views Per Visit  \\\n",
              "0          0.0                            0                   0.0   \n",
              "1          5.0                          674                   2.5   \n",
              "2          2.0                         1532                   2.0   \n",
              "3          1.0                          305                   1.0   \n",
              "4          2.0                         1428                   1.0   \n",
              "\n",
              "             Last Activity  Country           Specialization  \\\n",
              "0  Page Visited on Website  unknown                  Unknown   \n",
              "1             Email Opened    India                  Unknown   \n",
              "2             Email Opened    India  Business Administration   \n",
              "3              Unreachable    India    Media and Advertising   \n",
              "4        Converted to Lead    India                  Unknown   \n",
              "\n",
              "  How did you hear about X Education What is your current occupation  \\\n",
              "0                              Other                      Unemployed   \n",
              "1                              Other                      Unemployed   \n",
              "2                              Other                         Student   \n",
              "3                      Word Of Mouth                      Unemployed   \n",
              "4                              Other                      Unemployed   \n",
              "\n",
              "                                  Tags      Lead Quality    Lead Profile  \\\n",
              "0          Interested in other courses  Low in Relevance         Unknown   \n",
              "1                              Ringing          Not Sure         Unknown   \n",
              "2  Will revert after reading the email          Might be  Potential Lead   \n",
              "3                              Ringing          Not Sure         Unknown   \n",
              "4  Will revert after reading the email          Might be         Unknown   \n",
              "\n",
              "     City Asymmetrique Activity Index Asymmetrique Profile Index  \\\n",
              "0  Mumbai                   02.Medium                  02.Medium   \n",
              "1  Mumbai                   02.Medium                  02.Medium   \n",
              "2  Mumbai                   02.Medium                    01.High   \n",
              "3  Mumbai                   02.Medium                    01.High   \n",
              "4  Mumbai                   02.Medium                    01.High   \n",
              "\n",
              "   Asymmetrique Activity Score  Asymmetrique Profile Score  \\\n",
              "0                         15.0                        15.0   \n",
              "1                         15.0                        15.0   \n",
              "2                         14.0                        20.0   \n",
              "3                         13.0                        17.0   \n",
              "4                         15.0                        18.0   \n",
              "\n",
              "  Last Notable Activity  \n",
              "0              Modified  \n",
              "1          Email Opened  \n",
              "2          Email Opened  \n",
              "3              Modified  \n",
              "4              Modified  "
            ]
          },
          "metadata": {
            "tags": []
          },
          "execution_count": 76
        }
      ]
    },
    {
      "cell_type": "markdown",
      "metadata": {
        "id": "TsprLxsW30mm",
        "colab_type": "text"
      },
      "source": [
        "##### Encoding the categorical features"
      ]
    },
    {
      "cell_type": "code",
      "metadata": {
        "id": "X7fi4TK-30mn",
        "colab_type": "code",
        "colab": {},
        "outputId": "c5f8ff90-5862-401a-f1a3-ddf36c0a5883"
      },
      "source": [
        "lead['Lead Origin'].unique()"
      ],
      "execution_count": 0,
      "outputs": [
        {
          "output_type": "execute_result",
          "data": {
            "text/plain": [
              "array(['API', 'Landing Page Submission', 'Lead Add Form', 'Lead Import'],\n",
              "      dtype=object)"
            ]
          },
          "metadata": {
            "tags": []
          },
          "execution_count": 77
        }
      ]
    },
    {
      "cell_type": "code",
      "metadata": {
        "id": "HwiInW1X30mp",
        "colab_type": "code",
        "colab": {}
      },
      "source": [
        "lead['Asymmetrique Activity Index'].replace(['02.Medium','01.High','03.Low','Unknown'],[2,1,3,0],inplace=True)\n",
        "lead['Asymmetrique Profile Index'].replace(['02.Medium','01.High','03.Low','Unknown'],[2,1,3,0],inplace=True)"
      ],
      "execution_count": 0,
      "outputs": []
    },
    {
      "cell_type": "code",
      "metadata": {
        "id": "K7uivBBa30mr",
        "colab_type": "code",
        "colab": {}
      },
      "source": [
        "lead = pd.get_dummies(lead, columns=['Lead Origin'], prefix = ['Lead_Origin'],drop_first=True)"
      ],
      "execution_count": 0,
      "outputs": []
    },
    {
      "cell_type": "code",
      "metadata": {
        "id": "DDecIZcz30mt",
        "colab_type": "code",
        "colab": {},
        "outputId": "fc4a82f2-d9eb-49fd-9b50-f74c685102c2"
      },
      "source": [
        "lead['Lead Source'].unique()"
      ],
      "execution_count": 0,
      "outputs": [
        {
          "output_type": "execute_result",
          "data": {
            "text/plain": [
              "array(['Olark Chat', 'Organic Search', 'Direct Traffic', 'Google',\n",
              "       'Referral Sites', 'Reference', 'Welingak Website', 'Facebook',\n",
              "       'blog', 'Pay per Click Ads', 'bing', 'Social Media', 'WeLearn',\n",
              "       'Live Chat', 'welearnblog_Home', 'youtubechannel', 'Click2call',\n",
              "       'testone', 'Press_Release', 'NC_EDM'], dtype=object)"
            ]
          },
          "metadata": {
            "tags": []
          },
          "execution_count": 80
        }
      ]
    },
    {
      "cell_type": "code",
      "metadata": {
        "id": "-e0A05Ji30mv",
        "colab_type": "code",
        "colab": {}
      },
      "source": [
        "lead = pd.get_dummies(lead, columns=['Lead Source'], prefix = ['Lead_Source'],drop_first=True)"
      ],
      "execution_count": 0,
      "outputs": []
    },
    {
      "cell_type": "code",
      "metadata": {
        "id": "KKTxtjOZ30my",
        "colab_type": "code",
        "colab": {},
        "outputId": "26aab9ea-a263-4c45-92d7-24a4f5bf35e8"
      },
      "source": [
        "lead['Last Activity'].unique()"
      ],
      "execution_count": 0,
      "outputs": [
        {
          "output_type": "execute_result",
          "data": {
            "text/plain": [
              "array(['Page Visited on Website', 'Email Opened', 'Unreachable',\n",
              "       'Converted to Lead', 'Olark Chat Conversation', 'Email Bounced',\n",
              "       'Email Link Clicked', 'Form Submitted on Website',\n",
              "       'Had a Phone Conversation', 'View in browser link Clicked',\n",
              "       'Unsubscribed', 'SMS Sent', 'Visited Booth in Tradeshow',\n",
              "       'Approached upfront', 'Resubscribed to emails', 'Email Received',\n",
              "       'Email Marked Spam'], dtype=object)"
            ]
          },
          "metadata": {
            "tags": []
          },
          "execution_count": 82
        }
      ]
    },
    {
      "cell_type": "code",
      "metadata": {
        "id": "1JV8hw2-30m2",
        "colab_type": "code",
        "colab": {}
      },
      "source": [
        "lead = pd.get_dummies(lead, columns=['Last Activity'], prefix = ['Last_Activity'],drop_first=True)"
      ],
      "execution_count": 0,
      "outputs": []
    },
    {
      "cell_type": "code",
      "metadata": {
        "id": "a3i9gqsE30m5",
        "colab_type": "code",
        "colab": {},
        "outputId": "62b36a04-b32a-46b4-f755-0654240e0b02"
      },
      "source": [
        "lead['Specialization'].unique()"
      ],
      "execution_count": 0,
      "outputs": [
        {
          "output_type": "execute_result",
          "data": {
            "text/plain": [
              "array(['Unknown', 'Business Administration', 'Media and Advertising',\n",
              "       'Supply Chain Management', 'IT Projects Management',\n",
              "       'Finance Management', 'Human Resource Management',\n",
              "       'Marketing Management', 'Banking, Investment And Insurance',\n",
              "       'Travel and Tourism', 'International Business', 'E-COMMERCE',\n",
              "       'Operations Management', 'Hospitality Management',\n",
              "       'Retail Management', 'Rural and Agribusiness',\n",
              "       'Healthcare Management', 'Services Excellence', 'E-Business'],\n",
              "      dtype=object)"
            ]
          },
          "metadata": {
            "tags": []
          },
          "execution_count": 84
        }
      ]
    },
    {
      "cell_type": "code",
      "metadata": {
        "id": "UPWlug_S30m-",
        "colab_type": "code",
        "colab": {}
      },
      "source": [
        "lead = pd.get_dummies(lead, columns=['Specialization'], prefix = ['Specialization'],drop_first=True)"
      ],
      "execution_count": 0,
      "outputs": []
    },
    {
      "cell_type": "code",
      "metadata": {
        "id": "WMMsfdTM30nB",
        "colab_type": "code",
        "colab": {},
        "outputId": "cca4cdb8-4130-4d44-ec59-c09601c87e3f"
      },
      "source": [
        "lead['How did you hear about X Education'].unique()"
      ],
      "execution_count": 0,
      "outputs": [
        {
          "output_type": "execute_result",
          "data": {
            "text/plain": [
              "array(['Other', 'Word Of Mouth', 'Online Search', 'Multiple Sources',\n",
              "       'Advertisements', 'Student of SomeSchool', 'Email', 'Social Media',\n",
              "       'SMS'], dtype=object)"
            ]
          },
          "metadata": {
            "tags": []
          },
          "execution_count": 86
        }
      ]
    },
    {
      "cell_type": "code",
      "metadata": {
        "id": "As9NU8_v30nE",
        "colab_type": "code",
        "colab": {}
      },
      "source": [
        "lead = pd.get_dummies(lead, columns=['How did you hear about X Education'], prefix = ['How_did_u_hear'],drop_first=True)"
      ],
      "execution_count": 0,
      "outputs": []
    },
    {
      "cell_type": "code",
      "metadata": {
        "id": "M5vmQKrH30nG",
        "colab_type": "code",
        "colab": {},
        "outputId": "7635251c-5c67-461f-b3d7-7af98b744601"
      },
      "source": [
        "lead['What is your current occupation'].unique()"
      ],
      "execution_count": 0,
      "outputs": [
        {
          "output_type": "execute_result",
          "data": {
            "text/plain": [
              "array(['Unemployed', 'Student', 'Working Professional', 'Businessman',\n",
              "       'Other', 'Housewife'], dtype=object)"
            ]
          },
          "metadata": {
            "tags": []
          },
          "execution_count": 88
        }
      ]
    },
    {
      "cell_type": "code",
      "metadata": {
        "id": "sC6BT2Jt30nH",
        "colab_type": "code",
        "colab": {}
      },
      "source": [
        "lead = pd.get_dummies(lead, columns=['What is your current occupation'], prefix = ['occupation'],drop_first=True)"
      ],
      "execution_count": 0,
      "outputs": []
    },
    {
      "cell_type": "code",
      "metadata": {
        "id": "DCY4lzXk30nJ",
        "colab_type": "code",
        "colab": {},
        "outputId": "e3cfd09a-67fa-4f00-e534-f243091550f3"
      },
      "source": [
        "lead['Tags'].unique()"
      ],
      "execution_count": 0,
      "outputs": [
        {
          "output_type": "execute_result",
          "data": {
            "text/plain": [
              "array(['Interested in other courses', 'Ringing',\n",
              "       'Will revert after reading the email', 'Unknown', 'Lost to EINS',\n",
              "       'In confusion whether part time or DLP', 'Busy', 'switched off',\n",
              "       'in touch with EINS', 'Already a student',\n",
              "       'Diploma holder (Not Eligible)', 'number not provided',\n",
              "       'opp hangup', 'Closed by Horizzon', 'Graduation in progress',\n",
              "       'Not doing further education', 'invalid number',\n",
              "       'wrong number given', 'Interested  in full time MBA',\n",
              "       'Still Thinking', 'Lost to Others',\n",
              "       'Shall take in the next coming month', 'Lateral student',\n",
              "       'Interested in Next batch', 'Recognition issue (DEC approval)',\n",
              "       'Want to take admission but has financial problems',\n",
              "       'University not recognized'], dtype=object)"
            ]
          },
          "metadata": {
            "tags": []
          },
          "execution_count": 90
        }
      ]
    },
    {
      "cell_type": "code",
      "metadata": {
        "id": "S0-qsFFx30nK",
        "colab_type": "code",
        "colab": {}
      },
      "source": [
        "lead = pd.get_dummies(lead, columns=['Tags'], prefix = ['Tags'],drop_first=True)"
      ],
      "execution_count": 0,
      "outputs": []
    },
    {
      "cell_type": "code",
      "metadata": {
        "id": "Mg5TmeaD30nM",
        "colab_type": "code",
        "colab": {},
        "outputId": "da8272ac-4c02-420b-85ab-b053db232472"
      },
      "source": [
        "lead['Lead Quality'].unique()"
      ],
      "execution_count": 0,
      "outputs": [
        {
          "output_type": "execute_result",
          "data": {
            "text/plain": [
              "array(['Low in Relevance', 'Not Sure', 'Might be', 'Worst',\n",
              "       'High in Relevance'], dtype=object)"
            ]
          },
          "metadata": {
            "tags": []
          },
          "execution_count": 92
        }
      ]
    },
    {
      "cell_type": "code",
      "metadata": {
        "id": "TqfMYY2830nN",
        "colab_type": "code",
        "colab": {}
      },
      "source": [
        "lead = pd.get_dummies(lead, columns=['Lead Quality'], prefix = ['Lead_Quality'],drop_first=True)"
      ],
      "execution_count": 0,
      "outputs": []
    },
    {
      "cell_type": "code",
      "metadata": {
        "id": "fbbMQCWB30nP",
        "colab_type": "code",
        "colab": {},
        "outputId": "a441b0f9-ab2d-441c-9bcb-bf8dc2ab50e8"
      },
      "source": [
        "lead['Lead Profile'].unique()"
      ],
      "execution_count": 0,
      "outputs": [
        {
          "output_type": "execute_result",
          "data": {
            "text/plain": [
              "array(['Unknown', 'Potential Lead', 'Other Leads',\n",
              "       'Dual Specialization Student', 'Student of SomeSchool',\n",
              "       'Lateral Student'], dtype=object)"
            ]
          },
          "metadata": {
            "tags": []
          },
          "execution_count": 94
        }
      ]
    },
    {
      "cell_type": "code",
      "metadata": {
        "id": "Z3c5NuDd30nQ",
        "colab_type": "code",
        "colab": {}
      },
      "source": [
        "lead = pd.get_dummies(lead, columns=['Lead Profile'], prefix = ['Lead_Profile'],drop_first=True)"
      ],
      "execution_count": 0,
      "outputs": []
    },
    {
      "cell_type": "code",
      "metadata": {
        "id": "q_-f2rz830nV",
        "colab_type": "code",
        "colab": {},
        "outputId": "e199f64e-2d6d-469d-b995-80a393bf45ff"
      },
      "source": [
        "lead['Last Notable Activity'].unique()"
      ],
      "execution_count": 0,
      "outputs": [
        {
          "output_type": "execute_result",
          "data": {
            "text/plain": [
              "array(['Modified', 'Email Opened', 'Page Visited on Website',\n",
              "       'Email Bounced', 'Email Link Clicked', 'Unreachable',\n",
              "       'Had a Phone Conversation', 'Olark Chat Conversation',\n",
              "       'Unsubscribed', 'SMS Sent', 'Approached upfront',\n",
              "       'Resubscribed to emails', 'View in browser link Clicked',\n",
              "       'Form Submitted on Website', 'Email Received', 'Email Marked Spam'],\n",
              "      dtype=object)"
            ]
          },
          "metadata": {
            "tags": []
          },
          "execution_count": 96
        }
      ]
    },
    {
      "cell_type": "code",
      "metadata": {
        "id": "djAQE0L730nX",
        "colab_type": "code",
        "colab": {}
      },
      "source": [
        "lead = pd.get_dummies(lead, columns=['Last Notable Activity'], prefix = ['Last_Notable_Activity'],drop_first=True)"
      ],
      "execution_count": 0,
      "outputs": []
    },
    {
      "cell_type": "code",
      "metadata": {
        "id": "YImGV3Q030na",
        "colab_type": "code",
        "colab": {},
        "outputId": "a30a8fc0-fe4d-48ba-e12b-740ba7bed151"
      },
      "source": [
        "lead['City'].value_counts()"
      ],
      "execution_count": 0,
      "outputs": [
        {
          "output_type": "execute_result",
          "data": {
            "text/plain": [
              "Mumbai                         6347\n",
              "Thane & Outskirts               669\n",
              "Other Cities                    612\n",
              "Other Cities of Maharashtra     409\n",
              "Other Metro Cities              341\n",
              "Tier II Cities                   67\n",
              "Name: City, dtype: int64"
            ]
          },
          "metadata": {
            "tags": []
          },
          "execution_count": 98
        }
      ]
    },
    {
      "cell_type": "code",
      "metadata": {
        "id": "aFGcPpdF30nc",
        "colab_type": "code",
        "colab": {},
        "outputId": "3531d704-5af5-492e-d9ac-159e98d32b78"
      },
      "source": [
        "lead['Country'].value_counts()"
      ],
      "execution_count": 0,
      "outputs": [
        {
          "output_type": "execute_result",
          "data": {
            "text/plain": [
              "India                   5892\n",
              "unknown                 2290\n",
              "United States             65\n",
              "United Arab Emirates      47\n",
              "Singapore                 23\n",
              "Saudi Arabia              20\n",
              "United Kingdom            13\n",
              "Australia                 12\n",
              "Qatar                     10\n",
              "Hong Kong                  7\n",
              "Bahrain                    7\n",
              "Oman                       6\n",
              "France                     5\n",
              "Germany                    4\n",
              "Kuwait                     4\n",
              "Canada                     4\n",
              "Nigeria                    4\n",
              "South Africa               3\n",
              "Uganda                     2\n",
              "Philippines                2\n",
              "Ghana                      2\n",
              "Italy                      2\n",
              "Sweden                     2\n",
              "Asia/Pacific Region        2\n",
              "China                      2\n",
              "Belgium                    2\n",
              "Bangladesh                 2\n",
              "Tanzania                   1\n",
              "Malaysia                   1\n",
              "Russia                     1\n",
              "Vietnam                    1\n",
              "Liberia                    1\n",
              "Indonesia                  1\n",
              "Netherlands                1\n",
              "Denmark                    1\n",
              "Kenya                      1\n",
              "Switzerland                1\n",
              "Sri Lanka                  1\n",
              "Name: Country, dtype: int64"
            ]
          },
          "metadata": {
            "tags": []
          },
          "execution_count": 99
        }
      ]
    },
    {
      "cell_type": "markdown",
      "metadata": {
        "id": "WYqm0ZHM30ne",
        "colab_type": "text"
      },
      "source": [
        "<font color = green> The count for each of the country shows that the majority of the leads are from India and from city Mumbai. So all the other values are not providing much of an information here. Hence we can go ahead and drop these columns rather than doing encoding for all the different levels."
      ]
    },
    {
      "cell_type": "code",
      "metadata": {
        "id": "qO3b_k7S30nf",
        "colab_type": "code",
        "colab": {}
      },
      "source": [
        "lead.drop(['City','Country'],axis=1,inplace=True)"
      ],
      "execution_count": 0,
      "outputs": []
    },
    {
      "cell_type": "markdown",
      "metadata": {
        "id": "uvpkiOo730nh",
        "colab_type": "text"
      },
      "source": [
        "<font color = green> Hence we have done data cleaning for Null values,Outlier treatment,checked for duplicate categories and finally converted all the categorical columns into numerical. We will observe the final dataset now."
      ]
    },
    {
      "cell_type": "code",
      "metadata": {
        "id": "G-Gqs4Bh30nh",
        "colab_type": "code",
        "colab": {},
        "outputId": "4d968fd5-9fbd-4855-8678-ef225d4e2325"
      },
      "source": [
        "lead.head()"
      ],
      "execution_count": 0,
      "outputs": [
        {
          "output_type": "execute_result",
          "data": {
            "text/html": [
              "<div>\n",
              "<style scoped>\n",
              "    .dataframe tbody tr th:only-of-type {\n",
              "        vertical-align: middle;\n",
              "    }\n",
              "\n",
              "    .dataframe tbody tr th {\n",
              "        vertical-align: top;\n",
              "    }\n",
              "\n",
              "    .dataframe thead th {\n",
              "        text-align: right;\n",
              "    }\n",
              "</style>\n",
              "<table border=\"1\" class=\"dataframe\">\n",
              "  <thead>\n",
              "    <tr style=\"text-align: right;\">\n",
              "      <th></th>\n",
              "      <th>Lead Number</th>\n",
              "      <th>Converted</th>\n",
              "      <th>TotalVisits</th>\n",
              "      <th>Total Time Spent on Website</th>\n",
              "      <th>Page Views Per Visit</th>\n",
              "      <th>Asymmetrique Activity Index</th>\n",
              "      <th>Asymmetrique Profile Index</th>\n",
              "      <th>Asymmetrique Activity Score</th>\n",
              "      <th>Asymmetrique Profile Score</th>\n",
              "      <th>Lead_Origin_Landing Page Submission</th>\n",
              "      <th>Lead_Origin_Lead Add Form</th>\n",
              "      <th>Lead_Origin_Lead Import</th>\n",
              "      <th>Lead_Source_Direct Traffic</th>\n",
              "      <th>Lead_Source_Facebook</th>\n",
              "      <th>Lead_Source_Google</th>\n",
              "      <th>Lead_Source_Live Chat</th>\n",
              "      <th>Lead_Source_NC_EDM</th>\n",
              "      <th>Lead_Source_Olark Chat</th>\n",
              "      <th>Lead_Source_Organic Search</th>\n",
              "      <th>Lead_Source_Pay per Click Ads</th>\n",
              "      <th>Lead_Source_Press_Release</th>\n",
              "      <th>Lead_Source_Reference</th>\n",
              "      <th>Lead_Source_Referral Sites</th>\n",
              "      <th>Lead_Source_Social Media</th>\n",
              "      <th>Lead_Source_WeLearn</th>\n",
              "      <th>Lead_Source_Welingak Website</th>\n",
              "      <th>Lead_Source_bing</th>\n",
              "      <th>Lead_Source_blog</th>\n",
              "      <th>Lead_Source_testone</th>\n",
              "      <th>Lead_Source_welearnblog_Home</th>\n",
              "      <th>Lead_Source_youtubechannel</th>\n",
              "      <th>Last_Activity_Converted to Lead</th>\n",
              "      <th>Last_Activity_Email Bounced</th>\n",
              "      <th>Last_Activity_Email Link Clicked</th>\n",
              "      <th>Last_Activity_Email Marked Spam</th>\n",
              "      <th>Last_Activity_Email Opened</th>\n",
              "      <th>Last_Activity_Email Received</th>\n",
              "      <th>Last_Activity_Form Submitted on Website</th>\n",
              "      <th>Last_Activity_Had a Phone Conversation</th>\n",
              "      <th>Last_Activity_Olark Chat Conversation</th>\n",
              "      <th>Last_Activity_Page Visited on Website</th>\n",
              "      <th>Last_Activity_Resubscribed to emails</th>\n",
              "      <th>Last_Activity_SMS Sent</th>\n",
              "      <th>Last_Activity_Unreachable</th>\n",
              "      <th>Last_Activity_Unsubscribed</th>\n",
              "      <th>Last_Activity_View in browser link Clicked</th>\n",
              "      <th>Last_Activity_Visited Booth in Tradeshow</th>\n",
              "      <th>Specialization_Business Administration</th>\n",
              "      <th>Specialization_E-Business</th>\n",
              "      <th>Specialization_E-COMMERCE</th>\n",
              "      <th>Specialization_Finance Management</th>\n",
              "      <th>Specialization_Healthcare Management</th>\n",
              "      <th>Specialization_Hospitality Management</th>\n",
              "      <th>Specialization_Human Resource Management</th>\n",
              "      <th>Specialization_IT Projects Management</th>\n",
              "      <th>Specialization_International Business</th>\n",
              "      <th>Specialization_Marketing Management</th>\n",
              "      <th>Specialization_Media and Advertising</th>\n",
              "      <th>Specialization_Operations Management</th>\n",
              "      <th>Specialization_Retail Management</th>\n",
              "      <th>Specialization_Rural and Agribusiness</th>\n",
              "      <th>Specialization_Services Excellence</th>\n",
              "      <th>Specialization_Supply Chain Management</th>\n",
              "      <th>Specialization_Travel and Tourism</th>\n",
              "      <th>Specialization_Unknown</th>\n",
              "      <th>How_did_u_hear_Email</th>\n",
              "      <th>How_did_u_hear_Multiple Sources</th>\n",
              "      <th>How_did_u_hear_Online Search</th>\n",
              "      <th>How_did_u_hear_Other</th>\n",
              "      <th>How_did_u_hear_SMS</th>\n",
              "      <th>How_did_u_hear_Social Media</th>\n",
              "      <th>How_did_u_hear_Student of SomeSchool</th>\n",
              "      <th>How_did_u_hear_Word Of Mouth</th>\n",
              "      <th>occupation_Housewife</th>\n",
              "      <th>occupation_Other</th>\n",
              "      <th>occupation_Student</th>\n",
              "      <th>occupation_Unemployed</th>\n",
              "      <th>occupation_Working Professional</th>\n",
              "      <th>Tags_Busy</th>\n",
              "      <th>Tags_Closed by Horizzon</th>\n",
              "      <th>Tags_Diploma holder (Not Eligible)</th>\n",
              "      <th>Tags_Graduation in progress</th>\n",
              "      <th>Tags_In confusion whether part time or DLP</th>\n",
              "      <th>Tags_Interested  in full time MBA</th>\n",
              "      <th>Tags_Interested in Next batch</th>\n",
              "      <th>Tags_Interested in other courses</th>\n",
              "      <th>Tags_Lateral student</th>\n",
              "      <th>Tags_Lost to EINS</th>\n",
              "      <th>Tags_Lost to Others</th>\n",
              "      <th>Tags_Not doing further education</th>\n",
              "      <th>Tags_Recognition issue (DEC approval)</th>\n",
              "      <th>Tags_Ringing</th>\n",
              "      <th>Tags_Shall take in the next coming month</th>\n",
              "      <th>Tags_Still Thinking</th>\n",
              "      <th>Tags_University not recognized</th>\n",
              "      <th>Tags_Unknown</th>\n",
              "      <th>Tags_Want to take admission but has financial problems</th>\n",
              "      <th>Tags_Will revert after reading the email</th>\n",
              "      <th>Tags_in touch with EINS</th>\n",
              "      <th>Tags_invalid number</th>\n",
              "      <th>Tags_number not provided</th>\n",
              "      <th>Tags_opp hangup</th>\n",
              "      <th>Tags_switched off</th>\n",
              "      <th>Tags_wrong number given</th>\n",
              "      <th>Lead_Quality_Low in Relevance</th>\n",
              "      <th>Lead_Quality_Might be</th>\n",
              "      <th>Lead_Quality_Not Sure</th>\n",
              "      <th>Lead_Quality_Worst</th>\n",
              "      <th>Lead_Profile_Lateral Student</th>\n",
              "      <th>Lead_Profile_Other Leads</th>\n",
              "      <th>Lead_Profile_Potential Lead</th>\n",
              "      <th>Lead_Profile_Student of SomeSchool</th>\n",
              "      <th>Lead_Profile_Unknown</th>\n",
              "      <th>Last_Notable_Activity_Email Bounced</th>\n",
              "      <th>Last_Notable_Activity_Email Link Clicked</th>\n",
              "      <th>Last_Notable_Activity_Email Marked Spam</th>\n",
              "      <th>Last_Notable_Activity_Email Opened</th>\n",
              "      <th>Last_Notable_Activity_Email Received</th>\n",
              "      <th>Last_Notable_Activity_Form Submitted on Website</th>\n",
              "      <th>Last_Notable_Activity_Had a Phone Conversation</th>\n",
              "      <th>Last_Notable_Activity_Modified</th>\n",
              "      <th>Last_Notable_Activity_Olark Chat Conversation</th>\n",
              "      <th>Last_Notable_Activity_Page Visited on Website</th>\n",
              "      <th>Last_Notable_Activity_Resubscribed to emails</th>\n",
              "      <th>Last_Notable_Activity_SMS Sent</th>\n",
              "      <th>Last_Notable_Activity_Unreachable</th>\n",
              "      <th>Last_Notable_Activity_Unsubscribed</th>\n",
              "      <th>Last_Notable_Activity_View in browser link Clicked</th>\n",
              "    </tr>\n",
              "  </thead>\n",
              "  <tbody>\n",
              "    <tr>\n",
              "      <th>0</th>\n",
              "      <td>660737</td>\n",
              "      <td>0</td>\n",
              "      <td>0.0</td>\n",
              "      <td>0</td>\n",
              "      <td>0.0</td>\n",
              "      <td>2</td>\n",
              "      <td>2</td>\n",
              "      <td>15.0</td>\n",
              "      <td>15.0</td>\n",
              "      <td>0</td>\n",
              "      <td>0</td>\n",
              "      <td>0</td>\n",
              "      <td>0</td>\n",
              "      <td>0</td>\n",
              "      <td>0</td>\n",
              "      <td>0</td>\n",
              "      <td>0</td>\n",
              "      <td>1</td>\n",
              "      <td>0</td>\n",
              "      <td>0</td>\n",
              "      <td>0</td>\n",
              "      <td>0</td>\n",
              "      <td>0</td>\n",
              "      <td>0</td>\n",
              "      <td>0</td>\n",
              "      <td>0</td>\n",
              "      <td>0</td>\n",
              "      <td>0</td>\n",
              "      <td>0</td>\n",
              "      <td>0</td>\n",
              "      <td>0</td>\n",
              "      <td>0</td>\n",
              "      <td>0</td>\n",
              "      <td>0</td>\n",
              "      <td>0</td>\n",
              "      <td>0</td>\n",
              "      <td>0</td>\n",
              "      <td>0</td>\n",
              "      <td>0</td>\n",
              "      <td>0</td>\n",
              "      <td>1</td>\n",
              "      <td>0</td>\n",
              "      <td>0</td>\n",
              "      <td>0</td>\n",
              "      <td>0</td>\n",
              "      <td>0</td>\n",
              "      <td>0</td>\n",
              "      <td>0</td>\n",
              "      <td>0</td>\n",
              "      <td>0</td>\n",
              "      <td>0</td>\n",
              "      <td>0</td>\n",
              "      <td>0</td>\n",
              "      <td>0</td>\n",
              "      <td>0</td>\n",
              "      <td>0</td>\n",
              "      <td>0</td>\n",
              "      <td>0</td>\n",
              "      <td>0</td>\n",
              "      <td>0</td>\n",
              "      <td>0</td>\n",
              "      <td>0</td>\n",
              "      <td>0</td>\n",
              "      <td>0</td>\n",
              "      <td>1</td>\n",
              "      <td>0</td>\n",
              "      <td>0</td>\n",
              "      <td>0</td>\n",
              "      <td>1</td>\n",
              "      <td>0</td>\n",
              "      <td>0</td>\n",
              "      <td>0</td>\n",
              "      <td>0</td>\n",
              "      <td>0</td>\n",
              "      <td>0</td>\n",
              "      <td>0</td>\n",
              "      <td>1</td>\n",
              "      <td>0</td>\n",
              "      <td>0</td>\n",
              "      <td>0</td>\n",
              "      <td>0</td>\n",
              "      <td>0</td>\n",
              "      <td>0</td>\n",
              "      <td>0</td>\n",
              "      <td>0</td>\n",
              "      <td>1</td>\n",
              "      <td>0</td>\n",
              "      <td>0</td>\n",
              "      <td>0</td>\n",
              "      <td>0</td>\n",
              "      <td>0</td>\n",
              "      <td>0</td>\n",
              "      <td>0</td>\n",
              "      <td>0</td>\n",
              "      <td>0</td>\n",
              "      <td>0</td>\n",
              "      <td>0</td>\n",
              "      <td>0</td>\n",
              "      <td>0</td>\n",
              "      <td>0</td>\n",
              "      <td>0</td>\n",
              "      <td>0</td>\n",
              "      <td>0</td>\n",
              "      <td>0</td>\n",
              "      <td>1</td>\n",
              "      <td>0</td>\n",
              "      <td>0</td>\n",
              "      <td>0</td>\n",
              "      <td>0</td>\n",
              "      <td>0</td>\n",
              "      <td>0</td>\n",
              "      <td>0</td>\n",
              "      <td>1</td>\n",
              "      <td>0</td>\n",
              "      <td>0</td>\n",
              "      <td>0</td>\n",
              "      <td>0</td>\n",
              "      <td>0</td>\n",
              "      <td>0</td>\n",
              "      <td>0</td>\n",
              "      <td>1</td>\n",
              "      <td>0</td>\n",
              "      <td>0</td>\n",
              "      <td>0</td>\n",
              "      <td>0</td>\n",
              "      <td>0</td>\n",
              "      <td>0</td>\n",
              "      <td>0</td>\n",
              "    </tr>\n",
              "    <tr>\n",
              "      <th>1</th>\n",
              "      <td>660728</td>\n",
              "      <td>0</td>\n",
              "      <td>5.0</td>\n",
              "      <td>674</td>\n",
              "      <td>2.5</td>\n",
              "      <td>2</td>\n",
              "      <td>2</td>\n",
              "      <td>15.0</td>\n",
              "      <td>15.0</td>\n",
              "      <td>0</td>\n",
              "      <td>0</td>\n",
              "      <td>0</td>\n",
              "      <td>0</td>\n",
              "      <td>0</td>\n",
              "      <td>0</td>\n",
              "      <td>0</td>\n",
              "      <td>0</td>\n",
              "      <td>0</td>\n",
              "      <td>1</td>\n",
              "      <td>0</td>\n",
              "      <td>0</td>\n",
              "      <td>0</td>\n",
              "      <td>0</td>\n",
              "      <td>0</td>\n",
              "      <td>0</td>\n",
              "      <td>0</td>\n",
              "      <td>0</td>\n",
              "      <td>0</td>\n",
              "      <td>0</td>\n",
              "      <td>0</td>\n",
              "      <td>0</td>\n",
              "      <td>0</td>\n",
              "      <td>0</td>\n",
              "      <td>0</td>\n",
              "      <td>0</td>\n",
              "      <td>1</td>\n",
              "      <td>0</td>\n",
              "      <td>0</td>\n",
              "      <td>0</td>\n",
              "      <td>0</td>\n",
              "      <td>0</td>\n",
              "      <td>0</td>\n",
              "      <td>0</td>\n",
              "      <td>0</td>\n",
              "      <td>0</td>\n",
              "      <td>0</td>\n",
              "      <td>0</td>\n",
              "      <td>0</td>\n",
              "      <td>0</td>\n",
              "      <td>0</td>\n",
              "      <td>0</td>\n",
              "      <td>0</td>\n",
              "      <td>0</td>\n",
              "      <td>0</td>\n",
              "      <td>0</td>\n",
              "      <td>0</td>\n",
              "      <td>0</td>\n",
              "      <td>0</td>\n",
              "      <td>0</td>\n",
              "      <td>0</td>\n",
              "      <td>0</td>\n",
              "      <td>0</td>\n",
              "      <td>0</td>\n",
              "      <td>0</td>\n",
              "      <td>1</td>\n",
              "      <td>0</td>\n",
              "      <td>0</td>\n",
              "      <td>0</td>\n",
              "      <td>1</td>\n",
              "      <td>0</td>\n",
              "      <td>0</td>\n",
              "      <td>0</td>\n",
              "      <td>0</td>\n",
              "      <td>0</td>\n",
              "      <td>0</td>\n",
              "      <td>0</td>\n",
              "      <td>1</td>\n",
              "      <td>0</td>\n",
              "      <td>0</td>\n",
              "      <td>0</td>\n",
              "      <td>0</td>\n",
              "      <td>0</td>\n",
              "      <td>0</td>\n",
              "      <td>0</td>\n",
              "      <td>0</td>\n",
              "      <td>0</td>\n",
              "      <td>0</td>\n",
              "      <td>0</td>\n",
              "      <td>0</td>\n",
              "      <td>0</td>\n",
              "      <td>0</td>\n",
              "      <td>1</td>\n",
              "      <td>0</td>\n",
              "      <td>0</td>\n",
              "      <td>0</td>\n",
              "      <td>0</td>\n",
              "      <td>0</td>\n",
              "      <td>0</td>\n",
              "      <td>0</td>\n",
              "      <td>0</td>\n",
              "      <td>0</td>\n",
              "      <td>0</td>\n",
              "      <td>0</td>\n",
              "      <td>0</td>\n",
              "      <td>0</td>\n",
              "      <td>0</td>\n",
              "      <td>1</td>\n",
              "      <td>0</td>\n",
              "      <td>0</td>\n",
              "      <td>0</td>\n",
              "      <td>0</td>\n",
              "      <td>0</td>\n",
              "      <td>1</td>\n",
              "      <td>0</td>\n",
              "      <td>0</td>\n",
              "      <td>0</td>\n",
              "      <td>1</td>\n",
              "      <td>0</td>\n",
              "      <td>0</td>\n",
              "      <td>0</td>\n",
              "      <td>0</td>\n",
              "      <td>0</td>\n",
              "      <td>0</td>\n",
              "      <td>0</td>\n",
              "      <td>0</td>\n",
              "      <td>0</td>\n",
              "      <td>0</td>\n",
              "      <td>0</td>\n",
              "    </tr>\n",
              "    <tr>\n",
              "      <th>2</th>\n",
              "      <td>660727</td>\n",
              "      <td>1</td>\n",
              "      <td>2.0</td>\n",
              "      <td>1532</td>\n",
              "      <td>2.0</td>\n",
              "      <td>2</td>\n",
              "      <td>1</td>\n",
              "      <td>14.0</td>\n",
              "      <td>20.0</td>\n",
              "      <td>1</td>\n",
              "      <td>0</td>\n",
              "      <td>0</td>\n",
              "      <td>1</td>\n",
              "      <td>0</td>\n",
              "      <td>0</td>\n",
              "      <td>0</td>\n",
              "      <td>0</td>\n",
              "      <td>0</td>\n",
              "      <td>0</td>\n",
              "      <td>0</td>\n",
              "      <td>0</td>\n",
              "      <td>0</td>\n",
              "      <td>0</td>\n",
              "      <td>0</td>\n",
              "      <td>0</td>\n",
              "      <td>0</td>\n",
              "      <td>0</td>\n",
              "      <td>0</td>\n",
              "      <td>0</td>\n",
              "      <td>0</td>\n",
              "      <td>0</td>\n",
              "      <td>0</td>\n",
              "      <td>0</td>\n",
              "      <td>0</td>\n",
              "      <td>0</td>\n",
              "      <td>1</td>\n",
              "      <td>0</td>\n",
              "      <td>0</td>\n",
              "      <td>0</td>\n",
              "      <td>0</td>\n",
              "      <td>0</td>\n",
              "      <td>0</td>\n",
              "      <td>0</td>\n",
              "      <td>0</td>\n",
              "      <td>0</td>\n",
              "      <td>0</td>\n",
              "      <td>0</td>\n",
              "      <td>1</td>\n",
              "      <td>0</td>\n",
              "      <td>0</td>\n",
              "      <td>0</td>\n",
              "      <td>0</td>\n",
              "      <td>0</td>\n",
              "      <td>0</td>\n",
              "      <td>0</td>\n",
              "      <td>0</td>\n",
              "      <td>0</td>\n",
              "      <td>0</td>\n",
              "      <td>0</td>\n",
              "      <td>0</td>\n",
              "      <td>0</td>\n",
              "      <td>0</td>\n",
              "      <td>0</td>\n",
              "      <td>0</td>\n",
              "      <td>0</td>\n",
              "      <td>0</td>\n",
              "      <td>0</td>\n",
              "      <td>0</td>\n",
              "      <td>1</td>\n",
              "      <td>0</td>\n",
              "      <td>0</td>\n",
              "      <td>0</td>\n",
              "      <td>0</td>\n",
              "      <td>0</td>\n",
              "      <td>0</td>\n",
              "      <td>1</td>\n",
              "      <td>0</td>\n",
              "      <td>0</td>\n",
              "      <td>0</td>\n",
              "      <td>0</td>\n",
              "      <td>0</td>\n",
              "      <td>0</td>\n",
              "      <td>0</td>\n",
              "      <td>0</td>\n",
              "      <td>0</td>\n",
              "      <td>0</td>\n",
              "      <td>0</td>\n",
              "      <td>0</td>\n",
              "      <td>0</td>\n",
              "      <td>0</td>\n",
              "      <td>0</td>\n",
              "      <td>0</td>\n",
              "      <td>0</td>\n",
              "      <td>0</td>\n",
              "      <td>0</td>\n",
              "      <td>0</td>\n",
              "      <td>0</td>\n",
              "      <td>1</td>\n",
              "      <td>0</td>\n",
              "      <td>0</td>\n",
              "      <td>0</td>\n",
              "      <td>0</td>\n",
              "      <td>0</td>\n",
              "      <td>0</td>\n",
              "      <td>0</td>\n",
              "      <td>1</td>\n",
              "      <td>0</td>\n",
              "      <td>0</td>\n",
              "      <td>0</td>\n",
              "      <td>0</td>\n",
              "      <td>1</td>\n",
              "      <td>0</td>\n",
              "      <td>0</td>\n",
              "      <td>0</td>\n",
              "      <td>0</td>\n",
              "      <td>0</td>\n",
              "      <td>1</td>\n",
              "      <td>0</td>\n",
              "      <td>0</td>\n",
              "      <td>0</td>\n",
              "      <td>0</td>\n",
              "      <td>0</td>\n",
              "      <td>0</td>\n",
              "      <td>0</td>\n",
              "      <td>0</td>\n",
              "      <td>0</td>\n",
              "      <td>0</td>\n",
              "      <td>0</td>\n",
              "    </tr>\n",
              "    <tr>\n",
              "      <th>3</th>\n",
              "      <td>660719</td>\n",
              "      <td>0</td>\n",
              "      <td>1.0</td>\n",
              "      <td>305</td>\n",
              "      <td>1.0</td>\n",
              "      <td>2</td>\n",
              "      <td>1</td>\n",
              "      <td>13.0</td>\n",
              "      <td>17.0</td>\n",
              "      <td>1</td>\n",
              "      <td>0</td>\n",
              "      <td>0</td>\n",
              "      <td>1</td>\n",
              "      <td>0</td>\n",
              "      <td>0</td>\n",
              "      <td>0</td>\n",
              "      <td>0</td>\n",
              "      <td>0</td>\n",
              "      <td>0</td>\n",
              "      <td>0</td>\n",
              "      <td>0</td>\n",
              "      <td>0</td>\n",
              "      <td>0</td>\n",
              "      <td>0</td>\n",
              "      <td>0</td>\n",
              "      <td>0</td>\n",
              "      <td>0</td>\n",
              "      <td>0</td>\n",
              "      <td>0</td>\n",
              "      <td>0</td>\n",
              "      <td>0</td>\n",
              "      <td>0</td>\n",
              "      <td>0</td>\n",
              "      <td>0</td>\n",
              "      <td>0</td>\n",
              "      <td>0</td>\n",
              "      <td>0</td>\n",
              "      <td>0</td>\n",
              "      <td>0</td>\n",
              "      <td>0</td>\n",
              "      <td>0</td>\n",
              "      <td>0</td>\n",
              "      <td>0</td>\n",
              "      <td>1</td>\n",
              "      <td>0</td>\n",
              "      <td>0</td>\n",
              "      <td>0</td>\n",
              "      <td>0</td>\n",
              "      <td>0</td>\n",
              "      <td>0</td>\n",
              "      <td>0</td>\n",
              "      <td>0</td>\n",
              "      <td>0</td>\n",
              "      <td>0</td>\n",
              "      <td>0</td>\n",
              "      <td>0</td>\n",
              "      <td>0</td>\n",
              "      <td>1</td>\n",
              "      <td>0</td>\n",
              "      <td>0</td>\n",
              "      <td>0</td>\n",
              "      <td>0</td>\n",
              "      <td>0</td>\n",
              "      <td>0</td>\n",
              "      <td>0</td>\n",
              "      <td>0</td>\n",
              "      <td>0</td>\n",
              "      <td>0</td>\n",
              "      <td>0</td>\n",
              "      <td>0</td>\n",
              "      <td>0</td>\n",
              "      <td>0</td>\n",
              "      <td>1</td>\n",
              "      <td>0</td>\n",
              "      <td>0</td>\n",
              "      <td>0</td>\n",
              "      <td>1</td>\n",
              "      <td>0</td>\n",
              "      <td>0</td>\n",
              "      <td>0</td>\n",
              "      <td>0</td>\n",
              "      <td>0</td>\n",
              "      <td>0</td>\n",
              "      <td>0</td>\n",
              "      <td>0</td>\n",
              "      <td>0</td>\n",
              "      <td>0</td>\n",
              "      <td>0</td>\n",
              "      <td>0</td>\n",
              "      <td>0</td>\n",
              "      <td>0</td>\n",
              "      <td>1</td>\n",
              "      <td>0</td>\n",
              "      <td>0</td>\n",
              "      <td>0</td>\n",
              "      <td>0</td>\n",
              "      <td>0</td>\n",
              "      <td>0</td>\n",
              "      <td>0</td>\n",
              "      <td>0</td>\n",
              "      <td>0</td>\n",
              "      <td>0</td>\n",
              "      <td>0</td>\n",
              "      <td>0</td>\n",
              "      <td>0</td>\n",
              "      <td>0</td>\n",
              "      <td>1</td>\n",
              "      <td>0</td>\n",
              "      <td>0</td>\n",
              "      <td>0</td>\n",
              "      <td>0</td>\n",
              "      <td>0</td>\n",
              "      <td>1</td>\n",
              "      <td>0</td>\n",
              "      <td>0</td>\n",
              "      <td>0</td>\n",
              "      <td>0</td>\n",
              "      <td>0</td>\n",
              "      <td>0</td>\n",
              "      <td>0</td>\n",
              "      <td>1</td>\n",
              "      <td>0</td>\n",
              "      <td>0</td>\n",
              "      <td>0</td>\n",
              "      <td>0</td>\n",
              "      <td>0</td>\n",
              "      <td>0</td>\n",
              "      <td>0</td>\n",
              "    </tr>\n",
              "    <tr>\n",
              "      <th>4</th>\n",
              "      <td>660681</td>\n",
              "      <td>1</td>\n",
              "      <td>2.0</td>\n",
              "      <td>1428</td>\n",
              "      <td>1.0</td>\n",
              "      <td>2</td>\n",
              "      <td>1</td>\n",
              "      <td>15.0</td>\n",
              "      <td>18.0</td>\n",
              "      <td>1</td>\n",
              "      <td>0</td>\n",
              "      <td>0</td>\n",
              "      <td>0</td>\n",
              "      <td>0</td>\n",
              "      <td>1</td>\n",
              "      <td>0</td>\n",
              "      <td>0</td>\n",
              "      <td>0</td>\n",
              "      <td>0</td>\n",
              "      <td>0</td>\n",
              "      <td>0</td>\n",
              "      <td>0</td>\n",
              "      <td>0</td>\n",
              "      <td>0</td>\n",
              "      <td>0</td>\n",
              "      <td>0</td>\n",
              "      <td>0</td>\n",
              "      <td>0</td>\n",
              "      <td>0</td>\n",
              "      <td>0</td>\n",
              "      <td>0</td>\n",
              "      <td>1</td>\n",
              "      <td>0</td>\n",
              "      <td>0</td>\n",
              "      <td>0</td>\n",
              "      <td>0</td>\n",
              "      <td>0</td>\n",
              "      <td>0</td>\n",
              "      <td>0</td>\n",
              "      <td>0</td>\n",
              "      <td>0</td>\n",
              "      <td>0</td>\n",
              "      <td>0</td>\n",
              "      <td>0</td>\n",
              "      <td>0</td>\n",
              "      <td>0</td>\n",
              "      <td>0</td>\n",
              "      <td>0</td>\n",
              "      <td>0</td>\n",
              "      <td>0</td>\n",
              "      <td>0</td>\n",
              "      <td>0</td>\n",
              "      <td>0</td>\n",
              "      <td>0</td>\n",
              "      <td>0</td>\n",
              "      <td>0</td>\n",
              "      <td>0</td>\n",
              "      <td>0</td>\n",
              "      <td>0</td>\n",
              "      <td>0</td>\n",
              "      <td>0</td>\n",
              "      <td>0</td>\n",
              "      <td>0</td>\n",
              "      <td>0</td>\n",
              "      <td>1</td>\n",
              "      <td>0</td>\n",
              "      <td>0</td>\n",
              "      <td>0</td>\n",
              "      <td>1</td>\n",
              "      <td>0</td>\n",
              "      <td>0</td>\n",
              "      <td>0</td>\n",
              "      <td>0</td>\n",
              "      <td>0</td>\n",
              "      <td>0</td>\n",
              "      <td>0</td>\n",
              "      <td>1</td>\n",
              "      <td>0</td>\n",
              "      <td>0</td>\n",
              "      <td>0</td>\n",
              "      <td>0</td>\n",
              "      <td>0</td>\n",
              "      <td>0</td>\n",
              "      <td>0</td>\n",
              "      <td>0</td>\n",
              "      <td>0</td>\n",
              "      <td>0</td>\n",
              "      <td>0</td>\n",
              "      <td>0</td>\n",
              "      <td>0</td>\n",
              "      <td>0</td>\n",
              "      <td>0</td>\n",
              "      <td>0</td>\n",
              "      <td>0</td>\n",
              "      <td>0</td>\n",
              "      <td>0</td>\n",
              "      <td>0</td>\n",
              "      <td>1</td>\n",
              "      <td>0</td>\n",
              "      <td>0</td>\n",
              "      <td>0</td>\n",
              "      <td>0</td>\n",
              "      <td>0</td>\n",
              "      <td>0</td>\n",
              "      <td>0</td>\n",
              "      <td>1</td>\n",
              "      <td>0</td>\n",
              "      <td>0</td>\n",
              "      <td>0</td>\n",
              "      <td>0</td>\n",
              "      <td>0</td>\n",
              "      <td>0</td>\n",
              "      <td>1</td>\n",
              "      <td>0</td>\n",
              "      <td>0</td>\n",
              "      <td>0</td>\n",
              "      <td>0</td>\n",
              "      <td>0</td>\n",
              "      <td>0</td>\n",
              "      <td>0</td>\n",
              "      <td>1</td>\n",
              "      <td>0</td>\n",
              "      <td>0</td>\n",
              "      <td>0</td>\n",
              "      <td>0</td>\n",
              "      <td>0</td>\n",
              "      <td>0</td>\n",
              "      <td>0</td>\n",
              "    </tr>\n",
              "  </tbody>\n",
              "</table>\n",
              "</div>"
            ],
            "text/plain": [
              "   Lead Number  Converted  TotalVisits  Total Time Spent on Website  \\\n",
              "0       660737          0          0.0                            0   \n",
              "1       660728          0          5.0                          674   \n",
              "2       660727          1          2.0                         1532   \n",
              "3       660719          0          1.0                          305   \n",
              "4       660681          1          2.0                         1428   \n",
              "\n",
              "   Page Views Per Visit  Asymmetrique Activity Index  \\\n",
              "0                   0.0                            2   \n",
              "1                   2.5                            2   \n",
              "2                   2.0                            2   \n",
              "3                   1.0                            2   \n",
              "4                   1.0                            2   \n",
              "\n",
              "   Asymmetrique Profile Index  Asymmetrique Activity Score  \\\n",
              "0                           2                         15.0   \n",
              "1                           2                         15.0   \n",
              "2                           1                         14.0   \n",
              "3                           1                         13.0   \n",
              "4                           1                         15.0   \n",
              "\n",
              "   Asymmetrique Profile Score  Lead_Origin_Landing Page Submission  \\\n",
              "0                        15.0                                    0   \n",
              "1                        15.0                                    0   \n",
              "2                        20.0                                    1   \n",
              "3                        17.0                                    1   \n",
              "4                        18.0                                    1   \n",
              "\n",
              "   Lead_Origin_Lead Add Form  Lead_Origin_Lead Import  \\\n",
              "0                          0                        0   \n",
              "1                          0                        0   \n",
              "2                          0                        0   \n",
              "3                          0                        0   \n",
              "4                          0                        0   \n",
              "\n",
              "   Lead_Source_Direct Traffic  Lead_Source_Facebook  Lead_Source_Google  \\\n",
              "0                           0                     0                   0   \n",
              "1                           0                     0                   0   \n",
              "2                           1                     0                   0   \n",
              "3                           1                     0                   0   \n",
              "4                           0                     0                   1   \n",
              "\n",
              "   Lead_Source_Live Chat  Lead_Source_NC_EDM  Lead_Source_Olark Chat  \\\n",
              "0                      0                   0                       1   \n",
              "1                      0                   0                       0   \n",
              "2                      0                   0                       0   \n",
              "3                      0                   0                       0   \n",
              "4                      0                   0                       0   \n",
              "\n",
              "   Lead_Source_Organic Search  Lead_Source_Pay per Click Ads  \\\n",
              "0                           0                              0   \n",
              "1                           1                              0   \n",
              "2                           0                              0   \n",
              "3                           0                              0   \n",
              "4                           0                              0   \n",
              "\n",
              "   Lead_Source_Press_Release  Lead_Source_Reference  \\\n",
              "0                          0                      0   \n",
              "1                          0                      0   \n",
              "2                          0                      0   \n",
              "3                          0                      0   \n",
              "4                          0                      0   \n",
              "\n",
              "   Lead_Source_Referral Sites  Lead_Source_Social Media  Lead_Source_WeLearn  \\\n",
              "0                           0                         0                    0   \n",
              "1                           0                         0                    0   \n",
              "2                           0                         0                    0   \n",
              "3                           0                         0                    0   \n",
              "4                           0                         0                    0   \n",
              "\n",
              "   Lead_Source_Welingak Website  Lead_Source_bing  Lead_Source_blog  \\\n",
              "0                             0                 0                 0   \n",
              "1                             0                 0                 0   \n",
              "2                             0                 0                 0   \n",
              "3                             0                 0                 0   \n",
              "4                             0                 0                 0   \n",
              "\n",
              "   Lead_Source_testone  Lead_Source_welearnblog_Home  \\\n",
              "0                    0                             0   \n",
              "1                    0                             0   \n",
              "2                    0                             0   \n",
              "3                    0                             0   \n",
              "4                    0                             0   \n",
              "\n",
              "   Lead_Source_youtubechannel  Last_Activity_Converted to Lead  \\\n",
              "0                           0                                0   \n",
              "1                           0                                0   \n",
              "2                           0                                0   \n",
              "3                           0                                0   \n",
              "4                           0                                1   \n",
              "\n",
              "   Last_Activity_Email Bounced  Last_Activity_Email Link Clicked  \\\n",
              "0                            0                                 0   \n",
              "1                            0                                 0   \n",
              "2                            0                                 0   \n",
              "3                            0                                 0   \n",
              "4                            0                                 0   \n",
              "\n",
              "   Last_Activity_Email Marked Spam  Last_Activity_Email Opened  \\\n",
              "0                                0                           0   \n",
              "1                                0                           1   \n",
              "2                                0                           1   \n",
              "3                                0                           0   \n",
              "4                                0                           0   \n",
              "\n",
              "   Last_Activity_Email Received  Last_Activity_Form Submitted on Website  \\\n",
              "0                             0                                        0   \n",
              "1                             0                                        0   \n",
              "2                             0                                        0   \n",
              "3                             0                                        0   \n",
              "4                             0                                        0   \n",
              "\n",
              "   Last_Activity_Had a Phone Conversation  \\\n",
              "0                                       0   \n",
              "1                                       0   \n",
              "2                                       0   \n",
              "3                                       0   \n",
              "4                                       0   \n",
              "\n",
              "   Last_Activity_Olark Chat Conversation  \\\n",
              "0                                      0   \n",
              "1                                      0   \n",
              "2                                      0   \n",
              "3                                      0   \n",
              "4                                      0   \n",
              "\n",
              "   Last_Activity_Page Visited on Website  \\\n",
              "0                                      1   \n",
              "1                                      0   \n",
              "2                                      0   \n",
              "3                                      0   \n",
              "4                                      0   \n",
              "\n",
              "   Last_Activity_Resubscribed to emails  Last_Activity_SMS Sent  \\\n",
              "0                                     0                       0   \n",
              "1                                     0                       0   \n",
              "2                                     0                       0   \n",
              "3                                     0                       0   \n",
              "4                                     0                       0   \n",
              "\n",
              "   Last_Activity_Unreachable  Last_Activity_Unsubscribed  \\\n",
              "0                          0                           0   \n",
              "1                          0                           0   \n",
              "2                          0                           0   \n",
              "3                          1                           0   \n",
              "4                          0                           0   \n",
              "\n",
              "   Last_Activity_View in browser link Clicked  \\\n",
              "0                                           0   \n",
              "1                                           0   \n",
              "2                                           0   \n",
              "3                                           0   \n",
              "4                                           0   \n",
              "\n",
              "   Last_Activity_Visited Booth in Tradeshow  \\\n",
              "0                                         0   \n",
              "1                                         0   \n",
              "2                                         0   \n",
              "3                                         0   \n",
              "4                                         0   \n",
              "\n",
              "   Specialization_Business Administration  Specialization_E-Business  \\\n",
              "0                                       0                          0   \n",
              "1                                       0                          0   \n",
              "2                                       1                          0   \n",
              "3                                       0                          0   \n",
              "4                                       0                          0   \n",
              "\n",
              "   Specialization_E-COMMERCE  Specialization_Finance Management  \\\n",
              "0                          0                                  0   \n",
              "1                          0                                  0   \n",
              "2                          0                                  0   \n",
              "3                          0                                  0   \n",
              "4                          0                                  0   \n",
              "\n",
              "   Specialization_Healthcare Management  \\\n",
              "0                                     0   \n",
              "1                                     0   \n",
              "2                                     0   \n",
              "3                                     0   \n",
              "4                                     0   \n",
              "\n",
              "   Specialization_Hospitality Management  \\\n",
              "0                                      0   \n",
              "1                                      0   \n",
              "2                                      0   \n",
              "3                                      0   \n",
              "4                                      0   \n",
              "\n",
              "   Specialization_Human Resource Management  \\\n",
              "0                                         0   \n",
              "1                                         0   \n",
              "2                                         0   \n",
              "3                                         0   \n",
              "4                                         0   \n",
              "\n",
              "   Specialization_IT Projects Management  \\\n",
              "0                                      0   \n",
              "1                                      0   \n",
              "2                                      0   \n",
              "3                                      0   \n",
              "4                                      0   \n",
              "\n",
              "   Specialization_International Business  Specialization_Marketing Management  \\\n",
              "0                                      0                                    0   \n",
              "1                                      0                                    0   \n",
              "2                                      0                                    0   \n",
              "3                                      0                                    0   \n",
              "4                                      0                                    0   \n",
              "\n",
              "   Specialization_Media and Advertising  Specialization_Operations Management  \\\n",
              "0                                     0                                     0   \n",
              "1                                     0                                     0   \n",
              "2                                     0                                     0   \n",
              "3                                     1                                     0   \n",
              "4                                     0                                     0   \n",
              "\n",
              "   Specialization_Retail Management  Specialization_Rural and Agribusiness  \\\n",
              "0                                 0                                      0   \n",
              "1                                 0                                      0   \n",
              "2                                 0                                      0   \n",
              "3                                 0                                      0   \n",
              "4                                 0                                      0   \n",
              "\n",
              "   Specialization_Services Excellence  Specialization_Supply Chain Management  \\\n",
              "0                                   0                                       0   \n",
              "1                                   0                                       0   \n",
              "2                                   0                                       0   \n",
              "3                                   0                                       0   \n",
              "4                                   0                                       0   \n",
              "\n",
              "   Specialization_Travel and Tourism  Specialization_Unknown  \\\n",
              "0                                  0                       1   \n",
              "1                                  0                       1   \n",
              "2                                  0                       0   \n",
              "3                                  0                       0   \n",
              "4                                  0                       1   \n",
              "\n",
              "   How_did_u_hear_Email  How_did_u_hear_Multiple Sources  \\\n",
              "0                     0                                0   \n",
              "1                     0                                0   \n",
              "2                     0                                0   \n",
              "3                     0                                0   \n",
              "4                     0                                0   \n",
              "\n",
              "   How_did_u_hear_Online Search  How_did_u_hear_Other  How_did_u_hear_SMS  \\\n",
              "0                             0                     1                   0   \n",
              "1                             0                     1                   0   \n",
              "2                             0                     1                   0   \n",
              "3                             0                     0                   0   \n",
              "4                             0                     1                   0   \n",
              "\n",
              "   How_did_u_hear_Social Media  How_did_u_hear_Student of SomeSchool  \\\n",
              "0                            0                                     0   \n",
              "1                            0                                     0   \n",
              "2                            0                                     0   \n",
              "3                            0                                     0   \n",
              "4                            0                                     0   \n",
              "\n",
              "   How_did_u_hear_Word Of Mouth  occupation_Housewife  occupation_Other  \\\n",
              "0                             0                     0                 0   \n",
              "1                             0                     0                 0   \n",
              "2                             0                     0                 0   \n",
              "3                             1                     0                 0   \n",
              "4                             0                     0                 0   \n",
              "\n",
              "   occupation_Student  occupation_Unemployed  occupation_Working Professional  \\\n",
              "0                   0                      1                                0   \n",
              "1                   0                      1                                0   \n",
              "2                   1                      0                                0   \n",
              "3                   0                      1                                0   \n",
              "4                   0                      1                                0   \n",
              "\n",
              "   Tags_Busy  Tags_Closed by Horizzon  Tags_Diploma holder (Not Eligible)  \\\n",
              "0          0                        0                                   0   \n",
              "1          0                        0                                   0   \n",
              "2          0                        0                                   0   \n",
              "3          0                        0                                   0   \n",
              "4          0                        0                                   0   \n",
              "\n",
              "   Tags_Graduation in progress  Tags_In confusion whether part time or DLP  \\\n",
              "0                            0                                           0   \n",
              "1                            0                                           0   \n",
              "2                            0                                           0   \n",
              "3                            0                                           0   \n",
              "4                            0                                           0   \n",
              "\n",
              "   Tags_Interested  in full time MBA  Tags_Interested in Next batch  \\\n",
              "0                                  0                              0   \n",
              "1                                  0                              0   \n",
              "2                                  0                              0   \n",
              "3                                  0                              0   \n",
              "4                                  0                              0   \n",
              "\n",
              "   Tags_Interested in other courses  Tags_Lateral student  Tags_Lost to EINS  \\\n",
              "0                                 1                     0                  0   \n",
              "1                                 0                     0                  0   \n",
              "2                                 0                     0                  0   \n",
              "3                                 0                     0                  0   \n",
              "4                                 0                     0                  0   \n",
              "\n",
              "   Tags_Lost to Others  Tags_Not doing further education  \\\n",
              "0                    0                                 0   \n",
              "1                    0                                 0   \n",
              "2                    0                                 0   \n",
              "3                    0                                 0   \n",
              "4                    0                                 0   \n",
              "\n",
              "   Tags_Recognition issue (DEC approval)  Tags_Ringing  \\\n",
              "0                                      0             0   \n",
              "1                                      0             1   \n",
              "2                                      0             0   \n",
              "3                                      0             1   \n",
              "4                                      0             0   \n",
              "\n",
              "   Tags_Shall take in the next coming month  Tags_Still Thinking  \\\n",
              "0                                         0                    0   \n",
              "1                                         0                    0   \n",
              "2                                         0                    0   \n",
              "3                                         0                    0   \n",
              "4                                         0                    0   \n",
              "\n",
              "   Tags_University not recognized  Tags_Unknown  \\\n",
              "0                               0             0   \n",
              "1                               0             0   \n",
              "2                               0             0   \n",
              "3                               0             0   \n",
              "4                               0             0   \n",
              "\n",
              "   Tags_Want to take admission but has financial problems  \\\n",
              "0                                                  0        \n",
              "1                                                  0        \n",
              "2                                                  0        \n",
              "3                                                  0        \n",
              "4                                                  0        \n",
              "\n",
              "   Tags_Will revert after reading the email  Tags_in touch with EINS  \\\n",
              "0                                         0                        0   \n",
              "1                                         0                        0   \n",
              "2                                         1                        0   \n",
              "3                                         0                        0   \n",
              "4                                         1                        0   \n",
              "\n",
              "   Tags_invalid number  Tags_number not provided  Tags_opp hangup  \\\n",
              "0                    0                         0                0   \n",
              "1                    0                         0                0   \n",
              "2                    0                         0                0   \n",
              "3                    0                         0                0   \n",
              "4                    0                         0                0   \n",
              "\n",
              "   Tags_switched off  Tags_wrong number given  Lead_Quality_Low in Relevance  \\\n",
              "0                  0                        0                              1   \n",
              "1                  0                        0                              0   \n",
              "2                  0                        0                              0   \n",
              "3                  0                        0                              0   \n",
              "4                  0                        0                              0   \n",
              "\n",
              "   Lead_Quality_Might be  Lead_Quality_Not Sure  Lead_Quality_Worst  \\\n",
              "0                      0                      0                   0   \n",
              "1                      0                      1                   0   \n",
              "2                      1                      0                   0   \n",
              "3                      0                      1                   0   \n",
              "4                      1                      0                   0   \n",
              "\n",
              "   Lead_Profile_Lateral Student  Lead_Profile_Other Leads  \\\n",
              "0                             0                         0   \n",
              "1                             0                         0   \n",
              "2                             0                         0   \n",
              "3                             0                         0   \n",
              "4                             0                         0   \n",
              "\n",
              "   Lead_Profile_Potential Lead  Lead_Profile_Student of SomeSchool  \\\n",
              "0                            0                                   0   \n",
              "1                            0                                   0   \n",
              "2                            1                                   0   \n",
              "3                            0                                   0   \n",
              "4                            0                                   0   \n",
              "\n",
              "   Lead_Profile_Unknown  Last_Notable_Activity_Email Bounced  \\\n",
              "0                     1                                    0   \n",
              "1                     1                                    0   \n",
              "2                     0                                    0   \n",
              "3                     1                                    0   \n",
              "4                     1                                    0   \n",
              "\n",
              "   Last_Notable_Activity_Email Link Clicked  \\\n",
              "0                                         0   \n",
              "1                                         0   \n",
              "2                                         0   \n",
              "3                                         0   \n",
              "4                                         0   \n",
              "\n",
              "   Last_Notable_Activity_Email Marked Spam  \\\n",
              "0                                        0   \n",
              "1                                        0   \n",
              "2                                        0   \n",
              "3                                        0   \n",
              "4                                        0   \n",
              "\n",
              "   Last_Notable_Activity_Email Opened  Last_Notable_Activity_Email Received  \\\n",
              "0                                   0                                     0   \n",
              "1                                   1                                     0   \n",
              "2                                   1                                     0   \n",
              "3                                   0                                     0   \n",
              "4                                   0                                     0   \n",
              "\n",
              "   Last_Notable_Activity_Form Submitted on Website  \\\n",
              "0                                                0   \n",
              "1                                                0   \n",
              "2                                                0   \n",
              "3                                                0   \n",
              "4                                                0   \n",
              "\n",
              "   Last_Notable_Activity_Had a Phone Conversation  \\\n",
              "0                                               0   \n",
              "1                                               0   \n",
              "2                                               0   \n",
              "3                                               0   \n",
              "4                                               0   \n",
              "\n",
              "   Last_Notable_Activity_Modified  \\\n",
              "0                               1   \n",
              "1                               0   \n",
              "2                               0   \n",
              "3                               1   \n",
              "4                               1   \n",
              "\n",
              "   Last_Notable_Activity_Olark Chat Conversation  \\\n",
              "0                                              0   \n",
              "1                                              0   \n",
              "2                                              0   \n",
              "3                                              0   \n",
              "4                                              0   \n",
              "\n",
              "   Last_Notable_Activity_Page Visited on Website  \\\n",
              "0                                              0   \n",
              "1                                              0   \n",
              "2                                              0   \n",
              "3                                              0   \n",
              "4                                              0   \n",
              "\n",
              "   Last_Notable_Activity_Resubscribed to emails  \\\n",
              "0                                             0   \n",
              "1                                             0   \n",
              "2                                             0   \n",
              "3                                             0   \n",
              "4                                             0   \n",
              "\n",
              "   Last_Notable_Activity_SMS Sent  Last_Notable_Activity_Unreachable  \\\n",
              "0                               0                                  0   \n",
              "1                               0                                  0   \n",
              "2                               0                                  0   \n",
              "3                               0                                  0   \n",
              "4                               0                                  0   \n",
              "\n",
              "   Last_Notable_Activity_Unsubscribed  \\\n",
              "0                                   0   \n",
              "1                                   0   \n",
              "2                                   0   \n",
              "3                                   0   \n",
              "4                                   0   \n",
              "\n",
              "   Last_Notable_Activity_View in browser link Clicked  \n",
              "0                                                  0   \n",
              "1                                                  0   \n",
              "2                                                  0   \n",
              "3                                                  0   \n",
              "4                                                  0   "
            ]
          },
          "metadata": {
            "tags": []
          },
          "execution_count": 101
        }
      ]
    },
    {
      "cell_type": "code",
      "metadata": {
        "id": "LE5A2cc730nj",
        "colab_type": "code",
        "colab": {},
        "outputId": "b2613511-dafb-40e1-a654-2d6306b4bbb1"
      },
      "source": [
        "#Dimensions of the final dataset.\n",
        "lead.shape"
      ],
      "execution_count": 0,
      "outputs": [
        {
          "output_type": "execute_result",
          "data": {
            "text/plain": [
              "(8445, 128)"
            ]
          },
          "metadata": {
            "tags": []
          },
          "execution_count": 102
        }
      ]
    },
    {
      "cell_type": "code",
      "metadata": {
        "id": "O_j7lkkG30nm",
        "colab_type": "code",
        "colab": {}
      },
      "source": [
        "final_lead = lead.copy()"
      ],
      "execution_count": 0,
      "outputs": []
    },
    {
      "cell_type": "markdown",
      "metadata": {
        "id": "HLohhZPc30nn",
        "colab_type": "text"
      },
      "source": [
        "##### DATASET IS READY!!"
      ]
    },
    {
      "cell_type": "markdown",
      "metadata": {
        "id": "a_Cbv8G-30nn",
        "colab_type": "text"
      },
      "source": [
        "#### TRAIN-TEST SPLIT"
      ]
    },
    {
      "cell_type": "code",
      "metadata": {
        "id": "5Xjoan3Z30no",
        "colab_type": "code",
        "colab": {}
      },
      "source": [
        "from sklearn.model_selection import train_test_split"
      ],
      "execution_count": 0,
      "outputs": []
    },
    {
      "cell_type": "code",
      "metadata": {
        "id": "iY8xz2qM30nq",
        "colab_type": "code",
        "colab": {}
      },
      "source": [
        "#Placing all the feature variables into X and the response feature into y.\n",
        "X = lead.drop(['Lead Number','Converted'],axis=1)\n",
        "y = lead['Converted']"
      ],
      "execution_count": 0,
      "outputs": []
    },
    {
      "cell_type": "code",
      "metadata": {
        "id": "Guz47UCY30nt",
        "colab_type": "code",
        "colab": {}
      },
      "source": [
        "#Dataframe for Lead Number and index\n",
        "lead_num_array = lead['Lead Number']\n",
        "lead_df = pd.DataFrame(lead_num_array)"
      ],
      "execution_count": 0,
      "outputs": []
    },
    {
      "cell_type": "code",
      "metadata": {
        "id": "Jj6JWRrP30nv",
        "colab_type": "code",
        "colab": {}
      },
      "source": [
        "lead_df['Lead_index'] = lead.index"
      ],
      "execution_count": 0,
      "outputs": []
    },
    {
      "cell_type": "code",
      "metadata": {
        "id": "WNd6fx8i30nx",
        "colab_type": "code",
        "colab": {}
      },
      "source": [
        "X_train,X_test,y_train,y_test = train_test_split(X,y,train_size=0.7,test_size=0.3,random_state=100)"
      ],
      "execution_count": 0,
      "outputs": []
    },
    {
      "cell_type": "markdown",
      "metadata": {
        "id": "_MFSXkaZ30nz",
        "colab_type": "text"
      },
      "source": [
        "#### FEATURE SCALING"
      ]
    },
    {
      "cell_type": "code",
      "metadata": {
        "id": "WiHK9EX730nz",
        "colab_type": "code",
        "colab": {},
        "outputId": "f9071a69-f20a-4cd9-c233-b1871f6d226f"
      },
      "source": [
        "X_train.head()"
      ],
      "execution_count": 0,
      "outputs": [
        {
          "output_type": "execute_result",
          "data": {
            "text/html": [
              "<div>\n",
              "<style scoped>\n",
              "    .dataframe tbody tr th:only-of-type {\n",
              "        vertical-align: middle;\n",
              "    }\n",
              "\n",
              "    .dataframe tbody tr th {\n",
              "        vertical-align: top;\n",
              "    }\n",
              "\n",
              "    .dataframe thead th {\n",
              "        text-align: right;\n",
              "    }\n",
              "</style>\n",
              "<table border=\"1\" class=\"dataframe\">\n",
              "  <thead>\n",
              "    <tr style=\"text-align: right;\">\n",
              "      <th></th>\n",
              "      <th>TotalVisits</th>\n",
              "      <th>Total Time Spent on Website</th>\n",
              "      <th>Page Views Per Visit</th>\n",
              "      <th>Asymmetrique Activity Index</th>\n",
              "      <th>Asymmetrique Profile Index</th>\n",
              "      <th>Asymmetrique Activity Score</th>\n",
              "      <th>Asymmetrique Profile Score</th>\n",
              "      <th>Lead_Origin_Landing Page Submission</th>\n",
              "      <th>Lead_Origin_Lead Add Form</th>\n",
              "      <th>Lead_Origin_Lead Import</th>\n",
              "      <th>Lead_Source_Direct Traffic</th>\n",
              "      <th>Lead_Source_Facebook</th>\n",
              "      <th>Lead_Source_Google</th>\n",
              "      <th>Lead_Source_Live Chat</th>\n",
              "      <th>Lead_Source_NC_EDM</th>\n",
              "      <th>Lead_Source_Olark Chat</th>\n",
              "      <th>Lead_Source_Organic Search</th>\n",
              "      <th>Lead_Source_Pay per Click Ads</th>\n",
              "      <th>Lead_Source_Press_Release</th>\n",
              "      <th>Lead_Source_Reference</th>\n",
              "      <th>Lead_Source_Referral Sites</th>\n",
              "      <th>Lead_Source_Social Media</th>\n",
              "      <th>Lead_Source_WeLearn</th>\n",
              "      <th>Lead_Source_Welingak Website</th>\n",
              "      <th>Lead_Source_bing</th>\n",
              "      <th>Lead_Source_blog</th>\n",
              "      <th>Lead_Source_testone</th>\n",
              "      <th>Lead_Source_welearnblog_Home</th>\n",
              "      <th>Lead_Source_youtubechannel</th>\n",
              "      <th>Last_Activity_Converted to Lead</th>\n",
              "      <th>Last_Activity_Email Bounced</th>\n",
              "      <th>Last_Activity_Email Link Clicked</th>\n",
              "      <th>Last_Activity_Email Marked Spam</th>\n",
              "      <th>Last_Activity_Email Opened</th>\n",
              "      <th>Last_Activity_Email Received</th>\n",
              "      <th>Last_Activity_Form Submitted on Website</th>\n",
              "      <th>Last_Activity_Had a Phone Conversation</th>\n",
              "      <th>Last_Activity_Olark Chat Conversation</th>\n",
              "      <th>Last_Activity_Page Visited on Website</th>\n",
              "      <th>Last_Activity_Resubscribed to emails</th>\n",
              "      <th>Last_Activity_SMS Sent</th>\n",
              "      <th>Last_Activity_Unreachable</th>\n",
              "      <th>Last_Activity_Unsubscribed</th>\n",
              "      <th>Last_Activity_View in browser link Clicked</th>\n",
              "      <th>Last_Activity_Visited Booth in Tradeshow</th>\n",
              "      <th>Specialization_Business Administration</th>\n",
              "      <th>Specialization_E-Business</th>\n",
              "      <th>Specialization_E-COMMERCE</th>\n",
              "      <th>Specialization_Finance Management</th>\n",
              "      <th>Specialization_Healthcare Management</th>\n",
              "      <th>Specialization_Hospitality Management</th>\n",
              "      <th>Specialization_Human Resource Management</th>\n",
              "      <th>Specialization_IT Projects Management</th>\n",
              "      <th>Specialization_International Business</th>\n",
              "      <th>Specialization_Marketing Management</th>\n",
              "      <th>Specialization_Media and Advertising</th>\n",
              "      <th>Specialization_Operations Management</th>\n",
              "      <th>Specialization_Retail Management</th>\n",
              "      <th>Specialization_Rural and Agribusiness</th>\n",
              "      <th>Specialization_Services Excellence</th>\n",
              "      <th>Specialization_Supply Chain Management</th>\n",
              "      <th>Specialization_Travel and Tourism</th>\n",
              "      <th>Specialization_Unknown</th>\n",
              "      <th>How_did_u_hear_Email</th>\n",
              "      <th>How_did_u_hear_Multiple Sources</th>\n",
              "      <th>How_did_u_hear_Online Search</th>\n",
              "      <th>How_did_u_hear_Other</th>\n",
              "      <th>How_did_u_hear_SMS</th>\n",
              "      <th>How_did_u_hear_Social Media</th>\n",
              "      <th>How_did_u_hear_Student of SomeSchool</th>\n",
              "      <th>How_did_u_hear_Word Of Mouth</th>\n",
              "      <th>occupation_Housewife</th>\n",
              "      <th>occupation_Other</th>\n",
              "      <th>occupation_Student</th>\n",
              "      <th>occupation_Unemployed</th>\n",
              "      <th>occupation_Working Professional</th>\n",
              "      <th>Tags_Busy</th>\n",
              "      <th>Tags_Closed by Horizzon</th>\n",
              "      <th>Tags_Diploma holder (Not Eligible)</th>\n",
              "      <th>Tags_Graduation in progress</th>\n",
              "      <th>Tags_In confusion whether part time or DLP</th>\n",
              "      <th>Tags_Interested  in full time MBA</th>\n",
              "      <th>Tags_Interested in Next batch</th>\n",
              "      <th>Tags_Interested in other courses</th>\n",
              "      <th>Tags_Lateral student</th>\n",
              "      <th>Tags_Lost to EINS</th>\n",
              "      <th>Tags_Lost to Others</th>\n",
              "      <th>Tags_Not doing further education</th>\n",
              "      <th>Tags_Recognition issue (DEC approval)</th>\n",
              "      <th>Tags_Ringing</th>\n",
              "      <th>Tags_Shall take in the next coming month</th>\n",
              "      <th>Tags_Still Thinking</th>\n",
              "      <th>Tags_University not recognized</th>\n",
              "      <th>Tags_Unknown</th>\n",
              "      <th>Tags_Want to take admission but has financial problems</th>\n",
              "      <th>Tags_Will revert after reading the email</th>\n",
              "      <th>Tags_in touch with EINS</th>\n",
              "      <th>Tags_invalid number</th>\n",
              "      <th>Tags_number not provided</th>\n",
              "      <th>Tags_opp hangup</th>\n",
              "      <th>Tags_switched off</th>\n",
              "      <th>Tags_wrong number given</th>\n",
              "      <th>Lead_Quality_Low in Relevance</th>\n",
              "      <th>Lead_Quality_Might be</th>\n",
              "      <th>Lead_Quality_Not Sure</th>\n",
              "      <th>Lead_Quality_Worst</th>\n",
              "      <th>Lead_Profile_Lateral Student</th>\n",
              "      <th>Lead_Profile_Other Leads</th>\n",
              "      <th>Lead_Profile_Potential Lead</th>\n",
              "      <th>Lead_Profile_Student of SomeSchool</th>\n",
              "      <th>Lead_Profile_Unknown</th>\n",
              "      <th>Last_Notable_Activity_Email Bounced</th>\n",
              "      <th>Last_Notable_Activity_Email Link Clicked</th>\n",
              "      <th>Last_Notable_Activity_Email Marked Spam</th>\n",
              "      <th>Last_Notable_Activity_Email Opened</th>\n",
              "      <th>Last_Notable_Activity_Email Received</th>\n",
              "      <th>Last_Notable_Activity_Form Submitted on Website</th>\n",
              "      <th>Last_Notable_Activity_Had a Phone Conversation</th>\n",
              "      <th>Last_Notable_Activity_Modified</th>\n",
              "      <th>Last_Notable_Activity_Olark Chat Conversation</th>\n",
              "      <th>Last_Notable_Activity_Page Visited on Website</th>\n",
              "      <th>Last_Notable_Activity_Resubscribed to emails</th>\n",
              "      <th>Last_Notable_Activity_SMS Sent</th>\n",
              "      <th>Last_Notable_Activity_Unreachable</th>\n",
              "      <th>Last_Notable_Activity_Unsubscribed</th>\n",
              "      <th>Last_Notable_Activity_View in browser link Clicked</th>\n",
              "    </tr>\n",
              "  </thead>\n",
              "  <tbody>\n",
              "    <tr>\n",
              "      <th>5279</th>\n",
              "      <td>2.0</td>\n",
              "      <td>195</td>\n",
              "      <td>2.0</td>\n",
              "      <td>0</td>\n",
              "      <td>0</td>\n",
              "      <td>14.306252</td>\n",
              "      <td>16.344883</td>\n",
              "      <td>1</td>\n",
              "      <td>0</td>\n",
              "      <td>0</td>\n",
              "      <td>1</td>\n",
              "      <td>0</td>\n",
              "      <td>0</td>\n",
              "      <td>0</td>\n",
              "      <td>0</td>\n",
              "      <td>0</td>\n",
              "      <td>0</td>\n",
              "      <td>0</td>\n",
              "      <td>0</td>\n",
              "      <td>0</td>\n",
              "      <td>0</td>\n",
              "      <td>0</td>\n",
              "      <td>0</td>\n",
              "      <td>0</td>\n",
              "      <td>0</td>\n",
              "      <td>0</td>\n",
              "      <td>0</td>\n",
              "      <td>0</td>\n",
              "      <td>0</td>\n",
              "      <td>0</td>\n",
              "      <td>1</td>\n",
              "      <td>0</td>\n",
              "      <td>0</td>\n",
              "      <td>0</td>\n",
              "      <td>0</td>\n",
              "      <td>0</td>\n",
              "      <td>0</td>\n",
              "      <td>0</td>\n",
              "      <td>0</td>\n",
              "      <td>0</td>\n",
              "      <td>0</td>\n",
              "      <td>0</td>\n",
              "      <td>0</td>\n",
              "      <td>0</td>\n",
              "      <td>0</td>\n",
              "      <td>0</td>\n",
              "      <td>0</td>\n",
              "      <td>0</td>\n",
              "      <td>0</td>\n",
              "      <td>0</td>\n",
              "      <td>0</td>\n",
              "      <td>0</td>\n",
              "      <td>0</td>\n",
              "      <td>0</td>\n",
              "      <td>0</td>\n",
              "      <td>0</td>\n",
              "      <td>0</td>\n",
              "      <td>0</td>\n",
              "      <td>0</td>\n",
              "      <td>0</td>\n",
              "      <td>0</td>\n",
              "      <td>0</td>\n",
              "      <td>1</td>\n",
              "      <td>0</td>\n",
              "      <td>0</td>\n",
              "      <td>0</td>\n",
              "      <td>0</td>\n",
              "      <td>0</td>\n",
              "      <td>0</td>\n",
              "      <td>0</td>\n",
              "      <td>0</td>\n",
              "      <td>0</td>\n",
              "      <td>0</td>\n",
              "      <td>0</td>\n",
              "      <td>1</td>\n",
              "      <td>0</td>\n",
              "      <td>0</td>\n",
              "      <td>0</td>\n",
              "      <td>0</td>\n",
              "      <td>0</td>\n",
              "      <td>0</td>\n",
              "      <td>0</td>\n",
              "      <td>0</td>\n",
              "      <td>0</td>\n",
              "      <td>0</td>\n",
              "      <td>0</td>\n",
              "      <td>0</td>\n",
              "      <td>0</td>\n",
              "      <td>0</td>\n",
              "      <td>0</td>\n",
              "      <td>0</td>\n",
              "      <td>0</td>\n",
              "      <td>0</td>\n",
              "      <td>1</td>\n",
              "      <td>0</td>\n",
              "      <td>0</td>\n",
              "      <td>0</td>\n",
              "      <td>0</td>\n",
              "      <td>0</td>\n",
              "      <td>0</td>\n",
              "      <td>0</td>\n",
              "      <td>0</td>\n",
              "      <td>0</td>\n",
              "      <td>0</td>\n",
              "      <td>1</td>\n",
              "      <td>0</td>\n",
              "      <td>0</td>\n",
              "      <td>0</td>\n",
              "      <td>0</td>\n",
              "      <td>0</td>\n",
              "      <td>1</td>\n",
              "      <td>0</td>\n",
              "      <td>0</td>\n",
              "      <td>0</td>\n",
              "      <td>0</td>\n",
              "      <td>0</td>\n",
              "      <td>0</td>\n",
              "      <td>0</td>\n",
              "      <td>1</td>\n",
              "      <td>0</td>\n",
              "      <td>0</td>\n",
              "      <td>0</td>\n",
              "      <td>0</td>\n",
              "      <td>0</td>\n",
              "      <td>0</td>\n",
              "      <td>0</td>\n",
              "    </tr>\n",
              "    <tr>\n",
              "      <th>3099</th>\n",
              "      <td>2.0</td>\n",
              "      <td>208</td>\n",
              "      <td>2.0</td>\n",
              "      <td>0</td>\n",
              "      <td>0</td>\n",
              "      <td>14.306252</td>\n",
              "      <td>16.344883</td>\n",
              "      <td>1</td>\n",
              "      <td>0</td>\n",
              "      <td>0</td>\n",
              "      <td>1</td>\n",
              "      <td>0</td>\n",
              "      <td>0</td>\n",
              "      <td>0</td>\n",
              "      <td>0</td>\n",
              "      <td>0</td>\n",
              "      <td>0</td>\n",
              "      <td>0</td>\n",
              "      <td>0</td>\n",
              "      <td>0</td>\n",
              "      <td>0</td>\n",
              "      <td>0</td>\n",
              "      <td>0</td>\n",
              "      <td>0</td>\n",
              "      <td>0</td>\n",
              "      <td>0</td>\n",
              "      <td>0</td>\n",
              "      <td>0</td>\n",
              "      <td>0</td>\n",
              "      <td>0</td>\n",
              "      <td>0</td>\n",
              "      <td>0</td>\n",
              "      <td>0</td>\n",
              "      <td>0</td>\n",
              "      <td>0</td>\n",
              "      <td>0</td>\n",
              "      <td>0</td>\n",
              "      <td>0</td>\n",
              "      <td>0</td>\n",
              "      <td>0</td>\n",
              "      <td>1</td>\n",
              "      <td>0</td>\n",
              "      <td>0</td>\n",
              "      <td>0</td>\n",
              "      <td>0</td>\n",
              "      <td>0</td>\n",
              "      <td>0</td>\n",
              "      <td>0</td>\n",
              "      <td>0</td>\n",
              "      <td>0</td>\n",
              "      <td>0</td>\n",
              "      <td>0</td>\n",
              "      <td>0</td>\n",
              "      <td>0</td>\n",
              "      <td>0</td>\n",
              "      <td>0</td>\n",
              "      <td>1</td>\n",
              "      <td>0</td>\n",
              "      <td>0</td>\n",
              "      <td>0</td>\n",
              "      <td>0</td>\n",
              "      <td>0</td>\n",
              "      <td>0</td>\n",
              "      <td>0</td>\n",
              "      <td>0</td>\n",
              "      <td>1</td>\n",
              "      <td>0</td>\n",
              "      <td>0</td>\n",
              "      <td>0</td>\n",
              "      <td>0</td>\n",
              "      <td>0</td>\n",
              "      <td>0</td>\n",
              "      <td>0</td>\n",
              "      <td>0</td>\n",
              "      <td>1</td>\n",
              "      <td>0</td>\n",
              "      <td>0</td>\n",
              "      <td>0</td>\n",
              "      <td>0</td>\n",
              "      <td>0</td>\n",
              "      <td>0</td>\n",
              "      <td>0</td>\n",
              "      <td>0</td>\n",
              "      <td>0</td>\n",
              "      <td>0</td>\n",
              "      <td>0</td>\n",
              "      <td>0</td>\n",
              "      <td>0</td>\n",
              "      <td>0</td>\n",
              "      <td>0</td>\n",
              "      <td>0</td>\n",
              "      <td>0</td>\n",
              "      <td>0</td>\n",
              "      <td>1</td>\n",
              "      <td>0</td>\n",
              "      <td>0</td>\n",
              "      <td>0</td>\n",
              "      <td>0</td>\n",
              "      <td>0</td>\n",
              "      <td>0</td>\n",
              "      <td>0</td>\n",
              "      <td>0</td>\n",
              "      <td>0</td>\n",
              "      <td>0</td>\n",
              "      <td>1</td>\n",
              "      <td>0</td>\n",
              "      <td>0</td>\n",
              "      <td>0</td>\n",
              "      <td>0</td>\n",
              "      <td>0</td>\n",
              "      <td>1</td>\n",
              "      <td>0</td>\n",
              "      <td>0</td>\n",
              "      <td>0</td>\n",
              "      <td>0</td>\n",
              "      <td>0</td>\n",
              "      <td>0</td>\n",
              "      <td>0</td>\n",
              "      <td>0</td>\n",
              "      <td>0</td>\n",
              "      <td>0</td>\n",
              "      <td>0</td>\n",
              "      <td>1</td>\n",
              "      <td>0</td>\n",
              "      <td>0</td>\n",
              "      <td>0</td>\n",
              "    </tr>\n",
              "    <tr>\n",
              "      <th>91</th>\n",
              "      <td>6.0</td>\n",
              "      <td>1158</td>\n",
              "      <td>1.5</td>\n",
              "      <td>2</td>\n",
              "      <td>2</td>\n",
              "      <td>15.000000</td>\n",
              "      <td>14.000000</td>\n",
              "      <td>0</td>\n",
              "      <td>0</td>\n",
              "      <td>0</td>\n",
              "      <td>0</td>\n",
              "      <td>0</td>\n",
              "      <td>0</td>\n",
              "      <td>0</td>\n",
              "      <td>0</td>\n",
              "      <td>1</td>\n",
              "      <td>0</td>\n",
              "      <td>0</td>\n",
              "      <td>0</td>\n",
              "      <td>0</td>\n",
              "      <td>0</td>\n",
              "      <td>0</td>\n",
              "      <td>0</td>\n",
              "      <td>0</td>\n",
              "      <td>0</td>\n",
              "      <td>0</td>\n",
              "      <td>0</td>\n",
              "      <td>0</td>\n",
              "      <td>0</td>\n",
              "      <td>0</td>\n",
              "      <td>0</td>\n",
              "      <td>0</td>\n",
              "      <td>0</td>\n",
              "      <td>1</td>\n",
              "      <td>0</td>\n",
              "      <td>0</td>\n",
              "      <td>0</td>\n",
              "      <td>0</td>\n",
              "      <td>0</td>\n",
              "      <td>0</td>\n",
              "      <td>0</td>\n",
              "      <td>0</td>\n",
              "      <td>0</td>\n",
              "      <td>0</td>\n",
              "      <td>0</td>\n",
              "      <td>1</td>\n",
              "      <td>0</td>\n",
              "      <td>0</td>\n",
              "      <td>0</td>\n",
              "      <td>0</td>\n",
              "      <td>0</td>\n",
              "      <td>0</td>\n",
              "      <td>0</td>\n",
              "      <td>0</td>\n",
              "      <td>0</td>\n",
              "      <td>0</td>\n",
              "      <td>0</td>\n",
              "      <td>0</td>\n",
              "      <td>0</td>\n",
              "      <td>0</td>\n",
              "      <td>0</td>\n",
              "      <td>0</td>\n",
              "      <td>0</td>\n",
              "      <td>0</td>\n",
              "      <td>0</td>\n",
              "      <td>0</td>\n",
              "      <td>1</td>\n",
              "      <td>0</td>\n",
              "      <td>0</td>\n",
              "      <td>0</td>\n",
              "      <td>0</td>\n",
              "      <td>0</td>\n",
              "      <td>0</td>\n",
              "      <td>0</td>\n",
              "      <td>1</td>\n",
              "      <td>0</td>\n",
              "      <td>0</td>\n",
              "      <td>0</td>\n",
              "      <td>0</td>\n",
              "      <td>0</td>\n",
              "      <td>0</td>\n",
              "      <td>0</td>\n",
              "      <td>0</td>\n",
              "      <td>0</td>\n",
              "      <td>0</td>\n",
              "      <td>0</td>\n",
              "      <td>0</td>\n",
              "      <td>0</td>\n",
              "      <td>0</td>\n",
              "      <td>0</td>\n",
              "      <td>0</td>\n",
              "      <td>0</td>\n",
              "      <td>0</td>\n",
              "      <td>1</td>\n",
              "      <td>0</td>\n",
              "      <td>0</td>\n",
              "      <td>0</td>\n",
              "      <td>0</td>\n",
              "      <td>0</td>\n",
              "      <td>0</td>\n",
              "      <td>0</td>\n",
              "      <td>0</td>\n",
              "      <td>0</td>\n",
              "      <td>0</td>\n",
              "      <td>1</td>\n",
              "      <td>0</td>\n",
              "      <td>0</td>\n",
              "      <td>0</td>\n",
              "      <td>0</td>\n",
              "      <td>0</td>\n",
              "      <td>1</td>\n",
              "      <td>0</td>\n",
              "      <td>0</td>\n",
              "      <td>0</td>\n",
              "      <td>1</td>\n",
              "      <td>0</td>\n",
              "      <td>0</td>\n",
              "      <td>0</td>\n",
              "      <td>0</td>\n",
              "      <td>0</td>\n",
              "      <td>0</td>\n",
              "      <td>0</td>\n",
              "      <td>0</td>\n",
              "      <td>0</td>\n",
              "      <td>0</td>\n",
              "      <td>0</td>\n",
              "    </tr>\n",
              "    <tr>\n",
              "      <th>1577</th>\n",
              "      <td>0.0</td>\n",
              "      <td>0</td>\n",
              "      <td>0.0</td>\n",
              "      <td>2</td>\n",
              "      <td>1</td>\n",
              "      <td>14.000000</td>\n",
              "      <td>19.000000</td>\n",
              "      <td>0</td>\n",
              "      <td>1</td>\n",
              "      <td>0</td>\n",
              "      <td>0</td>\n",
              "      <td>0</td>\n",
              "      <td>0</td>\n",
              "      <td>0</td>\n",
              "      <td>0</td>\n",
              "      <td>0</td>\n",
              "      <td>0</td>\n",
              "      <td>0</td>\n",
              "      <td>0</td>\n",
              "      <td>1</td>\n",
              "      <td>0</td>\n",
              "      <td>0</td>\n",
              "      <td>0</td>\n",
              "      <td>0</td>\n",
              "      <td>0</td>\n",
              "      <td>0</td>\n",
              "      <td>0</td>\n",
              "      <td>0</td>\n",
              "      <td>0</td>\n",
              "      <td>0</td>\n",
              "      <td>0</td>\n",
              "      <td>0</td>\n",
              "      <td>0</td>\n",
              "      <td>1</td>\n",
              "      <td>0</td>\n",
              "      <td>0</td>\n",
              "      <td>0</td>\n",
              "      <td>0</td>\n",
              "      <td>0</td>\n",
              "      <td>0</td>\n",
              "      <td>0</td>\n",
              "      <td>0</td>\n",
              "      <td>0</td>\n",
              "      <td>0</td>\n",
              "      <td>0</td>\n",
              "      <td>0</td>\n",
              "      <td>0</td>\n",
              "      <td>0</td>\n",
              "      <td>0</td>\n",
              "      <td>0</td>\n",
              "      <td>0</td>\n",
              "      <td>0</td>\n",
              "      <td>0</td>\n",
              "      <td>0</td>\n",
              "      <td>0</td>\n",
              "      <td>0</td>\n",
              "      <td>1</td>\n",
              "      <td>0</td>\n",
              "      <td>0</td>\n",
              "      <td>0</td>\n",
              "      <td>0</td>\n",
              "      <td>0</td>\n",
              "      <td>0</td>\n",
              "      <td>0</td>\n",
              "      <td>0</td>\n",
              "      <td>0</td>\n",
              "      <td>1</td>\n",
              "      <td>0</td>\n",
              "      <td>0</td>\n",
              "      <td>0</td>\n",
              "      <td>0</td>\n",
              "      <td>0</td>\n",
              "      <td>0</td>\n",
              "      <td>0</td>\n",
              "      <td>1</td>\n",
              "      <td>0</td>\n",
              "      <td>0</td>\n",
              "      <td>1</td>\n",
              "      <td>0</td>\n",
              "      <td>0</td>\n",
              "      <td>0</td>\n",
              "      <td>0</td>\n",
              "      <td>0</td>\n",
              "      <td>0</td>\n",
              "      <td>0</td>\n",
              "      <td>0</td>\n",
              "      <td>0</td>\n",
              "      <td>0</td>\n",
              "      <td>0</td>\n",
              "      <td>0</td>\n",
              "      <td>0</td>\n",
              "      <td>0</td>\n",
              "      <td>0</td>\n",
              "      <td>0</td>\n",
              "      <td>0</td>\n",
              "      <td>0</td>\n",
              "      <td>0</td>\n",
              "      <td>0</td>\n",
              "      <td>0</td>\n",
              "      <td>0</td>\n",
              "      <td>0</td>\n",
              "      <td>0</td>\n",
              "      <td>1</td>\n",
              "      <td>0</td>\n",
              "      <td>0</td>\n",
              "      <td>0</td>\n",
              "      <td>0</td>\n",
              "      <td>0</td>\n",
              "      <td>1</td>\n",
              "      <td>0</td>\n",
              "      <td>0</td>\n",
              "      <td>0</td>\n",
              "      <td>0</td>\n",
              "      <td>0</td>\n",
              "      <td>1</td>\n",
              "      <td>0</td>\n",
              "      <td>0</td>\n",
              "      <td>0</td>\n",
              "      <td>0</td>\n",
              "      <td>0</td>\n",
              "      <td>0</td>\n",
              "      <td>0</td>\n",
              "      <td>0</td>\n",
              "      <td>0</td>\n",
              "      <td>0</td>\n",
              "      <td>0</td>\n",
              "    </tr>\n",
              "    <tr>\n",
              "      <th>487</th>\n",
              "      <td>2.0</td>\n",
              "      <td>134</td>\n",
              "      <td>2.0</td>\n",
              "      <td>2</td>\n",
              "      <td>2</td>\n",
              "      <td>14.000000</td>\n",
              "      <td>15.000000</td>\n",
              "      <td>0</td>\n",
              "      <td>0</td>\n",
              "      <td>0</td>\n",
              "      <td>0</td>\n",
              "      <td>0</td>\n",
              "      <td>1</td>\n",
              "      <td>0</td>\n",
              "      <td>0</td>\n",
              "      <td>0</td>\n",
              "      <td>0</td>\n",
              "      <td>0</td>\n",
              "      <td>0</td>\n",
              "      <td>0</td>\n",
              "      <td>0</td>\n",
              "      <td>0</td>\n",
              "      <td>0</td>\n",
              "      <td>0</td>\n",
              "      <td>0</td>\n",
              "      <td>0</td>\n",
              "      <td>0</td>\n",
              "      <td>0</td>\n",
              "      <td>0</td>\n",
              "      <td>0</td>\n",
              "      <td>0</td>\n",
              "      <td>0</td>\n",
              "      <td>0</td>\n",
              "      <td>1</td>\n",
              "      <td>0</td>\n",
              "      <td>0</td>\n",
              "      <td>0</td>\n",
              "      <td>0</td>\n",
              "      <td>0</td>\n",
              "      <td>0</td>\n",
              "      <td>0</td>\n",
              "      <td>0</td>\n",
              "      <td>0</td>\n",
              "      <td>0</td>\n",
              "      <td>0</td>\n",
              "      <td>0</td>\n",
              "      <td>0</td>\n",
              "      <td>0</td>\n",
              "      <td>0</td>\n",
              "      <td>0</td>\n",
              "      <td>0</td>\n",
              "      <td>0</td>\n",
              "      <td>0</td>\n",
              "      <td>0</td>\n",
              "      <td>0</td>\n",
              "      <td>0</td>\n",
              "      <td>0</td>\n",
              "      <td>0</td>\n",
              "      <td>0</td>\n",
              "      <td>0</td>\n",
              "      <td>0</td>\n",
              "      <td>0</td>\n",
              "      <td>1</td>\n",
              "      <td>0</td>\n",
              "      <td>0</td>\n",
              "      <td>0</td>\n",
              "      <td>1</td>\n",
              "      <td>0</td>\n",
              "      <td>0</td>\n",
              "      <td>0</td>\n",
              "      <td>0</td>\n",
              "      <td>0</td>\n",
              "      <td>0</td>\n",
              "      <td>0</td>\n",
              "      <td>1</td>\n",
              "      <td>0</td>\n",
              "      <td>0</td>\n",
              "      <td>0</td>\n",
              "      <td>0</td>\n",
              "      <td>0</td>\n",
              "      <td>0</td>\n",
              "      <td>0</td>\n",
              "      <td>0</td>\n",
              "      <td>0</td>\n",
              "      <td>0</td>\n",
              "      <td>0</td>\n",
              "      <td>0</td>\n",
              "      <td>0</td>\n",
              "      <td>0</td>\n",
              "      <td>0</td>\n",
              "      <td>0</td>\n",
              "      <td>0</td>\n",
              "      <td>0</td>\n",
              "      <td>1</td>\n",
              "      <td>0</td>\n",
              "      <td>0</td>\n",
              "      <td>0</td>\n",
              "      <td>0</td>\n",
              "      <td>0</td>\n",
              "      <td>0</td>\n",
              "      <td>0</td>\n",
              "      <td>0</td>\n",
              "      <td>0</td>\n",
              "      <td>0</td>\n",
              "      <td>1</td>\n",
              "      <td>0</td>\n",
              "      <td>0</td>\n",
              "      <td>0</td>\n",
              "      <td>0</td>\n",
              "      <td>0</td>\n",
              "      <td>1</td>\n",
              "      <td>0</td>\n",
              "      <td>0</td>\n",
              "      <td>0</td>\n",
              "      <td>1</td>\n",
              "      <td>0</td>\n",
              "      <td>0</td>\n",
              "      <td>0</td>\n",
              "      <td>0</td>\n",
              "      <td>0</td>\n",
              "      <td>0</td>\n",
              "      <td>0</td>\n",
              "      <td>0</td>\n",
              "      <td>0</td>\n",
              "      <td>0</td>\n",
              "      <td>0</td>\n",
              "    </tr>\n",
              "  </tbody>\n",
              "</table>\n",
              "</div>"
            ],
            "text/plain": [
              "      TotalVisits  Total Time Spent on Website  Page Views Per Visit  \\\n",
              "5279          2.0                          195                   2.0   \n",
              "3099          2.0                          208                   2.0   \n",
              "91            6.0                         1158                   1.5   \n",
              "1577          0.0                            0                   0.0   \n",
              "487           2.0                          134                   2.0   \n",
              "\n",
              "      Asymmetrique Activity Index  Asymmetrique Profile Index  \\\n",
              "5279                            0                           0   \n",
              "3099                            0                           0   \n",
              "91                              2                           2   \n",
              "1577                            2                           1   \n",
              "487                             2                           2   \n",
              "\n",
              "      Asymmetrique Activity Score  Asymmetrique Profile Score  \\\n",
              "5279                    14.306252                   16.344883   \n",
              "3099                    14.306252                   16.344883   \n",
              "91                      15.000000                   14.000000   \n",
              "1577                    14.000000                   19.000000   \n",
              "487                     14.000000                   15.000000   \n",
              "\n",
              "      Lead_Origin_Landing Page Submission  Lead_Origin_Lead Add Form  \\\n",
              "5279                                    1                          0   \n",
              "3099                                    1                          0   \n",
              "91                                      0                          0   \n",
              "1577                                    0                          1   \n",
              "487                                     0                          0   \n",
              "\n",
              "      Lead_Origin_Lead Import  Lead_Source_Direct Traffic  \\\n",
              "5279                        0                           1   \n",
              "3099                        0                           1   \n",
              "91                          0                           0   \n",
              "1577                        0                           0   \n",
              "487                         0                           0   \n",
              "\n",
              "      Lead_Source_Facebook  Lead_Source_Google  Lead_Source_Live Chat  \\\n",
              "5279                     0                   0                      0   \n",
              "3099                     0                   0                      0   \n",
              "91                       0                   0                      0   \n",
              "1577                     0                   0                      0   \n",
              "487                      0                   1                      0   \n",
              "\n",
              "      Lead_Source_NC_EDM  Lead_Source_Olark Chat  Lead_Source_Organic Search  \\\n",
              "5279                   0                       0                           0   \n",
              "3099                   0                       0                           0   \n",
              "91                     0                       1                           0   \n",
              "1577                   0                       0                           0   \n",
              "487                    0                       0                           0   \n",
              "\n",
              "      Lead_Source_Pay per Click Ads  Lead_Source_Press_Release  \\\n",
              "5279                              0                          0   \n",
              "3099                              0                          0   \n",
              "91                                0                          0   \n",
              "1577                              0                          0   \n",
              "487                               0                          0   \n",
              "\n",
              "      Lead_Source_Reference  Lead_Source_Referral Sites  \\\n",
              "5279                      0                           0   \n",
              "3099                      0                           0   \n",
              "91                        0                           0   \n",
              "1577                      1                           0   \n",
              "487                       0                           0   \n",
              "\n",
              "      Lead_Source_Social Media  Lead_Source_WeLearn  \\\n",
              "5279                         0                    0   \n",
              "3099                         0                    0   \n",
              "91                           0                    0   \n",
              "1577                         0                    0   \n",
              "487                          0                    0   \n",
              "\n",
              "      Lead_Source_Welingak Website  Lead_Source_bing  Lead_Source_blog  \\\n",
              "5279                             0                 0                 0   \n",
              "3099                             0                 0                 0   \n",
              "91                               0                 0                 0   \n",
              "1577                             0                 0                 0   \n",
              "487                              0                 0                 0   \n",
              "\n",
              "      Lead_Source_testone  Lead_Source_welearnblog_Home  \\\n",
              "5279                    0                             0   \n",
              "3099                    0                             0   \n",
              "91                      0                             0   \n",
              "1577                    0                             0   \n",
              "487                     0                             0   \n",
              "\n",
              "      Lead_Source_youtubechannel  Last_Activity_Converted to Lead  \\\n",
              "5279                           0                                0   \n",
              "3099                           0                                0   \n",
              "91                             0                                0   \n",
              "1577                           0                                0   \n",
              "487                            0                                0   \n",
              "\n",
              "      Last_Activity_Email Bounced  Last_Activity_Email Link Clicked  \\\n",
              "5279                            1                                 0   \n",
              "3099                            0                                 0   \n",
              "91                              0                                 0   \n",
              "1577                            0                                 0   \n",
              "487                             0                                 0   \n",
              "\n",
              "      Last_Activity_Email Marked Spam  Last_Activity_Email Opened  \\\n",
              "5279                                0                           0   \n",
              "3099                                0                           0   \n",
              "91                                  0                           1   \n",
              "1577                                0                           1   \n",
              "487                                 0                           1   \n",
              "\n",
              "      Last_Activity_Email Received  Last_Activity_Form Submitted on Website  \\\n",
              "5279                             0                                        0   \n",
              "3099                             0                                        0   \n",
              "91                               0                                        0   \n",
              "1577                             0                                        0   \n",
              "487                              0                                        0   \n",
              "\n",
              "      Last_Activity_Had a Phone Conversation  \\\n",
              "5279                                       0   \n",
              "3099                                       0   \n",
              "91                                         0   \n",
              "1577                                       0   \n",
              "487                                        0   \n",
              "\n",
              "      Last_Activity_Olark Chat Conversation  \\\n",
              "5279                                      0   \n",
              "3099                                      0   \n",
              "91                                        0   \n",
              "1577                                      0   \n",
              "487                                       0   \n",
              "\n",
              "      Last_Activity_Page Visited on Website  \\\n",
              "5279                                      0   \n",
              "3099                                      0   \n",
              "91                                        0   \n",
              "1577                                      0   \n",
              "487                                       0   \n",
              "\n",
              "      Last_Activity_Resubscribed to emails  Last_Activity_SMS Sent  \\\n",
              "5279                                     0                       0   \n",
              "3099                                     0                       1   \n",
              "91                                       0                       0   \n",
              "1577                                     0                       0   \n",
              "487                                      0                       0   \n",
              "\n",
              "      Last_Activity_Unreachable  Last_Activity_Unsubscribed  \\\n",
              "5279                          0                           0   \n",
              "3099                          0                           0   \n",
              "91                            0                           0   \n",
              "1577                          0                           0   \n",
              "487                           0                           0   \n",
              "\n",
              "      Last_Activity_View in browser link Clicked  \\\n",
              "5279                                           0   \n",
              "3099                                           0   \n",
              "91                                             0   \n",
              "1577                                           0   \n",
              "487                                            0   \n",
              "\n",
              "      Last_Activity_Visited Booth in Tradeshow  \\\n",
              "5279                                         0   \n",
              "3099                                         0   \n",
              "91                                           0   \n",
              "1577                                         0   \n",
              "487                                          0   \n",
              "\n",
              "      Specialization_Business Administration  Specialization_E-Business  \\\n",
              "5279                                       0                          0   \n",
              "3099                                       0                          0   \n",
              "91                                         1                          0   \n",
              "1577                                       0                          0   \n",
              "487                                        0                          0   \n",
              "\n",
              "      Specialization_E-COMMERCE  Specialization_Finance Management  \\\n",
              "5279                          0                                  0   \n",
              "3099                          0                                  0   \n",
              "91                            0                                  0   \n",
              "1577                          0                                  0   \n",
              "487                           0                                  0   \n",
              "\n",
              "      Specialization_Healthcare Management  \\\n",
              "5279                                     0   \n",
              "3099                                     0   \n",
              "91                                       0   \n",
              "1577                                     0   \n",
              "487                                      0   \n",
              "\n",
              "      Specialization_Hospitality Management  \\\n",
              "5279                                      0   \n",
              "3099                                      0   \n",
              "91                                        0   \n",
              "1577                                      0   \n",
              "487                                       0   \n",
              "\n",
              "      Specialization_Human Resource Management  \\\n",
              "5279                                         0   \n",
              "3099                                         0   \n",
              "91                                           0   \n",
              "1577                                         0   \n",
              "487                                          0   \n",
              "\n",
              "      Specialization_IT Projects Management  \\\n",
              "5279                                      0   \n",
              "3099                                      0   \n",
              "91                                        0   \n",
              "1577                                      0   \n",
              "487                                       0   \n",
              "\n",
              "      Specialization_International Business  \\\n",
              "5279                                      0   \n",
              "3099                                      0   \n",
              "91                                        0   \n",
              "1577                                      0   \n",
              "487                                       0   \n",
              "\n",
              "      Specialization_Marketing Management  \\\n",
              "5279                                    0   \n",
              "3099                                    0   \n",
              "91                                      0   \n",
              "1577                                    0   \n",
              "487                                     0   \n",
              "\n",
              "      Specialization_Media and Advertising  \\\n",
              "5279                                     0   \n",
              "3099                                     0   \n",
              "91                                       0   \n",
              "1577                                     0   \n",
              "487                                      0   \n",
              "\n",
              "      Specialization_Operations Management  Specialization_Retail Management  \\\n",
              "5279                                     0                                 0   \n",
              "3099                                     1                                 0   \n",
              "91                                       0                                 0   \n",
              "1577                                     1                                 0   \n",
              "487                                      0                                 0   \n",
              "\n",
              "      Specialization_Rural and Agribusiness  \\\n",
              "5279                                      0   \n",
              "3099                                      0   \n",
              "91                                        0   \n",
              "1577                                      0   \n",
              "487                                       0   \n",
              "\n",
              "      Specialization_Services Excellence  \\\n",
              "5279                                   0   \n",
              "3099                                   0   \n",
              "91                                     0   \n",
              "1577                                   0   \n",
              "487                                    0   \n",
              "\n",
              "      Specialization_Supply Chain Management  \\\n",
              "5279                                       0   \n",
              "3099                                       0   \n",
              "91                                         0   \n",
              "1577                                       0   \n",
              "487                                        0   \n",
              "\n",
              "      Specialization_Travel and Tourism  Specialization_Unknown  \\\n",
              "5279                                  0                       1   \n",
              "3099                                  0                       0   \n",
              "91                                    0                       0   \n",
              "1577                                  0                       0   \n",
              "487                                   0                       1   \n",
              "\n",
              "      How_did_u_hear_Email  How_did_u_hear_Multiple Sources  \\\n",
              "5279                     0                                0   \n",
              "3099                     0                                0   \n",
              "91                       0                                0   \n",
              "1577                     0                                0   \n",
              "487                      0                                0   \n",
              "\n",
              "      How_did_u_hear_Online Search  How_did_u_hear_Other  How_did_u_hear_SMS  \\\n",
              "5279                             0                     0                   0   \n",
              "3099                             1                     0                   0   \n",
              "91                               0                     1                   0   \n",
              "1577                             0                     1                   0   \n",
              "487                              0                     1                   0   \n",
              "\n",
              "      How_did_u_hear_Social Media  How_did_u_hear_Student of SomeSchool  \\\n",
              "5279                            0                                     0   \n",
              "3099                            0                                     0   \n",
              "91                              0                                     0   \n",
              "1577                            0                                     0   \n",
              "487                             0                                     0   \n",
              "\n",
              "      How_did_u_hear_Word Of Mouth  occupation_Housewife  occupation_Other  \\\n",
              "5279                             0                     0                 0   \n",
              "3099                             0                     0                 0   \n",
              "91                               0                     0                 0   \n",
              "1577                             0                     0                 0   \n",
              "487                              0                     0                 0   \n",
              "\n",
              "      occupation_Student  occupation_Unemployed  \\\n",
              "5279                   0                      1   \n",
              "3099                   0                      1   \n",
              "91                     0                      1   \n",
              "1577                   0                      1   \n",
              "487                    0                      1   \n",
              "\n",
              "      occupation_Working Professional  Tags_Busy  Tags_Closed by Horizzon  \\\n",
              "5279                                0          0                        0   \n",
              "3099                                0          0                        0   \n",
              "91                                  0          0                        0   \n",
              "1577                                0          0                        1   \n",
              "487                                 0          0                        0   \n",
              "\n",
              "      Tags_Diploma holder (Not Eligible)  Tags_Graduation in progress  \\\n",
              "5279                                   0                            0   \n",
              "3099                                   0                            0   \n",
              "91                                     0                            0   \n",
              "1577                                   0                            0   \n",
              "487                                    0                            0   \n",
              "\n",
              "      Tags_In confusion whether part time or DLP  \\\n",
              "5279                                           0   \n",
              "3099                                           0   \n",
              "91                                             0   \n",
              "1577                                           0   \n",
              "487                                            0   \n",
              "\n",
              "      Tags_Interested  in full time MBA  Tags_Interested in Next batch  \\\n",
              "5279                                  0                              0   \n",
              "3099                                  0                              0   \n",
              "91                                    0                              0   \n",
              "1577                                  0                              0   \n",
              "487                                   0                              0   \n",
              "\n",
              "      Tags_Interested in other courses  Tags_Lateral student  \\\n",
              "5279                                 0                     0   \n",
              "3099                                 0                     0   \n",
              "91                                   0                     0   \n",
              "1577                                 0                     0   \n",
              "487                                  0                     0   \n",
              "\n",
              "      Tags_Lost to EINS  Tags_Lost to Others  \\\n",
              "5279                  0                    0   \n",
              "3099                  0                    0   \n",
              "91                    0                    0   \n",
              "1577                  0                    0   \n",
              "487                   0                    0   \n",
              "\n",
              "      Tags_Not doing further education  Tags_Recognition issue (DEC approval)  \\\n",
              "5279                                 0                                      0   \n",
              "3099                                 0                                      0   \n",
              "91                                   0                                      0   \n",
              "1577                                 0                                      0   \n",
              "487                                  0                                      0   \n",
              "\n",
              "      Tags_Ringing  Tags_Shall take in the next coming month  \\\n",
              "5279             0                                         0   \n",
              "3099             0                                         0   \n",
              "91               0                                         0   \n",
              "1577             0                                         0   \n",
              "487              0                                         0   \n",
              "\n",
              "      Tags_Still Thinking  Tags_University not recognized  Tags_Unknown  \\\n",
              "5279                    0                               0             1   \n",
              "3099                    0                               0             1   \n",
              "91                      0                               0             1   \n",
              "1577                    0                               0             0   \n",
              "487                     0                               0             1   \n",
              "\n",
              "      Tags_Want to take admission but has financial problems  \\\n",
              "5279                                                  0        \n",
              "3099                                                  0        \n",
              "91                                                    0        \n",
              "1577                                                  0        \n",
              "487                                                   0        \n",
              "\n",
              "      Tags_Will revert after reading the email  Tags_in touch with EINS  \\\n",
              "5279                                         0                        0   \n",
              "3099                                         0                        0   \n",
              "91                                           0                        0   \n",
              "1577                                         0                        0   \n",
              "487                                          0                        0   \n",
              "\n",
              "      Tags_invalid number  Tags_number not provided  Tags_opp hangup  \\\n",
              "5279                    0                         0                0   \n",
              "3099                    0                         0                0   \n",
              "91                      0                         0                0   \n",
              "1577                    0                         0                0   \n",
              "487                     0                         0                0   \n",
              "\n",
              "      Tags_switched off  Tags_wrong number given  \\\n",
              "5279                  0                        0   \n",
              "3099                  0                        0   \n",
              "91                    0                        0   \n",
              "1577                  0                        0   \n",
              "487                   0                        0   \n",
              "\n",
              "      Lead_Quality_Low in Relevance  Lead_Quality_Might be  \\\n",
              "5279                              0                      0   \n",
              "3099                              0                      0   \n",
              "91                                0                      0   \n",
              "1577                              1                      0   \n",
              "487                               0                      0   \n",
              "\n",
              "      Lead_Quality_Not Sure  Lead_Quality_Worst  Lead_Profile_Lateral Student  \\\n",
              "5279                      1                   0                             0   \n",
              "3099                      1                   0                             0   \n",
              "91                        1                   0                             0   \n",
              "1577                      0                   0                             0   \n",
              "487                       1                   0                             0   \n",
              "\n",
              "      Lead_Profile_Other Leads  Lead_Profile_Potential Lead  \\\n",
              "5279                         0                            0   \n",
              "3099                         0                            0   \n",
              "91                           0                            0   \n",
              "1577                         0                            1   \n",
              "487                          0                            0   \n",
              "\n",
              "      Lead_Profile_Student of SomeSchool  Lead_Profile_Unknown  \\\n",
              "5279                                   0                     1   \n",
              "3099                                   0                     1   \n",
              "91                                     0                     1   \n",
              "1577                                   0                     0   \n",
              "487                                    0                     1   \n",
              "\n",
              "      Last_Notable_Activity_Email Bounced  \\\n",
              "5279                                    0   \n",
              "3099                                    0   \n",
              "91                                      0   \n",
              "1577                                    0   \n",
              "487                                     0   \n",
              "\n",
              "      Last_Notable_Activity_Email Link Clicked  \\\n",
              "5279                                         0   \n",
              "3099                                         0   \n",
              "91                                           0   \n",
              "1577                                         0   \n",
              "487                                          0   \n",
              "\n",
              "      Last_Notable_Activity_Email Marked Spam  \\\n",
              "5279                                        0   \n",
              "3099                                        0   \n",
              "91                                          0   \n",
              "1577                                        0   \n",
              "487                                         0   \n",
              "\n",
              "      Last_Notable_Activity_Email Opened  \\\n",
              "5279                                   0   \n",
              "3099                                   0   \n",
              "91                                     1   \n",
              "1577                                   1   \n",
              "487                                    1   \n",
              "\n",
              "      Last_Notable_Activity_Email Received  \\\n",
              "5279                                     0   \n",
              "3099                                     0   \n",
              "91                                       0   \n",
              "1577                                     0   \n",
              "487                                      0   \n",
              "\n",
              "      Last_Notable_Activity_Form Submitted on Website  \\\n",
              "5279                                                0   \n",
              "3099                                                0   \n",
              "91                                                  0   \n",
              "1577                                                0   \n",
              "487                                                 0   \n",
              "\n",
              "      Last_Notable_Activity_Had a Phone Conversation  \\\n",
              "5279                                               0   \n",
              "3099                                               0   \n",
              "91                                                 0   \n",
              "1577                                               0   \n",
              "487                                                0   \n",
              "\n",
              "      Last_Notable_Activity_Modified  \\\n",
              "5279                               1   \n",
              "3099                               0   \n",
              "91                                 0   \n",
              "1577                               0   \n",
              "487                                0   \n",
              "\n",
              "      Last_Notable_Activity_Olark Chat Conversation  \\\n",
              "5279                                              0   \n",
              "3099                                              0   \n",
              "91                                                0   \n",
              "1577                                              0   \n",
              "487                                               0   \n",
              "\n",
              "      Last_Notable_Activity_Page Visited on Website  \\\n",
              "5279                                              0   \n",
              "3099                                              0   \n",
              "91                                                0   \n",
              "1577                                              0   \n",
              "487                                               0   \n",
              "\n",
              "      Last_Notable_Activity_Resubscribed to emails  \\\n",
              "5279                                             0   \n",
              "3099                                             0   \n",
              "91                                               0   \n",
              "1577                                             0   \n",
              "487                                              0   \n",
              "\n",
              "      Last_Notable_Activity_SMS Sent  Last_Notable_Activity_Unreachable  \\\n",
              "5279                               0                                  0   \n",
              "3099                               1                                  0   \n",
              "91                                 0                                  0   \n",
              "1577                               0                                  0   \n",
              "487                                0                                  0   \n",
              "\n",
              "      Last_Notable_Activity_Unsubscribed  \\\n",
              "5279                                   0   \n",
              "3099                                   0   \n",
              "91                                     0   \n",
              "1577                                   0   \n",
              "487                                    0   \n",
              "\n",
              "      Last_Notable_Activity_View in browser link Clicked  \n",
              "5279                                                  0   \n",
              "3099                                                  0   \n",
              "91                                                    0   \n",
              "1577                                                  0   \n",
              "487                                                   0   "
            ]
          },
          "metadata": {
            "tags": []
          },
          "execution_count": 109
        }
      ]
    },
    {
      "cell_type": "code",
      "metadata": {
        "id": "GebJm81_30n1",
        "colab_type": "code",
        "colab": {}
      },
      "source": [
        "from sklearn.preprocessing import StandardScaler"
      ],
      "execution_count": 0,
      "outputs": []
    },
    {
      "cell_type": "code",
      "metadata": {
        "id": "vDLImCN330n6",
        "colab_type": "code",
        "colab": {}
      },
      "source": [
        "scaler = StandardScaler()\n",
        "cols = ['TotalVisits','Total Time Spent on Website','Page Views Per Visit','Asymmetrique Activity Index','Asymmetrique Profile Index','Asymmetrique Activity Score','Asymmetrique Profile Score']\n",
        "X_train[cols] = scaler.fit_transform(X_train[cols])"
      ],
      "execution_count": 0,
      "outputs": []
    },
    {
      "cell_type": "code",
      "metadata": {
        "id": "QO6tLgup30n7",
        "colab_type": "code",
        "colab": {},
        "outputId": "61e38754-1c59-4e69-87c8-3778ad2785f5"
      },
      "source": [
        "X_train.head()"
      ],
      "execution_count": 0,
      "outputs": [
        {
          "output_type": "execute_result",
          "data": {
            "text/html": [
              "<div>\n",
              "<style scoped>\n",
              "    .dataframe tbody tr th:only-of-type {\n",
              "        vertical-align: middle;\n",
              "    }\n",
              "\n",
              "    .dataframe tbody tr th {\n",
              "        vertical-align: top;\n",
              "    }\n",
              "\n",
              "    .dataframe thead th {\n",
              "        text-align: right;\n",
              "    }\n",
              "</style>\n",
              "<table border=\"1\" class=\"dataframe\">\n",
              "  <thead>\n",
              "    <tr style=\"text-align: right;\">\n",
              "      <th></th>\n",
              "      <th>TotalVisits</th>\n",
              "      <th>Total Time Spent on Website</th>\n",
              "      <th>Page Views Per Visit</th>\n",
              "      <th>Asymmetrique Activity Index</th>\n",
              "      <th>Asymmetrique Profile Index</th>\n",
              "      <th>Asymmetrique Activity Score</th>\n",
              "      <th>Asymmetrique Profile Score</th>\n",
              "      <th>Lead_Origin_Landing Page Submission</th>\n",
              "      <th>Lead_Origin_Lead Add Form</th>\n",
              "      <th>Lead_Origin_Lead Import</th>\n",
              "      <th>Lead_Source_Direct Traffic</th>\n",
              "      <th>Lead_Source_Facebook</th>\n",
              "      <th>Lead_Source_Google</th>\n",
              "      <th>Lead_Source_Live Chat</th>\n",
              "      <th>Lead_Source_NC_EDM</th>\n",
              "      <th>Lead_Source_Olark Chat</th>\n",
              "      <th>Lead_Source_Organic Search</th>\n",
              "      <th>Lead_Source_Pay per Click Ads</th>\n",
              "      <th>Lead_Source_Press_Release</th>\n",
              "      <th>Lead_Source_Reference</th>\n",
              "      <th>Lead_Source_Referral Sites</th>\n",
              "      <th>Lead_Source_Social Media</th>\n",
              "      <th>Lead_Source_WeLearn</th>\n",
              "      <th>Lead_Source_Welingak Website</th>\n",
              "      <th>Lead_Source_bing</th>\n",
              "      <th>Lead_Source_blog</th>\n",
              "      <th>Lead_Source_testone</th>\n",
              "      <th>Lead_Source_welearnblog_Home</th>\n",
              "      <th>Lead_Source_youtubechannel</th>\n",
              "      <th>Last_Activity_Converted to Lead</th>\n",
              "      <th>Last_Activity_Email Bounced</th>\n",
              "      <th>Last_Activity_Email Link Clicked</th>\n",
              "      <th>Last_Activity_Email Marked Spam</th>\n",
              "      <th>Last_Activity_Email Opened</th>\n",
              "      <th>Last_Activity_Email Received</th>\n",
              "      <th>Last_Activity_Form Submitted on Website</th>\n",
              "      <th>Last_Activity_Had a Phone Conversation</th>\n",
              "      <th>Last_Activity_Olark Chat Conversation</th>\n",
              "      <th>Last_Activity_Page Visited on Website</th>\n",
              "      <th>Last_Activity_Resubscribed to emails</th>\n",
              "      <th>Last_Activity_SMS Sent</th>\n",
              "      <th>Last_Activity_Unreachable</th>\n",
              "      <th>Last_Activity_Unsubscribed</th>\n",
              "      <th>Last_Activity_View in browser link Clicked</th>\n",
              "      <th>Last_Activity_Visited Booth in Tradeshow</th>\n",
              "      <th>Specialization_Business Administration</th>\n",
              "      <th>Specialization_E-Business</th>\n",
              "      <th>Specialization_E-COMMERCE</th>\n",
              "      <th>Specialization_Finance Management</th>\n",
              "      <th>Specialization_Healthcare Management</th>\n",
              "      <th>Specialization_Hospitality Management</th>\n",
              "      <th>Specialization_Human Resource Management</th>\n",
              "      <th>Specialization_IT Projects Management</th>\n",
              "      <th>Specialization_International Business</th>\n",
              "      <th>Specialization_Marketing Management</th>\n",
              "      <th>Specialization_Media and Advertising</th>\n",
              "      <th>Specialization_Operations Management</th>\n",
              "      <th>Specialization_Retail Management</th>\n",
              "      <th>Specialization_Rural and Agribusiness</th>\n",
              "      <th>Specialization_Services Excellence</th>\n",
              "      <th>Specialization_Supply Chain Management</th>\n",
              "      <th>Specialization_Travel and Tourism</th>\n",
              "      <th>Specialization_Unknown</th>\n",
              "      <th>How_did_u_hear_Email</th>\n",
              "      <th>How_did_u_hear_Multiple Sources</th>\n",
              "      <th>How_did_u_hear_Online Search</th>\n",
              "      <th>How_did_u_hear_Other</th>\n",
              "      <th>How_did_u_hear_SMS</th>\n",
              "      <th>How_did_u_hear_Social Media</th>\n",
              "      <th>How_did_u_hear_Student of SomeSchool</th>\n",
              "      <th>How_did_u_hear_Word Of Mouth</th>\n",
              "      <th>occupation_Housewife</th>\n",
              "      <th>occupation_Other</th>\n",
              "      <th>occupation_Student</th>\n",
              "      <th>occupation_Unemployed</th>\n",
              "      <th>occupation_Working Professional</th>\n",
              "      <th>Tags_Busy</th>\n",
              "      <th>Tags_Closed by Horizzon</th>\n",
              "      <th>Tags_Diploma holder (Not Eligible)</th>\n",
              "      <th>Tags_Graduation in progress</th>\n",
              "      <th>Tags_In confusion whether part time or DLP</th>\n",
              "      <th>Tags_Interested  in full time MBA</th>\n",
              "      <th>Tags_Interested in Next batch</th>\n",
              "      <th>Tags_Interested in other courses</th>\n",
              "      <th>Tags_Lateral student</th>\n",
              "      <th>Tags_Lost to EINS</th>\n",
              "      <th>Tags_Lost to Others</th>\n",
              "      <th>Tags_Not doing further education</th>\n",
              "      <th>Tags_Recognition issue (DEC approval)</th>\n",
              "      <th>Tags_Ringing</th>\n",
              "      <th>Tags_Shall take in the next coming month</th>\n",
              "      <th>Tags_Still Thinking</th>\n",
              "      <th>Tags_University not recognized</th>\n",
              "      <th>Tags_Unknown</th>\n",
              "      <th>Tags_Want to take admission but has financial problems</th>\n",
              "      <th>Tags_Will revert after reading the email</th>\n",
              "      <th>Tags_in touch with EINS</th>\n",
              "      <th>Tags_invalid number</th>\n",
              "      <th>Tags_number not provided</th>\n",
              "      <th>Tags_opp hangup</th>\n",
              "      <th>Tags_switched off</th>\n",
              "      <th>Tags_wrong number given</th>\n",
              "      <th>Lead_Quality_Low in Relevance</th>\n",
              "      <th>Lead_Quality_Might be</th>\n",
              "      <th>Lead_Quality_Not Sure</th>\n",
              "      <th>Lead_Quality_Worst</th>\n",
              "      <th>Lead_Profile_Lateral Student</th>\n",
              "      <th>Lead_Profile_Other Leads</th>\n",
              "      <th>Lead_Profile_Potential Lead</th>\n",
              "      <th>Lead_Profile_Student of SomeSchool</th>\n",
              "      <th>Lead_Profile_Unknown</th>\n",
              "      <th>Last_Notable_Activity_Email Bounced</th>\n",
              "      <th>Last_Notable_Activity_Email Link Clicked</th>\n",
              "      <th>Last_Notable_Activity_Email Marked Spam</th>\n",
              "      <th>Last_Notable_Activity_Email Opened</th>\n",
              "      <th>Last_Notable_Activity_Email Received</th>\n",
              "      <th>Last_Notable_Activity_Form Submitted on Website</th>\n",
              "      <th>Last_Notable_Activity_Had a Phone Conversation</th>\n",
              "      <th>Last_Notable_Activity_Modified</th>\n",
              "      <th>Last_Notable_Activity_Olark Chat Conversation</th>\n",
              "      <th>Last_Notable_Activity_Page Visited on Website</th>\n",
              "      <th>Last_Notable_Activity_Resubscribed to emails</th>\n",
              "      <th>Last_Notable_Activity_SMS Sent</th>\n",
              "      <th>Last_Notable_Activity_Unreachable</th>\n",
              "      <th>Last_Notable_Activity_Unsubscribed</th>\n",
              "      <th>Last_Notable_Activity_View in browser link Clicked</th>\n",
              "    </tr>\n",
              "  </thead>\n",
              "  <tbody>\n",
              "    <tr>\n",
              "      <th>5279</th>\n",
              "      <td>-0.314975</td>\n",
              "      <td>-0.504462</td>\n",
              "      <td>-0.037025</td>\n",
              "      <td>-1.013779</td>\n",
              "      <td>-0.977676</td>\n",
              "      <td>0.002842</td>\n",
              "      <td>0.011352</td>\n",
              "      <td>1</td>\n",
              "      <td>0</td>\n",
              "      <td>0</td>\n",
              "      <td>1</td>\n",
              "      <td>0</td>\n",
              "      <td>0</td>\n",
              "      <td>0</td>\n",
              "      <td>0</td>\n",
              "      <td>0</td>\n",
              "      <td>0</td>\n",
              "      <td>0</td>\n",
              "      <td>0</td>\n",
              "      <td>0</td>\n",
              "      <td>0</td>\n",
              "      <td>0</td>\n",
              "      <td>0</td>\n",
              "      <td>0</td>\n",
              "      <td>0</td>\n",
              "      <td>0</td>\n",
              "      <td>0</td>\n",
              "      <td>0</td>\n",
              "      <td>0</td>\n",
              "      <td>0</td>\n",
              "      <td>1</td>\n",
              "      <td>0</td>\n",
              "      <td>0</td>\n",
              "      <td>0</td>\n",
              "      <td>0</td>\n",
              "      <td>0</td>\n",
              "      <td>0</td>\n",
              "      <td>0</td>\n",
              "      <td>0</td>\n",
              "      <td>0</td>\n",
              "      <td>0</td>\n",
              "      <td>0</td>\n",
              "      <td>0</td>\n",
              "      <td>0</td>\n",
              "      <td>0</td>\n",
              "      <td>0</td>\n",
              "      <td>0</td>\n",
              "      <td>0</td>\n",
              "      <td>0</td>\n",
              "      <td>0</td>\n",
              "      <td>0</td>\n",
              "      <td>0</td>\n",
              "      <td>0</td>\n",
              "      <td>0</td>\n",
              "      <td>0</td>\n",
              "      <td>0</td>\n",
              "      <td>0</td>\n",
              "      <td>0</td>\n",
              "      <td>0</td>\n",
              "      <td>0</td>\n",
              "      <td>0</td>\n",
              "      <td>0</td>\n",
              "      <td>1</td>\n",
              "      <td>0</td>\n",
              "      <td>0</td>\n",
              "      <td>0</td>\n",
              "      <td>0</td>\n",
              "      <td>0</td>\n",
              "      <td>0</td>\n",
              "      <td>0</td>\n",
              "      <td>0</td>\n",
              "      <td>0</td>\n",
              "      <td>0</td>\n",
              "      <td>0</td>\n",
              "      <td>1</td>\n",
              "      <td>0</td>\n",
              "      <td>0</td>\n",
              "      <td>0</td>\n",
              "      <td>0</td>\n",
              "      <td>0</td>\n",
              "      <td>0</td>\n",
              "      <td>0</td>\n",
              "      <td>0</td>\n",
              "      <td>0</td>\n",
              "      <td>0</td>\n",
              "      <td>0</td>\n",
              "      <td>0</td>\n",
              "      <td>0</td>\n",
              "      <td>0</td>\n",
              "      <td>0</td>\n",
              "      <td>0</td>\n",
              "      <td>0</td>\n",
              "      <td>0</td>\n",
              "      <td>1</td>\n",
              "      <td>0</td>\n",
              "      <td>0</td>\n",
              "      <td>0</td>\n",
              "      <td>0</td>\n",
              "      <td>0</td>\n",
              "      <td>0</td>\n",
              "      <td>0</td>\n",
              "      <td>0</td>\n",
              "      <td>0</td>\n",
              "      <td>0</td>\n",
              "      <td>1</td>\n",
              "      <td>0</td>\n",
              "      <td>0</td>\n",
              "      <td>0</td>\n",
              "      <td>0</td>\n",
              "      <td>0</td>\n",
              "      <td>1</td>\n",
              "      <td>0</td>\n",
              "      <td>0</td>\n",
              "      <td>0</td>\n",
              "      <td>0</td>\n",
              "      <td>0</td>\n",
              "      <td>0</td>\n",
              "      <td>0</td>\n",
              "      <td>1</td>\n",
              "      <td>0</td>\n",
              "      <td>0</td>\n",
              "      <td>0</td>\n",
              "      <td>0</td>\n",
              "      <td>0</td>\n",
              "      <td>0</td>\n",
              "      <td>0</td>\n",
              "    </tr>\n",
              "    <tr>\n",
              "      <th>3099</th>\n",
              "      <td>-0.314975</td>\n",
              "      <td>-0.480383</td>\n",
              "      <td>-0.037025</td>\n",
              "      <td>-1.013779</td>\n",
              "      <td>-0.977676</td>\n",
              "      <td>0.002842</td>\n",
              "      <td>0.011352</td>\n",
              "      <td>1</td>\n",
              "      <td>0</td>\n",
              "      <td>0</td>\n",
              "      <td>1</td>\n",
              "      <td>0</td>\n",
              "      <td>0</td>\n",
              "      <td>0</td>\n",
              "      <td>0</td>\n",
              "      <td>0</td>\n",
              "      <td>0</td>\n",
              "      <td>0</td>\n",
              "      <td>0</td>\n",
              "      <td>0</td>\n",
              "      <td>0</td>\n",
              "      <td>0</td>\n",
              "      <td>0</td>\n",
              "      <td>0</td>\n",
              "      <td>0</td>\n",
              "      <td>0</td>\n",
              "      <td>0</td>\n",
              "      <td>0</td>\n",
              "      <td>0</td>\n",
              "      <td>0</td>\n",
              "      <td>0</td>\n",
              "      <td>0</td>\n",
              "      <td>0</td>\n",
              "      <td>0</td>\n",
              "      <td>0</td>\n",
              "      <td>0</td>\n",
              "      <td>0</td>\n",
              "      <td>0</td>\n",
              "      <td>0</td>\n",
              "      <td>0</td>\n",
              "      <td>1</td>\n",
              "      <td>0</td>\n",
              "      <td>0</td>\n",
              "      <td>0</td>\n",
              "      <td>0</td>\n",
              "      <td>0</td>\n",
              "      <td>0</td>\n",
              "      <td>0</td>\n",
              "      <td>0</td>\n",
              "      <td>0</td>\n",
              "      <td>0</td>\n",
              "      <td>0</td>\n",
              "      <td>0</td>\n",
              "      <td>0</td>\n",
              "      <td>0</td>\n",
              "      <td>0</td>\n",
              "      <td>1</td>\n",
              "      <td>0</td>\n",
              "      <td>0</td>\n",
              "      <td>0</td>\n",
              "      <td>0</td>\n",
              "      <td>0</td>\n",
              "      <td>0</td>\n",
              "      <td>0</td>\n",
              "      <td>0</td>\n",
              "      <td>1</td>\n",
              "      <td>0</td>\n",
              "      <td>0</td>\n",
              "      <td>0</td>\n",
              "      <td>0</td>\n",
              "      <td>0</td>\n",
              "      <td>0</td>\n",
              "      <td>0</td>\n",
              "      <td>0</td>\n",
              "      <td>1</td>\n",
              "      <td>0</td>\n",
              "      <td>0</td>\n",
              "      <td>0</td>\n",
              "      <td>0</td>\n",
              "      <td>0</td>\n",
              "      <td>0</td>\n",
              "      <td>0</td>\n",
              "      <td>0</td>\n",
              "      <td>0</td>\n",
              "      <td>0</td>\n",
              "      <td>0</td>\n",
              "      <td>0</td>\n",
              "      <td>0</td>\n",
              "      <td>0</td>\n",
              "      <td>0</td>\n",
              "      <td>0</td>\n",
              "      <td>0</td>\n",
              "      <td>0</td>\n",
              "      <td>1</td>\n",
              "      <td>0</td>\n",
              "      <td>0</td>\n",
              "      <td>0</td>\n",
              "      <td>0</td>\n",
              "      <td>0</td>\n",
              "      <td>0</td>\n",
              "      <td>0</td>\n",
              "      <td>0</td>\n",
              "      <td>0</td>\n",
              "      <td>0</td>\n",
              "      <td>1</td>\n",
              "      <td>0</td>\n",
              "      <td>0</td>\n",
              "      <td>0</td>\n",
              "      <td>0</td>\n",
              "      <td>0</td>\n",
              "      <td>1</td>\n",
              "      <td>0</td>\n",
              "      <td>0</td>\n",
              "      <td>0</td>\n",
              "      <td>0</td>\n",
              "      <td>0</td>\n",
              "      <td>0</td>\n",
              "      <td>0</td>\n",
              "      <td>0</td>\n",
              "      <td>0</td>\n",
              "      <td>0</td>\n",
              "      <td>0</td>\n",
              "      <td>1</td>\n",
              "      <td>0</td>\n",
              "      <td>0</td>\n",
              "      <td>0</td>\n",
              "    </tr>\n",
              "    <tr>\n",
              "      <th>91</th>\n",
              "      <td>1.396648</td>\n",
              "      <td>1.279233</td>\n",
              "      <td>-0.340229</td>\n",
              "      <td>0.956449</td>\n",
              "      <td>1.324274</td>\n",
              "      <td>0.672185</td>\n",
              "      <td>-1.787942</td>\n",
              "      <td>0</td>\n",
              "      <td>0</td>\n",
              "      <td>0</td>\n",
              "      <td>0</td>\n",
              "      <td>0</td>\n",
              "      <td>0</td>\n",
              "      <td>0</td>\n",
              "      <td>0</td>\n",
              "      <td>1</td>\n",
              "      <td>0</td>\n",
              "      <td>0</td>\n",
              "      <td>0</td>\n",
              "      <td>0</td>\n",
              "      <td>0</td>\n",
              "      <td>0</td>\n",
              "      <td>0</td>\n",
              "      <td>0</td>\n",
              "      <td>0</td>\n",
              "      <td>0</td>\n",
              "      <td>0</td>\n",
              "      <td>0</td>\n",
              "      <td>0</td>\n",
              "      <td>0</td>\n",
              "      <td>0</td>\n",
              "      <td>0</td>\n",
              "      <td>0</td>\n",
              "      <td>1</td>\n",
              "      <td>0</td>\n",
              "      <td>0</td>\n",
              "      <td>0</td>\n",
              "      <td>0</td>\n",
              "      <td>0</td>\n",
              "      <td>0</td>\n",
              "      <td>0</td>\n",
              "      <td>0</td>\n",
              "      <td>0</td>\n",
              "      <td>0</td>\n",
              "      <td>0</td>\n",
              "      <td>1</td>\n",
              "      <td>0</td>\n",
              "      <td>0</td>\n",
              "      <td>0</td>\n",
              "      <td>0</td>\n",
              "      <td>0</td>\n",
              "      <td>0</td>\n",
              "      <td>0</td>\n",
              "      <td>0</td>\n",
              "      <td>0</td>\n",
              "      <td>0</td>\n",
              "      <td>0</td>\n",
              "      <td>0</td>\n",
              "      <td>0</td>\n",
              "      <td>0</td>\n",
              "      <td>0</td>\n",
              "      <td>0</td>\n",
              "      <td>0</td>\n",
              "      <td>0</td>\n",
              "      <td>0</td>\n",
              "      <td>0</td>\n",
              "      <td>1</td>\n",
              "      <td>0</td>\n",
              "      <td>0</td>\n",
              "      <td>0</td>\n",
              "      <td>0</td>\n",
              "      <td>0</td>\n",
              "      <td>0</td>\n",
              "      <td>0</td>\n",
              "      <td>1</td>\n",
              "      <td>0</td>\n",
              "      <td>0</td>\n",
              "      <td>0</td>\n",
              "      <td>0</td>\n",
              "      <td>0</td>\n",
              "      <td>0</td>\n",
              "      <td>0</td>\n",
              "      <td>0</td>\n",
              "      <td>0</td>\n",
              "      <td>0</td>\n",
              "      <td>0</td>\n",
              "      <td>0</td>\n",
              "      <td>0</td>\n",
              "      <td>0</td>\n",
              "      <td>0</td>\n",
              "      <td>0</td>\n",
              "      <td>0</td>\n",
              "      <td>0</td>\n",
              "      <td>1</td>\n",
              "      <td>0</td>\n",
              "      <td>0</td>\n",
              "      <td>0</td>\n",
              "      <td>0</td>\n",
              "      <td>0</td>\n",
              "      <td>0</td>\n",
              "      <td>0</td>\n",
              "      <td>0</td>\n",
              "      <td>0</td>\n",
              "      <td>0</td>\n",
              "      <td>1</td>\n",
              "      <td>0</td>\n",
              "      <td>0</td>\n",
              "      <td>0</td>\n",
              "      <td>0</td>\n",
              "      <td>0</td>\n",
              "      <td>1</td>\n",
              "      <td>0</td>\n",
              "      <td>0</td>\n",
              "      <td>0</td>\n",
              "      <td>1</td>\n",
              "      <td>0</td>\n",
              "      <td>0</td>\n",
              "      <td>0</td>\n",
              "      <td>0</td>\n",
              "      <td>0</td>\n",
              "      <td>0</td>\n",
              "      <td>0</td>\n",
              "      <td>0</td>\n",
              "      <td>0</td>\n",
              "      <td>0</td>\n",
              "      <td>0</td>\n",
              "    </tr>\n",
              "    <tr>\n",
              "      <th>1577</th>\n",
              "      <td>-1.170787</td>\n",
              "      <td>-0.865647</td>\n",
              "      <td>-1.249840</td>\n",
              "      <td>0.956449</td>\n",
              "      <td>0.173299</td>\n",
              "      <td>-0.292637</td>\n",
              "      <td>2.048699</td>\n",
              "      <td>0</td>\n",
              "      <td>1</td>\n",
              "      <td>0</td>\n",
              "      <td>0</td>\n",
              "      <td>0</td>\n",
              "      <td>0</td>\n",
              "      <td>0</td>\n",
              "      <td>0</td>\n",
              "      <td>0</td>\n",
              "      <td>0</td>\n",
              "      <td>0</td>\n",
              "      <td>0</td>\n",
              "      <td>1</td>\n",
              "      <td>0</td>\n",
              "      <td>0</td>\n",
              "      <td>0</td>\n",
              "      <td>0</td>\n",
              "      <td>0</td>\n",
              "      <td>0</td>\n",
              "      <td>0</td>\n",
              "      <td>0</td>\n",
              "      <td>0</td>\n",
              "      <td>0</td>\n",
              "      <td>0</td>\n",
              "      <td>0</td>\n",
              "      <td>0</td>\n",
              "      <td>1</td>\n",
              "      <td>0</td>\n",
              "      <td>0</td>\n",
              "      <td>0</td>\n",
              "      <td>0</td>\n",
              "      <td>0</td>\n",
              "      <td>0</td>\n",
              "      <td>0</td>\n",
              "      <td>0</td>\n",
              "      <td>0</td>\n",
              "      <td>0</td>\n",
              "      <td>0</td>\n",
              "      <td>0</td>\n",
              "      <td>0</td>\n",
              "      <td>0</td>\n",
              "      <td>0</td>\n",
              "      <td>0</td>\n",
              "      <td>0</td>\n",
              "      <td>0</td>\n",
              "      <td>0</td>\n",
              "      <td>0</td>\n",
              "      <td>0</td>\n",
              "      <td>0</td>\n",
              "      <td>1</td>\n",
              "      <td>0</td>\n",
              "      <td>0</td>\n",
              "      <td>0</td>\n",
              "      <td>0</td>\n",
              "      <td>0</td>\n",
              "      <td>0</td>\n",
              "      <td>0</td>\n",
              "      <td>0</td>\n",
              "      <td>0</td>\n",
              "      <td>1</td>\n",
              "      <td>0</td>\n",
              "      <td>0</td>\n",
              "      <td>0</td>\n",
              "      <td>0</td>\n",
              "      <td>0</td>\n",
              "      <td>0</td>\n",
              "      <td>0</td>\n",
              "      <td>1</td>\n",
              "      <td>0</td>\n",
              "      <td>0</td>\n",
              "      <td>1</td>\n",
              "      <td>0</td>\n",
              "      <td>0</td>\n",
              "      <td>0</td>\n",
              "      <td>0</td>\n",
              "      <td>0</td>\n",
              "      <td>0</td>\n",
              "      <td>0</td>\n",
              "      <td>0</td>\n",
              "      <td>0</td>\n",
              "      <td>0</td>\n",
              "      <td>0</td>\n",
              "      <td>0</td>\n",
              "      <td>0</td>\n",
              "      <td>0</td>\n",
              "      <td>0</td>\n",
              "      <td>0</td>\n",
              "      <td>0</td>\n",
              "      <td>0</td>\n",
              "      <td>0</td>\n",
              "      <td>0</td>\n",
              "      <td>0</td>\n",
              "      <td>0</td>\n",
              "      <td>0</td>\n",
              "      <td>0</td>\n",
              "      <td>1</td>\n",
              "      <td>0</td>\n",
              "      <td>0</td>\n",
              "      <td>0</td>\n",
              "      <td>0</td>\n",
              "      <td>0</td>\n",
              "      <td>1</td>\n",
              "      <td>0</td>\n",
              "      <td>0</td>\n",
              "      <td>0</td>\n",
              "      <td>0</td>\n",
              "      <td>0</td>\n",
              "      <td>1</td>\n",
              "      <td>0</td>\n",
              "      <td>0</td>\n",
              "      <td>0</td>\n",
              "      <td>0</td>\n",
              "      <td>0</td>\n",
              "      <td>0</td>\n",
              "      <td>0</td>\n",
              "      <td>0</td>\n",
              "      <td>0</td>\n",
              "      <td>0</td>\n",
              "      <td>0</td>\n",
              "    </tr>\n",
              "    <tr>\n",
              "      <th>487</th>\n",
              "      <td>-0.314975</td>\n",
              "      <td>-0.617448</td>\n",
              "      <td>-0.037025</td>\n",
              "      <td>0.956449</td>\n",
              "      <td>1.324274</td>\n",
              "      <td>-0.292637</td>\n",
              "      <td>-1.020614</td>\n",
              "      <td>0</td>\n",
              "      <td>0</td>\n",
              "      <td>0</td>\n",
              "      <td>0</td>\n",
              "      <td>0</td>\n",
              "      <td>1</td>\n",
              "      <td>0</td>\n",
              "      <td>0</td>\n",
              "      <td>0</td>\n",
              "      <td>0</td>\n",
              "      <td>0</td>\n",
              "      <td>0</td>\n",
              "      <td>0</td>\n",
              "      <td>0</td>\n",
              "      <td>0</td>\n",
              "      <td>0</td>\n",
              "      <td>0</td>\n",
              "      <td>0</td>\n",
              "      <td>0</td>\n",
              "      <td>0</td>\n",
              "      <td>0</td>\n",
              "      <td>0</td>\n",
              "      <td>0</td>\n",
              "      <td>0</td>\n",
              "      <td>0</td>\n",
              "      <td>0</td>\n",
              "      <td>1</td>\n",
              "      <td>0</td>\n",
              "      <td>0</td>\n",
              "      <td>0</td>\n",
              "      <td>0</td>\n",
              "      <td>0</td>\n",
              "      <td>0</td>\n",
              "      <td>0</td>\n",
              "      <td>0</td>\n",
              "      <td>0</td>\n",
              "      <td>0</td>\n",
              "      <td>0</td>\n",
              "      <td>0</td>\n",
              "      <td>0</td>\n",
              "      <td>0</td>\n",
              "      <td>0</td>\n",
              "      <td>0</td>\n",
              "      <td>0</td>\n",
              "      <td>0</td>\n",
              "      <td>0</td>\n",
              "      <td>0</td>\n",
              "      <td>0</td>\n",
              "      <td>0</td>\n",
              "      <td>0</td>\n",
              "      <td>0</td>\n",
              "      <td>0</td>\n",
              "      <td>0</td>\n",
              "      <td>0</td>\n",
              "      <td>0</td>\n",
              "      <td>1</td>\n",
              "      <td>0</td>\n",
              "      <td>0</td>\n",
              "      <td>0</td>\n",
              "      <td>1</td>\n",
              "      <td>0</td>\n",
              "      <td>0</td>\n",
              "      <td>0</td>\n",
              "      <td>0</td>\n",
              "      <td>0</td>\n",
              "      <td>0</td>\n",
              "      <td>0</td>\n",
              "      <td>1</td>\n",
              "      <td>0</td>\n",
              "      <td>0</td>\n",
              "      <td>0</td>\n",
              "      <td>0</td>\n",
              "      <td>0</td>\n",
              "      <td>0</td>\n",
              "      <td>0</td>\n",
              "      <td>0</td>\n",
              "      <td>0</td>\n",
              "      <td>0</td>\n",
              "      <td>0</td>\n",
              "      <td>0</td>\n",
              "      <td>0</td>\n",
              "      <td>0</td>\n",
              "      <td>0</td>\n",
              "      <td>0</td>\n",
              "      <td>0</td>\n",
              "      <td>0</td>\n",
              "      <td>1</td>\n",
              "      <td>0</td>\n",
              "      <td>0</td>\n",
              "      <td>0</td>\n",
              "      <td>0</td>\n",
              "      <td>0</td>\n",
              "      <td>0</td>\n",
              "      <td>0</td>\n",
              "      <td>0</td>\n",
              "      <td>0</td>\n",
              "      <td>0</td>\n",
              "      <td>1</td>\n",
              "      <td>0</td>\n",
              "      <td>0</td>\n",
              "      <td>0</td>\n",
              "      <td>0</td>\n",
              "      <td>0</td>\n",
              "      <td>1</td>\n",
              "      <td>0</td>\n",
              "      <td>0</td>\n",
              "      <td>0</td>\n",
              "      <td>1</td>\n",
              "      <td>0</td>\n",
              "      <td>0</td>\n",
              "      <td>0</td>\n",
              "      <td>0</td>\n",
              "      <td>0</td>\n",
              "      <td>0</td>\n",
              "      <td>0</td>\n",
              "      <td>0</td>\n",
              "      <td>0</td>\n",
              "      <td>0</td>\n",
              "      <td>0</td>\n",
              "    </tr>\n",
              "  </tbody>\n",
              "</table>\n",
              "</div>"
            ],
            "text/plain": [
              "      TotalVisits  Total Time Spent on Website  Page Views Per Visit  \\\n",
              "5279    -0.314975                    -0.504462             -0.037025   \n",
              "3099    -0.314975                    -0.480383             -0.037025   \n",
              "91       1.396648                     1.279233             -0.340229   \n",
              "1577    -1.170787                    -0.865647             -1.249840   \n",
              "487     -0.314975                    -0.617448             -0.037025   \n",
              "\n",
              "      Asymmetrique Activity Index  Asymmetrique Profile Index  \\\n",
              "5279                    -1.013779                   -0.977676   \n",
              "3099                    -1.013779                   -0.977676   \n",
              "91                       0.956449                    1.324274   \n",
              "1577                     0.956449                    0.173299   \n",
              "487                      0.956449                    1.324274   \n",
              "\n",
              "      Asymmetrique Activity Score  Asymmetrique Profile Score  \\\n",
              "5279                     0.002842                    0.011352   \n",
              "3099                     0.002842                    0.011352   \n",
              "91                       0.672185                   -1.787942   \n",
              "1577                    -0.292637                    2.048699   \n",
              "487                     -0.292637                   -1.020614   \n",
              "\n",
              "      Lead_Origin_Landing Page Submission  Lead_Origin_Lead Add Form  \\\n",
              "5279                                    1                          0   \n",
              "3099                                    1                          0   \n",
              "91                                      0                          0   \n",
              "1577                                    0                          1   \n",
              "487                                     0                          0   \n",
              "\n",
              "      Lead_Origin_Lead Import  Lead_Source_Direct Traffic  \\\n",
              "5279                        0                           1   \n",
              "3099                        0                           1   \n",
              "91                          0                           0   \n",
              "1577                        0                           0   \n",
              "487                         0                           0   \n",
              "\n",
              "      Lead_Source_Facebook  Lead_Source_Google  Lead_Source_Live Chat  \\\n",
              "5279                     0                   0                      0   \n",
              "3099                     0                   0                      0   \n",
              "91                       0                   0                      0   \n",
              "1577                     0                   0                      0   \n",
              "487                      0                   1                      0   \n",
              "\n",
              "      Lead_Source_NC_EDM  Lead_Source_Olark Chat  Lead_Source_Organic Search  \\\n",
              "5279                   0                       0                           0   \n",
              "3099                   0                       0                           0   \n",
              "91                     0                       1                           0   \n",
              "1577                   0                       0                           0   \n",
              "487                    0                       0                           0   \n",
              "\n",
              "      Lead_Source_Pay per Click Ads  Lead_Source_Press_Release  \\\n",
              "5279                              0                          0   \n",
              "3099                              0                          0   \n",
              "91                                0                          0   \n",
              "1577                              0                          0   \n",
              "487                               0                          0   \n",
              "\n",
              "      Lead_Source_Reference  Lead_Source_Referral Sites  \\\n",
              "5279                      0                           0   \n",
              "3099                      0                           0   \n",
              "91                        0                           0   \n",
              "1577                      1                           0   \n",
              "487                       0                           0   \n",
              "\n",
              "      Lead_Source_Social Media  Lead_Source_WeLearn  \\\n",
              "5279                         0                    0   \n",
              "3099                         0                    0   \n",
              "91                           0                    0   \n",
              "1577                         0                    0   \n",
              "487                          0                    0   \n",
              "\n",
              "      Lead_Source_Welingak Website  Lead_Source_bing  Lead_Source_blog  \\\n",
              "5279                             0                 0                 0   \n",
              "3099                             0                 0                 0   \n",
              "91                               0                 0                 0   \n",
              "1577                             0                 0                 0   \n",
              "487                              0                 0                 0   \n",
              "\n",
              "      Lead_Source_testone  Lead_Source_welearnblog_Home  \\\n",
              "5279                    0                             0   \n",
              "3099                    0                             0   \n",
              "91                      0                             0   \n",
              "1577                    0                             0   \n",
              "487                     0                             0   \n",
              "\n",
              "      Lead_Source_youtubechannel  Last_Activity_Converted to Lead  \\\n",
              "5279                           0                                0   \n",
              "3099                           0                                0   \n",
              "91                             0                                0   \n",
              "1577                           0                                0   \n",
              "487                            0                                0   \n",
              "\n",
              "      Last_Activity_Email Bounced  Last_Activity_Email Link Clicked  \\\n",
              "5279                            1                                 0   \n",
              "3099                            0                                 0   \n",
              "91                              0                                 0   \n",
              "1577                            0                                 0   \n",
              "487                             0                                 0   \n",
              "\n",
              "      Last_Activity_Email Marked Spam  Last_Activity_Email Opened  \\\n",
              "5279                                0                           0   \n",
              "3099                                0                           0   \n",
              "91                                  0                           1   \n",
              "1577                                0                           1   \n",
              "487                                 0                           1   \n",
              "\n",
              "      Last_Activity_Email Received  Last_Activity_Form Submitted on Website  \\\n",
              "5279                             0                                        0   \n",
              "3099                             0                                        0   \n",
              "91                               0                                        0   \n",
              "1577                             0                                        0   \n",
              "487                              0                                        0   \n",
              "\n",
              "      Last_Activity_Had a Phone Conversation  \\\n",
              "5279                                       0   \n",
              "3099                                       0   \n",
              "91                                         0   \n",
              "1577                                       0   \n",
              "487                                        0   \n",
              "\n",
              "      Last_Activity_Olark Chat Conversation  \\\n",
              "5279                                      0   \n",
              "3099                                      0   \n",
              "91                                        0   \n",
              "1577                                      0   \n",
              "487                                       0   \n",
              "\n",
              "      Last_Activity_Page Visited on Website  \\\n",
              "5279                                      0   \n",
              "3099                                      0   \n",
              "91                                        0   \n",
              "1577                                      0   \n",
              "487                                       0   \n",
              "\n",
              "      Last_Activity_Resubscribed to emails  Last_Activity_SMS Sent  \\\n",
              "5279                                     0                       0   \n",
              "3099                                     0                       1   \n",
              "91                                       0                       0   \n",
              "1577                                     0                       0   \n",
              "487                                      0                       0   \n",
              "\n",
              "      Last_Activity_Unreachable  Last_Activity_Unsubscribed  \\\n",
              "5279                          0                           0   \n",
              "3099                          0                           0   \n",
              "91                            0                           0   \n",
              "1577                          0                           0   \n",
              "487                           0                           0   \n",
              "\n",
              "      Last_Activity_View in browser link Clicked  \\\n",
              "5279                                           0   \n",
              "3099                                           0   \n",
              "91                                             0   \n",
              "1577                                           0   \n",
              "487                                            0   \n",
              "\n",
              "      Last_Activity_Visited Booth in Tradeshow  \\\n",
              "5279                                         0   \n",
              "3099                                         0   \n",
              "91                                           0   \n",
              "1577                                         0   \n",
              "487                                          0   \n",
              "\n",
              "      Specialization_Business Administration  Specialization_E-Business  \\\n",
              "5279                                       0                          0   \n",
              "3099                                       0                          0   \n",
              "91                                         1                          0   \n",
              "1577                                       0                          0   \n",
              "487                                        0                          0   \n",
              "\n",
              "      Specialization_E-COMMERCE  Specialization_Finance Management  \\\n",
              "5279                          0                                  0   \n",
              "3099                          0                                  0   \n",
              "91                            0                                  0   \n",
              "1577                          0                                  0   \n",
              "487                           0                                  0   \n",
              "\n",
              "      Specialization_Healthcare Management  \\\n",
              "5279                                     0   \n",
              "3099                                     0   \n",
              "91                                       0   \n",
              "1577                                     0   \n",
              "487                                      0   \n",
              "\n",
              "      Specialization_Hospitality Management  \\\n",
              "5279                                      0   \n",
              "3099                                      0   \n",
              "91                                        0   \n",
              "1577                                      0   \n",
              "487                                       0   \n",
              "\n",
              "      Specialization_Human Resource Management  \\\n",
              "5279                                         0   \n",
              "3099                                         0   \n",
              "91                                           0   \n",
              "1577                                         0   \n",
              "487                                          0   \n",
              "\n",
              "      Specialization_IT Projects Management  \\\n",
              "5279                                      0   \n",
              "3099                                      0   \n",
              "91                                        0   \n",
              "1577                                      0   \n",
              "487                                       0   \n",
              "\n",
              "      Specialization_International Business  \\\n",
              "5279                                      0   \n",
              "3099                                      0   \n",
              "91                                        0   \n",
              "1577                                      0   \n",
              "487                                       0   \n",
              "\n",
              "      Specialization_Marketing Management  \\\n",
              "5279                                    0   \n",
              "3099                                    0   \n",
              "91                                      0   \n",
              "1577                                    0   \n",
              "487                                     0   \n",
              "\n",
              "      Specialization_Media and Advertising  \\\n",
              "5279                                     0   \n",
              "3099                                     0   \n",
              "91                                       0   \n",
              "1577                                     0   \n",
              "487                                      0   \n",
              "\n",
              "      Specialization_Operations Management  Specialization_Retail Management  \\\n",
              "5279                                     0                                 0   \n",
              "3099                                     1                                 0   \n",
              "91                                       0                                 0   \n",
              "1577                                     1                                 0   \n",
              "487                                      0                                 0   \n",
              "\n",
              "      Specialization_Rural and Agribusiness  \\\n",
              "5279                                      0   \n",
              "3099                                      0   \n",
              "91                                        0   \n",
              "1577                                      0   \n",
              "487                                       0   \n",
              "\n",
              "      Specialization_Services Excellence  \\\n",
              "5279                                   0   \n",
              "3099                                   0   \n",
              "91                                     0   \n",
              "1577                                   0   \n",
              "487                                    0   \n",
              "\n",
              "      Specialization_Supply Chain Management  \\\n",
              "5279                                       0   \n",
              "3099                                       0   \n",
              "91                                         0   \n",
              "1577                                       0   \n",
              "487                                        0   \n",
              "\n",
              "      Specialization_Travel and Tourism  Specialization_Unknown  \\\n",
              "5279                                  0                       1   \n",
              "3099                                  0                       0   \n",
              "91                                    0                       0   \n",
              "1577                                  0                       0   \n",
              "487                                   0                       1   \n",
              "\n",
              "      How_did_u_hear_Email  How_did_u_hear_Multiple Sources  \\\n",
              "5279                     0                                0   \n",
              "3099                     0                                0   \n",
              "91                       0                                0   \n",
              "1577                     0                                0   \n",
              "487                      0                                0   \n",
              "\n",
              "      How_did_u_hear_Online Search  How_did_u_hear_Other  How_did_u_hear_SMS  \\\n",
              "5279                             0                     0                   0   \n",
              "3099                             1                     0                   0   \n",
              "91                               0                     1                   0   \n",
              "1577                             0                     1                   0   \n",
              "487                              0                     1                   0   \n",
              "\n",
              "      How_did_u_hear_Social Media  How_did_u_hear_Student of SomeSchool  \\\n",
              "5279                            0                                     0   \n",
              "3099                            0                                     0   \n",
              "91                              0                                     0   \n",
              "1577                            0                                     0   \n",
              "487                             0                                     0   \n",
              "\n",
              "      How_did_u_hear_Word Of Mouth  occupation_Housewife  occupation_Other  \\\n",
              "5279                             0                     0                 0   \n",
              "3099                             0                     0                 0   \n",
              "91                               0                     0                 0   \n",
              "1577                             0                     0                 0   \n",
              "487                              0                     0                 0   \n",
              "\n",
              "      occupation_Student  occupation_Unemployed  \\\n",
              "5279                   0                      1   \n",
              "3099                   0                      1   \n",
              "91                     0                      1   \n",
              "1577                   0                      1   \n",
              "487                    0                      1   \n",
              "\n",
              "      occupation_Working Professional  Tags_Busy  Tags_Closed by Horizzon  \\\n",
              "5279                                0          0                        0   \n",
              "3099                                0          0                        0   \n",
              "91                                  0          0                        0   \n",
              "1577                                0          0                        1   \n",
              "487                                 0          0                        0   \n",
              "\n",
              "      Tags_Diploma holder (Not Eligible)  Tags_Graduation in progress  \\\n",
              "5279                                   0                            0   \n",
              "3099                                   0                            0   \n",
              "91                                     0                            0   \n",
              "1577                                   0                            0   \n",
              "487                                    0                            0   \n",
              "\n",
              "      Tags_In confusion whether part time or DLP  \\\n",
              "5279                                           0   \n",
              "3099                                           0   \n",
              "91                                             0   \n",
              "1577                                           0   \n",
              "487                                            0   \n",
              "\n",
              "      Tags_Interested  in full time MBA  Tags_Interested in Next batch  \\\n",
              "5279                                  0                              0   \n",
              "3099                                  0                              0   \n",
              "91                                    0                              0   \n",
              "1577                                  0                              0   \n",
              "487                                   0                              0   \n",
              "\n",
              "      Tags_Interested in other courses  Tags_Lateral student  \\\n",
              "5279                                 0                     0   \n",
              "3099                                 0                     0   \n",
              "91                                   0                     0   \n",
              "1577                                 0                     0   \n",
              "487                                  0                     0   \n",
              "\n",
              "      Tags_Lost to EINS  Tags_Lost to Others  \\\n",
              "5279                  0                    0   \n",
              "3099                  0                    0   \n",
              "91                    0                    0   \n",
              "1577                  0                    0   \n",
              "487                   0                    0   \n",
              "\n",
              "      Tags_Not doing further education  Tags_Recognition issue (DEC approval)  \\\n",
              "5279                                 0                                      0   \n",
              "3099                                 0                                      0   \n",
              "91                                   0                                      0   \n",
              "1577                                 0                                      0   \n",
              "487                                  0                                      0   \n",
              "\n",
              "      Tags_Ringing  Tags_Shall take in the next coming month  \\\n",
              "5279             0                                         0   \n",
              "3099             0                                         0   \n",
              "91               0                                         0   \n",
              "1577             0                                         0   \n",
              "487              0                                         0   \n",
              "\n",
              "      Tags_Still Thinking  Tags_University not recognized  Tags_Unknown  \\\n",
              "5279                    0                               0             1   \n",
              "3099                    0                               0             1   \n",
              "91                      0                               0             1   \n",
              "1577                    0                               0             0   \n",
              "487                     0                               0             1   \n",
              "\n",
              "      Tags_Want to take admission but has financial problems  \\\n",
              "5279                                                  0        \n",
              "3099                                                  0        \n",
              "91                                                    0        \n",
              "1577                                                  0        \n",
              "487                                                   0        \n",
              "\n",
              "      Tags_Will revert after reading the email  Tags_in touch with EINS  \\\n",
              "5279                                         0                        0   \n",
              "3099                                         0                        0   \n",
              "91                                           0                        0   \n",
              "1577                                         0                        0   \n",
              "487                                          0                        0   \n",
              "\n",
              "      Tags_invalid number  Tags_number not provided  Tags_opp hangup  \\\n",
              "5279                    0                         0                0   \n",
              "3099                    0                         0                0   \n",
              "91                      0                         0                0   \n",
              "1577                    0                         0                0   \n",
              "487                     0                         0                0   \n",
              "\n",
              "      Tags_switched off  Tags_wrong number given  \\\n",
              "5279                  0                        0   \n",
              "3099                  0                        0   \n",
              "91                    0                        0   \n",
              "1577                  0                        0   \n",
              "487                   0                        0   \n",
              "\n",
              "      Lead_Quality_Low in Relevance  Lead_Quality_Might be  \\\n",
              "5279                              0                      0   \n",
              "3099                              0                      0   \n",
              "91                                0                      0   \n",
              "1577                              1                      0   \n",
              "487                               0                      0   \n",
              "\n",
              "      Lead_Quality_Not Sure  Lead_Quality_Worst  Lead_Profile_Lateral Student  \\\n",
              "5279                      1                   0                             0   \n",
              "3099                      1                   0                             0   \n",
              "91                        1                   0                             0   \n",
              "1577                      0                   0                             0   \n",
              "487                       1                   0                             0   \n",
              "\n",
              "      Lead_Profile_Other Leads  Lead_Profile_Potential Lead  \\\n",
              "5279                         0                            0   \n",
              "3099                         0                            0   \n",
              "91                           0                            0   \n",
              "1577                         0                            1   \n",
              "487                          0                            0   \n",
              "\n",
              "      Lead_Profile_Student of SomeSchool  Lead_Profile_Unknown  \\\n",
              "5279                                   0                     1   \n",
              "3099                                   0                     1   \n",
              "91                                     0                     1   \n",
              "1577                                   0                     0   \n",
              "487                                    0                     1   \n",
              "\n",
              "      Last_Notable_Activity_Email Bounced  \\\n",
              "5279                                    0   \n",
              "3099                                    0   \n",
              "91                                      0   \n",
              "1577                                    0   \n",
              "487                                     0   \n",
              "\n",
              "      Last_Notable_Activity_Email Link Clicked  \\\n",
              "5279                                         0   \n",
              "3099                                         0   \n",
              "91                                           0   \n",
              "1577                                         0   \n",
              "487                                          0   \n",
              "\n",
              "      Last_Notable_Activity_Email Marked Spam  \\\n",
              "5279                                        0   \n",
              "3099                                        0   \n",
              "91                                          0   \n",
              "1577                                        0   \n",
              "487                                         0   \n",
              "\n",
              "      Last_Notable_Activity_Email Opened  \\\n",
              "5279                                   0   \n",
              "3099                                   0   \n",
              "91                                     1   \n",
              "1577                                   1   \n",
              "487                                    1   \n",
              "\n",
              "      Last_Notable_Activity_Email Received  \\\n",
              "5279                                     0   \n",
              "3099                                     0   \n",
              "91                                       0   \n",
              "1577                                     0   \n",
              "487                                      0   \n",
              "\n",
              "      Last_Notable_Activity_Form Submitted on Website  \\\n",
              "5279                                                0   \n",
              "3099                                                0   \n",
              "91                                                  0   \n",
              "1577                                                0   \n",
              "487                                                 0   \n",
              "\n",
              "      Last_Notable_Activity_Had a Phone Conversation  \\\n",
              "5279                                               0   \n",
              "3099                                               0   \n",
              "91                                                 0   \n",
              "1577                                               0   \n",
              "487                                                0   \n",
              "\n",
              "      Last_Notable_Activity_Modified  \\\n",
              "5279                               1   \n",
              "3099                               0   \n",
              "91                                 0   \n",
              "1577                               0   \n",
              "487                                0   \n",
              "\n",
              "      Last_Notable_Activity_Olark Chat Conversation  \\\n",
              "5279                                              0   \n",
              "3099                                              0   \n",
              "91                                                0   \n",
              "1577                                              0   \n",
              "487                                               0   \n",
              "\n",
              "      Last_Notable_Activity_Page Visited on Website  \\\n",
              "5279                                              0   \n",
              "3099                                              0   \n",
              "91                                                0   \n",
              "1577                                              0   \n",
              "487                                               0   \n",
              "\n",
              "      Last_Notable_Activity_Resubscribed to emails  \\\n",
              "5279                                             0   \n",
              "3099                                             0   \n",
              "91                                               0   \n",
              "1577                                             0   \n",
              "487                                              0   \n",
              "\n",
              "      Last_Notable_Activity_SMS Sent  Last_Notable_Activity_Unreachable  \\\n",
              "5279                               0                                  0   \n",
              "3099                               1                                  0   \n",
              "91                                 0                                  0   \n",
              "1577                               0                                  0   \n",
              "487                                0                                  0   \n",
              "\n",
              "      Last_Notable_Activity_Unsubscribed  \\\n",
              "5279                                   0   \n",
              "3099                                   0   \n",
              "91                                     0   \n",
              "1577                                   0   \n",
              "487                                    0   \n",
              "\n",
              "      Last_Notable_Activity_View in browser link Clicked  \n",
              "5279                                                  0   \n",
              "3099                                                  0   \n",
              "91                                                    0   \n",
              "1577                                                  0   \n",
              "487                                                   0   "
            ]
          },
          "metadata": {
            "tags": []
          },
          "execution_count": 112
        }
      ]
    },
    {
      "cell_type": "markdown",
      "metadata": {
        "id": "P5ykvac630n8",
        "colab_type": "text"
      },
      "source": [
        "<font color = green> All the features are scaled now."
      ]
    },
    {
      "cell_type": "markdown",
      "metadata": {
        "id": "YjXKkvJB30n9",
        "colab_type": "text"
      },
      "source": [
        "#### MODEL BUILDING"
      ]
    },
    {
      "cell_type": "code",
      "metadata": {
        "id": "ptXGe-4-30n9",
        "colab_type": "code",
        "colab": {},
        "outputId": "822bbfe1-ac11-4628-a4c5-f25b8b86e958"
      },
      "source": [
        "X_train.shape"
      ],
      "execution_count": 0,
      "outputs": [
        {
          "output_type": "execute_result",
          "data": {
            "text/plain": [
              "(5911, 126)"
            ]
          },
          "metadata": {
            "tags": []
          },
          "execution_count": 113
        }
      ]
    },
    {
      "cell_type": "markdown",
      "metadata": {
        "id": "ITlR-WxM30n-",
        "colab_type": "text"
      },
      "source": [
        "<font color = green> Since we are having as many as 126 features with us, we can use the RFE to find out the only relevant/important contributor features and drop the rest for model building."
      ]
    },
    {
      "cell_type": "code",
      "metadata": {
        "id": "kT4YbnfN30n_",
        "colab_type": "code",
        "colab": {}
      },
      "source": [
        "from sklearn.linear_model import LogisticRegression\n",
        "logreg = LogisticRegression()\n",
        "from sklearn.feature_selection import RFE"
      ],
      "execution_count": 0,
      "outputs": []
    },
    {
      "cell_type": "code",
      "metadata": {
        "id": "oWguD-Br30oA",
        "colab_type": "code",
        "colab": {}
      },
      "source": [
        "rfe = RFE(logreg,25)\n",
        "rfe = rfe.fit(X_train,y_train)"
      ],
      "execution_count": 0,
      "outputs": []
    },
    {
      "cell_type": "code",
      "metadata": {
        "id": "znkAlz-x30oB",
        "colab_type": "code",
        "colab": {},
        "outputId": "a5f8e3a9-2cb6-4cca-e326-5460b8d80463"
      },
      "source": [
        "columns = col = X_train.columns[rfe.support_]\n",
        "columns"
      ],
      "execution_count": 0,
      "outputs": [
        {
          "output_type": "execute_result",
          "data": {
            "text/plain": [
              "Index(['Total Time Spent on Website', 'Lead_Origin_Landing Page Submission',\n",
              "       'Lead_Origin_Lead Add Form', 'Lead_Source_Welingak Website',\n",
              "       'Last_Activity_SMS Sent', 'Tags_Busy', 'Tags_Closed by Horizzon',\n",
              "       'Tags_Diploma holder (Not Eligible)',\n",
              "       'Tags_Interested in other courses', 'Tags_Lateral student',\n",
              "       'Tags_Lost to EINS', 'Tags_Not doing further education', 'Tags_Ringing',\n",
              "       'Tags_Unknown', 'Tags_Will revert after reading the email',\n",
              "       'Tags_invalid number', 'Tags_number not provided', 'Tags_switched off',\n",
              "       'Tags_wrong number given', 'Lead_Quality_Worst',\n",
              "       'Lead_Profile_Student of SomeSchool', 'Lead_Profile_Unknown',\n",
              "       'Last_Notable_Activity_Modified',\n",
              "       'Last_Notable_Activity_Olark Chat Conversation',\n",
              "       'Last_Notable_Activity_SMS Sent'],\n",
              "      dtype='object')"
            ]
          },
          "metadata": {
            "tags": []
          },
          "execution_count": 116
        }
      ]
    },
    {
      "cell_type": "markdown",
      "metadata": {
        "id": "v9I2DDoT30oD",
        "colab_type": "text"
      },
      "source": [
        "<font color = green> We will take the above columns suggested by the RFE as per the weightage given by RFE and take it forward and build logistic model and see what can it offer."
      ]
    },
    {
      "cell_type": "code",
      "metadata": {
        "id": "OxyUcp_t30oF",
        "colab_type": "code",
        "colab": {}
      },
      "source": [
        "#Importing the statsmodels library\n",
        "import statsmodels.api as sm"
      ],
      "execution_count": 0,
      "outputs": []
    },
    {
      "cell_type": "code",
      "metadata": {
        "id": "Trp1EY1m30oG",
        "colab_type": "code",
        "colab": {}
      },
      "source": [
        "# Creating X_test_RFE dataframe with RFE selected variables\n",
        "X_train_RFE = X_train[columns]"
      ],
      "execution_count": 0,
      "outputs": []
    },
    {
      "cell_type": "code",
      "metadata": {
        "id": "wxC0ixC230oI",
        "colab_type": "code",
        "colab": {},
        "outputId": "708db071-b3d0-4a72-a505-b44f51ff8505"
      },
      "source": [
        "model1 = sm.GLM(y_train,(sm.add_constant(X_train[columns])),family=sm.families.Binomial())\n",
        "model1.fit().summary()"
      ],
      "execution_count": 0,
      "outputs": [
        {
          "output_type": "execute_result",
          "data": {
            "text/html": [
              "<table class=\"simpletable\">\n",
              "<caption>Generalized Linear Model Regression Results</caption>\n",
              "<tr>\n",
              "  <th>Dep. Variable:</th>      <td>Converted</td>    <th>  No. Observations:  </th>  <td>  5911</td>  \n",
              "</tr>\n",
              "<tr>\n",
              "  <th>Model:</th>                 <td>GLM</td>       <th>  Df Residuals:      </th>  <td>  5885</td>  \n",
              "</tr>\n",
              "<tr>\n",
              "  <th>Model Family:</th>       <td>Binomial</td>     <th>  Df Model:          </th>  <td>    25</td>  \n",
              "</tr>\n",
              "<tr>\n",
              "  <th>Link Function:</th>        <td>logit</td>      <th>  Scale:             </th> <td>  1.0000</td> \n",
              "</tr>\n",
              "<tr>\n",
              "  <th>Method:</th>               <td>IRLS</td>       <th>  Log-Likelihood:    </th> <td> -1102.2</td> \n",
              "</tr>\n",
              "<tr>\n",
              "  <th>Date:</th>           <td>Mon, 26 Aug 2019</td> <th>  Deviance:          </th> <td>  2204.5</td> \n",
              "</tr>\n",
              "<tr>\n",
              "  <th>Time:</th>               <td>22:24:58</td>     <th>  Pearson chi2:      </th> <td>1.06e+04</td> \n",
              "</tr>\n",
              "<tr>\n",
              "  <th>No. Iterations:</th>        <td>24</td>        <th>  Covariance Type:   </th> <td>nonrobust</td>\n",
              "</tr>\n",
              "</table>\n",
              "<table class=\"simpletable\">\n",
              "<tr>\n",
              "                        <td></td>                           <th>coef</th>     <th>std err</th>      <th>z</th>      <th>P>|z|</th>  <th>[0.025</th>    <th>0.975]</th>  \n",
              "</tr>\n",
              "<tr>\n",
              "  <th>const</th>                                         <td>   -1.4592</td> <td>    0.330</td> <td>   -4.417</td> <td> 0.000</td> <td>   -2.107</td> <td>   -0.812</td>\n",
              "</tr>\n",
              "<tr>\n",
              "  <th>Total Time Spent on Website</th>                   <td>    0.9583</td> <td>    0.059</td> <td>   16.342</td> <td> 0.000</td> <td>    0.843</td> <td>    1.073</td>\n",
              "</tr>\n",
              "<tr>\n",
              "  <th>Lead_Origin_Landing Page Submission</th>           <td>   -1.1831</td> <td>    0.127</td> <td>   -9.280</td> <td> 0.000</td> <td>   -1.433</td> <td>   -0.933</td>\n",
              "</tr>\n",
              "<tr>\n",
              "  <th>Lead_Origin_Lead Add Form</th>                     <td>    0.3952</td> <td>    0.470</td> <td>    0.840</td> <td> 0.401</td> <td>   -0.526</td> <td>    1.317</td>\n",
              "</tr>\n",
              "<tr>\n",
              "  <th>Lead_Source_Welingak Website</th>                  <td>    4.4728</td> <td>    1.119</td> <td>    3.998</td> <td> 0.000</td> <td>    2.280</td> <td>    6.666</td>\n",
              "</tr>\n",
              "<tr>\n",
              "  <th>Last_Activity_SMS Sent</th>                        <td>    1.3422</td> <td>    0.235</td> <td>    5.722</td> <td> 0.000</td> <td>    0.882</td> <td>    1.802</td>\n",
              "</tr>\n",
              "<tr>\n",
              "  <th>Tags_Busy</th>                                     <td>    2.5312</td> <td>    0.387</td> <td>    6.535</td> <td> 0.000</td> <td>    1.772</td> <td>    3.290</td>\n",
              "</tr>\n",
              "<tr>\n",
              "  <th>Tags_Closed by Horizzon</th>                       <td>    8.1241</td> <td>    0.797</td> <td>   10.196</td> <td> 0.000</td> <td>    6.562</td> <td>    9.686</td>\n",
              "</tr>\n",
              "<tr>\n",
              "  <th>Tags_Diploma holder (Not Eligible)</th>            <td>  -21.8701</td> <td> 2.96e+04</td> <td>   -0.001</td> <td> 0.999</td> <td>-5.81e+04</td> <td>  5.8e+04</td>\n",
              "</tr>\n",
              "<tr>\n",
              "  <th>Tags_Interested in other courses</th>              <td>   -0.2482</td> <td>    0.479</td> <td>   -0.518</td> <td> 0.604</td> <td>   -1.187</td> <td>    0.690</td>\n",
              "</tr>\n",
              "<tr>\n",
              "  <th>Tags_Lateral student</th>                          <td>   27.6027</td> <td> 1.21e+05</td> <td>    0.000</td> <td> 1.000</td> <td>-2.36e+05</td> <td> 2.36e+05</td>\n",
              "</tr>\n",
              "<tr>\n",
              "  <th>Tags_Lost to EINS</th>                             <td>    8.4896</td> <td>    0.853</td> <td>    9.950</td> <td> 0.000</td> <td>    6.817</td> <td>   10.162</td>\n",
              "</tr>\n",
              "<tr>\n",
              "  <th>Tags_Not doing further education</th>              <td>   -0.8126</td> <td>    1.088</td> <td>   -0.747</td> <td> 0.455</td> <td>   -2.945</td> <td>    1.320</td>\n",
              "</tr>\n",
              "<tr>\n",
              "  <th>Tags_Ringing</th>                                  <td>   -2.0862</td> <td>    0.409</td> <td>   -5.103</td> <td> 0.000</td> <td>   -2.887</td> <td>   -1.285</td>\n",
              "</tr>\n",
              "<tr>\n",
              "  <th>Tags_Unknown</th>                                  <td>    1.7852</td> <td>    0.324</td> <td>    5.504</td> <td> 0.000</td> <td>    1.149</td> <td>    2.421</td>\n",
              "</tr>\n",
              "<tr>\n",
              "  <th>Tags_Will revert after reading the email</th>      <td>    5.9224</td> <td>    0.356</td> <td>   16.632</td> <td> 0.000</td> <td>    5.224</td> <td>    6.620</td>\n",
              "</tr>\n",
              "<tr>\n",
              "  <th>Tags_invalid number</th>                           <td>  -22.6188</td> <td> 2.75e+04</td> <td>   -0.001</td> <td> 0.999</td> <td> -5.4e+04</td> <td>  5.4e+04</td>\n",
              "</tr>\n",
              "<tr>\n",
              "  <th>Tags_number not provided</th>                      <td>  -22.8036</td> <td> 4.46e+04</td> <td>   -0.001</td> <td> 1.000</td> <td>-8.74e+04</td> <td> 8.74e+04</td>\n",
              "</tr>\n",
              "<tr>\n",
              "  <th>Tags_switched off</th>                             <td>   -2.7073</td> <td>    0.802</td> <td>   -3.375</td> <td> 0.001</td> <td>   -4.279</td> <td>   -1.135</td>\n",
              "</tr>\n",
              "<tr>\n",
              "  <th>Tags_wrong number given</th>                       <td>  -23.6339</td> <td> 3.43e+04</td> <td>   -0.001</td> <td> 0.999</td> <td>-6.73e+04</td> <td> 6.73e+04</td>\n",
              "</tr>\n",
              "<tr>\n",
              "  <th>Lead_Quality_Worst</th>                            <td>   -1.8345</td> <td>    0.810</td> <td>   -2.264</td> <td> 0.024</td> <td>   -3.423</td> <td>   -0.246</td>\n",
              "</tr>\n",
              "<tr>\n",
              "  <th>Lead_Profile_Student of SomeSchool</th>            <td>   -1.5290</td> <td>    0.942</td> <td>   -1.623</td> <td> 0.105</td> <td>   -3.376</td> <td>    0.317</td>\n",
              "</tr>\n",
              "<tr>\n",
              "  <th>Lead_Profile_Unknown</th>                          <td>   -1.1966</td> <td>    0.221</td> <td>   -5.412</td> <td> 0.000</td> <td>   -1.630</td> <td>   -0.763</td>\n",
              "</tr>\n",
              "<tr>\n",
              "  <th>Last_Notable_Activity_Modified</th>                <td>   -1.4348</td> <td>    0.155</td> <td>   -9.247</td> <td> 0.000</td> <td>   -1.739</td> <td>   -1.131</td>\n",
              "</tr>\n",
              "<tr>\n",
              "  <th>Last_Notable_Activity_Olark Chat Conversation</th> <td>   -1.9020</td> <td>    0.503</td> <td>   -3.783</td> <td> 0.000</td> <td>   -2.887</td> <td>   -0.916</td>\n",
              "</tr>\n",
              "<tr>\n",
              "  <th>Last_Notable_Activity_SMS Sent</th>                <td>    0.8779</td> <td>    0.272</td> <td>    3.225</td> <td> 0.001</td> <td>    0.344</td> <td>    1.412</td>\n",
              "</tr>\n",
              "</table>"
            ],
            "text/plain": [
              "<class 'statsmodels.iolib.summary.Summary'>\n",
              "\"\"\"\n",
              "                 Generalized Linear Model Regression Results                  \n",
              "==============================================================================\n",
              "Dep. Variable:              Converted   No. Observations:                 5911\n",
              "Model:                            GLM   Df Residuals:                     5885\n",
              "Model Family:                Binomial   Df Model:                           25\n",
              "Link Function:                  logit   Scale:                          1.0000\n",
              "Method:                          IRLS   Log-Likelihood:                -1102.2\n",
              "Date:                Mon, 26 Aug 2019   Deviance:                       2204.5\n",
              "Time:                        22:24:58   Pearson chi2:                 1.06e+04\n",
              "No. Iterations:                    24   Covariance Type:             nonrobust\n",
              "=================================================================================================================\n",
              "                                                    coef    std err          z      P>|z|      [0.025      0.975]\n",
              "-----------------------------------------------------------------------------------------------------------------\n",
              "const                                            -1.4592      0.330     -4.417      0.000      -2.107      -0.812\n",
              "Total Time Spent on Website                       0.9583      0.059     16.342      0.000       0.843       1.073\n",
              "Lead_Origin_Landing Page Submission              -1.1831      0.127     -9.280      0.000      -1.433      -0.933\n",
              "Lead_Origin_Lead Add Form                         0.3952      0.470      0.840      0.401      -0.526       1.317\n",
              "Lead_Source_Welingak Website                      4.4728      1.119      3.998      0.000       2.280       6.666\n",
              "Last_Activity_SMS Sent                            1.3422      0.235      5.722      0.000       0.882       1.802\n",
              "Tags_Busy                                         2.5312      0.387      6.535      0.000       1.772       3.290\n",
              "Tags_Closed by Horizzon                           8.1241      0.797     10.196      0.000       6.562       9.686\n",
              "Tags_Diploma holder (Not Eligible)              -21.8701   2.96e+04     -0.001      0.999   -5.81e+04     5.8e+04\n",
              "Tags_Interested in other courses                 -0.2482      0.479     -0.518      0.604      -1.187       0.690\n",
              "Tags_Lateral student                             27.6027   1.21e+05      0.000      1.000   -2.36e+05    2.36e+05\n",
              "Tags_Lost to EINS                                 8.4896      0.853      9.950      0.000       6.817      10.162\n",
              "Tags_Not doing further education                 -0.8126      1.088     -0.747      0.455      -2.945       1.320\n",
              "Tags_Ringing                                     -2.0862      0.409     -5.103      0.000      -2.887      -1.285\n",
              "Tags_Unknown                                      1.7852      0.324      5.504      0.000       1.149       2.421\n",
              "Tags_Will revert after reading the email          5.9224      0.356     16.632      0.000       5.224       6.620\n",
              "Tags_invalid number                             -22.6188   2.75e+04     -0.001      0.999    -5.4e+04     5.4e+04\n",
              "Tags_number not provided                        -22.8036   4.46e+04     -0.001      1.000   -8.74e+04    8.74e+04\n",
              "Tags_switched off                                -2.7073      0.802     -3.375      0.001      -4.279      -1.135\n",
              "Tags_wrong number given                         -23.6339   3.43e+04     -0.001      0.999   -6.73e+04    6.73e+04\n",
              "Lead_Quality_Worst                               -1.8345      0.810     -2.264      0.024      -3.423      -0.246\n",
              "Lead_Profile_Student of SomeSchool               -1.5290      0.942     -1.623      0.105      -3.376       0.317\n",
              "Lead_Profile_Unknown                             -1.1966      0.221     -5.412      0.000      -1.630      -0.763\n",
              "Last_Notable_Activity_Modified                   -1.4348      0.155     -9.247      0.000      -1.739      -1.131\n",
              "Last_Notable_Activity_Olark Chat Conversation    -1.9020      0.503     -3.783      0.000      -2.887      -0.916\n",
              "Last_Notable_Activity_SMS Sent                    0.8779      0.272      3.225      0.001       0.344       1.412\n",
              "=================================================================================================================\n",
              "\"\"\""
            ]
          },
          "metadata": {
            "tags": []
          },
          "execution_count": 119
        }
      ]
    },
    {
      "cell_type": "markdown",
      "metadata": {
        "id": "hqxjUbCA30oJ",
        "colab_type": "text"
      },
      "source": [
        "<font color = green> We can see there are some features that are not significant in our model, based on the p-values of the columns. We can remove these features one by one and analyse."
      ]
    },
    {
      "cell_type": "markdown",
      "metadata": {
        "id": "Tlvty2u830oJ",
        "colab_type": "text"
      },
      "source": [
        "<font color = green> We can see feature `Tags_Lateral student` is with p-value. Hence we can go and drop this column and build model again."
      ]
    },
    {
      "cell_type": "code",
      "metadata": {
        "id": "uhu7sLCg30oK",
        "colab_type": "code",
        "colab": {}
      },
      "source": [
        "X_train_RFE.drop(['Tags_Lateral student'],axis=1,inplace=True)"
      ],
      "execution_count": 0,
      "outputs": []
    },
    {
      "cell_type": "code",
      "metadata": {
        "id": "mSAfi3zB30oL",
        "colab_type": "code",
        "colab": {},
        "outputId": "0f039d08-1f24-4fbe-dc28-e4d9e49bf5bb"
      },
      "source": [
        "model2 = sm.GLM(y_train,(sm.add_constant(X_train_RFE)),family=sm.families.Binomial())\n",
        "model2.fit().summary()"
      ],
      "execution_count": 0,
      "outputs": [
        {
          "output_type": "execute_result",
          "data": {
            "text/html": [
              "<table class=\"simpletable\">\n",
              "<caption>Generalized Linear Model Regression Results</caption>\n",
              "<tr>\n",
              "  <th>Dep. Variable:</th>      <td>Converted</td>    <th>  No. Observations:  </th>  <td>  5911</td>  \n",
              "</tr>\n",
              "<tr>\n",
              "  <th>Model:</th>                 <td>GLM</td>       <th>  Df Residuals:      </th>  <td>  5886</td>  \n",
              "</tr>\n",
              "<tr>\n",
              "  <th>Model Family:</th>       <td>Binomial</td>     <th>  Df Model:          </th>  <td>    24</td>  \n",
              "</tr>\n",
              "<tr>\n",
              "  <th>Link Function:</th>        <td>logit</td>      <th>  Scale:             </th> <td>  1.0000</td> \n",
              "</tr>\n",
              "<tr>\n",
              "  <th>Method:</th>               <td>IRLS</td>       <th>  Log-Likelihood:    </th> <td> -1108.1</td> \n",
              "</tr>\n",
              "<tr>\n",
              "  <th>Date:</th>           <td>Mon, 26 Aug 2019</td> <th>  Deviance:          </th> <td>  2216.2</td> \n",
              "</tr>\n",
              "<tr>\n",
              "  <th>Time:</th>               <td>22:24:58</td>     <th>  Pearson chi2:      </th> <td>1.07e+04</td> \n",
              "</tr>\n",
              "<tr>\n",
              "  <th>No. Iterations:</th>        <td>24</td>        <th>  Covariance Type:   </th> <td>nonrobust</td>\n",
              "</tr>\n",
              "</table>\n",
              "<table class=\"simpletable\">\n",
              "<tr>\n",
              "                        <td></td>                           <th>coef</th>     <th>std err</th>      <th>z</th>      <th>P>|z|</th>  <th>[0.025</th>    <th>0.975]</th>  \n",
              "</tr>\n",
              "<tr>\n",
              "  <th>const</th>                                         <td>   -1.2670</td> <td>    0.313</td> <td>   -4.052</td> <td> 0.000</td> <td>   -1.880</td> <td>   -0.654</td>\n",
              "</tr>\n",
              "<tr>\n",
              "  <th>Total Time Spent on Website</th>                   <td>    0.9532</td> <td>    0.058</td> <td>   16.316</td> <td> 0.000</td> <td>    0.839</td> <td>    1.068</td>\n",
              "</tr>\n",
              "<tr>\n",
              "  <th>Lead_Origin_Landing Page Submission</th>           <td>   -1.1945</td> <td>    0.127</td> <td>   -9.385</td> <td> 0.000</td> <td>   -1.444</td> <td>   -0.945</td>\n",
              "</tr>\n",
              "<tr>\n",
              "  <th>Lead_Origin_Lead Add Form</th>                     <td>    0.5028</td> <td>    0.463</td> <td>    1.086</td> <td> 0.277</td> <td>   -0.405</td> <td>    1.410</td>\n",
              "</tr>\n",
              "<tr>\n",
              "  <th>Lead_Source_Welingak Website</th>                  <td>    4.3565</td> <td>    1.116</td> <td>    3.904</td> <td> 0.000</td> <td>    2.169</td> <td>    6.544</td>\n",
              "</tr>\n",
              "<tr>\n",
              "  <th>Last_Activity_SMS Sent</th>                        <td>    1.4112</td> <td>    0.232</td> <td>    6.077</td> <td> 0.000</td> <td>    0.956</td> <td>    1.866</td>\n",
              "</tr>\n",
              "<tr>\n",
              "  <th>Tags_Busy</th>                                     <td>    2.3229</td> <td>    0.370</td> <td>    6.281</td> <td> 0.000</td> <td>    1.598</td> <td>    3.048</td>\n",
              "</tr>\n",
              "<tr>\n",
              "  <th>Tags_Closed by Horizzon</th>                       <td>    7.8921</td> <td>    0.785</td> <td>   10.049</td> <td> 0.000</td> <td>    6.353</td> <td>    9.431</td>\n",
              "</tr>\n",
              "<tr>\n",
              "  <th>Tags_Diploma holder (Not Eligible)</th>            <td>  -22.0484</td> <td> 2.96e+04</td> <td>   -0.001</td> <td> 0.999</td> <td> -5.8e+04</td> <td>  5.8e+04</td>\n",
              "</tr>\n",
              "<tr>\n",
              "  <th>Tags_Interested in other courses</th>              <td>   -0.4463</td> <td>    0.466</td> <td>   -0.958</td> <td> 0.338</td> <td>   -1.360</td> <td>    0.467</td>\n",
              "</tr>\n",
              "<tr>\n",
              "  <th>Tags_Lost to EINS</th>                             <td>    8.3229</td> <td>    0.854</td> <td>    9.751</td> <td> 0.000</td> <td>    6.650</td> <td>    9.996</td>\n",
              "</tr>\n",
              "<tr>\n",
              "  <th>Tags_Not doing further education</th>              <td>   -0.9852</td> <td>    1.083</td> <td>   -0.910</td> <td> 0.363</td> <td>   -3.107</td> <td>    1.137</td>\n",
              "</tr>\n",
              "<tr>\n",
              "  <th>Tags_Ringing</th>                                  <td>   -2.2972</td> <td>    0.392</td> <td>   -5.853</td> <td> 0.000</td> <td>   -3.066</td> <td>   -1.528</td>\n",
              "</tr>\n",
              "<tr>\n",
              "  <th>Tags_Unknown</th>                                  <td>    1.5718</td> <td>    0.302</td> <td>    5.199</td> <td> 0.000</td> <td>    0.979</td> <td>    2.164</td>\n",
              "</tr>\n",
              "<tr>\n",
              "  <th>Tags_Will revert after reading the email</th>      <td>    5.7164</td> <td>    0.337</td> <td>   16.985</td> <td> 0.000</td> <td>    5.057</td> <td>    6.376</td>\n",
              "</tr>\n",
              "<tr>\n",
              "  <th>Tags_invalid number</th>                           <td>  -22.8168</td> <td> 2.75e+04</td> <td>   -0.001</td> <td> 0.999</td> <td>-5.39e+04</td> <td> 5.39e+04</td>\n",
              "</tr>\n",
              "<tr>\n",
              "  <th>Tags_number not provided</th>                      <td>  -23.0039</td> <td> 4.45e+04</td> <td>   -0.001</td> <td> 1.000</td> <td>-8.73e+04</td> <td> 8.72e+04</td>\n",
              "</tr>\n",
              "<tr>\n",
              "  <th>Tags_switched off</th>                             <td>   -2.9143</td> <td>    0.794</td> <td>   -3.669</td> <td> 0.000</td> <td>   -4.471</td> <td>   -1.358</td>\n",
              "</tr>\n",
              "<tr>\n",
              "  <th>Tags_wrong number given</th>                       <td>  -23.8262</td> <td> 3.44e+04</td> <td>   -0.001</td> <td> 0.999</td> <td>-6.74e+04</td> <td> 6.73e+04</td>\n",
              "</tr>\n",
              "<tr>\n",
              "  <th>Lead_Quality_Worst</th>                            <td>   -1.9371</td> <td>    0.805</td> <td>   -2.407</td> <td> 0.016</td> <td>   -3.514</td> <td>   -0.360</td>\n",
              "</tr>\n",
              "<tr>\n",
              "  <th>Lead_Profile_Student of SomeSchool</th>            <td>   -1.5309</td> <td>    0.929</td> <td>   -1.648</td> <td> 0.099</td> <td>   -3.352</td> <td>    0.290</td>\n",
              "</tr>\n",
              "<tr>\n",
              "  <th>Lead_Profile_Unknown</th>                          <td>   -1.1809</td> <td>    0.219</td> <td>   -5.403</td> <td> 0.000</td> <td>   -1.609</td> <td>   -0.753</td>\n",
              "</tr>\n",
              "<tr>\n",
              "  <th>Last_Notable_Activity_Modified</th>                <td>   -1.4341</td> <td>    0.155</td> <td>   -9.262</td> <td> 0.000</td> <td>   -1.738</td> <td>   -1.131</td>\n",
              "</tr>\n",
              "<tr>\n",
              "  <th>Last_Notable_Activity_Olark Chat Conversation</th> <td>   -1.9000</td> <td>    0.502</td> <td>   -3.784</td> <td> 0.000</td> <td>   -2.884</td> <td>   -0.916</td>\n",
              "</tr>\n",
              "<tr>\n",
              "  <th>Last_Notable_Activity_SMS Sent</th>                <td>    0.8218</td> <td>    0.270</td> <td>    3.044</td> <td> 0.002</td> <td>    0.293</td> <td>    1.351</td>\n",
              "</tr>\n",
              "</table>"
            ],
            "text/plain": [
              "<class 'statsmodels.iolib.summary.Summary'>\n",
              "\"\"\"\n",
              "                 Generalized Linear Model Regression Results                  \n",
              "==============================================================================\n",
              "Dep. Variable:              Converted   No. Observations:                 5911\n",
              "Model:                            GLM   Df Residuals:                     5886\n",
              "Model Family:                Binomial   Df Model:                           24\n",
              "Link Function:                  logit   Scale:                          1.0000\n",
              "Method:                          IRLS   Log-Likelihood:                -1108.1\n",
              "Date:                Mon, 26 Aug 2019   Deviance:                       2216.2\n",
              "Time:                        22:24:58   Pearson chi2:                 1.07e+04\n",
              "No. Iterations:                    24   Covariance Type:             nonrobust\n",
              "=================================================================================================================\n",
              "                                                    coef    std err          z      P>|z|      [0.025      0.975]\n",
              "-----------------------------------------------------------------------------------------------------------------\n",
              "const                                            -1.2670      0.313     -4.052      0.000      -1.880      -0.654\n",
              "Total Time Spent on Website                       0.9532      0.058     16.316      0.000       0.839       1.068\n",
              "Lead_Origin_Landing Page Submission              -1.1945      0.127     -9.385      0.000      -1.444      -0.945\n",
              "Lead_Origin_Lead Add Form                         0.5028      0.463      1.086      0.277      -0.405       1.410\n",
              "Lead_Source_Welingak Website                      4.3565      1.116      3.904      0.000       2.169       6.544\n",
              "Last_Activity_SMS Sent                            1.4112      0.232      6.077      0.000       0.956       1.866\n",
              "Tags_Busy                                         2.3229      0.370      6.281      0.000       1.598       3.048\n",
              "Tags_Closed by Horizzon                           7.8921      0.785     10.049      0.000       6.353       9.431\n",
              "Tags_Diploma holder (Not Eligible)              -22.0484   2.96e+04     -0.001      0.999    -5.8e+04     5.8e+04\n",
              "Tags_Interested in other courses                 -0.4463      0.466     -0.958      0.338      -1.360       0.467\n",
              "Tags_Lost to EINS                                 8.3229      0.854      9.751      0.000       6.650       9.996\n",
              "Tags_Not doing further education                 -0.9852      1.083     -0.910      0.363      -3.107       1.137\n",
              "Tags_Ringing                                     -2.2972      0.392     -5.853      0.000      -3.066      -1.528\n",
              "Tags_Unknown                                      1.5718      0.302      5.199      0.000       0.979       2.164\n",
              "Tags_Will revert after reading the email          5.7164      0.337     16.985      0.000       5.057       6.376\n",
              "Tags_invalid number                             -22.8168   2.75e+04     -0.001      0.999   -5.39e+04    5.39e+04\n",
              "Tags_number not provided                        -23.0039   4.45e+04     -0.001      1.000   -8.73e+04    8.72e+04\n",
              "Tags_switched off                                -2.9143      0.794     -3.669      0.000      -4.471      -1.358\n",
              "Tags_wrong number given                         -23.8262   3.44e+04     -0.001      0.999   -6.74e+04    6.73e+04\n",
              "Lead_Quality_Worst                               -1.9371      0.805     -2.407      0.016      -3.514      -0.360\n",
              "Lead_Profile_Student of SomeSchool               -1.5309      0.929     -1.648      0.099      -3.352       0.290\n",
              "Lead_Profile_Unknown                             -1.1809      0.219     -5.403      0.000      -1.609      -0.753\n",
              "Last_Notable_Activity_Modified                   -1.4341      0.155     -9.262      0.000      -1.738      -1.131\n",
              "Last_Notable_Activity_Olark Chat Conversation    -1.9000      0.502     -3.784      0.000      -2.884      -0.916\n",
              "Last_Notable_Activity_SMS Sent                    0.8218      0.270      3.044      0.002       0.293       1.351\n",
              "=================================================================================================================\n",
              "\"\"\""
            ]
          },
          "metadata": {
            "tags": []
          },
          "execution_count": 121
        }
      ]
    },
    {
      "cell_type": "markdown",
      "metadata": {
        "id": "Z6YfYPI230oM",
        "colab_type": "text"
      },
      "source": [
        "<font color = green> We can see feature `Tags_number not provided` is with p-value. Hence we can go and drop this column and build model again."
      ]
    },
    {
      "cell_type": "code",
      "metadata": {
        "id": "aWaF7Nri30oN",
        "colab_type": "code",
        "colab": {}
      },
      "source": [
        "X_train_RFE.drop(['Tags_number not provided'],axis=1,inplace=True)"
      ],
      "execution_count": 0,
      "outputs": []
    },
    {
      "cell_type": "code",
      "metadata": {
        "id": "Tkg0qQmG30oO",
        "colab_type": "code",
        "colab": {},
        "outputId": "4826d07e-3119-4463-afed-b098f030c540"
      },
      "source": [
        "model3 = sm.GLM(y_train,(sm.add_constant(X_train_RFE)),family=sm.families.Binomial())\n",
        "model3.fit().summary()"
      ],
      "execution_count": 0,
      "outputs": [
        {
          "output_type": "execute_result",
          "data": {
            "text/html": [
              "<table class=\"simpletable\">\n",
              "<caption>Generalized Linear Model Regression Results</caption>\n",
              "<tr>\n",
              "  <th>Dep. Variable:</th>      <td>Converted</td>    <th>  No. Observations:  </th>  <td>  5911</td>  \n",
              "</tr>\n",
              "<tr>\n",
              "  <th>Model:</th>                 <td>GLM</td>       <th>  Df Residuals:      </th>  <td>  5887</td>  \n",
              "</tr>\n",
              "<tr>\n",
              "  <th>Model Family:</th>       <td>Binomial</td>     <th>  Df Model:          </th>  <td>    23</td>  \n",
              "</tr>\n",
              "<tr>\n",
              "  <th>Link Function:</th>        <td>logit</td>      <th>  Scale:             </th> <td>  1.0000</td> \n",
              "</tr>\n",
              "<tr>\n",
              "  <th>Method:</th>               <td>IRLS</td>       <th>  Log-Likelihood:    </th> <td> -1109.6</td> \n",
              "</tr>\n",
              "<tr>\n",
              "  <th>Date:</th>           <td>Mon, 26 Aug 2019</td> <th>  Deviance:          </th> <td>  2219.2</td> \n",
              "</tr>\n",
              "<tr>\n",
              "  <th>Time:</th>               <td>22:24:59</td>     <th>  Pearson chi2:      </th> <td>1.08e+04</td> \n",
              "</tr>\n",
              "<tr>\n",
              "  <th>No. Iterations:</th>        <td>24</td>        <th>  Covariance Type:   </th> <td>nonrobust</td>\n",
              "</tr>\n",
              "</table>\n",
              "<table class=\"simpletable\">\n",
              "<tr>\n",
              "                        <td></td>                           <th>coef</th>     <th>std err</th>      <th>z</th>      <th>P>|z|</th>  <th>[0.025</th>    <th>0.975]</th>  \n",
              "</tr>\n",
              "<tr>\n",
              "  <th>const</th>                                         <td>   -1.3573</td> <td>    0.312</td> <td>   -4.355</td> <td> 0.000</td> <td>   -1.968</td> <td>   -0.746</td>\n",
              "</tr>\n",
              "<tr>\n",
              "  <th>Total Time Spent on Website</th>                   <td>    0.9555</td> <td>    0.058</td> <td>   16.359</td> <td> 0.000</td> <td>    0.841</td> <td>    1.070</td>\n",
              "</tr>\n",
              "<tr>\n",
              "  <th>Lead_Origin_Landing Page Submission</th>           <td>   -1.1998</td> <td>    0.127</td> <td>   -9.433</td> <td> 0.000</td> <td>   -1.449</td> <td>   -0.951</td>\n",
              "</tr>\n",
              "<tr>\n",
              "  <th>Lead_Origin_Lead Add Form</th>                     <td>    0.5114</td> <td>    0.465</td> <td>    1.100</td> <td> 0.271</td> <td>   -0.400</td> <td>    1.423</td>\n",
              "</tr>\n",
              "<tr>\n",
              "  <th>Lead_Source_Welingak Website</th>                  <td>    4.3453</td> <td>    1.117</td> <td>    3.891</td> <td> 0.000</td> <td>    2.157</td> <td>    6.534</td>\n",
              "</tr>\n",
              "<tr>\n",
              "  <th>Last_Activity_SMS Sent</th>                        <td>    1.4153</td> <td>    0.232</td> <td>    6.091</td> <td> 0.000</td> <td>    0.960</td> <td>    1.871</td>\n",
              "</tr>\n",
              "<tr>\n",
              "  <th>Tags_Busy</th>                                     <td>    2.4342</td> <td>    0.367</td> <td>    6.641</td> <td> 0.000</td> <td>    1.716</td> <td>    3.153</td>\n",
              "</tr>\n",
              "<tr>\n",
              "  <th>Tags_Closed by Horizzon</th>                       <td>    7.9975</td> <td>    0.784</td> <td>   10.195</td> <td> 0.000</td> <td>    6.460</td> <td>    9.535</td>\n",
              "</tr>\n",
              "<tr>\n",
              "  <th>Tags_Diploma holder (Not Eligible)</th>            <td>  -21.9484</td> <td> 2.96e+04</td> <td>   -0.001</td> <td> 0.999</td> <td> -5.8e+04</td> <td>  5.8e+04</td>\n",
              "</tr>\n",
              "<tr>\n",
              "  <th>Tags_Interested in other courses</th>              <td>   -0.3446</td> <td>    0.464</td> <td>   -0.742</td> <td> 0.458</td> <td>   -1.255</td> <td>    0.565</td>\n",
              "</tr>\n",
              "<tr>\n",
              "  <th>Tags_Lost to EINS</th>                             <td>    8.4175</td> <td>    0.850</td> <td>    9.898</td> <td> 0.000</td> <td>    6.751</td> <td>   10.084</td>\n",
              "</tr>\n",
              "<tr>\n",
              "  <th>Tags_Not doing further education</th>              <td>   -0.8890</td> <td>    1.083</td> <td>   -0.821</td> <td> 0.412</td> <td>   -3.011</td> <td>    1.233</td>\n",
              "</tr>\n",
              "<tr>\n",
              "  <th>Tags_Ringing</th>                                  <td>   -2.1835</td> <td>    0.389</td> <td>   -5.620</td> <td> 0.000</td> <td>   -2.945</td> <td>   -1.422</td>\n",
              "</tr>\n",
              "<tr>\n",
              "  <th>Tags_Unknown</th>                                  <td>    1.6848</td> <td>    0.298</td> <td>    5.650</td> <td> 0.000</td> <td>    1.100</td> <td>    2.269</td>\n",
              "</tr>\n",
              "<tr>\n",
              "  <th>Tags_Will revert after reading the email</th>      <td>    5.8217</td> <td>    0.334</td> <td>   17.428</td> <td> 0.000</td> <td>    5.167</td> <td>    6.476</td>\n",
              "</tr>\n",
              "<tr>\n",
              "  <th>Tags_invalid number</th>                           <td>  -22.7037</td> <td> 2.75e+04</td> <td>   -0.001</td> <td> 0.999</td> <td> -5.4e+04</td> <td> 5.39e+04</td>\n",
              "</tr>\n",
              "<tr>\n",
              "  <th>Tags_switched off</th>                             <td>   -2.7984</td> <td>    0.792</td> <td>   -3.533</td> <td> 0.000</td> <td>   -4.351</td> <td>   -1.246</td>\n",
              "</tr>\n",
              "<tr>\n",
              "  <th>Tags_wrong number given</th>                       <td>  -23.7191</td> <td> 3.44e+04</td> <td>   -0.001</td> <td> 0.999</td> <td>-6.73e+04</td> <td> 6.73e+04</td>\n",
              "</tr>\n",
              "<tr>\n",
              "  <th>Lead_Quality_Worst</th>                            <td>   -1.9126</td> <td>    0.805</td> <td>   -2.377</td> <td> 0.017</td> <td>   -3.490</td> <td>   -0.335</td>\n",
              "</tr>\n",
              "<tr>\n",
              "  <th>Lead_Profile_Student of SomeSchool</th>            <td>   -1.5142</td> <td>    0.937</td> <td>   -1.617</td> <td> 0.106</td> <td>   -3.350</td> <td>    0.321</td>\n",
              "</tr>\n",
              "<tr>\n",
              "  <th>Lead_Profile_Unknown</th>                          <td>   -1.1985</td> <td>    0.218</td> <td>   -5.488</td> <td> 0.000</td> <td>   -1.627</td> <td>   -0.770</td>\n",
              "</tr>\n",
              "<tr>\n",
              "  <th>Last_Notable_Activity_Modified</th>                <td>   -1.4366</td> <td>    0.155</td> <td>   -9.273</td> <td> 0.000</td> <td>   -1.740</td> <td>   -1.133</td>\n",
              "</tr>\n",
              "<tr>\n",
              "  <th>Last_Notable_Activity_Olark Chat Conversation</th> <td>   -1.9021</td> <td>    0.502</td> <td>   -3.786</td> <td> 0.000</td> <td>   -2.887</td> <td>   -0.918</td>\n",
              "</tr>\n",
              "<tr>\n",
              "  <th>Last_Notable_Activity_SMS Sent</th>                <td>    0.8067</td> <td>    0.270</td> <td>    2.990</td> <td> 0.003</td> <td>    0.278</td> <td>    1.336</td>\n",
              "</tr>\n",
              "</table>"
            ],
            "text/plain": [
              "<class 'statsmodels.iolib.summary.Summary'>\n",
              "\"\"\"\n",
              "                 Generalized Linear Model Regression Results                  \n",
              "==============================================================================\n",
              "Dep. Variable:              Converted   No. Observations:                 5911\n",
              "Model:                            GLM   Df Residuals:                     5887\n",
              "Model Family:                Binomial   Df Model:                           23\n",
              "Link Function:                  logit   Scale:                          1.0000\n",
              "Method:                          IRLS   Log-Likelihood:                -1109.6\n",
              "Date:                Mon, 26 Aug 2019   Deviance:                       2219.2\n",
              "Time:                        22:24:59   Pearson chi2:                 1.08e+04\n",
              "No. Iterations:                    24   Covariance Type:             nonrobust\n",
              "=================================================================================================================\n",
              "                                                    coef    std err          z      P>|z|      [0.025      0.975]\n",
              "-----------------------------------------------------------------------------------------------------------------\n",
              "const                                            -1.3573      0.312     -4.355      0.000      -1.968      -0.746\n",
              "Total Time Spent on Website                       0.9555      0.058     16.359      0.000       0.841       1.070\n",
              "Lead_Origin_Landing Page Submission              -1.1998      0.127     -9.433      0.000      -1.449      -0.951\n",
              "Lead_Origin_Lead Add Form                         0.5114      0.465      1.100      0.271      -0.400       1.423\n",
              "Lead_Source_Welingak Website                      4.3453      1.117      3.891      0.000       2.157       6.534\n",
              "Last_Activity_SMS Sent                            1.4153      0.232      6.091      0.000       0.960       1.871\n",
              "Tags_Busy                                         2.4342      0.367      6.641      0.000       1.716       3.153\n",
              "Tags_Closed by Horizzon                           7.9975      0.784     10.195      0.000       6.460       9.535\n",
              "Tags_Diploma holder (Not Eligible)              -21.9484   2.96e+04     -0.001      0.999    -5.8e+04     5.8e+04\n",
              "Tags_Interested in other courses                 -0.3446      0.464     -0.742      0.458      -1.255       0.565\n",
              "Tags_Lost to EINS                                 8.4175      0.850      9.898      0.000       6.751      10.084\n",
              "Tags_Not doing further education                 -0.8890      1.083     -0.821      0.412      -3.011       1.233\n",
              "Tags_Ringing                                     -2.1835      0.389     -5.620      0.000      -2.945      -1.422\n",
              "Tags_Unknown                                      1.6848      0.298      5.650      0.000       1.100       2.269\n",
              "Tags_Will revert after reading the email          5.8217      0.334     17.428      0.000       5.167       6.476\n",
              "Tags_invalid number                             -22.7037   2.75e+04     -0.001      0.999    -5.4e+04    5.39e+04\n",
              "Tags_switched off                                -2.7984      0.792     -3.533      0.000      -4.351      -1.246\n",
              "Tags_wrong number given                         -23.7191   3.44e+04     -0.001      0.999   -6.73e+04    6.73e+04\n",
              "Lead_Quality_Worst                               -1.9126      0.805     -2.377      0.017      -3.490      -0.335\n",
              "Lead_Profile_Student of SomeSchool               -1.5142      0.937     -1.617      0.106      -3.350       0.321\n",
              "Lead_Profile_Unknown                             -1.1985      0.218     -5.488      0.000      -1.627      -0.770\n",
              "Last_Notable_Activity_Modified                   -1.4366      0.155     -9.273      0.000      -1.740      -1.133\n",
              "Last_Notable_Activity_Olark Chat Conversation    -1.9021      0.502     -3.786      0.000      -2.887      -0.918\n",
              "Last_Notable_Activity_SMS Sent                    0.8067      0.270      2.990      0.003       0.278       1.336\n",
              "=================================================================================================================\n",
              "\"\"\""
            ]
          },
          "metadata": {
            "tags": []
          },
          "execution_count": 123
        }
      ]
    },
    {
      "cell_type": "markdown",
      "metadata": {
        "id": "B5aY3CmQ30oP",
        "colab_type": "text"
      },
      "source": [
        "<font color = green> We can see feature `Tags_Diploma holder (Not Eligible)` is with p-value. Hence we can go and drop this column and build model again."
      ]
    },
    {
      "cell_type": "code",
      "metadata": {
        "id": "AV8CCCuS30oP",
        "colab_type": "code",
        "colab": {}
      },
      "source": [
        "X_train_RFE.drop(['Tags_Diploma holder (Not Eligible)'],axis=1,inplace=True)"
      ],
      "execution_count": 0,
      "outputs": []
    },
    {
      "cell_type": "code",
      "metadata": {
        "id": "ORwdet2R30oQ",
        "colab_type": "code",
        "colab": {},
        "outputId": "49240189-614d-473b-f759-50ad11090b31"
      },
      "source": [
        "model4 = sm.GLM(y_train,(sm.add_constant(X_train_RFE)),family=sm.families.Binomial())\n",
        "model4.fit().summary()"
      ],
      "execution_count": 0,
      "outputs": [
        {
          "output_type": "execute_result",
          "data": {
            "text/html": [
              "<table class=\"simpletable\">\n",
              "<caption>Generalized Linear Model Regression Results</caption>\n",
              "<tr>\n",
              "  <th>Dep. Variable:</th>      <td>Converted</td>    <th>  No. Observations:  </th>  <td>  5911</td>  \n",
              "</tr>\n",
              "<tr>\n",
              "  <th>Model:</th>                 <td>GLM</td>       <th>  Df Residuals:      </th>  <td>  5888</td>  \n",
              "</tr>\n",
              "<tr>\n",
              "  <th>Model Family:</th>       <td>Binomial</td>     <th>  Df Model:          </th>  <td>    22</td>  \n",
              "</tr>\n",
              "<tr>\n",
              "  <th>Link Function:</th>        <td>logit</td>      <th>  Scale:             </th> <td>  1.0000</td> \n",
              "</tr>\n",
              "<tr>\n",
              "  <th>Method:</th>               <td>IRLS</td>       <th>  Log-Likelihood:    </th> <td> -1110.9</td> \n",
              "</tr>\n",
              "<tr>\n",
              "  <th>Date:</th>           <td>Mon, 26 Aug 2019</td> <th>  Deviance:          </th> <td>  2221.8</td> \n",
              "</tr>\n",
              "<tr>\n",
              "  <th>Time:</th>               <td>22:24:59</td>     <th>  Pearson chi2:      </th> <td>1.08e+04</td> \n",
              "</tr>\n",
              "<tr>\n",
              "  <th>No. Iterations:</th>        <td>23</td>        <th>  Covariance Type:   </th> <td>nonrobust</td>\n",
              "</tr>\n",
              "</table>\n",
              "<table class=\"simpletable\">\n",
              "<tr>\n",
              "                        <td></td>                           <th>coef</th>     <th>std err</th>      <th>z</th>      <th>P>|z|</th>  <th>[0.025</th>    <th>0.975]</th>  \n",
              "</tr>\n",
              "<tr>\n",
              "  <th>const</th>                                         <td>   -1.4325</td> <td>    0.310</td> <td>   -4.619</td> <td> 0.000</td> <td>   -2.040</td> <td>   -0.825</td>\n",
              "</tr>\n",
              "<tr>\n",
              "  <th>Total Time Spent on Website</th>                   <td>    0.9545</td> <td>    0.058</td> <td>   16.365</td> <td> 0.000</td> <td>    0.840</td> <td>    1.069</td>\n",
              "</tr>\n",
              "<tr>\n",
              "  <th>Lead_Origin_Landing Page Submission</th>           <td>   -1.2008</td> <td>    0.127</td> <td>   -9.440</td> <td> 0.000</td> <td>   -1.450</td> <td>   -0.951</td>\n",
              "</tr>\n",
              "<tr>\n",
              "  <th>Lead_Origin_Lead Add Form</th>                     <td>    0.5170</td> <td>    0.466</td> <td>    1.109</td> <td> 0.268</td> <td>   -0.397</td> <td>    1.431</td>\n",
              "</tr>\n",
              "<tr>\n",
              "  <th>Lead_Source_Welingak Website</th>                  <td>    4.3388</td> <td>    1.117</td> <td>    3.883</td> <td> 0.000</td> <td>    2.149</td> <td>    6.529</td>\n",
              "</tr>\n",
              "<tr>\n",
              "  <th>Last_Activity_SMS Sent</th>                        <td>    1.4143</td> <td>    0.232</td> <td>    6.091</td> <td> 0.000</td> <td>    0.959</td> <td>    1.869</td>\n",
              "</tr>\n",
              "<tr>\n",
              "  <th>Tags_Busy</th>                                     <td>    2.5174</td> <td>    0.365</td> <td>    6.903</td> <td> 0.000</td> <td>    1.803</td> <td>    3.232</td>\n",
              "</tr>\n",
              "<tr>\n",
              "  <th>Tags_Closed by Horizzon</th>                       <td>    8.0789</td> <td>    0.784</td> <td>   10.306</td> <td> 0.000</td> <td>    6.543</td> <td>    9.615</td>\n",
              "</tr>\n",
              "<tr>\n",
              "  <th>Tags_Interested in other courses</th>              <td>   -0.2593</td> <td>    0.463</td> <td>   -0.560</td> <td> 0.575</td> <td>   -1.167</td> <td>    0.648</td>\n",
              "</tr>\n",
              "<tr>\n",
              "  <th>Tags_Lost to EINS</th>                             <td>    8.5029</td> <td>    0.851</td> <td>    9.990</td> <td> 0.000</td> <td>    6.835</td> <td>   10.171</td>\n",
              "</tr>\n",
              "<tr>\n",
              "  <th>Tags_Not doing further education</th>              <td>   -0.7968</td> <td>    1.082</td> <td>   -0.736</td> <td> 0.462</td> <td>   -2.918</td> <td>    1.324</td>\n",
              "</tr>\n",
              "<tr>\n",
              "  <th>Tags_Ringing</th>                                  <td>   -2.1032</td> <td>    0.387</td> <td>   -5.436</td> <td> 0.000</td> <td>   -2.862</td> <td>   -1.345</td>\n",
              "</tr>\n",
              "<tr>\n",
              "  <th>Tags_Unknown</th>                                  <td>    1.7702</td> <td>    0.295</td> <td>    5.991</td> <td> 0.000</td> <td>    1.191</td> <td>    2.349</td>\n",
              "</tr>\n",
              "<tr>\n",
              "  <th>Tags_Will revert after reading the email</th>      <td>    5.9008</td> <td>    0.332</td> <td>   17.749</td> <td> 0.000</td> <td>    5.249</td> <td>    6.552</td>\n",
              "</tr>\n",
              "<tr>\n",
              "  <th>Tags_invalid number</th>                           <td>  -21.6171</td> <td> 1.67e+04</td> <td>   -0.001</td> <td> 0.999</td> <td>-3.27e+04</td> <td> 3.27e+04</td>\n",
              "</tr>\n",
              "<tr>\n",
              "  <th>Tags_switched off</th>                             <td>   -2.7172</td> <td>    0.791</td> <td>   -3.434</td> <td> 0.001</td> <td>   -4.268</td> <td>   -1.166</td>\n",
              "</tr>\n",
              "<tr>\n",
              "  <th>Tags_wrong number given</th>                       <td>  -22.6402</td> <td> 2.08e+04</td> <td>   -0.001</td> <td> 0.999</td> <td>-4.08e+04</td> <td> 4.08e+04</td>\n",
              "</tr>\n",
              "<tr>\n",
              "  <th>Lead_Quality_Worst</th>                            <td>   -1.9978</td> <td>    0.794</td> <td>   -2.516</td> <td> 0.012</td> <td>   -3.554</td> <td>   -0.442</td>\n",
              "</tr>\n",
              "<tr>\n",
              "  <th>Lead_Profile_Student of SomeSchool</th>            <td>   -1.4391</td> <td>    0.944</td> <td>   -1.524</td> <td> 0.127</td> <td>   -3.290</td> <td>    0.412</td>\n",
              "</tr>\n",
              "<tr>\n",
              "  <th>Lead_Profile_Unknown</th>                          <td>   -1.2107</td> <td>    0.218</td> <td>   -5.551</td> <td> 0.000</td> <td>   -1.638</td> <td>   -0.783</td>\n",
              "</tr>\n",
              "<tr>\n",
              "  <th>Last_Notable_Activity_Modified</th>                <td>   -1.4334</td> <td>    0.155</td> <td>   -9.256</td> <td> 0.000</td> <td>   -1.737</td> <td>   -1.130</td>\n",
              "</tr>\n",
              "<tr>\n",
              "  <th>Last_Notable_Activity_Olark Chat Conversation</th> <td>   -1.8979</td> <td>    0.502</td> <td>   -3.778</td> <td> 0.000</td> <td>   -2.882</td> <td>   -0.913</td>\n",
              "</tr>\n",
              "<tr>\n",
              "  <th>Last_Notable_Activity_SMS Sent</th>                <td>    0.8130</td> <td>    0.270</td> <td>    3.014</td> <td> 0.003</td> <td>    0.284</td> <td>    1.342</td>\n",
              "</tr>\n",
              "</table>"
            ],
            "text/plain": [
              "<class 'statsmodels.iolib.summary.Summary'>\n",
              "\"\"\"\n",
              "                 Generalized Linear Model Regression Results                  \n",
              "==============================================================================\n",
              "Dep. Variable:              Converted   No. Observations:                 5911\n",
              "Model:                            GLM   Df Residuals:                     5888\n",
              "Model Family:                Binomial   Df Model:                           22\n",
              "Link Function:                  logit   Scale:                          1.0000\n",
              "Method:                          IRLS   Log-Likelihood:                -1110.9\n",
              "Date:                Mon, 26 Aug 2019   Deviance:                       2221.8\n",
              "Time:                        22:24:59   Pearson chi2:                 1.08e+04\n",
              "No. Iterations:                    23   Covariance Type:             nonrobust\n",
              "=================================================================================================================\n",
              "                                                    coef    std err          z      P>|z|      [0.025      0.975]\n",
              "-----------------------------------------------------------------------------------------------------------------\n",
              "const                                            -1.4325      0.310     -4.619      0.000      -2.040      -0.825\n",
              "Total Time Spent on Website                       0.9545      0.058     16.365      0.000       0.840       1.069\n",
              "Lead_Origin_Landing Page Submission              -1.2008      0.127     -9.440      0.000      -1.450      -0.951\n",
              "Lead_Origin_Lead Add Form                         0.5170      0.466      1.109      0.268      -0.397       1.431\n",
              "Lead_Source_Welingak Website                      4.3388      1.117      3.883      0.000       2.149       6.529\n",
              "Last_Activity_SMS Sent                            1.4143      0.232      6.091      0.000       0.959       1.869\n",
              "Tags_Busy                                         2.5174      0.365      6.903      0.000       1.803       3.232\n",
              "Tags_Closed by Horizzon                           8.0789      0.784     10.306      0.000       6.543       9.615\n",
              "Tags_Interested in other courses                 -0.2593      0.463     -0.560      0.575      -1.167       0.648\n",
              "Tags_Lost to EINS                                 8.5029      0.851      9.990      0.000       6.835      10.171\n",
              "Tags_Not doing further education                 -0.7968      1.082     -0.736      0.462      -2.918       1.324\n",
              "Tags_Ringing                                     -2.1032      0.387     -5.436      0.000      -2.862      -1.345\n",
              "Tags_Unknown                                      1.7702      0.295      5.991      0.000       1.191       2.349\n",
              "Tags_Will revert after reading the email          5.9008      0.332     17.749      0.000       5.249       6.552\n",
              "Tags_invalid number                             -21.6171   1.67e+04     -0.001      0.999   -3.27e+04    3.27e+04\n",
              "Tags_switched off                                -2.7172      0.791     -3.434      0.001      -4.268      -1.166\n",
              "Tags_wrong number given                         -22.6402   2.08e+04     -0.001      0.999   -4.08e+04    4.08e+04\n",
              "Lead_Quality_Worst                               -1.9978      0.794     -2.516      0.012      -3.554      -0.442\n",
              "Lead_Profile_Student of SomeSchool               -1.4391      0.944     -1.524      0.127      -3.290       0.412\n",
              "Lead_Profile_Unknown                             -1.2107      0.218     -5.551      0.000      -1.638      -0.783\n",
              "Last_Notable_Activity_Modified                   -1.4334      0.155     -9.256      0.000      -1.737      -1.130\n",
              "Last_Notable_Activity_Olark Chat Conversation    -1.8979      0.502     -3.778      0.000      -2.882      -0.913\n",
              "Last_Notable_Activity_SMS Sent                    0.8130      0.270      3.014      0.003       0.284       1.342\n",
              "=================================================================================================================\n",
              "\"\"\""
            ]
          },
          "metadata": {
            "tags": []
          },
          "execution_count": 125
        }
      ]
    },
    {
      "cell_type": "markdown",
      "metadata": {
        "id": "QxIruaWw30oS",
        "colab_type": "text"
      },
      "source": [
        "<font color = green> We can see feature `Tags_invalid number` is with p-value. Hence we can go and drop this column and build model again."
      ]
    },
    {
      "cell_type": "code",
      "metadata": {
        "id": "kUl6F_5G30oT",
        "colab_type": "code",
        "colab": {}
      },
      "source": [
        "X_train_RFE.drop(['Tags_invalid number'],axis=1,inplace=True)"
      ],
      "execution_count": 0,
      "outputs": []
    },
    {
      "cell_type": "code",
      "metadata": {
        "id": "lTHnjmbg30oU",
        "colab_type": "code",
        "colab": {},
        "outputId": "73f9f79b-43d6-4e7f-f65a-655d62618fc9"
      },
      "source": [
        "model5 = sm.GLM(y_train,(sm.add_constant(X_train_RFE)),family=sm.families.Binomial())\n",
        "model5.fit().summary()"
      ],
      "execution_count": 0,
      "outputs": [
        {
          "output_type": "execute_result",
          "data": {
            "text/html": [
              "<table class=\"simpletable\">\n",
              "<caption>Generalized Linear Model Regression Results</caption>\n",
              "<tr>\n",
              "  <th>Dep. Variable:</th>      <td>Converted</td>    <th>  No. Observations:  </th>  <td>  5911</td>  \n",
              "</tr>\n",
              "<tr>\n",
              "  <th>Model:</th>                 <td>GLM</td>       <th>  Df Residuals:      </th>  <td>  5889</td>  \n",
              "</tr>\n",
              "<tr>\n",
              "  <th>Model Family:</th>       <td>Binomial</td>     <th>  Df Model:          </th>  <td>    21</td>  \n",
              "</tr>\n",
              "<tr>\n",
              "  <th>Link Function:</th>        <td>logit</td>      <th>  Scale:             </th> <td>  1.0000</td> \n",
              "</tr>\n",
              "<tr>\n",
              "  <th>Method:</th>               <td>IRLS</td>       <th>  Log-Likelihood:    </th> <td> -1113.5</td> \n",
              "</tr>\n",
              "<tr>\n",
              "  <th>Date:</th>           <td>Mon, 26 Aug 2019</td> <th>  Deviance:          </th> <td>  2226.9</td> \n",
              "</tr>\n",
              "<tr>\n",
              "  <th>Time:</th>               <td>22:24:59</td>     <th>  Pearson chi2:      </th> <td>1.08e+04</td> \n",
              "</tr>\n",
              "<tr>\n",
              "  <th>No. Iterations:</th>        <td>22</td>        <th>  Covariance Type:   </th> <td>nonrobust</td>\n",
              "</tr>\n",
              "</table>\n",
              "<table class=\"simpletable\">\n",
              "<tr>\n",
              "                        <td></td>                           <th>coef</th>     <th>std err</th>      <th>z</th>      <th>P>|z|</th>  <th>[0.025</th>    <th>0.975]</th>  \n",
              "</tr>\n",
              "<tr>\n",
              "  <th>const</th>                                         <td>   -1.5794</td> <td>    0.308</td> <td>   -5.126</td> <td> 0.000</td> <td>   -2.183</td> <td>   -0.976</td>\n",
              "</tr>\n",
              "<tr>\n",
              "  <th>Total Time Spent on Website</th>                   <td>    0.9583</td> <td>    0.058</td> <td>   16.437</td> <td> 0.000</td> <td>    0.844</td> <td>    1.073</td>\n",
              "</tr>\n",
              "<tr>\n",
              "  <th>Lead_Origin_Landing Page Submission</th>           <td>   -1.2079</td> <td>    0.127</td> <td>   -9.502</td> <td> 0.000</td> <td>   -1.457</td> <td>   -0.959</td>\n",
              "</tr>\n",
              "<tr>\n",
              "  <th>Lead_Origin_Lead Add Form</th>                     <td>    0.5325</td> <td>    0.469</td> <td>    1.135</td> <td> 0.256</td> <td>   -0.387</td> <td>    1.452</td>\n",
              "</tr>\n",
              "<tr>\n",
              "  <th>Lead_Source_Welingak Website</th>                  <td>    4.3217</td> <td>    1.118</td> <td>    3.864</td> <td> 0.000</td> <td>    2.130</td> <td>    6.514</td>\n",
              "</tr>\n",
              "<tr>\n",
              "  <th>Last_Activity_SMS Sent</th>                        <td>    1.4152</td> <td>    0.232</td> <td>    6.089</td> <td> 0.000</td> <td>    0.960</td> <td>    1.871</td>\n",
              "</tr>\n",
              "<tr>\n",
              "  <th>Tags_Busy</th>                                     <td>    2.6869</td> <td>    0.361</td> <td>    7.441</td> <td> 0.000</td> <td>    1.979</td> <td>    3.395</td>\n",
              "</tr>\n",
              "<tr>\n",
              "  <th>Tags_Closed by Horizzon</th>                       <td>    8.2369</td> <td>    0.783</td> <td>   10.517</td> <td> 0.000</td> <td>    6.702</td> <td>    9.772</td>\n",
              "</tr>\n",
              "<tr>\n",
              "  <th>Tags_Interested in other courses</th>              <td>   -0.1031</td> <td>    0.461</td> <td>   -0.224</td> <td> 0.823</td> <td>   -1.007</td> <td>    0.801</td>\n",
              "</tr>\n",
              "<tr>\n",
              "  <th>Tags_Lost to EINS</th>                             <td>    8.6475</td> <td>    0.848</td> <td>   10.203</td> <td> 0.000</td> <td>    6.986</td> <td>   10.309</td>\n",
              "</tr>\n",
              "<tr>\n",
              "  <th>Tags_Not doing further education</th>              <td>   -0.6445</td> <td>    1.082</td> <td>   -0.596</td> <td> 0.551</td> <td>   -2.765</td> <td>    1.476</td>\n",
              "</tr>\n",
              "<tr>\n",
              "  <th>Tags_Ringing</th>                                  <td>   -1.9301</td> <td>    0.383</td> <td>   -5.045</td> <td> 0.000</td> <td>   -2.680</td> <td>   -1.180</td>\n",
              "</tr>\n",
              "<tr>\n",
              "  <th>Tags_Unknown</th>                                  <td>    1.9406</td> <td>    0.291</td> <td>    6.665</td> <td> 0.000</td> <td>    1.370</td> <td>    2.511</td>\n",
              "</tr>\n",
              "<tr>\n",
              "  <th>Tags_Will revert after reading the email</th>      <td>    6.0618</td> <td>    0.330</td> <td>   18.374</td> <td> 0.000</td> <td>    5.415</td> <td>    6.708</td>\n",
              "</tr>\n",
              "<tr>\n",
              "  <th>Tags_switched off</th>                             <td>   -2.5413</td> <td>    0.789</td> <td>   -3.221</td> <td> 0.001</td> <td>   -4.088</td> <td>   -0.995</td>\n",
              "</tr>\n",
              "<tr>\n",
              "  <th>Tags_wrong number given</th>                       <td>  -21.4739</td> <td> 1.26e+04</td> <td>   -0.002</td> <td> 0.999</td> <td>-2.48e+04</td> <td> 2.47e+04</td>\n",
              "</tr>\n",
              "<tr>\n",
              "  <th>Lead_Quality_Worst</th>                            <td>   -1.9712</td> <td>    0.793</td> <td>   -2.485</td> <td> 0.013</td> <td>   -3.526</td> <td>   -0.416</td>\n",
              "</tr>\n",
              "<tr>\n",
              "  <th>Lead_Profile_Student of SomeSchool</th>            <td>   -1.4070</td> <td>    0.957</td> <td>   -1.471</td> <td> 0.141</td> <td>   -3.282</td> <td>    0.468</td>\n",
              "</tr>\n",
              "<tr>\n",
              "  <th>Lead_Profile_Unknown</th>                          <td>   -1.2288</td> <td>    0.218</td> <td>   -5.640</td> <td> 0.000</td> <td>   -1.656</td> <td>   -0.802</td>\n",
              "</tr>\n",
              "<tr>\n",
              "  <th>Last_Notable_Activity_Modified</th>                <td>   -1.4310</td> <td>    0.155</td> <td>   -9.235</td> <td> 0.000</td> <td>   -1.735</td> <td>   -1.127</td>\n",
              "</tr>\n",
              "<tr>\n",
              "  <th>Last_Notable_Activity_Olark Chat Conversation</th> <td>   -1.8997</td> <td>    0.503</td> <td>   -3.779</td> <td> 0.000</td> <td>   -2.885</td> <td>   -0.915</td>\n",
              "</tr>\n",
              "<tr>\n",
              "  <th>Last_Notable_Activity_SMS Sent</th>                <td>    0.7974</td> <td>    0.270</td> <td>    2.957</td> <td> 0.003</td> <td>    0.269</td> <td>    1.326</td>\n",
              "</tr>\n",
              "</table>"
            ],
            "text/plain": [
              "<class 'statsmodels.iolib.summary.Summary'>\n",
              "\"\"\"\n",
              "                 Generalized Linear Model Regression Results                  \n",
              "==============================================================================\n",
              "Dep. Variable:              Converted   No. Observations:                 5911\n",
              "Model:                            GLM   Df Residuals:                     5889\n",
              "Model Family:                Binomial   Df Model:                           21\n",
              "Link Function:                  logit   Scale:                          1.0000\n",
              "Method:                          IRLS   Log-Likelihood:                -1113.5\n",
              "Date:                Mon, 26 Aug 2019   Deviance:                       2226.9\n",
              "Time:                        22:24:59   Pearson chi2:                 1.08e+04\n",
              "No. Iterations:                    22   Covariance Type:             nonrobust\n",
              "=================================================================================================================\n",
              "                                                    coef    std err          z      P>|z|      [0.025      0.975]\n",
              "-----------------------------------------------------------------------------------------------------------------\n",
              "const                                            -1.5794      0.308     -5.126      0.000      -2.183      -0.976\n",
              "Total Time Spent on Website                       0.9583      0.058     16.437      0.000       0.844       1.073\n",
              "Lead_Origin_Landing Page Submission              -1.2079      0.127     -9.502      0.000      -1.457      -0.959\n",
              "Lead_Origin_Lead Add Form                         0.5325      0.469      1.135      0.256      -0.387       1.452\n",
              "Lead_Source_Welingak Website                      4.3217      1.118      3.864      0.000       2.130       6.514\n",
              "Last_Activity_SMS Sent                            1.4152      0.232      6.089      0.000       0.960       1.871\n",
              "Tags_Busy                                         2.6869      0.361      7.441      0.000       1.979       3.395\n",
              "Tags_Closed by Horizzon                           8.2369      0.783     10.517      0.000       6.702       9.772\n",
              "Tags_Interested in other courses                 -0.1031      0.461     -0.224      0.823      -1.007       0.801\n",
              "Tags_Lost to EINS                                 8.6475      0.848     10.203      0.000       6.986      10.309\n",
              "Tags_Not doing further education                 -0.6445      1.082     -0.596      0.551      -2.765       1.476\n",
              "Tags_Ringing                                     -1.9301      0.383     -5.045      0.000      -2.680      -1.180\n",
              "Tags_Unknown                                      1.9406      0.291      6.665      0.000       1.370       2.511\n",
              "Tags_Will revert after reading the email          6.0618      0.330     18.374      0.000       5.415       6.708\n",
              "Tags_switched off                                -2.5413      0.789     -3.221      0.001      -4.088      -0.995\n",
              "Tags_wrong number given                         -21.4739   1.26e+04     -0.002      0.999   -2.48e+04    2.47e+04\n",
              "Lead_Quality_Worst                               -1.9712      0.793     -2.485      0.013      -3.526      -0.416\n",
              "Lead_Profile_Student of SomeSchool               -1.4070      0.957     -1.471      0.141      -3.282       0.468\n",
              "Lead_Profile_Unknown                             -1.2288      0.218     -5.640      0.000      -1.656      -0.802\n",
              "Last_Notable_Activity_Modified                   -1.4310      0.155     -9.235      0.000      -1.735      -1.127\n",
              "Last_Notable_Activity_Olark Chat Conversation    -1.8997      0.503     -3.779      0.000      -2.885      -0.915\n",
              "Last_Notable_Activity_SMS Sent                    0.7974      0.270      2.957      0.003       0.269       1.326\n",
              "=================================================================================================================\n",
              "\"\"\""
            ]
          },
          "metadata": {
            "tags": []
          },
          "execution_count": 127
        }
      ]
    },
    {
      "cell_type": "markdown",
      "metadata": {
        "id": "WxT1_IdA30oX",
        "colab_type": "text"
      },
      "source": [
        "<font color = green> We can see feature `Tags_wrong number given` is with p-value. Hence we can go and drop this column and build model again."
      ]
    },
    {
      "cell_type": "code",
      "metadata": {
        "id": "d_2JZp3o30oX",
        "colab_type": "code",
        "colab": {}
      },
      "source": [
        "X_train_RFE.drop(['Tags_wrong number given'],axis=1,inplace=True)"
      ],
      "execution_count": 0,
      "outputs": []
    },
    {
      "cell_type": "code",
      "metadata": {
        "id": "Ghq5idsY30oY",
        "colab_type": "code",
        "colab": {},
        "outputId": "86804926-bab6-4d72-cf4d-7aa3d33a83e3"
      },
      "source": [
        "model6 = sm.GLM(y_train,(sm.add_constant(X_train_RFE)),family=sm.families.Binomial())\n",
        "model6.fit().summary()"
      ],
      "execution_count": 0,
      "outputs": [
        {
          "output_type": "execute_result",
          "data": {
            "text/html": [
              "<table class=\"simpletable\">\n",
              "<caption>Generalized Linear Model Regression Results</caption>\n",
              "<tr>\n",
              "  <th>Dep. Variable:</th>      <td>Converted</td>    <th>  No. Observations:  </th>  <td>  5911</td>  \n",
              "</tr>\n",
              "<tr>\n",
              "  <th>Model:</th>                 <td>GLM</td>       <th>  Df Residuals:      </th>  <td>  5890</td>  \n",
              "</tr>\n",
              "<tr>\n",
              "  <th>Model Family:</th>       <td>Binomial</td>     <th>  Df Model:          </th>  <td>    20</td>  \n",
              "</tr>\n",
              "<tr>\n",
              "  <th>Link Function:</th>        <td>logit</td>      <th>  Scale:             </th> <td>  1.0000</td> \n",
              "</tr>\n",
              "<tr>\n",
              "  <th>Method:</th>               <td>IRLS</td>       <th>  Log-Likelihood:    </th> <td> -1116.3</td> \n",
              "</tr>\n",
              "<tr>\n",
              "  <th>Date:</th>           <td>Mon, 26 Aug 2019</td> <th>  Deviance:          </th> <td>  2232.6</td> \n",
              "</tr>\n",
              "<tr>\n",
              "  <th>Time:</th>               <td>22:25:00</td>     <th>  Pearson chi2:      </th> <td>1.07e+04</td> \n",
              "</tr>\n",
              "<tr>\n",
              "  <th>No. Iterations:</th>         <td>8</td>        <th>  Covariance Type:   </th> <td>nonrobust</td>\n",
              "</tr>\n",
              "</table>\n",
              "<table class=\"simpletable\">\n",
              "<tr>\n",
              "                        <td></td>                           <th>coef</th>     <th>std err</th>      <th>z</th>      <th>P>|z|</th>  <th>[0.025</th>    <th>0.975]</th>  \n",
              "</tr>\n",
              "<tr>\n",
              "  <th>const</th>                                         <td>   -1.7292</td> <td>    0.308</td> <td>   -5.617</td> <td> 0.000</td> <td>   -2.333</td> <td>   -1.126</td>\n",
              "</tr>\n",
              "<tr>\n",
              "  <th>Total Time Spent on Website</th>                   <td>    0.9578</td> <td>    0.058</td> <td>   16.441</td> <td> 0.000</td> <td>    0.844</td> <td>    1.072</td>\n",
              "</tr>\n",
              "<tr>\n",
              "  <th>Lead_Origin_Landing Page Submission</th>           <td>   -1.2159</td> <td>    0.127</td> <td>   -9.568</td> <td> 0.000</td> <td>   -1.465</td> <td>   -0.967</td>\n",
              "</tr>\n",
              "<tr>\n",
              "  <th>Lead_Origin_Lead Add Form</th>                     <td>    0.5466</td> <td>    0.471</td> <td>    1.160</td> <td> 0.246</td> <td>   -0.377</td> <td>    1.470</td>\n",
              "</tr>\n",
              "<tr>\n",
              "  <th>Lead_Source_Welingak Website</th>                  <td>    4.3034</td> <td>    1.119</td> <td>    3.845</td> <td> 0.000</td> <td>    2.110</td> <td>    6.497</td>\n",
              "</tr>\n",
              "<tr>\n",
              "  <th>Last_Activity_SMS Sent</th>                        <td>    1.4146</td> <td>    0.232</td> <td>    6.085</td> <td> 0.000</td> <td>    0.959</td> <td>    1.870</td>\n",
              "</tr>\n",
              "<tr>\n",
              "  <th>Tags_Busy</th>                                     <td>    2.8387</td> <td>    0.360</td> <td>    7.882</td> <td> 0.000</td> <td>    2.133</td> <td>    3.545</td>\n",
              "</tr>\n",
              "<tr>\n",
              "  <th>Tags_Closed by Horizzon</th>                       <td>    8.3748</td> <td>    0.784</td> <td>   10.689</td> <td> 0.000</td> <td>    6.839</td> <td>    9.910</td>\n",
              "</tr>\n",
              "<tr>\n",
              "  <th>Tags_Interested in other courses</th>              <td>    0.0391</td> <td>    0.461</td> <td>    0.085</td> <td> 0.932</td> <td>   -0.865</td> <td>    0.943</td>\n",
              "</tr>\n",
              "<tr>\n",
              "  <th>Tags_Lost to EINS</th>                             <td>    8.7672</td> <td>    0.844</td> <td>   10.383</td> <td> 0.000</td> <td>    7.112</td> <td>   10.422</td>\n",
              "</tr>\n",
              "<tr>\n",
              "  <th>Tags_Not doing further education</th>              <td>   -0.5004</td> <td>    1.081</td> <td>   -0.463</td> <td> 0.644</td> <td>   -2.620</td> <td>    1.619</td>\n",
              "</tr>\n",
              "<tr>\n",
              "  <th>Tags_Ringing</th>                                  <td>   -1.7709</td> <td>    0.381</td> <td>   -4.650</td> <td> 0.000</td> <td>   -2.517</td> <td>   -1.025</td>\n",
              "</tr>\n",
              "<tr>\n",
              "  <th>Tags_Unknown</th>                                  <td>    2.0845</td> <td>    0.291</td> <td>    7.162</td> <td> 0.000</td> <td>    1.514</td> <td>    2.655</td>\n",
              "</tr>\n",
              "<tr>\n",
              "  <th>Tags_Will revert after reading the email</th>      <td>    6.2095</td> <td>    0.330</td> <td>   18.819</td> <td> 0.000</td> <td>    5.563</td> <td>    6.856</td>\n",
              "</tr>\n",
              "<tr>\n",
              "  <th>Tags_switched off</th>                             <td>   -2.3813</td> <td>    0.788</td> <td>   -3.021</td> <td> 0.003</td> <td>   -3.926</td> <td>   -0.837</td>\n",
              "</tr>\n",
              "<tr>\n",
              "  <th>Lead_Quality_Worst</th>                            <td>   -1.9094</td> <td>    0.796</td> <td>   -2.399</td> <td> 0.016</td> <td>   -3.469</td> <td>   -0.350</td>\n",
              "</tr>\n",
              "<tr>\n",
              "  <th>Lead_Profile_Student of SomeSchool</th>            <td>   -1.3798</td> <td>    0.967</td> <td>   -1.427</td> <td> 0.154</td> <td>   -3.275</td> <td>    0.515</td>\n",
              "</tr>\n",
              "<tr>\n",
              "  <th>Lead_Profile_Unknown</th>                          <td>   -1.2154</td> <td>    0.218</td> <td>   -5.587</td> <td> 0.000</td> <td>   -1.642</td> <td>   -0.789</td>\n",
              "</tr>\n",
              "<tr>\n",
              "  <th>Last_Notable_Activity_Modified</th>                <td>   -1.4295</td> <td>    0.155</td> <td>   -9.225</td> <td> 0.000</td> <td>   -1.733</td> <td>   -1.126</td>\n",
              "</tr>\n",
              "<tr>\n",
              "  <th>Last_Notable_Activity_Olark Chat Conversation</th> <td>   -1.9038</td> <td>    0.503</td> <td>   -3.787</td> <td> 0.000</td> <td>   -2.889</td> <td>   -0.918</td>\n",
              "</tr>\n",
              "<tr>\n",
              "  <th>Last_Notable_Activity_SMS Sent</th>                <td>    0.7799</td> <td>    0.269</td> <td>    2.895</td> <td> 0.004</td> <td>    0.252</td> <td>    1.308</td>\n",
              "</tr>\n",
              "</table>"
            ],
            "text/plain": [
              "<class 'statsmodels.iolib.summary.Summary'>\n",
              "\"\"\"\n",
              "                 Generalized Linear Model Regression Results                  \n",
              "==============================================================================\n",
              "Dep. Variable:              Converted   No. Observations:                 5911\n",
              "Model:                            GLM   Df Residuals:                     5890\n",
              "Model Family:                Binomial   Df Model:                           20\n",
              "Link Function:                  logit   Scale:                          1.0000\n",
              "Method:                          IRLS   Log-Likelihood:                -1116.3\n",
              "Date:                Mon, 26 Aug 2019   Deviance:                       2232.6\n",
              "Time:                        22:25:00   Pearson chi2:                 1.07e+04\n",
              "No. Iterations:                     8   Covariance Type:             nonrobust\n",
              "=================================================================================================================\n",
              "                                                    coef    std err          z      P>|z|      [0.025      0.975]\n",
              "-----------------------------------------------------------------------------------------------------------------\n",
              "const                                            -1.7292      0.308     -5.617      0.000      -2.333      -1.126\n",
              "Total Time Spent on Website                       0.9578      0.058     16.441      0.000       0.844       1.072\n",
              "Lead_Origin_Landing Page Submission              -1.2159      0.127     -9.568      0.000      -1.465      -0.967\n",
              "Lead_Origin_Lead Add Form                         0.5466      0.471      1.160      0.246      -0.377       1.470\n",
              "Lead_Source_Welingak Website                      4.3034      1.119      3.845      0.000       2.110       6.497\n",
              "Last_Activity_SMS Sent                            1.4146      0.232      6.085      0.000       0.959       1.870\n",
              "Tags_Busy                                         2.8387      0.360      7.882      0.000       2.133       3.545\n",
              "Tags_Closed by Horizzon                           8.3748      0.784     10.689      0.000       6.839       9.910\n",
              "Tags_Interested in other courses                  0.0391      0.461      0.085      0.932      -0.865       0.943\n",
              "Tags_Lost to EINS                                 8.7672      0.844     10.383      0.000       7.112      10.422\n",
              "Tags_Not doing further education                 -0.5004      1.081     -0.463      0.644      -2.620       1.619\n",
              "Tags_Ringing                                     -1.7709      0.381     -4.650      0.000      -2.517      -1.025\n",
              "Tags_Unknown                                      2.0845      0.291      7.162      0.000       1.514       2.655\n",
              "Tags_Will revert after reading the email          6.2095      0.330     18.819      0.000       5.563       6.856\n",
              "Tags_switched off                                -2.3813      0.788     -3.021      0.003      -3.926      -0.837\n",
              "Lead_Quality_Worst                               -1.9094      0.796     -2.399      0.016      -3.469      -0.350\n",
              "Lead_Profile_Student of SomeSchool               -1.3798      0.967     -1.427      0.154      -3.275       0.515\n",
              "Lead_Profile_Unknown                             -1.2154      0.218     -5.587      0.000      -1.642      -0.789\n",
              "Last_Notable_Activity_Modified                   -1.4295      0.155     -9.225      0.000      -1.733      -1.126\n",
              "Last_Notable_Activity_Olark Chat Conversation    -1.9038      0.503     -3.787      0.000      -2.889      -0.918\n",
              "Last_Notable_Activity_SMS Sent                    0.7799      0.269      2.895      0.004       0.252       1.308\n",
              "=================================================================================================================\n",
              "\"\"\""
            ]
          },
          "metadata": {
            "tags": []
          },
          "execution_count": 129
        }
      ]
    },
    {
      "cell_type": "markdown",
      "metadata": {
        "id": "gpl23oiX30oa",
        "colab_type": "text"
      },
      "source": [
        "<font color = green> We can see feature `Tags_Interested in other courses` is with p-value. Hence we can go and drop this column and build model again."
      ]
    },
    {
      "cell_type": "code",
      "metadata": {
        "id": "z0cfvgrf30ob",
        "colab_type": "code",
        "colab": {}
      },
      "source": [
        "X_train_RFE.drop(['Tags_Interested in other courses'],axis=1,inplace=True)"
      ],
      "execution_count": 0,
      "outputs": []
    },
    {
      "cell_type": "code",
      "metadata": {
        "id": "vyKUm6bn30oc",
        "colab_type": "code",
        "colab": {},
        "outputId": "b9831f62-91c3-4a5d-f122-4795200469e6"
      },
      "source": [
        "model7 = sm.GLM(y_train,(sm.add_constant(X_train_RFE)),family=sm.families.Binomial())\n",
        "model7.fit().summary()"
      ],
      "execution_count": 0,
      "outputs": [
        {
          "output_type": "execute_result",
          "data": {
            "text/html": [
              "<table class=\"simpletable\">\n",
              "<caption>Generalized Linear Model Regression Results</caption>\n",
              "<tr>\n",
              "  <th>Dep. Variable:</th>      <td>Converted</td>    <th>  No. Observations:  </th>  <td>  5911</td>  \n",
              "</tr>\n",
              "<tr>\n",
              "  <th>Model:</th>                 <td>GLM</td>       <th>  Df Residuals:      </th>  <td>  5891</td>  \n",
              "</tr>\n",
              "<tr>\n",
              "  <th>Model Family:</th>       <td>Binomial</td>     <th>  Df Model:          </th>  <td>    19</td>  \n",
              "</tr>\n",
              "<tr>\n",
              "  <th>Link Function:</th>        <td>logit</td>      <th>  Scale:             </th> <td>  1.0000</td> \n",
              "</tr>\n",
              "<tr>\n",
              "  <th>Method:</th>               <td>IRLS</td>       <th>  Log-Likelihood:    </th> <td> -1116.3</td> \n",
              "</tr>\n",
              "<tr>\n",
              "  <th>Date:</th>           <td>Mon, 26 Aug 2019</td> <th>  Deviance:          </th> <td>  2232.6</td> \n",
              "</tr>\n",
              "<tr>\n",
              "  <th>Time:</th>               <td>22:25:00</td>     <th>  Pearson chi2:      </th> <td>1.07e+04</td> \n",
              "</tr>\n",
              "<tr>\n",
              "  <th>No. Iterations:</th>         <td>8</td>        <th>  Covariance Type:   </th> <td>nonrobust</td>\n",
              "</tr>\n",
              "</table>\n",
              "<table class=\"simpletable\">\n",
              "<tr>\n",
              "                        <td></td>                           <th>coef</th>     <th>std err</th>      <th>z</th>      <th>P>|z|</th>  <th>[0.025</th>    <th>0.975]</th>  \n",
              "</tr>\n",
              "<tr>\n",
              "  <th>const</th>                                         <td>   -1.7165</td> <td>    0.269</td> <td>   -6.384</td> <td> 0.000</td> <td>   -2.243</td> <td>   -1.190</td>\n",
              "</tr>\n",
              "<tr>\n",
              "  <th>Total Time Spent on Website</th>                   <td>    0.9578</td> <td>    0.058</td> <td>   16.441</td> <td> 0.000</td> <td>    0.844</td> <td>    1.072</td>\n",
              "</tr>\n",
              "<tr>\n",
              "  <th>Lead_Origin_Landing Page Submission</th>           <td>   -1.2163</td> <td>    0.127</td> <td>   -9.578</td> <td> 0.000</td> <td>   -1.465</td> <td>   -0.967</td>\n",
              "</tr>\n",
              "<tr>\n",
              "  <th>Lead_Origin_Lead Add Form</th>                     <td>    0.5464</td> <td>    0.471</td> <td>    1.160</td> <td> 0.246</td> <td>   -0.377</td> <td>    1.470</td>\n",
              "</tr>\n",
              "<tr>\n",
              "  <th>Lead_Source_Welingak Website</th>                  <td>    4.3035</td> <td>    1.119</td> <td>    3.845</td> <td> 0.000</td> <td>    2.110</td> <td>    6.497</td>\n",
              "</tr>\n",
              "<tr>\n",
              "  <th>Last_Activity_SMS Sent</th>                        <td>    1.4139</td> <td>    0.232</td> <td>    6.085</td> <td> 0.000</td> <td>    0.959</td> <td>    1.869</td>\n",
              "</tr>\n",
              "<tr>\n",
              "  <th>Tags_Busy</th>                                     <td>    2.8262</td> <td>    0.328</td> <td>    8.606</td> <td> 0.000</td> <td>    2.183</td> <td>    3.470</td>\n",
              "</tr>\n",
              "<tr>\n",
              "  <th>Tags_Closed by Horizzon</th>                       <td>    8.3618</td> <td>    0.768</td> <td>   10.888</td> <td> 0.000</td> <td>    6.857</td> <td>    9.867</td>\n",
              "</tr>\n",
              "<tr>\n",
              "  <th>Tags_Lost to EINS</th>                             <td>    8.7556</td> <td>    0.833</td> <td>   10.509</td> <td> 0.000</td> <td>    7.123</td> <td>   10.389</td>\n",
              "</tr>\n",
              "<tr>\n",
              "  <th>Tags_Not doing further education</th>              <td>   -0.5129</td> <td>    1.071</td> <td>   -0.479</td> <td> 0.632</td> <td>   -2.612</td> <td>    1.586</td>\n",
              "</tr>\n",
              "<tr>\n",
              "  <th>Tags_Ringing</th>                                  <td>   -1.7831</td> <td>    0.352</td> <td>   -5.069</td> <td> 0.000</td> <td>   -2.473</td> <td>   -1.094</td>\n",
              "</tr>\n",
              "<tr>\n",
              "  <th>Tags_Unknown</th>                                  <td>    2.0718</td> <td>    0.249</td> <td>    8.328</td> <td> 0.000</td> <td>    1.584</td> <td>    2.559</td>\n",
              "</tr>\n",
              "<tr>\n",
              "  <th>Tags_Will revert after reading the email</th>      <td>    6.1969</td> <td>    0.294</td> <td>   21.094</td> <td> 0.000</td> <td>    5.621</td> <td>    6.773</td>\n",
              "</tr>\n",
              "<tr>\n",
              "  <th>Tags_switched off</th>                             <td>   -2.3936</td> <td>    0.774</td> <td>   -3.091</td> <td> 0.002</td> <td>   -3.912</td> <td>   -0.876</td>\n",
              "</tr>\n",
              "<tr>\n",
              "  <th>Lead_Quality_Worst</th>                            <td>   -1.9100</td> <td>    0.796</td> <td>   -2.400</td> <td> 0.016</td> <td>   -3.470</td> <td>   -0.350</td>\n",
              "</tr>\n",
              "<tr>\n",
              "  <th>Lead_Profile_Student of SomeSchool</th>            <td>   -1.3841</td> <td>    0.964</td> <td>   -1.435</td> <td> 0.151</td> <td>   -3.275</td> <td>    0.506</td>\n",
              "</tr>\n",
              "<tr>\n",
              "  <th>Lead_Profile_Unknown</th>                          <td>   -1.2153</td> <td>    0.218</td> <td>   -5.586</td> <td> 0.000</td> <td>   -1.642</td> <td>   -0.789</td>\n",
              "</tr>\n",
              "<tr>\n",
              "  <th>Last_Notable_Activity_Modified</th>                <td>   -1.4288</td> <td>    0.155</td> <td>   -9.236</td> <td> 0.000</td> <td>   -1.732</td> <td>   -1.126</td>\n",
              "</tr>\n",
              "<tr>\n",
              "  <th>Last_Notable_Activity_Olark Chat Conversation</th> <td>   -1.9036</td> <td>    0.503</td> <td>   -3.787</td> <td> 0.000</td> <td>   -2.889</td> <td>   -0.918</td>\n",
              "</tr>\n",
              "<tr>\n",
              "  <th>Last_Notable_Activity_SMS Sent</th>                <td>    0.7803</td> <td>    0.269</td> <td>    2.897</td> <td> 0.004</td> <td>    0.252</td> <td>    1.308</td>\n",
              "</tr>\n",
              "</table>"
            ],
            "text/plain": [
              "<class 'statsmodels.iolib.summary.Summary'>\n",
              "\"\"\"\n",
              "                 Generalized Linear Model Regression Results                  \n",
              "==============================================================================\n",
              "Dep. Variable:              Converted   No. Observations:                 5911\n",
              "Model:                            GLM   Df Residuals:                     5891\n",
              "Model Family:                Binomial   Df Model:                           19\n",
              "Link Function:                  logit   Scale:                          1.0000\n",
              "Method:                          IRLS   Log-Likelihood:                -1116.3\n",
              "Date:                Mon, 26 Aug 2019   Deviance:                       2232.6\n",
              "Time:                        22:25:00   Pearson chi2:                 1.07e+04\n",
              "No. Iterations:                     8   Covariance Type:             nonrobust\n",
              "=================================================================================================================\n",
              "                                                    coef    std err          z      P>|z|      [0.025      0.975]\n",
              "-----------------------------------------------------------------------------------------------------------------\n",
              "const                                            -1.7165      0.269     -6.384      0.000      -2.243      -1.190\n",
              "Total Time Spent on Website                       0.9578      0.058     16.441      0.000       0.844       1.072\n",
              "Lead_Origin_Landing Page Submission              -1.2163      0.127     -9.578      0.000      -1.465      -0.967\n",
              "Lead_Origin_Lead Add Form                         0.5464      0.471      1.160      0.246      -0.377       1.470\n",
              "Lead_Source_Welingak Website                      4.3035      1.119      3.845      0.000       2.110       6.497\n",
              "Last_Activity_SMS Sent                            1.4139      0.232      6.085      0.000       0.959       1.869\n",
              "Tags_Busy                                         2.8262      0.328      8.606      0.000       2.183       3.470\n",
              "Tags_Closed by Horizzon                           8.3618      0.768     10.888      0.000       6.857       9.867\n",
              "Tags_Lost to EINS                                 8.7556      0.833     10.509      0.000       7.123      10.389\n",
              "Tags_Not doing further education                 -0.5129      1.071     -0.479      0.632      -2.612       1.586\n",
              "Tags_Ringing                                     -1.7831      0.352     -5.069      0.000      -2.473      -1.094\n",
              "Tags_Unknown                                      2.0718      0.249      8.328      0.000       1.584       2.559\n",
              "Tags_Will revert after reading the email          6.1969      0.294     21.094      0.000       5.621       6.773\n",
              "Tags_switched off                                -2.3936      0.774     -3.091      0.002      -3.912      -0.876\n",
              "Lead_Quality_Worst                               -1.9100      0.796     -2.400      0.016      -3.470      -0.350\n",
              "Lead_Profile_Student of SomeSchool               -1.3841      0.964     -1.435      0.151      -3.275       0.506\n",
              "Lead_Profile_Unknown                             -1.2153      0.218     -5.586      0.000      -1.642      -0.789\n",
              "Last_Notable_Activity_Modified                   -1.4288      0.155     -9.236      0.000      -1.732      -1.126\n",
              "Last_Notable_Activity_Olark Chat Conversation    -1.9036      0.503     -3.787      0.000      -2.889      -0.918\n",
              "Last_Notable_Activity_SMS Sent                    0.7803      0.269      2.897      0.004       0.252       1.308\n",
              "=================================================================================================================\n",
              "\"\"\""
            ]
          },
          "metadata": {
            "tags": []
          },
          "execution_count": 131
        }
      ]
    },
    {
      "cell_type": "markdown",
      "metadata": {
        "id": "_CS6sjLE30og",
        "colab_type": "text"
      },
      "source": [
        "<font color = green> We can see feature `Tags_Not doing further education` is with p-value. Hence we can go and drop this column and build model again."
      ]
    },
    {
      "cell_type": "code",
      "metadata": {
        "id": "YL6_D-k-30og",
        "colab_type": "code",
        "colab": {}
      },
      "source": [
        "X_train_RFE.drop(['Tags_Not doing further education'],axis=1,inplace=True)"
      ],
      "execution_count": 0,
      "outputs": []
    },
    {
      "cell_type": "code",
      "metadata": {
        "id": "qv2Ng6Ii30oh",
        "colab_type": "code",
        "colab": {},
        "outputId": "18c09e3d-6704-4abc-b49e-13eeaef1599b"
      },
      "source": [
        "model8 = sm.GLM(y_train,(sm.add_constant(X_train_RFE)),family=sm.families.Binomial())\n",
        "model8.fit().summary()"
      ],
      "execution_count": 0,
      "outputs": [
        {
          "output_type": "execute_result",
          "data": {
            "text/html": [
              "<table class=\"simpletable\">\n",
              "<caption>Generalized Linear Model Regression Results</caption>\n",
              "<tr>\n",
              "  <th>Dep. Variable:</th>      <td>Converted</td>    <th>  No. Observations:  </th>  <td>  5911</td>  \n",
              "</tr>\n",
              "<tr>\n",
              "  <th>Model:</th>                 <td>GLM</td>       <th>  Df Residuals:      </th>  <td>  5892</td>  \n",
              "</tr>\n",
              "<tr>\n",
              "  <th>Model Family:</th>       <td>Binomial</td>     <th>  Df Model:          </th>  <td>    18</td>  \n",
              "</tr>\n",
              "<tr>\n",
              "  <th>Link Function:</th>        <td>logit</td>      <th>  Scale:             </th> <td>  1.0000</td> \n",
              "</tr>\n",
              "<tr>\n",
              "  <th>Method:</th>               <td>IRLS</td>       <th>  Log-Likelihood:    </th> <td> -1116.4</td> \n",
              "</tr>\n",
              "<tr>\n",
              "  <th>Date:</th>           <td>Mon, 26 Aug 2019</td> <th>  Deviance:          </th> <td>  2232.9</td> \n",
              "</tr>\n",
              "<tr>\n",
              "  <th>Time:</th>               <td>22:25:00</td>     <th>  Pearson chi2:      </th> <td>1.07e+04</td> \n",
              "</tr>\n",
              "<tr>\n",
              "  <th>No. Iterations:</th>         <td>8</td>        <th>  Covariance Type:   </th> <td>nonrobust</td>\n",
              "</tr>\n",
              "</table>\n",
              "<table class=\"simpletable\">\n",
              "<tr>\n",
              "                        <td></td>                           <th>coef</th>     <th>std err</th>      <th>z</th>      <th>P>|z|</th>  <th>[0.025</th>    <th>0.975]</th>  \n",
              "</tr>\n",
              "<tr>\n",
              "  <th>const</th>                                         <td>   -1.7428</td> <td>    0.264</td> <td>   -6.591</td> <td> 0.000</td> <td>   -2.261</td> <td>   -1.225</td>\n",
              "</tr>\n",
              "<tr>\n",
              "  <th>Total Time Spent on Website</th>                   <td>    0.9582</td> <td>    0.058</td> <td>   16.450</td> <td> 0.000</td> <td>    0.844</td> <td>    1.072</td>\n",
              "</tr>\n",
              "<tr>\n",
              "  <th>Lead_Origin_Landing Page Submission</th>           <td>   -1.2183</td> <td>    0.127</td> <td>   -9.597</td> <td> 0.000</td> <td>   -1.467</td> <td>   -0.969</td>\n",
              "</tr>\n",
              "<tr>\n",
              "  <th>Lead_Origin_Lead Add Form</th>                     <td>    0.5499</td> <td>    0.472</td> <td>    1.166</td> <td> 0.243</td> <td>   -0.374</td> <td>    1.474</td>\n",
              "</tr>\n",
              "<tr>\n",
              "  <th>Lead_Source_Welingak Website</th>                  <td>    4.2999</td> <td>    1.119</td> <td>    3.842</td> <td> 0.000</td> <td>    2.106</td> <td>    6.494</td>\n",
              "</tr>\n",
              "<tr>\n",
              "  <th>Last_Activity_SMS Sent</th>                        <td>    1.4154</td> <td>    0.232</td> <td>    6.091</td> <td> 0.000</td> <td>    0.960</td> <td>    1.871</td>\n",
              "</tr>\n",
              "<tr>\n",
              "  <th>Tags_Busy</th>                                     <td>    2.8485</td> <td>    0.326</td> <td>    8.737</td> <td> 0.000</td> <td>    2.209</td> <td>    3.488</td>\n",
              "</tr>\n",
              "<tr>\n",
              "  <th>Tags_Closed by Horizzon</th>                       <td>    8.3844</td> <td>    0.767</td> <td>   10.931</td> <td> 0.000</td> <td>    6.881</td> <td>    9.888</td>\n",
              "</tr>\n",
              "<tr>\n",
              "  <th>Tags_Lost to EINS</th>                             <td>    8.7817</td> <td>    0.833</td> <td>   10.540</td> <td> 0.000</td> <td>    7.149</td> <td>   10.415</td>\n",
              "</tr>\n",
              "<tr>\n",
              "  <th>Tags_Ringing</th>                                  <td>   -1.7612</td> <td>    0.350</td> <td>   -5.038</td> <td> 0.000</td> <td>   -2.446</td> <td>   -1.076</td>\n",
              "</tr>\n",
              "<tr>\n",
              "  <th>Tags_Unknown</th>                                  <td>    2.0922</td> <td>    0.246</td> <td>    8.492</td> <td> 0.000</td> <td>    1.609</td> <td>    2.575</td>\n",
              "</tr>\n",
              "<tr>\n",
              "  <th>Tags_Will revert after reading the email</th>      <td>    6.2200</td> <td>    0.291</td> <td>   21.383</td> <td> 0.000</td> <td>    5.650</td> <td>    6.790</td>\n",
              "</tr>\n",
              "<tr>\n",
              "  <th>Tags_switched off</th>                             <td>   -2.3720</td> <td>    0.774</td> <td>   -3.066</td> <td> 0.002</td> <td>   -3.888</td> <td>   -0.856</td>\n",
              "</tr>\n",
              "<tr>\n",
              "  <th>Lead_Quality_Worst</th>                            <td>   -1.9502</td> <td>    0.789</td> <td>   -2.472</td> <td> 0.013</td> <td>   -3.497</td> <td>   -0.404</td>\n",
              "</tr>\n",
              "<tr>\n",
              "  <th>Lead_Profile_Student of SomeSchool</th>            <td>   -1.3483</td> <td>    0.966</td> <td>   -1.396</td> <td> 0.163</td> <td>   -3.241</td> <td>    0.545</td>\n",
              "</tr>\n",
              "<tr>\n",
              "  <th>Lead_Profile_Unknown</th>                          <td>   -1.2088</td> <td>    0.217</td> <td>   -5.569</td> <td> 0.000</td> <td>   -1.634</td> <td>   -0.783</td>\n",
              "</tr>\n",
              "<tr>\n",
              "  <th>Last_Notable_Activity_Modified</th>                <td>   -1.4291</td> <td>    0.155</td> <td>   -9.237</td> <td> 0.000</td> <td>   -1.732</td> <td>   -1.126</td>\n",
              "</tr>\n",
              "<tr>\n",
              "  <th>Last_Notable_Activity_Olark Chat Conversation</th> <td>   -1.9035</td> <td>    0.503</td> <td>   -3.785</td> <td> 0.000</td> <td>   -2.889</td> <td>   -0.918</td>\n",
              "</tr>\n",
              "<tr>\n",
              "  <th>Last_Notable_Activity_SMS Sent</th>                <td>    0.7793</td> <td>    0.269</td> <td>    2.893</td> <td> 0.004</td> <td>    0.251</td> <td>    1.307</td>\n",
              "</tr>\n",
              "</table>"
            ],
            "text/plain": [
              "<class 'statsmodels.iolib.summary.Summary'>\n",
              "\"\"\"\n",
              "                 Generalized Linear Model Regression Results                  \n",
              "==============================================================================\n",
              "Dep. Variable:              Converted   No. Observations:                 5911\n",
              "Model:                            GLM   Df Residuals:                     5892\n",
              "Model Family:                Binomial   Df Model:                           18\n",
              "Link Function:                  logit   Scale:                          1.0000\n",
              "Method:                          IRLS   Log-Likelihood:                -1116.4\n",
              "Date:                Mon, 26 Aug 2019   Deviance:                       2232.9\n",
              "Time:                        22:25:00   Pearson chi2:                 1.07e+04\n",
              "No. Iterations:                     8   Covariance Type:             nonrobust\n",
              "=================================================================================================================\n",
              "                                                    coef    std err          z      P>|z|      [0.025      0.975]\n",
              "-----------------------------------------------------------------------------------------------------------------\n",
              "const                                            -1.7428      0.264     -6.591      0.000      -2.261      -1.225\n",
              "Total Time Spent on Website                       0.9582      0.058     16.450      0.000       0.844       1.072\n",
              "Lead_Origin_Landing Page Submission              -1.2183      0.127     -9.597      0.000      -1.467      -0.969\n",
              "Lead_Origin_Lead Add Form                         0.5499      0.472      1.166      0.243      -0.374       1.474\n",
              "Lead_Source_Welingak Website                      4.2999      1.119      3.842      0.000       2.106       6.494\n",
              "Last_Activity_SMS Sent                            1.4154      0.232      6.091      0.000       0.960       1.871\n",
              "Tags_Busy                                         2.8485      0.326      8.737      0.000       2.209       3.488\n",
              "Tags_Closed by Horizzon                           8.3844      0.767     10.931      0.000       6.881       9.888\n",
              "Tags_Lost to EINS                                 8.7817      0.833     10.540      0.000       7.149      10.415\n",
              "Tags_Ringing                                     -1.7612      0.350     -5.038      0.000      -2.446      -1.076\n",
              "Tags_Unknown                                      2.0922      0.246      8.492      0.000       1.609       2.575\n",
              "Tags_Will revert after reading the email          6.2200      0.291     21.383      0.000       5.650       6.790\n",
              "Tags_switched off                                -2.3720      0.774     -3.066      0.002      -3.888      -0.856\n",
              "Lead_Quality_Worst                               -1.9502      0.789     -2.472      0.013      -3.497      -0.404\n",
              "Lead_Profile_Student of SomeSchool               -1.3483      0.966     -1.396      0.163      -3.241       0.545\n",
              "Lead_Profile_Unknown                             -1.2088      0.217     -5.569      0.000      -1.634      -0.783\n",
              "Last_Notable_Activity_Modified                   -1.4291      0.155     -9.237      0.000      -1.732      -1.126\n",
              "Last_Notable_Activity_Olark Chat Conversation    -1.9035      0.503     -3.785      0.000      -2.889      -0.918\n",
              "Last_Notable_Activity_SMS Sent                    0.7793      0.269      2.893      0.004       0.251       1.307\n",
              "=================================================================================================================\n",
              "\"\"\""
            ]
          },
          "metadata": {
            "tags": []
          },
          "execution_count": 133
        }
      ]
    },
    {
      "cell_type": "markdown",
      "metadata": {
        "id": "w5luBTub30on",
        "colab_type": "text"
      },
      "source": [
        "<font color = green> We can see feature `Lead_Origin_Lead Add Form` is with p-value. Hence we can go and drop this column and build model again."
      ]
    },
    {
      "cell_type": "code",
      "metadata": {
        "id": "wu0qi0Iy30on",
        "colab_type": "code",
        "colab": {}
      },
      "source": [
        "X_train_RFE.drop(['Lead_Origin_Lead Add Form'],axis=1,inplace=True)"
      ],
      "execution_count": 0,
      "outputs": []
    },
    {
      "cell_type": "code",
      "metadata": {
        "id": "gnBW989v30oo",
        "colab_type": "code",
        "colab": {},
        "outputId": "59928c56-2544-4329-b20c-27d917a7478a"
      },
      "source": [
        "model9 = sm.GLM(y_train,(sm.add_constant(X_train_RFE)),family=sm.families.Binomial())\n",
        "model9.fit().summary()"
      ],
      "execution_count": 0,
      "outputs": [
        {
          "output_type": "execute_result",
          "data": {
            "text/html": [
              "<table class=\"simpletable\">\n",
              "<caption>Generalized Linear Model Regression Results</caption>\n",
              "<tr>\n",
              "  <th>Dep. Variable:</th>      <td>Converted</td>    <th>  No. Observations:  </th>  <td>  5911</td>  \n",
              "</tr>\n",
              "<tr>\n",
              "  <th>Model:</th>                 <td>GLM</td>       <th>  Df Residuals:      </th>  <td>  5893</td>  \n",
              "</tr>\n",
              "<tr>\n",
              "  <th>Model Family:</th>       <td>Binomial</td>     <th>  Df Model:          </th>  <td>    17</td>  \n",
              "</tr>\n",
              "<tr>\n",
              "  <th>Link Function:</th>        <td>logit</td>      <th>  Scale:             </th> <td>  1.0000</td> \n",
              "</tr>\n",
              "<tr>\n",
              "  <th>Method:</th>               <td>IRLS</td>       <th>  Log-Likelihood:    </th> <td> -1117.1</td> \n",
              "</tr>\n",
              "<tr>\n",
              "  <th>Date:</th>           <td>Mon, 26 Aug 2019</td> <th>  Deviance:          </th> <td>  2234.3</td> \n",
              "</tr>\n",
              "<tr>\n",
              "  <th>Time:</th>               <td>22:25:01</td>     <th>  Pearson chi2:      </th> <td>1.07e+04</td> \n",
              "</tr>\n",
              "<tr>\n",
              "  <th>No. Iterations:</th>         <td>8</td>        <th>  Covariance Type:   </th> <td>nonrobust</td>\n",
              "</tr>\n",
              "</table>\n",
              "<table class=\"simpletable\">\n",
              "<tr>\n",
              "                        <td></td>                           <th>coef</th>     <th>std err</th>      <th>z</th>      <th>P>|z|</th>  <th>[0.025</th>    <th>0.975]</th>  \n",
              "</tr>\n",
              "<tr>\n",
              "  <th>const</th>                                         <td>   -1.7025</td> <td>    0.262</td> <td>   -6.500</td> <td> 0.000</td> <td>   -2.216</td> <td>   -1.189</td>\n",
              "</tr>\n",
              "<tr>\n",
              "  <th>Total Time Spent on Website</th>                   <td>    0.9539</td> <td>    0.058</td> <td>   16.383</td> <td> 0.000</td> <td>    0.840</td> <td>    1.068</td>\n",
              "</tr>\n",
              "<tr>\n",
              "  <th>Lead_Origin_Landing Page Submission</th>           <td>   -1.2408</td> <td>    0.126</td> <td>   -9.873</td> <td> 0.000</td> <td>   -1.487</td> <td>   -0.995</td>\n",
              "</tr>\n",
              "<tr>\n",
              "  <th>Lead_Source_Welingak Website</th>                  <td>    4.8311</td> <td>    1.022</td> <td>    4.727</td> <td> 0.000</td> <td>    2.828</td> <td>    6.834</td>\n",
              "</tr>\n",
              "<tr>\n",
              "  <th>Last_Activity_SMS Sent</th>                        <td>    1.4363</td> <td>    0.231</td> <td>    6.209</td> <td> 0.000</td> <td>    0.983</td> <td>    1.890</td>\n",
              "</tr>\n",
              "<tr>\n",
              "  <th>Tags_Busy</th>                                     <td>    2.8453</td> <td>    0.326</td> <td>    8.716</td> <td> 0.000</td> <td>    2.206</td> <td>    3.485</td>\n",
              "</tr>\n",
              "<tr>\n",
              "  <th>Tags_Closed by Horizzon</th>                       <td>    8.5496</td> <td>    0.756</td> <td>   11.306</td> <td> 0.000</td> <td>    7.067</td> <td>   10.032</td>\n",
              "</tr>\n",
              "<tr>\n",
              "  <th>Tags_Lost to EINS</th>                             <td>    8.8028</td> <td>    0.833</td> <td>   10.564</td> <td> 0.000</td> <td>    7.170</td> <td>   10.436</td>\n",
              "</tr>\n",
              "<tr>\n",
              "  <th>Tags_Ringing</th>                                  <td>   -1.7485</td> <td>    0.350</td> <td>   -4.999</td> <td> 0.000</td> <td>   -2.434</td> <td>   -1.063</td>\n",
              "</tr>\n",
              "<tr>\n",
              "  <th>Tags_Unknown</th>                                  <td>    2.0898</td> <td>    0.247</td> <td>    8.471</td> <td> 0.000</td> <td>    1.606</td> <td>    2.573</td>\n",
              "</tr>\n",
              "<tr>\n",
              "  <th>Tags_Will revert after reading the email</th>      <td>    6.2573</td> <td>    0.290</td> <td>   21.604</td> <td> 0.000</td> <td>    5.690</td> <td>    6.825</td>\n",
              "</tr>\n",
              "<tr>\n",
              "  <th>Tags_switched off</th>                             <td>   -2.3831</td> <td>    0.774</td> <td>   -3.080</td> <td> 0.002</td> <td>   -3.899</td> <td>   -0.867</td>\n",
              "</tr>\n",
              "<tr>\n",
              "  <th>Lead_Quality_Worst</th>                            <td>   -1.9533</td> <td>    0.782</td> <td>   -2.498</td> <td> 0.012</td> <td>   -3.486</td> <td>   -0.421</td>\n",
              "</tr>\n",
              "<tr>\n",
              "  <th>Lead_Profile_Student of SomeSchool</th>            <td>   -1.3805</td> <td>    0.965</td> <td>   -1.430</td> <td> 0.153</td> <td>   -3.272</td> <td>    0.511</td>\n",
              "</tr>\n",
              "<tr>\n",
              "  <th>Lead_Profile_Unknown</th>                          <td>   -1.2357</td> <td>    0.215</td> <td>   -5.734</td> <td> 0.000</td> <td>   -1.658</td> <td>   -0.813</td>\n",
              "</tr>\n",
              "<tr>\n",
              "  <th>Last_Notable_Activity_Modified</th>                <td>   -1.4409</td> <td>    0.155</td> <td>   -9.320</td> <td> 0.000</td> <td>   -1.744</td> <td>   -1.138</td>\n",
              "</tr>\n",
              "<tr>\n",
              "  <th>Last_Notable_Activity_Olark Chat Conversation</th> <td>   -1.9148</td> <td>    0.503</td> <td>   -3.807</td> <td> 0.000</td> <td>   -2.901</td> <td>   -0.929</td>\n",
              "</tr>\n",
              "<tr>\n",
              "  <th>Last_Notable_Activity_SMS Sent</th>                <td>    0.7670</td> <td>    0.269</td> <td>    2.854</td> <td> 0.004</td> <td>    0.240</td> <td>    1.294</td>\n",
              "</tr>\n",
              "</table>"
            ],
            "text/plain": [
              "<class 'statsmodels.iolib.summary.Summary'>\n",
              "\"\"\"\n",
              "                 Generalized Linear Model Regression Results                  \n",
              "==============================================================================\n",
              "Dep. Variable:              Converted   No. Observations:                 5911\n",
              "Model:                            GLM   Df Residuals:                     5893\n",
              "Model Family:                Binomial   Df Model:                           17\n",
              "Link Function:                  logit   Scale:                          1.0000\n",
              "Method:                          IRLS   Log-Likelihood:                -1117.1\n",
              "Date:                Mon, 26 Aug 2019   Deviance:                       2234.3\n",
              "Time:                        22:25:01   Pearson chi2:                 1.07e+04\n",
              "No. Iterations:                     8   Covariance Type:             nonrobust\n",
              "=================================================================================================================\n",
              "                                                    coef    std err          z      P>|z|      [0.025      0.975]\n",
              "-----------------------------------------------------------------------------------------------------------------\n",
              "const                                            -1.7025      0.262     -6.500      0.000      -2.216      -1.189\n",
              "Total Time Spent on Website                       0.9539      0.058     16.383      0.000       0.840       1.068\n",
              "Lead_Origin_Landing Page Submission              -1.2408      0.126     -9.873      0.000      -1.487      -0.995\n",
              "Lead_Source_Welingak Website                      4.8311      1.022      4.727      0.000       2.828       6.834\n",
              "Last_Activity_SMS Sent                            1.4363      0.231      6.209      0.000       0.983       1.890\n",
              "Tags_Busy                                         2.8453      0.326      8.716      0.000       2.206       3.485\n",
              "Tags_Closed by Horizzon                           8.5496      0.756     11.306      0.000       7.067      10.032\n",
              "Tags_Lost to EINS                                 8.8028      0.833     10.564      0.000       7.170      10.436\n",
              "Tags_Ringing                                     -1.7485      0.350     -4.999      0.000      -2.434      -1.063\n",
              "Tags_Unknown                                      2.0898      0.247      8.471      0.000       1.606       2.573\n",
              "Tags_Will revert after reading the email          6.2573      0.290     21.604      0.000       5.690       6.825\n",
              "Tags_switched off                                -2.3831      0.774     -3.080      0.002      -3.899      -0.867\n",
              "Lead_Quality_Worst                               -1.9533      0.782     -2.498      0.012      -3.486      -0.421\n",
              "Lead_Profile_Student of SomeSchool               -1.3805      0.965     -1.430      0.153      -3.272       0.511\n",
              "Lead_Profile_Unknown                             -1.2357      0.215     -5.734      0.000      -1.658      -0.813\n",
              "Last_Notable_Activity_Modified                   -1.4409      0.155     -9.320      0.000      -1.744      -1.138\n",
              "Last_Notable_Activity_Olark Chat Conversation    -1.9148      0.503     -3.807      0.000      -2.901      -0.929\n",
              "Last_Notable_Activity_SMS Sent                    0.7670      0.269      2.854      0.004       0.240       1.294\n",
              "=================================================================================================================\n",
              "\"\"\""
            ]
          },
          "metadata": {
            "tags": []
          },
          "execution_count": 135
        }
      ]
    },
    {
      "cell_type": "markdown",
      "metadata": {
        "id": "bAqnJge730oq",
        "colab_type": "text"
      },
      "source": [
        "<font color = green> We can see feature `Lead_Profile_Student of SomeSchool` is with p-value. Hence we can go and drop this column and build model again."
      ]
    },
    {
      "cell_type": "code",
      "metadata": {
        "id": "hGsyF_Ad30os",
        "colab_type": "code",
        "colab": {}
      },
      "source": [
        "X_train_RFE.drop(['Lead_Profile_Student of SomeSchool'],axis=1,inplace=True)"
      ],
      "execution_count": 0,
      "outputs": []
    },
    {
      "cell_type": "code",
      "metadata": {
        "id": "JsqK1xPT30ot",
        "colab_type": "code",
        "colab": {},
        "outputId": "adb7fc8d-d76c-40d9-eae2-dcbfad2ee54f"
      },
      "source": [
        "model10 = sm.GLM(y_train,(sm.add_constant(X_train_RFE)),family=sm.families.Binomial())\n",
        "model10.fit().summary()"
      ],
      "execution_count": 0,
      "outputs": [
        {
          "output_type": "execute_result",
          "data": {
            "text/html": [
              "<table class=\"simpletable\">\n",
              "<caption>Generalized Linear Model Regression Results</caption>\n",
              "<tr>\n",
              "  <th>Dep. Variable:</th>      <td>Converted</td>    <th>  No. Observations:  </th>  <td>  5911</td>  \n",
              "</tr>\n",
              "<tr>\n",
              "  <th>Model:</th>                 <td>GLM</td>       <th>  Df Residuals:      </th>  <td>  5894</td>  \n",
              "</tr>\n",
              "<tr>\n",
              "  <th>Model Family:</th>       <td>Binomial</td>     <th>  Df Model:          </th>  <td>    16</td>  \n",
              "</tr>\n",
              "<tr>\n",
              "  <th>Link Function:</th>        <td>logit</td>      <th>  Scale:             </th> <td>  1.0000</td> \n",
              "</tr>\n",
              "<tr>\n",
              "  <th>Method:</th>               <td>IRLS</td>       <th>  Log-Likelihood:    </th> <td> -1118.1</td> \n",
              "</tr>\n",
              "<tr>\n",
              "  <th>Date:</th>           <td>Mon, 26 Aug 2019</td> <th>  Deviance:          </th> <td>  2236.2</td> \n",
              "</tr>\n",
              "<tr>\n",
              "  <th>Time:</th>               <td>22:25:01</td>     <th>  Pearson chi2:      </th> <td>1.05e+04</td> \n",
              "</tr>\n",
              "<tr>\n",
              "  <th>No. Iterations:</th>         <td>8</td>        <th>  Covariance Type:   </th> <td>nonrobust</td>\n",
              "</tr>\n",
              "</table>\n",
              "<table class=\"simpletable\">\n",
              "<tr>\n",
              "                        <td></td>                           <th>coef</th>     <th>std err</th>      <th>z</th>      <th>P>|z|</th>  <th>[0.025</th>    <th>0.975]</th>  \n",
              "</tr>\n",
              "<tr>\n",
              "  <th>const</th>                                         <td>   -1.7165</td> <td>    0.261</td> <td>   -6.579</td> <td> 0.000</td> <td>   -2.228</td> <td>   -1.205</td>\n",
              "</tr>\n",
              "<tr>\n",
              "  <th>Total Time Spent on Website</th>                   <td>    0.9534</td> <td>    0.058</td> <td>   16.389</td> <td> 0.000</td> <td>    0.839</td> <td>    1.067</td>\n",
              "</tr>\n",
              "<tr>\n",
              "  <th>Lead_Origin_Landing Page Submission</th>           <td>   -1.2411</td> <td>    0.126</td> <td>   -9.879</td> <td> 0.000</td> <td>   -1.487</td> <td>   -0.995</td>\n",
              "</tr>\n",
              "<tr>\n",
              "  <th>Lead_Source_Welingak Website</th>                  <td>    4.8316</td> <td>    1.022</td> <td>    4.727</td> <td> 0.000</td> <td>    2.828</td> <td>    6.835</td>\n",
              "</tr>\n",
              "<tr>\n",
              "  <th>Last_Activity_SMS Sent</th>                        <td>    1.4453</td> <td>    0.231</td> <td>    6.255</td> <td> 0.000</td> <td>    0.992</td> <td>    1.898</td>\n",
              "</tr>\n",
              "<tr>\n",
              "  <th>Tags_Busy</th>                                     <td>    2.8371</td> <td>    0.326</td> <td>    8.713</td> <td> 0.000</td> <td>    2.199</td> <td>    3.475</td>\n",
              "</tr>\n",
              "<tr>\n",
              "  <th>Tags_Closed by Horizzon</th>                       <td>    8.5654</td> <td>    0.756</td> <td>   11.325</td> <td> 0.000</td> <td>    7.083</td> <td>   10.048</td>\n",
              "</tr>\n",
              "<tr>\n",
              "  <th>Tags_Lost to EINS</th>                             <td>    8.6409</td> <td>    0.788</td> <td>   10.963</td> <td> 0.000</td> <td>    7.096</td> <td>   10.186</td>\n",
              "</tr>\n",
              "<tr>\n",
              "  <th>Tags_Ringing</th>                                  <td>   -1.7551</td> <td>    0.349</td> <td>   -5.027</td> <td> 0.000</td> <td>   -2.439</td> <td>   -1.071</td>\n",
              "</tr>\n",
              "<tr>\n",
              "  <th>Tags_Unknown</th>                                  <td>    2.0759</td> <td>    0.246</td> <td>    8.454</td> <td> 0.000</td> <td>    1.595</td> <td>    2.557</td>\n",
              "</tr>\n",
              "<tr>\n",
              "  <th>Tags_Will revert after reading the email</th>      <td>    6.2403</td> <td>    0.288</td> <td>   21.670</td> <td> 0.000</td> <td>    5.676</td> <td>    6.805</td>\n",
              "</tr>\n",
              "<tr>\n",
              "  <th>Tags_switched off</th>                             <td>   -2.3913</td> <td>    0.774</td> <td>   -3.091</td> <td> 0.002</td> <td>   -3.908</td> <td>   -0.875</td>\n",
              "</tr>\n",
              "<tr>\n",
              "  <th>Lead_Quality_Worst</th>                            <td>   -2.5768</td> <td>    0.730</td> <td>   -3.530</td> <td> 0.000</td> <td>   -4.007</td> <td>   -1.146</td>\n",
              "</tr>\n",
              "<tr>\n",
              "  <th>Lead_Profile_Unknown</th>                          <td>   -1.2070</td> <td>    0.214</td> <td>   -5.631</td> <td> 0.000</td> <td>   -1.627</td> <td>   -0.787</td>\n",
              "</tr>\n",
              "<tr>\n",
              "  <th>Last_Notable_Activity_Modified</th>                <td>   -1.4455</td> <td>    0.155</td> <td>   -9.347</td> <td> 0.000</td> <td>   -1.749</td> <td>   -1.142</td>\n",
              "</tr>\n",
              "<tr>\n",
              "  <th>Last_Notable_Activity_Olark Chat Conversation</th> <td>   -1.9167</td> <td>    0.502</td> <td>   -3.817</td> <td> 0.000</td> <td>   -2.901</td> <td>   -0.932</td>\n",
              "</tr>\n",
              "<tr>\n",
              "  <th>Last_Notable_Activity_SMS Sent</th>                <td>    0.7585</td> <td>    0.269</td> <td>    2.825</td> <td> 0.005</td> <td>    0.232</td> <td>    1.285</td>\n",
              "</tr>\n",
              "</table>"
            ],
            "text/plain": [
              "<class 'statsmodels.iolib.summary.Summary'>\n",
              "\"\"\"\n",
              "                 Generalized Linear Model Regression Results                  \n",
              "==============================================================================\n",
              "Dep. Variable:              Converted   No. Observations:                 5911\n",
              "Model:                            GLM   Df Residuals:                     5894\n",
              "Model Family:                Binomial   Df Model:                           16\n",
              "Link Function:                  logit   Scale:                          1.0000\n",
              "Method:                          IRLS   Log-Likelihood:                -1118.1\n",
              "Date:                Mon, 26 Aug 2019   Deviance:                       2236.2\n",
              "Time:                        22:25:01   Pearson chi2:                 1.05e+04\n",
              "No. Iterations:                     8   Covariance Type:             nonrobust\n",
              "=================================================================================================================\n",
              "                                                    coef    std err          z      P>|z|      [0.025      0.975]\n",
              "-----------------------------------------------------------------------------------------------------------------\n",
              "const                                            -1.7165      0.261     -6.579      0.000      -2.228      -1.205\n",
              "Total Time Spent on Website                       0.9534      0.058     16.389      0.000       0.839       1.067\n",
              "Lead_Origin_Landing Page Submission              -1.2411      0.126     -9.879      0.000      -1.487      -0.995\n",
              "Lead_Source_Welingak Website                      4.8316      1.022      4.727      0.000       2.828       6.835\n",
              "Last_Activity_SMS Sent                            1.4453      0.231      6.255      0.000       0.992       1.898\n",
              "Tags_Busy                                         2.8371      0.326      8.713      0.000       2.199       3.475\n",
              "Tags_Closed by Horizzon                           8.5654      0.756     11.325      0.000       7.083      10.048\n",
              "Tags_Lost to EINS                                 8.6409      0.788     10.963      0.000       7.096      10.186\n",
              "Tags_Ringing                                     -1.7551      0.349     -5.027      0.000      -2.439      -1.071\n",
              "Tags_Unknown                                      2.0759      0.246      8.454      0.000       1.595       2.557\n",
              "Tags_Will revert after reading the email          6.2403      0.288     21.670      0.000       5.676       6.805\n",
              "Tags_switched off                                -2.3913      0.774     -3.091      0.002      -3.908      -0.875\n",
              "Lead_Quality_Worst                               -2.5768      0.730     -3.530      0.000      -4.007      -1.146\n",
              "Lead_Profile_Unknown                             -1.2070      0.214     -5.631      0.000      -1.627      -0.787\n",
              "Last_Notable_Activity_Modified                   -1.4455      0.155     -9.347      0.000      -1.749      -1.142\n",
              "Last_Notable_Activity_Olark Chat Conversation    -1.9167      0.502     -3.817      0.000      -2.901      -0.932\n",
              "Last_Notable_Activity_SMS Sent                    0.7585      0.269      2.825      0.005       0.232       1.285\n",
              "=================================================================================================================\n",
              "\"\"\""
            ]
          },
          "metadata": {
            "tags": []
          },
          "execution_count": 137
        }
      ]
    },
    {
      "cell_type": "code",
      "metadata": {
        "id": "UZjZRjmV30ov",
        "colab_type": "code",
        "colab": {}
      },
      "source": [
        "# Check for the VIF values of the feature variables. \n",
        "from statsmodels.stats.outliers_influence import variance_inflation_factor"
      ],
      "execution_count": 0,
      "outputs": []
    },
    {
      "cell_type": "code",
      "metadata": {
        "id": "8KWIXeXU30oy",
        "colab_type": "code",
        "colab": {},
        "outputId": "5fe57284-b90d-4a53-b978-2c75eaa8d69e"
      },
      "source": [
        "# Create a dataframe that will contain the names of all the feature variables that w used before and their respective VIFs\n",
        "vif = pd.DataFrame()\n",
        "vif['Features'] = X_train_RFE.columns\n",
        "vif['VIF'] = [variance_inflation_factor(X_train_RFE.values, i) for i in range(X_train_RFE.shape[1])]\n",
        "vif['VIF'] = round(vif['VIF'], 2)\n",
        "vif = vif.sort_values(by = \"VIF\", ascending = False)\n",
        "vif"
      ],
      "execution_count": 0,
      "outputs": [
        {
          "output_type": "execute_result",
          "data": {
            "text/html": [
              "<div>\n",
              "<style scoped>\n",
              "    .dataframe tbody tr th:only-of-type {\n",
              "        vertical-align: middle;\n",
              "    }\n",
              "\n",
              "    .dataframe tbody tr th {\n",
              "        vertical-align: top;\n",
              "    }\n",
              "\n",
              "    .dataframe thead th {\n",
              "        text-align: right;\n",
              "    }\n",
              "</style>\n",
              "<table border=\"1\" class=\"dataframe\">\n",
              "  <thead>\n",
              "    <tr style=\"text-align: right;\">\n",
              "      <th></th>\n",
              "      <th>Features</th>\n",
              "      <th>VIF</th>\n",
              "    </tr>\n",
              "  </thead>\n",
              "  <tbody>\n",
              "    <tr>\n",
              "      <th>15</th>\n",
              "      <td>Last_Notable_Activity_SMS Sent</td>\n",
              "      <td>6.02</td>\n",
              "    </tr>\n",
              "    <tr>\n",
              "      <th>3</th>\n",
              "      <td>Last_Activity_SMS Sent</td>\n",
              "      <td>5.71</td>\n",
              "    </tr>\n",
              "    <tr>\n",
              "      <th>12</th>\n",
              "      <td>Lead_Profile_Unknown</td>\n",
              "      <td>4.66</td>\n",
              "    </tr>\n",
              "    <tr>\n",
              "      <th>8</th>\n",
              "      <td>Tags_Unknown</td>\n",
              "      <td>3.13</td>\n",
              "    </tr>\n",
              "    <tr>\n",
              "      <th>1</th>\n",
              "      <td>Lead_Origin_Landing Page Submission</td>\n",
              "      <td>2.27</td>\n",
              "    </tr>\n",
              "    <tr>\n",
              "      <th>13</th>\n",
              "      <td>Last_Notable_Activity_Modified</td>\n",
              "      <td>2.06</td>\n",
              "    </tr>\n",
              "    <tr>\n",
              "      <th>9</th>\n",
              "      <td>Tags_Will revert after reading the email</td>\n",
              "      <td>1.73</td>\n",
              "    </tr>\n",
              "    <tr>\n",
              "      <th>7</th>\n",
              "      <td>Tags_Ringing</td>\n",
              "      <td>1.69</td>\n",
              "    </tr>\n",
              "    <tr>\n",
              "      <th>0</th>\n",
              "      <td>Total Time Spent on Website</td>\n",
              "      <td>1.21</td>\n",
              "    </tr>\n",
              "    <tr>\n",
              "      <th>11</th>\n",
              "      <td>Lead_Quality_Worst</td>\n",
              "      <td>1.18</td>\n",
              "    </tr>\n",
              "    <tr>\n",
              "      <th>10</th>\n",
              "      <td>Tags_switched off</td>\n",
              "      <td>1.16</td>\n",
              "    </tr>\n",
              "    <tr>\n",
              "      <th>4</th>\n",
              "      <td>Tags_Busy</td>\n",
              "      <td>1.11</td>\n",
              "    </tr>\n",
              "    <tr>\n",
              "      <th>5</th>\n",
              "      <td>Tags_Closed by Horizzon</td>\n",
              "      <td>1.09</td>\n",
              "    </tr>\n",
              "    <tr>\n",
              "      <th>6</th>\n",
              "      <td>Tags_Lost to EINS</td>\n",
              "      <td>1.09</td>\n",
              "    </tr>\n",
              "    <tr>\n",
              "      <th>14</th>\n",
              "      <td>Last_Notable_Activity_Olark Chat Conversation</td>\n",
              "      <td>1.07</td>\n",
              "    </tr>\n",
              "    <tr>\n",
              "      <th>2</th>\n",
              "      <td>Lead_Source_Welingak Website</td>\n",
              "      <td>1.06</td>\n",
              "    </tr>\n",
              "  </tbody>\n",
              "</table>\n",
              "</div>"
            ],
            "text/plain": [
              "                                         Features   VIF\n",
              "15                 Last_Notable_Activity_SMS Sent  6.02\n",
              "3                          Last_Activity_SMS Sent  5.71\n",
              "12                           Lead_Profile_Unknown  4.66\n",
              "8                                    Tags_Unknown  3.13\n",
              "1             Lead_Origin_Landing Page Submission  2.27\n",
              "13                 Last_Notable_Activity_Modified  2.06\n",
              "9        Tags_Will revert after reading the email  1.73\n",
              "7                                    Tags_Ringing  1.69\n",
              "0                     Total Time Spent on Website  1.21\n",
              "11                             Lead_Quality_Worst  1.18\n",
              "10                              Tags_switched off  1.16\n",
              "4                                       Tags_Busy  1.11\n",
              "5                         Tags_Closed by Horizzon  1.09\n",
              "6                               Tags_Lost to EINS  1.09\n",
              "14  Last_Notable_Activity_Olark Chat Conversation  1.07\n",
              "2                    Lead_Source_Welingak Website  1.06"
            ]
          },
          "metadata": {
            "tags": []
          },
          "execution_count": 139
        }
      ]
    },
    {
      "cell_type": "markdown",
      "metadata": {
        "id": "Qa_PdGRj30o0",
        "colab_type": "text"
      },
      "source": [
        "<font color = green> We now saw the Variation Inflation factor for all the existing features we selected for the model. We can see the feature `Last_Notable_Activity_SMS Sent` is with VIF more than 5 indicating some correlation exists with some other columns and hence needs to be dropped. We can go ahead and drop this feature and observe our model and the VIFs again."
      ]
    },
    {
      "cell_type": "code",
      "metadata": {
        "id": "edlvK4Ms30o0",
        "colab_type": "code",
        "colab": {}
      },
      "source": [
        "X_train_RFE.drop(['Last_Notable_Activity_SMS Sent'],axis=1,inplace=True)"
      ],
      "execution_count": 0,
      "outputs": []
    },
    {
      "cell_type": "code",
      "metadata": {
        "id": "hvWEtbEu30o7",
        "colab_type": "code",
        "colab": {},
        "outputId": "87bb1b4e-b9d3-4004-d55d-ec3e14be2c63"
      },
      "source": [
        "model11 = sm.GLM(y_train,(sm.add_constant(X_train_RFE)),family=sm.families.Binomial())\n",
        "result = model11.fit()\n",
        "result.summary()"
      ],
      "execution_count": 0,
      "outputs": [
        {
          "output_type": "execute_result",
          "data": {
            "text/html": [
              "<table class=\"simpletable\">\n",
              "<caption>Generalized Linear Model Regression Results</caption>\n",
              "<tr>\n",
              "  <th>Dep. Variable:</th>      <td>Converted</td>    <th>  No. Observations:  </th>  <td>  5911</td>  \n",
              "</tr>\n",
              "<tr>\n",
              "  <th>Model:</th>                 <td>GLM</td>       <th>  Df Residuals:      </th>  <td>  5895</td>  \n",
              "</tr>\n",
              "<tr>\n",
              "  <th>Model Family:</th>       <td>Binomial</td>     <th>  Df Model:          </th>  <td>    15</td>  \n",
              "</tr>\n",
              "<tr>\n",
              "  <th>Link Function:</th>        <td>logit</td>      <th>  Scale:             </th> <td>  1.0000</td> \n",
              "</tr>\n",
              "<tr>\n",
              "  <th>Method:</th>               <td>IRLS</td>       <th>  Log-Likelihood:    </th> <td> -1122.2</td> \n",
              "</tr>\n",
              "<tr>\n",
              "  <th>Date:</th>           <td>Mon, 26 Aug 2019</td> <th>  Deviance:          </th> <td>  2244.3</td> \n",
              "</tr>\n",
              "<tr>\n",
              "  <th>Time:</th>               <td>22:25:01</td>     <th>  Pearson chi2:      </th> <td>1.12e+04</td> \n",
              "</tr>\n",
              "<tr>\n",
              "  <th>No. Iterations:</th>         <td>8</td>        <th>  Covariance Type:   </th> <td>nonrobust</td>\n",
              "</tr>\n",
              "</table>\n",
              "<table class=\"simpletable\">\n",
              "<tr>\n",
              "                        <td></td>                           <th>coef</th>     <th>std err</th>      <th>z</th>      <th>P>|z|</th>  <th>[0.025</th>    <th>0.975]</th>  \n",
              "</tr>\n",
              "<tr>\n",
              "  <th>const</th>                                         <td>   -1.6220</td> <td>    0.258</td> <td>   -6.284</td> <td> 0.000</td> <td>   -2.128</td> <td>   -1.116</td>\n",
              "</tr>\n",
              "<tr>\n",
              "  <th>Total Time Spent on Website</th>                   <td>    0.9514</td> <td>    0.058</td> <td>   16.363</td> <td> 0.000</td> <td>    0.837</td> <td>    1.065</td>\n",
              "</tr>\n",
              "<tr>\n",
              "  <th>Lead_Origin_Landing Page Submission</th>           <td>   -1.2563</td> <td>    0.125</td> <td>  -10.069</td> <td> 0.000</td> <td>   -1.501</td> <td>   -1.012</td>\n",
              "</tr>\n",
              "<tr>\n",
              "  <th>Lead_Source_Welingak Website</th>                  <td>    4.7768</td> <td>    1.021</td> <td>    4.678</td> <td> 0.000</td> <td>    2.776</td> <td>    6.778</td>\n",
              "</tr>\n",
              "<tr>\n",
              "  <th>Last_Activity_SMS Sent</th>                        <td>    1.9973</td> <td>    0.122</td> <td>   16.317</td> <td> 0.000</td> <td>    1.757</td> <td>    2.237</td>\n",
              "</tr>\n",
              "<tr>\n",
              "  <th>Tags_Busy</th>                                     <td>    2.8124</td> <td>    0.324</td> <td>    8.687</td> <td> 0.000</td> <td>    2.178</td> <td>    3.447</td>\n",
              "</tr>\n",
              "<tr>\n",
              "  <th>Tags_Closed by Horizzon</th>                       <td>    8.6659</td> <td>    0.757</td> <td>   11.449</td> <td> 0.000</td> <td>    7.182</td> <td>   10.149</td>\n",
              "</tr>\n",
              "<tr>\n",
              "  <th>Tags_Lost to EINS</th>                             <td>    8.7635</td> <td>    0.794</td> <td>   11.035</td> <td> 0.000</td> <td>    7.207</td> <td>   10.320</td>\n",
              "</tr>\n",
              "<tr>\n",
              "  <th>Tags_Ringing</th>                                  <td>   -1.6798</td> <td>    0.346</td> <td>   -4.850</td> <td> 0.000</td> <td>   -2.359</td> <td>   -1.001</td>\n",
              "</tr>\n",
              "<tr>\n",
              "  <th>Tags_Unknown</th>                                  <td>    2.0510</td> <td>    0.245</td> <td>    8.373</td> <td> 0.000</td> <td>    1.571</td> <td>    2.531</td>\n",
              "</tr>\n",
              "<tr>\n",
              "  <th>Tags_Will revert after reading the email</th>      <td>    6.2770</td> <td>    0.289</td> <td>   21.695</td> <td> 0.000</td> <td>    5.710</td> <td>    6.844</td>\n",
              "</tr>\n",
              "<tr>\n",
              "  <th>Tags_switched off</th>                             <td>   -2.2980</td> <td>    0.772</td> <td>   -2.978</td> <td> 0.003</td> <td>   -3.811</td> <td>   -0.785</td>\n",
              "</tr>\n",
              "<tr>\n",
              "  <th>Lead_Quality_Worst</th>                            <td>   -2.6212</td> <td>    0.733</td> <td>   -3.578</td> <td> 0.000</td> <td>   -4.057</td> <td>   -1.185</td>\n",
              "</tr>\n",
              "<tr>\n",
              "  <th>Lead_Profile_Unknown</th>                          <td>   -1.2022</td> <td>    0.215</td> <td>   -5.595</td> <td> 0.000</td> <td>   -1.623</td> <td>   -0.781</td>\n",
              "</tr>\n",
              "<tr>\n",
              "  <th>Last_Notable_Activity_Modified</th>                <td>   -1.7087</td> <td>    0.128</td> <td>  -13.301</td> <td> 0.000</td> <td>   -1.960</td> <td>   -1.457</td>\n",
              "</tr>\n",
              "<tr>\n",
              "  <th>Last_Notable_Activity_Olark Chat Conversation</th> <td>   -1.9958</td> <td>    0.503</td> <td>   -3.970</td> <td> 0.000</td> <td>   -2.981</td> <td>   -1.010</td>\n",
              "</tr>\n",
              "</table>"
            ],
            "text/plain": [
              "<class 'statsmodels.iolib.summary.Summary'>\n",
              "\"\"\"\n",
              "                 Generalized Linear Model Regression Results                  \n",
              "==============================================================================\n",
              "Dep. Variable:              Converted   No. Observations:                 5911\n",
              "Model:                            GLM   Df Residuals:                     5895\n",
              "Model Family:                Binomial   Df Model:                           15\n",
              "Link Function:                  logit   Scale:                          1.0000\n",
              "Method:                          IRLS   Log-Likelihood:                -1122.2\n",
              "Date:                Mon, 26 Aug 2019   Deviance:                       2244.3\n",
              "Time:                        22:25:01   Pearson chi2:                 1.12e+04\n",
              "No. Iterations:                     8   Covariance Type:             nonrobust\n",
              "=================================================================================================================\n",
              "                                                    coef    std err          z      P>|z|      [0.025      0.975]\n",
              "-----------------------------------------------------------------------------------------------------------------\n",
              "const                                            -1.6220      0.258     -6.284      0.000      -2.128      -1.116\n",
              "Total Time Spent on Website                       0.9514      0.058     16.363      0.000       0.837       1.065\n",
              "Lead_Origin_Landing Page Submission              -1.2563      0.125    -10.069      0.000      -1.501      -1.012\n",
              "Lead_Source_Welingak Website                      4.7768      1.021      4.678      0.000       2.776       6.778\n",
              "Last_Activity_SMS Sent                            1.9973      0.122     16.317      0.000       1.757       2.237\n",
              "Tags_Busy                                         2.8124      0.324      8.687      0.000       2.178       3.447\n",
              "Tags_Closed by Horizzon                           8.6659      0.757     11.449      0.000       7.182      10.149\n",
              "Tags_Lost to EINS                                 8.7635      0.794     11.035      0.000       7.207      10.320\n",
              "Tags_Ringing                                     -1.6798      0.346     -4.850      0.000      -2.359      -1.001\n",
              "Tags_Unknown                                      2.0510      0.245      8.373      0.000       1.571       2.531\n",
              "Tags_Will revert after reading the email          6.2770      0.289     21.695      0.000       5.710       6.844\n",
              "Tags_switched off                                -2.2980      0.772     -2.978      0.003      -3.811      -0.785\n",
              "Lead_Quality_Worst                               -2.6212      0.733     -3.578      0.000      -4.057      -1.185\n",
              "Lead_Profile_Unknown                             -1.2022      0.215     -5.595      0.000      -1.623      -0.781\n",
              "Last_Notable_Activity_Modified                   -1.7087      0.128    -13.301      0.000      -1.960      -1.457\n",
              "Last_Notable_Activity_Olark Chat Conversation    -1.9958      0.503     -3.970      0.000      -2.981      -1.010\n",
              "=================================================================================================================\n",
              "\"\"\""
            ]
          },
          "metadata": {
            "tags": []
          },
          "execution_count": 141
        }
      ]
    },
    {
      "cell_type": "code",
      "metadata": {
        "id": "MkGRMyIC30o9",
        "colab_type": "code",
        "colab": {},
        "outputId": "4f80cae1-167a-4da9-dfa2-d551297de93b"
      },
      "source": [
        "# Create a dataframe that will contain the names of all the feature variables that w used before and their respective VIFs\n",
        "vif = pd.DataFrame()\n",
        "vif['Features'] = X_train_RFE.columns\n",
        "vif['VIF'] = [variance_inflation_factor(X_train_RFE.values, i) for i in range(X_train_RFE.shape[1])]\n",
        "vif['VIF'] = round(vif['VIF'], 2)\n",
        "vif = vif.sort_values(by = \"VIF\", ascending = False)\n",
        "vif"
      ],
      "execution_count": 0,
      "outputs": [
        {
          "output_type": "execute_result",
          "data": {
            "text/html": [
              "<div>\n",
              "<style scoped>\n",
              "    .dataframe tbody tr th:only-of-type {\n",
              "        vertical-align: middle;\n",
              "    }\n",
              "\n",
              "    .dataframe tbody tr th {\n",
              "        vertical-align: top;\n",
              "    }\n",
              "\n",
              "    .dataframe thead th {\n",
              "        text-align: right;\n",
              "    }\n",
              "</style>\n",
              "<table border=\"1\" class=\"dataframe\">\n",
              "  <thead>\n",
              "    <tr style=\"text-align: right;\">\n",
              "      <th></th>\n",
              "      <th>Features</th>\n",
              "      <th>VIF</th>\n",
              "    </tr>\n",
              "  </thead>\n",
              "  <tbody>\n",
              "    <tr>\n",
              "      <th>12</th>\n",
              "      <td>Lead_Profile_Unknown</td>\n",
              "      <td>4.58</td>\n",
              "    </tr>\n",
              "    <tr>\n",
              "      <th>8</th>\n",
              "      <td>Tags_Unknown</td>\n",
              "      <td>3.12</td>\n",
              "    </tr>\n",
              "    <tr>\n",
              "      <th>1</th>\n",
              "      <td>Lead_Origin_Landing Page Submission</td>\n",
              "      <td>2.27</td>\n",
              "    </tr>\n",
              "    <tr>\n",
              "      <th>3</th>\n",
              "      <td>Last_Activity_SMS Sent</td>\n",
              "      <td>1.68</td>\n",
              "    </tr>\n",
              "    <tr>\n",
              "      <th>7</th>\n",
              "      <td>Tags_Ringing</td>\n",
              "      <td>1.68</td>\n",
              "    </tr>\n",
              "    <tr>\n",
              "      <th>9</th>\n",
              "      <td>Tags_Will revert after reading the email</td>\n",
              "      <td>1.67</td>\n",
              "    </tr>\n",
              "    <tr>\n",
              "      <th>13</th>\n",
              "      <td>Last_Notable_Activity_Modified</td>\n",
              "      <td>1.67</td>\n",
              "    </tr>\n",
              "    <tr>\n",
              "      <th>0</th>\n",
              "      <td>Total Time Spent on Website</td>\n",
              "      <td>1.21</td>\n",
              "    </tr>\n",
              "    <tr>\n",
              "      <th>11</th>\n",
              "      <td>Lead_Quality_Worst</td>\n",
              "      <td>1.17</td>\n",
              "    </tr>\n",
              "    <tr>\n",
              "      <th>10</th>\n",
              "      <td>Tags_switched off</td>\n",
              "      <td>1.15</td>\n",
              "    </tr>\n",
              "    <tr>\n",
              "      <th>4</th>\n",
              "      <td>Tags_Busy</td>\n",
              "      <td>1.11</td>\n",
              "    </tr>\n",
              "    <tr>\n",
              "      <th>5</th>\n",
              "      <td>Tags_Closed by Horizzon</td>\n",
              "      <td>1.08</td>\n",
              "    </tr>\n",
              "    <tr>\n",
              "      <th>6</th>\n",
              "      <td>Tags_Lost to EINS</td>\n",
              "      <td>1.08</td>\n",
              "    </tr>\n",
              "    <tr>\n",
              "      <th>14</th>\n",
              "      <td>Last_Notable_Activity_Olark Chat Conversation</td>\n",
              "      <td>1.07</td>\n",
              "    </tr>\n",
              "    <tr>\n",
              "      <th>2</th>\n",
              "      <td>Lead_Source_Welingak Website</td>\n",
              "      <td>1.06</td>\n",
              "    </tr>\n",
              "  </tbody>\n",
              "</table>\n",
              "</div>"
            ],
            "text/plain": [
              "                                         Features   VIF\n",
              "12                           Lead_Profile_Unknown  4.58\n",
              "8                                    Tags_Unknown  3.12\n",
              "1             Lead_Origin_Landing Page Submission  2.27\n",
              "3                          Last_Activity_SMS Sent  1.68\n",
              "7                                    Tags_Ringing  1.68\n",
              "9        Tags_Will revert after reading the email  1.67\n",
              "13                 Last_Notable_Activity_Modified  1.67\n",
              "0                     Total Time Spent on Website  1.21\n",
              "11                             Lead_Quality_Worst  1.17\n",
              "10                              Tags_switched off  1.15\n",
              "4                                       Tags_Busy  1.11\n",
              "5                         Tags_Closed by Horizzon  1.08\n",
              "6                               Tags_Lost to EINS  1.08\n",
              "14  Last_Notable_Activity_Olark Chat Conversation  1.07\n",
              "2                    Lead_Source_Welingak Website  1.06"
            ]
          },
          "metadata": {
            "tags": []
          },
          "execution_count": 142
        }
      ]
    },
    {
      "cell_type": "markdown",
      "metadata": {
        "id": "QTY656mx30o_",
        "colab_type": "text"
      },
      "source": [
        "<font color = green> Now all variances seems to be in par level of below 5 and also all the p-values are less than 0.05 and hence are significant features. We can take it forward and observe the model accuracy and other parameters."
      ]
    },
    {
      "cell_type": "markdown",
      "metadata": {
        "id": "AjCoe9dg30pA",
        "colab_type": "text"
      },
      "source": [
        "We can go ahead now and make the predictions with the final model."
      ]
    },
    {
      "cell_type": "code",
      "metadata": {
        "id": "qs-JUCQ130pA",
        "colab_type": "code",
        "colab": {}
      },
      "source": [
        "y_train_pred = result.predict(sm.add_constant(X_train_RFE)).values.reshape(-1)"
      ],
      "execution_count": 0,
      "outputs": []
    },
    {
      "cell_type": "code",
      "metadata": {
        "id": "P3UqQfq030pC",
        "colab_type": "code",
        "colab": {},
        "outputId": "52c00848-a3eb-4221-f82e-8e7bc7d0b2e4"
      },
      "source": [
        "y_train_pred[:10]"
      ],
      "execution_count": 0,
      "outputs": [
        {
          "output_type": "execute_result",
          "data": {
            "text/plain": [
              "array([1.45125375e-02, 3.80074846e-01, 6.09167395e-01, 9.98015326e-01,\n",
              "       2.04136728e-01, 5.77855610e-03, 1.92182022e-03, 3.88373599e-03,\n",
              "       2.64369812e-04, 3.45481945e-02])"
            ]
          },
          "metadata": {
            "tags": []
          },
          "execution_count": 144
        }
      ]
    },
    {
      "cell_type": "code",
      "metadata": {
        "id": "ndEE19pb30pE",
        "colab_type": "code",
        "colab": {},
        "outputId": "d6829b9a-dd87-46ba-e4d3-37e699c3b31e"
      },
      "source": [
        "y_train_pred_final = pd.DataFrame({'Converted_actual':y_train.values})\n",
        "y_train_pred_final['Lead_index'] = y_train.index\n",
        "y_train_pred_final.head()"
      ],
      "execution_count": 0,
      "outputs": [
        {
          "output_type": "execute_result",
          "data": {
            "text/html": [
              "<div>\n",
              "<style scoped>\n",
              "    .dataframe tbody tr th:only-of-type {\n",
              "        vertical-align: middle;\n",
              "    }\n",
              "\n",
              "    .dataframe tbody tr th {\n",
              "        vertical-align: top;\n",
              "    }\n",
              "\n",
              "    .dataframe thead th {\n",
              "        text-align: right;\n",
              "    }\n",
              "</style>\n",
              "<table border=\"1\" class=\"dataframe\">\n",
              "  <thead>\n",
              "    <tr style=\"text-align: right;\">\n",
              "      <th></th>\n",
              "      <th>Converted_actual</th>\n",
              "      <th>Lead_index</th>\n",
              "    </tr>\n",
              "  </thead>\n",
              "  <tbody>\n",
              "    <tr>\n",
              "      <th>0</th>\n",
              "      <td>0</td>\n",
              "      <td>5279</td>\n",
              "    </tr>\n",
              "    <tr>\n",
              "      <th>1</th>\n",
              "      <td>0</td>\n",
              "      <td>3099</td>\n",
              "    </tr>\n",
              "    <tr>\n",
              "      <th>2</th>\n",
              "      <td>1</td>\n",
              "      <td>91</td>\n",
              "    </tr>\n",
              "    <tr>\n",
              "      <th>3</th>\n",
              "      <td>1</td>\n",
              "      <td>1577</td>\n",
              "    </tr>\n",
              "    <tr>\n",
              "      <th>4</th>\n",
              "      <td>0</td>\n",
              "      <td>487</td>\n",
              "    </tr>\n",
              "  </tbody>\n",
              "</table>\n",
              "</div>"
            ],
            "text/plain": [
              "   Converted_actual  Lead_index\n",
              "0                 0        5279\n",
              "1                 0        3099\n",
              "2                 1          91\n",
              "3                 1        1577\n",
              "4                 0         487"
            ]
          },
          "metadata": {
            "tags": []
          },
          "execution_count": 145
        }
      ]
    },
    {
      "cell_type": "code",
      "metadata": {
        "id": "WcwawgKE30pI",
        "colab_type": "code",
        "colab": {}
      },
      "source": [
        "y_train_pred_final['Converted_Prob'] = y_train_pred"
      ],
      "execution_count": 0,
      "outputs": []
    },
    {
      "cell_type": "markdown",
      "metadata": {
        "id": "OxP-i99s30pK",
        "colab_type": "text"
      },
      "source": [
        "<font color = green> We now got the probability column with which we can place the decision whether the lead is potential or not. Initially we can take 0.5 as the cut off probability and go ahead and see for the model performance starting with `accuracy` and then going for various factors such as `Sensitivity,Specificity,True Positive Rate,False Positive Rate.`"
      ]
    },
    {
      "cell_type": "code",
      "metadata": {
        "id": "gjTvzKfv30pK",
        "colab_type": "code",
        "colab": {},
        "outputId": "2cf3cbae-42d0-4f74-a893-e615d207da26"
      },
      "source": [
        "# Creating new column 'predicted' with 1 if Converted_Prob > 0.5 else 0\n",
        "y_train_pred_final['Converted_predicted'] = y_train_pred_final['Converted_Prob'].map(lambda x: 1 if x > 0.5 else 0)\n",
        "y_train_pred_final.head()"
      ],
      "execution_count": 0,
      "outputs": [
        {
          "output_type": "execute_result",
          "data": {
            "text/html": [
              "<div>\n",
              "<style scoped>\n",
              "    .dataframe tbody tr th:only-of-type {\n",
              "        vertical-align: middle;\n",
              "    }\n",
              "\n",
              "    .dataframe tbody tr th {\n",
              "        vertical-align: top;\n",
              "    }\n",
              "\n",
              "    .dataframe thead th {\n",
              "        text-align: right;\n",
              "    }\n",
              "</style>\n",
              "<table border=\"1\" class=\"dataframe\">\n",
              "  <thead>\n",
              "    <tr style=\"text-align: right;\">\n",
              "      <th></th>\n",
              "      <th>Converted_actual</th>\n",
              "      <th>Lead_index</th>\n",
              "      <th>Converted_Prob</th>\n",
              "      <th>Converted_predicted</th>\n",
              "    </tr>\n",
              "  </thead>\n",
              "  <tbody>\n",
              "    <tr>\n",
              "      <th>0</th>\n",
              "      <td>0</td>\n",
              "      <td>5279</td>\n",
              "      <td>0.014513</td>\n",
              "      <td>0</td>\n",
              "    </tr>\n",
              "    <tr>\n",
              "      <th>1</th>\n",
              "      <td>0</td>\n",
              "      <td>3099</td>\n",
              "      <td>0.380075</td>\n",
              "      <td>0</td>\n",
              "    </tr>\n",
              "    <tr>\n",
              "      <th>2</th>\n",
              "      <td>1</td>\n",
              "      <td>91</td>\n",
              "      <td>0.609167</td>\n",
              "      <td>1</td>\n",
              "    </tr>\n",
              "    <tr>\n",
              "      <th>3</th>\n",
              "      <td>1</td>\n",
              "      <td>1577</td>\n",
              "      <td>0.998015</td>\n",
              "      <td>1</td>\n",
              "    </tr>\n",
              "    <tr>\n",
              "      <th>4</th>\n",
              "      <td>0</td>\n",
              "      <td>487</td>\n",
              "      <td>0.204137</td>\n",
              "      <td>0</td>\n",
              "    </tr>\n",
              "  </tbody>\n",
              "</table>\n",
              "</div>"
            ],
            "text/plain": [
              "   Converted_actual  Lead_index  Converted_Prob  Converted_predicted\n",
              "0                 0        5279        0.014513                    0\n",
              "1                 0        3099        0.380075                    0\n",
              "2                 1          91        0.609167                    1\n",
              "3                 1        1577        0.998015                    1\n",
              "4                 0         487        0.204137                    0"
            ]
          },
          "metadata": {
            "tags": []
          },
          "execution_count": 147
        }
      ]
    },
    {
      "cell_type": "markdown",
      "metadata": {
        "id": "_f4IY0gd30pN",
        "colab_type": "text"
      },
      "source": [
        "#### MODEL METRICS AND PERFORMANCE"
      ]
    },
    {
      "cell_type": "code",
      "metadata": {
        "id": "vQS_Fda-30pO",
        "colab_type": "code",
        "colab": {}
      },
      "source": [
        "from sklearn import metrics"
      ],
      "execution_count": 0,
      "outputs": []
    },
    {
      "cell_type": "code",
      "metadata": {
        "id": "7XWO664F30pP",
        "colab_type": "code",
        "colab": {},
        "outputId": "c7f3ca80-ae13-4727-c096-8d1fc0309dd0"
      },
      "source": [
        "# Let's check the overall accuracy.\n",
        "print(metrics.accuracy_score(y_train_pred_final.Converted_actual, y_train_pred_final.Converted_predicted))"
      ],
      "execution_count": 0,
      "outputs": [
        {
          "output_type": "stream",
          "text": [
            "0.9314836745051599\n"
          ],
          "name": "stdout"
        }
      ]
    },
    {
      "cell_type": "markdown",
      "metadata": {
        "id": "X0uuAiEZ30pQ",
        "colab_type": "text"
      },
      "source": [
        "<font color = green> We are getting a model accuracy of 93% which is very high and good. But model performance is not just based on accuracy and hence we need to deep dive into features such as Sensitivity,Specificity and ROC. For this we can start with observing the Confusion Matrix."
      ]
    },
    {
      "cell_type": "code",
      "metadata": {
        "id": "zoTWy3_Z30pR",
        "colab_type": "code",
        "colab": {},
        "outputId": "23dc9684-bc3c-42eb-a36e-e5e5d2fef70a"
      },
      "source": [
        "#Confusion Matrix\n",
        "confusion = metrics.confusion_matrix(y_train_pred_final.Converted_actual, y_train_pred_final.Converted_predicted)\n",
        "print(confusion)"
      ],
      "execution_count": 0,
      "outputs": [
        {
          "output_type": "stream",
          "text": [
            "[[3548  146]\n",
            " [ 259 1958]]\n"
          ],
          "name": "stdout"
        }
      ]
    },
    {
      "cell_type": "code",
      "metadata": {
        "id": "eQEmhSQ330pS",
        "colab_type": "code",
        "colab": {}
      },
      "source": [
        "# Predicted     not_churn    churn\n",
        "# Actual\n",
        "# not_churn        3548      146\n",
        "# churn             259     1958"
      ],
      "execution_count": 0,
      "outputs": []
    },
    {
      "cell_type": "code",
      "metadata": {
        "id": "gsRKj1u-30pU",
        "colab_type": "code",
        "colab": {}
      },
      "source": [
        "TP = confusion[1,1] # true positive \n",
        "TN = confusion[0,0] # true negatives\n",
        "FP = confusion[0,1] # false positives\n",
        "FN = confusion[1,0] # false negatives"
      ],
      "execution_count": 0,
      "outputs": []
    },
    {
      "cell_type": "code",
      "metadata": {
        "id": "-CCY8dBK30pV",
        "colab_type": "code",
        "colab": {},
        "outputId": "2161fe7e-9869-4604-c3cb-7d9a8347d682"
      },
      "source": [
        "#Sensitivity\n",
        "TP / float(TP+FN)"
      ],
      "execution_count": 0,
      "outputs": [
        {
          "output_type": "execute_result",
          "data": {
            "text/plain": [
              "0.8831754623364908"
            ]
          },
          "metadata": {
            "tags": []
          },
          "execution_count": 153
        }
      ]
    },
    {
      "cell_type": "code",
      "metadata": {
        "id": "tgOYkm_V30pW",
        "colab_type": "code",
        "colab": {},
        "outputId": "8f7052d3-ddf3-4faa-d1b4-e6b167604803"
      },
      "source": [
        "#Specificity\n",
        "TN / float(TN+FP)"
      ],
      "execution_count": 0,
      "outputs": [
        {
          "output_type": "execute_result",
          "data": {
            "text/plain": [
              "0.9604764482945317"
            ]
          },
          "metadata": {
            "tags": []
          },
          "execution_count": 154
        }
      ]
    },
    {
      "cell_type": "code",
      "metadata": {
        "id": "OBQO2foM30pX",
        "colab_type": "code",
        "colab": {},
        "outputId": "545aec80-b7b4-401e-cefe-c184d702c7be"
      },
      "source": [
        "#False Positive Rate\n",
        "FP / float(FP+TN)"
      ],
      "execution_count": 0,
      "outputs": [
        {
          "output_type": "execute_result",
          "data": {
            "text/plain": [
              "0.03952355170546833"
            ]
          },
          "metadata": {
            "tags": []
          },
          "execution_count": 155
        }
      ]
    },
    {
      "cell_type": "code",
      "metadata": {
        "id": "tlQrB1oy30pY",
        "colab_type": "code",
        "colab": {},
        "outputId": "1f11804d-00dc-41ef-8fb6-5d0b4e6999aa"
      },
      "source": [
        "#Positive Predictive Value\n",
        "TP / float(TP+FP)"
      ],
      "execution_count": 0,
      "outputs": [
        {
          "output_type": "execute_result",
          "data": {
            "text/plain": [
              "0.9306083650190115"
            ]
          },
          "metadata": {
            "tags": []
          },
          "execution_count": 156
        }
      ]
    },
    {
      "cell_type": "code",
      "metadata": {
        "id": "Jax0izva30pZ",
        "colab_type": "code",
        "colab": {},
        "outputId": "5df207c2-b78f-4ad6-fe2f-d1476ba97023"
      },
      "source": [
        "#Negative Predictive Value\n",
        "TN / float(TN+FN)"
      ],
      "execution_count": 0,
      "outputs": [
        {
          "output_type": "execute_result",
          "data": {
            "text/plain": [
              "0.9319674284213292"
            ]
          },
          "metadata": {
            "tags": []
          },
          "execution_count": 157
        }
      ]
    },
    {
      "cell_type": "markdown",
      "metadata": {
        "id": "qVZ1JID630pb",
        "colab_type": "text"
      },
      "source": [
        "<font color = green> All the above factors indicate a very good mdoel with us, with `Sensitivity of 88%,Specificity of 96%, FPR of only around 4% and Positive Predictive Value of around 93%`. Overall it seems to be a very good model. We can see plot the ROC curve now which is basically the plot between the Sensitivity and [1-Specificity]."
      ]
    },
    {
      "cell_type": "markdown",
      "metadata": {
        "id": "fvb3nTbE30pb",
        "colab_type": "text"
      },
      "source": [
        "#### ROC CURVE"
      ]
    },
    {
      "cell_type": "code",
      "metadata": {
        "id": "W3pMr6yy30pb",
        "colab_type": "code",
        "colab": {}
      },
      "source": [
        "def draw_roc( actual, probs ):\n",
        "    fpr, tpr, thresholds = metrics.roc_curve( actual, probs,\n",
        "                                              drop_intermediate = False )\n",
        "    auc_score = metrics.roc_auc_score( actual, probs )\n",
        "    plt.figure(figsize=(5, 5))\n",
        "    plt.plot( fpr, tpr, label='ROC curve (area = %0.2f)' % auc_score )\n",
        "    plt.plot([0, 1], [0, 1], 'k--')\n",
        "    plt.xlim([0.0, 1.0])\n",
        "    plt.ylim([0.0, 1.05])\n",
        "    plt.xlabel('False Positive Rate or [1 - True Negative Rate]')\n",
        "    plt.ylabel('True Positive Rate')\n",
        "    plt.title('Receiver operating characteristic example')\n",
        "    plt.legend(loc=\"lower right\")\n",
        "    plt.show()\n",
        "\n",
        "    return None"
      ],
      "execution_count": 0,
      "outputs": []
    },
    {
      "cell_type": "code",
      "metadata": {
        "id": "Yn5du6Ne30pc",
        "colab_type": "code",
        "colab": {}
      },
      "source": [
        "fpr, tpr, thresholds = metrics.roc_curve(y_train_pred_final.Converted_actual, y_train_pred_final.Converted_Prob, drop_intermediate = False )"
      ],
      "execution_count": 0,
      "outputs": []
    },
    {
      "cell_type": "code",
      "metadata": {
        "id": "9iQ0-bJM30pe",
        "colab_type": "code",
        "colab": {},
        "outputId": "07be4911-d8f8-4281-fe5d-838ad368765a"
      },
      "source": [
        "draw_roc(y_train_pred_final.Converted_actual, y_train_pred_final.Converted_Prob)"
      ],
      "execution_count": 0,
      "outputs": [
        {
          "output_type": "display_data",
          "data": {
            "image/png": "[encoded data removed]",
            "text/plain": [
              "<Figure size 360x360 with 1 Axes>"
            ]
          },
          "metadata": {
            "tags": [],
            "needs_background": "light"
          }
        }
      ]
    },
    {
      "cell_type": "markdown",
      "metadata": {
        "id": "CkVxO5Lc30pg",
        "colab_type": "text"
      },
      "source": [
        "<font color = green> ROC or Reciever Operating Characteristic Curve is a plot that shows the diagnostic ability of binary classifiers. We know that the classifiers that give curves closer to top-left corner indicate a better performance. Also for good models, the AUC or Area Under Curve would be higher. In our ROC plot above, we can see we are getting good AUC and a good trade off between the Sensitivity and Specificity."
      ]
    },
    {
      "cell_type": "markdown",
      "metadata": {
        "id": "R9bK6V9O30pj",
        "colab_type": "text"
      },
      "source": [
        "#### FINDING THE OPTIMAL CUT-OFF POINT"
      ]
    },
    {
      "cell_type": "markdown",
      "metadata": {
        "id": "-HeA7Mj_30pk",
        "colab_type": "text"
      },
      "source": [
        "<font color = green> Till now we assigned the cut-off value randomly as 0.5 and saw for the performance of the model. Now we can findout the optimal cut off probability point based on the accuracy,sensitivity and specificity that the model gives."
      ]
    },
    {
      "cell_type": "code",
      "metadata": {
        "id": "bGv36BNx30pk",
        "colab_type": "code",
        "colab": {},
        "outputId": "f04c52e8-3575-4303-c813-935322881b1a"
      },
      "source": [
        "# Let's create columns with different probability cutoffs \n",
        "numbers = [float(x)/10 for x in range(10)]\n",
        "for i in numbers:\n",
        "    y_train_pred_final[i]= y_train_pred_final.Converted_Prob.map(lambda x: 1 if x > i else 0)\n",
        "y_train_pred_final.head()"
      ],
      "execution_count": 0,
      "outputs": [
        {
          "output_type": "execute_result",
          "data": {
            "text/html": [
              "<div>\n",
              "<style scoped>\n",
              "    .dataframe tbody tr th:only-of-type {\n",
              "        vertical-align: middle;\n",
              "    }\n",
              "\n",
              "    .dataframe tbody tr th {\n",
              "        vertical-align: top;\n",
              "    }\n",
              "\n",
              "    .dataframe thead th {\n",
              "        text-align: right;\n",
              "    }\n",
              "</style>\n",
              "<table border=\"1\" class=\"dataframe\">\n",
              "  <thead>\n",
              "    <tr style=\"text-align: right;\">\n",
              "      <th></th>\n",
              "      <th>Converted_actual</th>\n",
              "      <th>Lead_index</th>\n",
              "      <th>Converted_Prob</th>\n",
              "      <th>Converted_predicted</th>\n",
              "      <th>0.0</th>\n",
              "      <th>0.1</th>\n",
              "      <th>0.2</th>\n",
              "      <th>0.3</th>\n",
              "      <th>0.4</th>\n",
              "      <th>0.5</th>\n",
              "      <th>0.6</th>\n",
              "      <th>0.7</th>\n",
              "      <th>0.8</th>\n",
              "      <th>0.9</th>\n",
              "    </tr>\n",
              "  </thead>\n",
              "  <tbody>\n",
              "    <tr>\n",
              "      <th>0</th>\n",
              "      <td>0</td>\n",
              "      <td>5279</td>\n",
              "      <td>0.014513</td>\n",
              "      <td>0</td>\n",
              "      <td>1</td>\n",
              "      <td>0</td>\n",
              "      <td>0</td>\n",
              "      <td>0</td>\n",
              "      <td>0</td>\n",
              "      <td>0</td>\n",
              "      <td>0</td>\n",
              "      <td>0</td>\n",
              "      <td>0</td>\n",
              "      <td>0</td>\n",
              "    </tr>\n",
              "    <tr>\n",
              "      <th>1</th>\n",
              "      <td>0</td>\n",
              "      <td>3099</td>\n",
              "      <td>0.380075</td>\n",
              "      <td>0</td>\n",
              "      <td>1</td>\n",
              "      <td>1</td>\n",
              "      <td>1</td>\n",
              "      <td>1</td>\n",
              "      <td>0</td>\n",
              "      <td>0</td>\n",
              "      <td>0</td>\n",
              "      <td>0</td>\n",
              "      <td>0</td>\n",
              "      <td>0</td>\n",
              "    </tr>\n",
              "    <tr>\n",
              "      <th>2</th>\n",
              "      <td>1</td>\n",
              "      <td>91</td>\n",
              "      <td>0.609167</td>\n",
              "      <td>1</td>\n",
              "      <td>1</td>\n",
              "      <td>1</td>\n",
              "      <td>1</td>\n",
              "      <td>1</td>\n",
              "      <td>1</td>\n",
              "      <td>1</td>\n",
              "      <td>1</td>\n",
              "      <td>0</td>\n",
              "      <td>0</td>\n",
              "      <td>0</td>\n",
              "    </tr>\n",
              "    <tr>\n",
              "      <th>3</th>\n",
              "      <td>1</td>\n",
              "      <td>1577</td>\n",
              "      <td>0.998015</td>\n",
              "      <td>1</td>\n",
              "      <td>1</td>\n",
              "      <td>1</td>\n",
              "      <td>1</td>\n",
              "      <td>1</td>\n",
              "      <td>1</td>\n",
              "      <td>1</td>\n",
              "      <td>1</td>\n",
              "      <td>1</td>\n",
              "      <td>1</td>\n",
              "      <td>1</td>\n",
              "    </tr>\n",
              "    <tr>\n",
              "      <th>4</th>\n",
              "      <td>0</td>\n",
              "      <td>487</td>\n",
              "      <td>0.204137</td>\n",
              "      <td>0</td>\n",
              "      <td>1</td>\n",
              "      <td>1</td>\n",
              "      <td>1</td>\n",
              "      <td>0</td>\n",
              "      <td>0</td>\n",
              "      <td>0</td>\n",
              "      <td>0</td>\n",
              "      <td>0</td>\n",
              "      <td>0</td>\n",
              "      <td>0</td>\n",
              "    </tr>\n",
              "  </tbody>\n",
              "</table>\n",
              "</div>"
            ],
            "text/plain": [
              "   Converted_actual  Lead_index  Converted_Prob  Converted_predicted  0.0  \\\n",
              "0                 0        5279        0.014513                    0    1   \n",
              "1                 0        3099        0.380075                    0    1   \n",
              "2                 1          91        0.609167                    1    1   \n",
              "3                 1        1577        0.998015                    1    1   \n",
              "4                 0         487        0.204137                    0    1   \n",
              "\n",
              "   0.1  0.2  0.3  0.4  0.5  0.6  0.7  0.8  0.9  \n",
              "0    0    0    0    0    0    0    0    0    0  \n",
              "1    1    1    1    0    0    0    0    0    0  \n",
              "2    1    1    1    1    1    1    0    0    0  \n",
              "3    1    1    1    1    1    1    1    1    1  \n",
              "4    1    1    0    0    0    0    0    0    0  "
            ]
          },
          "metadata": {
            "tags": []
          },
          "execution_count": 161
        }
      ]
    },
    {
      "cell_type": "code",
      "metadata": {
        "id": "lAU6MfZC30pl",
        "colab_type": "code",
        "colab": {},
        "outputId": "65f1967c-941c-410b-c793-708750f3388b"
      },
      "source": [
        "# Now let's calculate accuracy sensitivity and specificity for various probability cutoffs.\n",
        "cutoff_df = pd.DataFrame( columns = ['probability','accuracy','sensitivity','specificity'])\n",
        "from sklearn.metrics import confusion_matrix\n",
        "\n",
        "# TP = confusion[1,1] # true positive \n",
        "# TN = confusion[0,0] # true negatives\n",
        "# FP = confusion[0,1] # false positives\n",
        "# FN = confusion[1,0] # false negatives\n",
        "\n",
        "num = [0.0,0.1,0.2,0.3,0.4,0.5,0.6,0.7,0.8,0.9]\n",
        "for i in num:\n",
        "    cm1 = metrics.confusion_matrix(y_train_pred_final.Converted_actual, y_train_pred_final[i] )\n",
        "    total1=sum(sum(cm1))\n",
        "    accuracy = (cm1[0,0]+cm1[1,1])/total1\n",
        "    \n",
        "    speci = cm1[0,0]/(cm1[0,0]+cm1[0,1])\n",
        "    sensi = cm1[1,1]/(cm1[1,0]+cm1[1,1])\n",
        "    cutoff_df.loc[i] =[ i ,accuracy,sensi,speci]\n",
        "print(cutoff_df)"
      ],
      "execution_count": 0,
      "outputs": [
        {
          "output_type": "stream",
          "text": [
            "     probability  accuracy  sensitivity  specificity\n",
            "0.0          0.0  0.375063     1.000000     0.000000\n",
            "0.1          0.1  0.850110     0.977447     0.773687\n",
            "0.2          0.2  0.903739     0.936852     0.883866\n",
            "0.3          0.3  0.923025     0.916554     0.926909\n",
            "0.4          0.4  0.929115     0.896707     0.948565\n",
            "0.5          0.5  0.931484     0.883175     0.960476\n",
            "0.6          0.6  0.920149     0.837167     0.969951\n",
            "0.7          0.7  0.916089     0.814163     0.977260\n",
            "0.8          0.8  0.908983     0.782138     0.985111\n",
            "0.9          0.9  0.891220     0.726207     0.990254\n"
          ],
          "name": "stdout"
        }
      ]
    },
    {
      "cell_type": "code",
      "metadata": {
        "id": "BGSB7H8D30pn",
        "colab_type": "code",
        "colab": {},
        "outputId": "35577cfc-8539-4bed-b115-c57fbb2fe27c"
      },
      "source": [
        "# Let's plot accuracy sensitivity and specificity for various probabilities.\n",
        "cutoff_df.plot.line(x='probability', y=['accuracy','sensitivity','specificity'])\n",
        "plt.show()"
      ],
      "execution_count": 0,
      "outputs": [
        {
          "output_type": "display_data",
          "data": {
            "image/png": "[encoded data removed]",
            "text/plain": [
              "<Figure size 432x288 with 1 Axes>"
            ]
          },
          "metadata": {
            "tags": [],
            "needs_background": "light"
          }
        }
      ]
    },
    {
      "cell_type": "markdown",
      "metadata": {
        "id": "Dc4nGGmv30pp",
        "colab_type": "text"
      },
      "source": [
        "<font color = green> From the above plot between the Accuracy,Sensitivity and Specificity we can see, probability around 0.3 would be a good cut-off. For cut-off probability of 0.3, we getting accuracy of 92.3%,specificity of 92.7% and more importantly sensitivity of 91.7% "
      ]
    },
    {
      "cell_type": "code",
      "metadata": {
        "id": "in0fKsuL30pp",
        "colab_type": "code",
        "colab": {},
        "outputId": "8c1271b5-4cb0-4dc0-a519-c335ecbec024"
      },
      "source": [
        "y_train_pred_final['Final_predicted'] = y_train_pred_final.Converted_Prob.map( lambda x: 1 if x > 0.3 else 0)\n",
        "y_train_pred_final.head()"
      ],
      "execution_count": 0,
      "outputs": [
        {
          "output_type": "execute_result",
          "data": {
            "text/html": [
              "<div>\n",
              "<style scoped>\n",
              "    .dataframe tbody tr th:only-of-type {\n",
              "        vertical-align: middle;\n",
              "    }\n",
              "\n",
              "    .dataframe tbody tr th {\n",
              "        vertical-align: top;\n",
              "    }\n",
              "\n",
              "    .dataframe thead th {\n",
              "        text-align: right;\n",
              "    }\n",
              "</style>\n",
              "<table border=\"1\" class=\"dataframe\">\n",
              "  <thead>\n",
              "    <tr style=\"text-align: right;\">\n",
              "      <th></th>\n",
              "      <th>Converted_actual</th>\n",
              "      <th>Lead_index</th>\n",
              "      <th>Converted_Prob</th>\n",
              "      <th>Converted_predicted</th>\n",
              "      <th>0.0</th>\n",
              "      <th>0.1</th>\n",
              "      <th>0.2</th>\n",
              "      <th>0.3</th>\n",
              "      <th>0.4</th>\n",
              "      <th>0.5</th>\n",
              "      <th>0.6</th>\n",
              "      <th>0.7</th>\n",
              "      <th>0.8</th>\n",
              "      <th>0.9</th>\n",
              "      <th>Final_predicted</th>\n",
              "    </tr>\n",
              "  </thead>\n",
              "  <tbody>\n",
              "    <tr>\n",
              "      <th>0</th>\n",
              "      <td>0</td>\n",
              "      <td>5279</td>\n",
              "      <td>0.014513</td>\n",
              "      <td>0</td>\n",
              "      <td>1</td>\n",
              "      <td>0</td>\n",
              "      <td>0</td>\n",
              "      <td>0</td>\n",
              "      <td>0</td>\n",
              "      <td>0</td>\n",
              "      <td>0</td>\n",
              "      <td>0</td>\n",
              "      <td>0</td>\n",
              "      <td>0</td>\n",
              "      <td>0</td>\n",
              "    </tr>\n",
              "    <tr>\n",
              "      <th>1</th>\n",
              "      <td>0</td>\n",
              "      <td>3099</td>\n",
              "      <td>0.380075</td>\n",
              "      <td>0</td>\n",
              "      <td>1</td>\n",
              "      <td>1</td>\n",
              "      <td>1</td>\n",
              "      <td>1</td>\n",
              "      <td>0</td>\n",
              "      <td>0</td>\n",
              "      <td>0</td>\n",
              "      <td>0</td>\n",
              "      <td>0</td>\n",
              "      <td>0</td>\n",
              "      <td>1</td>\n",
              "    </tr>\n",
              "    <tr>\n",
              "      <th>2</th>\n",
              "      <td>1</td>\n",
              "      <td>91</td>\n",
              "      <td>0.609167</td>\n",
              "      <td>1</td>\n",
              "      <td>1</td>\n",
              "      <td>1</td>\n",
              "      <td>1</td>\n",
              "      <td>1</td>\n",
              "      <td>1</td>\n",
              "      <td>1</td>\n",
              "      <td>1</td>\n",
              "      <td>0</td>\n",
              "      <td>0</td>\n",
              "      <td>0</td>\n",
              "      <td>1</td>\n",
              "    </tr>\n",
              "    <tr>\n",
              "      <th>3</th>\n",
              "      <td>1</td>\n",
              "      <td>1577</td>\n",
              "      <td>0.998015</td>\n",
              "      <td>1</td>\n",
              "      <td>1</td>\n",
              "      <td>1</td>\n",
              "      <td>1</td>\n",
              "      <td>1</td>\n",
              "      <td>1</td>\n",
              "      <td>1</td>\n",
              "      <td>1</td>\n",
              "      <td>1</td>\n",
              "      <td>1</td>\n",
              "      <td>1</td>\n",
              "      <td>1</td>\n",
              "    </tr>\n",
              "    <tr>\n",
              "      <th>4</th>\n",
              "      <td>0</td>\n",
              "      <td>487</td>\n",
              "      <td>0.204137</td>\n",
              "      <td>0</td>\n",
              "      <td>1</td>\n",
              "      <td>1</td>\n",
              "      <td>1</td>\n",
              "      <td>0</td>\n",
              "      <td>0</td>\n",
              "      <td>0</td>\n",
              "      <td>0</td>\n",
              "      <td>0</td>\n",
              "      <td>0</td>\n",
              "      <td>0</td>\n",
              "      <td>0</td>\n",
              "    </tr>\n",
              "  </tbody>\n",
              "</table>\n",
              "</div>"
            ],
            "text/plain": [
              "   Converted_actual  Lead_index  Converted_Prob  Converted_predicted  0.0  \\\n",
              "0                 0        5279        0.014513                    0    1   \n",
              "1                 0        3099        0.380075                    0    1   \n",
              "2                 1          91        0.609167                    1    1   \n",
              "3                 1        1577        0.998015                    1    1   \n",
              "4                 0         487        0.204137                    0    1   \n",
              "\n",
              "   0.1  0.2  0.3  0.4  0.5  0.6  0.7  0.8  0.9  Final_predicted  \n",
              "0    0    0    0    0    0    0    0    0    0                0  \n",
              "1    1    1    1    0    0    0    0    0    0                1  \n",
              "2    1    1    1    1    1    1    0    0    0                1  \n",
              "3    1    1    1    1    1    1    1    1    1                1  \n",
              "4    1    1    0    0    0    0    0    0    0                0  "
            ]
          },
          "metadata": {
            "tags": []
          },
          "execution_count": 164
        }
      ]
    },
    {
      "cell_type": "code",
      "metadata": {
        "id": "6IsWnFLG30pq",
        "colab_type": "code",
        "colab": {},
        "outputId": "ed548109-e48b-4c0f-ae9d-ac784064e282"
      },
      "source": [
        "final_confusion = confusion_matrix(y_train_pred_final['Converted_actual'],y_train_pred_final['Final_predicted'])\n",
        "print(final_confusion)"
      ],
      "execution_count": 0,
      "outputs": [
        {
          "output_type": "stream",
          "text": [
            "[[3424  270]\n",
            " [ 185 2032]]\n"
          ],
          "name": "stdout"
        }
      ]
    },
    {
      "cell_type": "code",
      "metadata": {
        "id": "OHGx4XXJ30pr",
        "colab_type": "code",
        "colab": {}
      },
      "source": [
        "# Predicted     not_churn    churn\n",
        "# Actual\n",
        "# not_churn        3424      270\n",
        "# churn             185     2032"
      ],
      "execution_count": 0,
      "outputs": []
    },
    {
      "cell_type": "code",
      "metadata": {
        "id": "sDbf2d2c30ps",
        "colab_type": "code",
        "colab": {}
      },
      "source": [
        "TP = final_confusion[1,1] # true positive \n",
        "TN = final_confusion[0,0] # true negatives\n",
        "FP = final_confusion[0,1] # false positives\n",
        "FN = final_confusion[1,0] # false negatives"
      ],
      "execution_count": 0,
      "outputs": []
    },
    {
      "cell_type": "code",
      "metadata": {
        "id": "JihK1zc830pt",
        "colab_type": "code",
        "colab": {},
        "outputId": "4004d637-690b-4dc1-dbeb-763265d08ae6"
      },
      "source": [
        "#Sensitivity\n",
        "TP / float(TP+FN)"
      ],
      "execution_count": 0,
      "outputs": [
        {
          "output_type": "execute_result",
          "data": {
            "text/plain": [
              "0.9165539016689219"
            ]
          },
          "metadata": {
            "tags": []
          },
          "execution_count": 168
        }
      ]
    },
    {
      "cell_type": "code",
      "metadata": {
        "id": "qvkDfKim30pu",
        "colab_type": "code",
        "colab": {},
        "outputId": "9dc57168-72a9-4153-a5a5-f494f3ddfbd4"
      },
      "source": [
        "#Specificity\n",
        "TN / float(TN+FP)"
      ],
      "execution_count": 0,
      "outputs": [
        {
          "output_type": "execute_result",
          "data": {
            "text/plain": [
              "0.9269085002707093"
            ]
          },
          "metadata": {
            "tags": []
          },
          "execution_count": 169
        }
      ]
    },
    {
      "cell_type": "code",
      "metadata": {
        "id": "LKMf618v30pv",
        "colab_type": "code",
        "colab": {},
        "outputId": "3a6a5e54-60eb-47f6-fe27-cca82beaede5"
      },
      "source": [
        "#False Positive Rate\n",
        "FP / float(FP+TN)"
      ],
      "execution_count": 0,
      "outputs": [
        {
          "output_type": "execute_result",
          "data": {
            "text/plain": [
              "0.07309149972929074"
            ]
          },
          "metadata": {
            "tags": []
          },
          "execution_count": 170
        }
      ]
    },
    {
      "cell_type": "code",
      "metadata": {
        "id": "qdPCBE5v30pv",
        "colab_type": "code",
        "colab": {},
        "outputId": "bef80a2f-42c6-4ea3-cdd8-9f5be2ff9961"
      },
      "source": [
        "#Positive Predictive Value\n",
        "TP / float(TP+FP)"
      ],
      "execution_count": 0,
      "outputs": [
        {
          "output_type": "execute_result",
          "data": {
            "text/plain": [
              "0.8827106863596872"
            ]
          },
          "metadata": {
            "tags": []
          },
          "execution_count": 171
        }
      ]
    },
    {
      "cell_type": "code",
      "metadata": {
        "id": "2PsftSu930pw",
        "colab_type": "code",
        "colab": {},
        "outputId": "88996e25-1320-4116-d536-ac7b460c018a"
      },
      "source": [
        "#Negative Predictive Value\n",
        "TN / float(TN+FN)"
      ],
      "execution_count": 0,
      "outputs": [
        {
          "output_type": "execute_result",
          "data": {
            "text/plain": [
              "0.9487392629537268"
            ]
          },
          "metadata": {
            "tags": []
          },
          "execution_count": 172
        }
      ]
    },
    {
      "cell_type": "markdown",
      "metadata": {
        "id": "EadQfvxw30pz",
        "colab_type": "text"
      },
      "source": [
        "<font color = green> So now we have taken the cut off 0.3 and seen for the confusion matrix and Sensitivyt and Specificity. We can see both Sensitivity and Specificity we are getting in the range around 91% which is really good value."
      ]
    },
    {
      "cell_type": "markdown",
      "metadata": {
        "id": "sQvIagwy30p0",
        "colab_type": "text"
      },
      "source": [
        "#### PRECISION AND RECALL "
      ]
    },
    {
      "cell_type": "code",
      "metadata": {
        "id": "Y7Lu66zl30p0",
        "colab_type": "code",
        "colab": {}
      },
      "source": [
        "precision = TP / float(TP+FP)"
      ],
      "execution_count": 0,
      "outputs": []
    },
    {
      "cell_type": "code",
      "metadata": {
        "id": "KE25I7KN30p1",
        "colab_type": "code",
        "colab": {}
      },
      "source": [
        "recall = TP / float(TP+FN)"
      ],
      "execution_count": 0,
      "outputs": []
    },
    {
      "cell_type": "code",
      "metadata": {
        "id": "rI9QE0gP30p1",
        "colab_type": "code",
        "colab": {}
      },
      "source": [
        "from sklearn.metrics import precision_score, recall_score"
      ],
      "execution_count": 0,
      "outputs": []
    },
    {
      "cell_type": "code",
      "metadata": {
        "id": "Q0m84vkp30p2",
        "colab_type": "code",
        "colab": {},
        "outputId": "73b30112-8bc1-41d7-a7cd-1b8597a1f00d"
      },
      "source": [
        "precision_score(y_train_pred_final.Converted_actual, y_train_pred_final.Final_predicted)"
      ],
      "execution_count": 0,
      "outputs": [
        {
          "output_type": "execute_result",
          "data": {
            "text/plain": [
              "0.8827106863596872"
            ]
          },
          "metadata": {
            "tags": []
          },
          "execution_count": 176
        }
      ]
    },
    {
      "cell_type": "code",
      "metadata": {
        "id": "e5rE32Ac30p5",
        "colab_type": "code",
        "colab": {},
        "outputId": "4e79a577-8148-4602-bb5b-3c2458fe916f"
      },
      "source": [
        "recall_score(y_train_pred_final.Converted_actual, y_train_pred_final.Final_predicted)"
      ],
      "execution_count": 0,
      "outputs": [
        {
          "output_type": "execute_result",
          "data": {
            "text/plain": [
              "0.9165539016689219"
            ]
          },
          "metadata": {
            "tags": []
          },
          "execution_count": 177
        }
      ]
    },
    {
      "cell_type": "code",
      "metadata": {
        "id": "eZZaw7bN30p8",
        "colab_type": "code",
        "colab": {}
      },
      "source": [
        "from sklearn.metrics import precision_recall_curve"
      ],
      "execution_count": 0,
      "outputs": []
    },
    {
      "cell_type": "code",
      "metadata": {
        "id": "Ny4jZ2ry30qA",
        "colab_type": "code",
        "colab": {},
        "outputId": "2826ff2f-5472-4c99-e204-0170da26f798"
      },
      "source": [
        "p, r, thresholds = precision_recall_curve(y_train_pred_final.Converted_actual, y_train_pred_final.Final_predicted)\n",
        "plt.plot(thresholds, p[:-1], \"g-\")\n",
        "plt.plot(thresholds, r[:-1], \"r-\")\n",
        "plt.show()"
      ],
      "execution_count": 0,
      "outputs": [
        {
          "output_type": "display_data",
          "data": {
            "image/png": "[encoded data removed]",
            "text/plain": [
              "<Figure size 432x288 with 1 Axes>"
            ]
          },
          "metadata": {
            "tags": [],
            "needs_background": "light"
          }
        }
      ]
    },
    {
      "cell_type": "markdown",
      "metadata": {
        "id": "_0mK8Slq30qD",
        "colab_type": "text"
      },
      "source": [
        " #### TEST SET"
      ]
    },
    {
      "cell_type": "markdown",
      "metadata": {
        "id": "VyMUkdxY30qD",
        "colab_type": "text"
      },
      "source": [
        "<font color = green> We can now evaluate the model on the test dataset. For this we can transform our test dataset and then make predictions with the model we built before."
      ]
    },
    {
      "cell_type": "code",
      "metadata": {
        "id": "xQcXcIJc30qE",
        "colab_type": "code",
        "colab": {}
      },
      "source": [
        "cols = ['TotalVisits','Total Time Spent on Website','Page Views Per Visit','Asymmetrique Activity Index','Asymmetrique Profile Index','Asymmetrique Activity Score','Asymmetrique Profile Score']\n",
        "X_test[cols] = scaler.transform(X_test[cols])"
      ],
      "execution_count": 0,
      "outputs": []
    },
    {
      "cell_type": "code",
      "metadata": {
        "id": "a1-tboKZ30qF",
        "colab_type": "code",
        "colab": {}
      },
      "source": [
        "cols = list(X_train_RFE.columns)"
      ],
      "execution_count": 0,
      "outputs": []
    },
    {
      "cell_type": "code",
      "metadata": {
        "id": "h4tewSdD30qI",
        "colab_type": "code",
        "colab": {}
      },
      "source": [
        "X_test = X_test[cols]"
      ],
      "execution_count": 0,
      "outputs": []
    },
    {
      "cell_type": "code",
      "metadata": {
        "id": "PFMAOBDG30qJ",
        "colab_type": "code",
        "colab": {}
      },
      "source": [
        "y_test_pred = result.predict(sm.add_constant(X_test))"
      ],
      "execution_count": 0,
      "outputs": []
    },
    {
      "cell_type": "code",
      "metadata": {
        "id": "MScdrGnL30qL",
        "colab_type": "code",
        "colab": {}
      },
      "source": [
        "# Converting y_pred to a dataframe which is an array\n",
        "y_pred_1 = pd.DataFrame(y_test_pred)"
      ],
      "execution_count": 0,
      "outputs": []
    },
    {
      "cell_type": "code",
      "metadata": {
        "id": "37MYp96b30qM",
        "colab_type": "code",
        "colab": {}
      },
      "source": [
        "y_test_df = pd.DataFrame(y_test)\n",
        "y_test_df['Lead_index'] = y_test_df.index"
      ],
      "execution_count": 0,
      "outputs": []
    },
    {
      "cell_type": "code",
      "metadata": {
        "id": "kfb7pYyz30qN",
        "colab_type": "code",
        "colab": {}
      },
      "source": [
        "# Removing index for both dataframes to append them side by side \n",
        "y_pred_1.reset_index(drop=True, inplace=True)\n",
        "y_test_df.reset_index(drop=True, inplace=True)"
      ],
      "execution_count": 0,
      "outputs": []
    },
    {
      "cell_type": "code",
      "metadata": {
        "id": "Yp_yuEZL30qP",
        "colab_type": "code",
        "colab": {}
      },
      "source": [
        "# Appending y_test_df and y_pred_1\n",
        "y_pred_final = pd.concat([y_test_df, y_pred_1],axis=1)"
      ],
      "execution_count": 0,
      "outputs": []
    },
    {
      "cell_type": "code",
      "metadata": {
        "id": "ILJae38B30qQ",
        "colab_type": "code",
        "colab": {}
      },
      "source": [
        "# Renaming the column \n",
        "y_pred_final= y_pred_final.rename(columns={ 0 : 'Converted_Prob'})"
      ],
      "execution_count": 0,
      "outputs": []
    },
    {
      "cell_type": "code",
      "metadata": {
        "id": "3WQ1UM5m30qR",
        "colab_type": "code",
        "colab": {}
      },
      "source": [
        "y_pred_final['final_predicted'] = y_pred_final.Converted_Prob.map(lambda x: 1 if x > 0.3 else 0)"
      ],
      "execution_count": 0,
      "outputs": []
    },
    {
      "cell_type": "code",
      "metadata": {
        "id": "zLs7O5Mh30qS",
        "colab_type": "code",
        "colab": {},
        "outputId": "b8b0afe4-7706-4a99-ca22-7581e22f65bb"
      },
      "source": [
        "y_pred_final.head()"
      ],
      "execution_count": 0,
      "outputs": [
        {
          "output_type": "execute_result",
          "data": {
            "text/html": [
              "<div>\n",
              "<style scoped>\n",
              "    .dataframe tbody tr th:only-of-type {\n",
              "        vertical-align: middle;\n",
              "    }\n",
              "\n",
              "    .dataframe tbody tr th {\n",
              "        vertical-align: top;\n",
              "    }\n",
              "\n",
              "    .dataframe thead th {\n",
              "        text-align: right;\n",
              "    }\n",
              "</style>\n",
              "<table border=\"1\" class=\"dataframe\">\n",
              "  <thead>\n",
              "    <tr style=\"text-align: right;\">\n",
              "      <th></th>\n",
              "      <th>Converted</th>\n",
              "      <th>Lead_index</th>\n",
              "      <th>Converted_Prob</th>\n",
              "      <th>final_predicted</th>\n",
              "    </tr>\n",
              "  </thead>\n",
              "  <tbody>\n",
              "    <tr>\n",
              "      <th>0</th>\n",
              "      <td>1</td>\n",
              "      <td>1926</td>\n",
              "      <td>0.978782</td>\n",
              "      <td>1</td>\n",
              "    </tr>\n",
              "    <tr>\n",
              "      <th>1</th>\n",
              "      <td>0</td>\n",
              "      <td>5654</td>\n",
              "      <td>0.893098</td>\n",
              "      <td>1</td>\n",
              "    </tr>\n",
              "    <tr>\n",
              "      <th>2</th>\n",
              "      <td>0</td>\n",
              "      <td>1209</td>\n",
              "      <td>0.010568</td>\n",
              "      <td>0</td>\n",
              "    </tr>\n",
              "    <tr>\n",
              "      <th>3</th>\n",
              "      <td>0</td>\n",
              "      <td>5234</td>\n",
              "      <td>0.003761</td>\n",
              "      <td>0</td>\n",
              "    </tr>\n",
              "    <tr>\n",
              "      <th>4</th>\n",
              "      <td>0</td>\n",
              "      <td>8497</td>\n",
              "      <td>0.001941</td>\n",
              "      <td>0</td>\n",
              "    </tr>\n",
              "  </tbody>\n",
              "</table>\n",
              "</div>"
            ],
            "text/plain": [
              "   Converted  Lead_index  Converted_Prob  final_predicted\n",
              "0          1        1926        0.978782                1\n",
              "1          0        5654        0.893098                1\n",
              "2          0        1209        0.010568                0\n",
              "3          0        5234        0.003761                0\n",
              "4          0        8497        0.001941                0"
            ]
          },
          "metadata": {
            "tags": []
          },
          "execution_count": 190
        }
      ]
    },
    {
      "cell_type": "code",
      "metadata": {
        "id": "aV9oKxge30qT",
        "colab_type": "code",
        "colab": {},
        "outputId": "30121ecb-d0b7-4f90-e55d-dd1dc91748ee"
      },
      "source": [
        "# Let's check the overall accuracy.\n",
        "metrics.accuracy_score(y_pred_final.Converted, y_pred_final.final_predicted)"
      ],
      "execution_count": 0,
      "outputs": [
        {
          "output_type": "execute_result",
          "data": {
            "text/plain": [
              "0.919889502762431"
            ]
          },
          "metadata": {
            "tags": []
          },
          "execution_count": 191
        }
      ]
    },
    {
      "cell_type": "code",
      "metadata": {
        "id": "AlYw3jMw30qU",
        "colab_type": "code",
        "colab": {},
        "outputId": "cb75c190-ccad-43ab-d61d-f36eb0efe379"
      },
      "source": [
        "confusion2 = metrics.confusion_matrix(y_pred_final.Converted, y_pred_final.final_predicted )\n",
        "confusion2"
      ],
      "execution_count": 0,
      "outputs": [
        {
          "output_type": "execute_result",
          "data": {
            "text/plain": [
              "array([[1455,  131],\n",
              "       [  72,  876]], dtype=int64)"
            ]
          },
          "metadata": {
            "tags": []
          },
          "execution_count": 192
        }
      ]
    },
    {
      "cell_type": "code",
      "metadata": {
        "id": "BjgvaFM430qW",
        "colab_type": "code",
        "colab": {}
      },
      "source": [
        "TP = confusion2[1,1] # true positive \n",
        "TN = confusion2[0,0] # true negatives\n",
        "FP = confusion2[0,1] # false positives\n",
        "FN = confusion2[1,0] # false negatives"
      ],
      "execution_count": 0,
      "outputs": []
    },
    {
      "cell_type": "code",
      "metadata": {
        "id": "hElHBh-M30qX",
        "colab_type": "code",
        "colab": {},
        "outputId": "dfbe0f81-e095-4d5a-ff81-1f8a142738af"
      },
      "source": [
        "# Let's see the sensitivity of our logistic regression model\n",
        "TP / float(TP+FN)"
      ],
      "execution_count": 0,
      "outputs": [
        {
          "output_type": "execute_result",
          "data": {
            "text/plain": [
              "0.9240506329113924"
            ]
          },
          "metadata": {
            "tags": []
          },
          "execution_count": 194
        }
      ]
    },
    {
      "cell_type": "code",
      "metadata": {
        "id": "d2MMHK-730qZ",
        "colab_type": "code",
        "colab": {},
        "outputId": "297a7e67-c252-4a0f-cac0-87dc9ce5c049"
      },
      "source": [
        "# Let us calculate specificity\n",
        "TN / float(TN+FP)"
      ],
      "execution_count": 0,
      "outputs": [
        {
          "output_type": "execute_result",
          "data": {
            "text/plain": [
              "0.9174022698612863"
            ]
          },
          "metadata": {
            "tags": []
          },
          "execution_count": 195
        }
      ]
    },
    {
      "cell_type": "markdown",
      "metadata": {
        "id": "WpCrxVJV30qa",
        "colab_type": "text"
      },
      "source": [
        "<font color = green> Accuracy of 92%,Sensitivity of 92% and Specificity of 91% is what we get in the test dataset which are good figure indicating out model is performing really well on both the test and the train datasets."
      ]
    },
    {
      "cell_type": "markdown",
      "metadata": {
        "id": "_2uZtZGo30qa",
        "colab_type": "text"
      },
      "source": [
        "<font color = green> We can now merge our dataframe with our predictor probabilities with the initial one with the Lead number and finally make a sincle dataframe with just Lead Number and the Score for the lead which is based on the probability we got from the model."
      ]
    },
    {
      "cell_type": "code",
      "metadata": {
        "id": "40tSB1GY30qa",
        "colab_type": "code",
        "colab": {},
        "outputId": "0a91bfaa-7700-4092-d51d-c8e6f880fa44"
      },
      "source": [
        "lead_df.head()"
      ],
      "execution_count": 0,
      "outputs": [
        {
          "output_type": "execute_result",
          "data": {
            "text/html": [
              "<div>\n",
              "<style scoped>\n",
              "    .dataframe tbody tr th:only-of-type {\n",
              "        vertical-align: middle;\n",
              "    }\n",
              "\n",
              "    .dataframe tbody tr th {\n",
              "        vertical-align: top;\n",
              "    }\n",
              "\n",
              "    .dataframe thead th {\n",
              "        text-align: right;\n",
              "    }\n",
              "</style>\n",
              "<table border=\"1\" class=\"dataframe\">\n",
              "  <thead>\n",
              "    <tr style=\"text-align: right;\">\n",
              "      <th></th>\n",
              "      <th>Lead Number</th>\n",
              "      <th>Lead_index</th>\n",
              "    </tr>\n",
              "  </thead>\n",
              "  <tbody>\n",
              "    <tr>\n",
              "      <th>0</th>\n",
              "      <td>660737</td>\n",
              "      <td>0</td>\n",
              "    </tr>\n",
              "    <tr>\n",
              "      <th>1</th>\n",
              "      <td>660728</td>\n",
              "      <td>1</td>\n",
              "    </tr>\n",
              "    <tr>\n",
              "      <th>2</th>\n",
              "      <td>660727</td>\n",
              "      <td>2</td>\n",
              "    </tr>\n",
              "    <tr>\n",
              "      <th>3</th>\n",
              "      <td>660719</td>\n",
              "      <td>3</td>\n",
              "    </tr>\n",
              "    <tr>\n",
              "      <th>4</th>\n",
              "      <td>660681</td>\n",
              "      <td>4</td>\n",
              "    </tr>\n",
              "  </tbody>\n",
              "</table>\n",
              "</div>"
            ],
            "text/plain": [
              "   Lead Number  Lead_index\n",
              "0       660737           0\n",
              "1       660728           1\n",
              "2       660727           2\n",
              "3       660719           3\n",
              "4       660681           4"
            ]
          },
          "metadata": {
            "tags": []
          },
          "execution_count": 196
        }
      ]
    },
    {
      "cell_type": "code",
      "metadata": {
        "id": "L7Oy-gtt30qb",
        "colab_type": "code",
        "colab": {},
        "outputId": "7b2c0e87-d9c6-4f52-8826-4c41405adabd"
      },
      "source": [
        "y_train_pred_final.head()"
      ],
      "execution_count": 0,
      "outputs": [
        {
          "output_type": "execute_result",
          "data": {
            "text/html": [
              "<div>\n",
              "<style scoped>\n",
              "    .dataframe tbody tr th:only-of-type {\n",
              "        vertical-align: middle;\n",
              "    }\n",
              "\n",
              "    .dataframe tbody tr th {\n",
              "        vertical-align: top;\n",
              "    }\n",
              "\n",
              "    .dataframe thead th {\n",
              "        text-align: right;\n",
              "    }\n",
              "</style>\n",
              "<table border=\"1\" class=\"dataframe\">\n",
              "  <thead>\n",
              "    <tr style=\"text-align: right;\">\n",
              "      <th></th>\n",
              "      <th>Converted_actual</th>\n",
              "      <th>Lead_index</th>\n",
              "      <th>Converted_Prob</th>\n",
              "      <th>Converted_predicted</th>\n",
              "      <th>0.0</th>\n",
              "      <th>0.1</th>\n",
              "      <th>0.2</th>\n",
              "      <th>0.3</th>\n",
              "      <th>0.4</th>\n",
              "      <th>0.5</th>\n",
              "      <th>0.6</th>\n",
              "      <th>0.7</th>\n",
              "      <th>0.8</th>\n",
              "      <th>0.9</th>\n",
              "      <th>Final_predicted</th>\n",
              "    </tr>\n",
              "  </thead>\n",
              "  <tbody>\n",
              "    <tr>\n",
              "      <th>0</th>\n",
              "      <td>0</td>\n",
              "      <td>5279</td>\n",
              "      <td>0.014513</td>\n",
              "      <td>0</td>\n",
              "      <td>1</td>\n",
              "      <td>0</td>\n",
              "      <td>0</td>\n",
              "      <td>0</td>\n",
              "      <td>0</td>\n",
              "      <td>0</td>\n",
              "      <td>0</td>\n",
              "      <td>0</td>\n",
              "      <td>0</td>\n",
              "      <td>0</td>\n",
              "      <td>0</td>\n",
              "    </tr>\n",
              "    <tr>\n",
              "      <th>1</th>\n",
              "      <td>0</td>\n",
              "      <td>3099</td>\n",
              "      <td>0.380075</td>\n",
              "      <td>0</td>\n",
              "      <td>1</td>\n",
              "      <td>1</td>\n",
              "      <td>1</td>\n",
              "      <td>1</td>\n",
              "      <td>0</td>\n",
              "      <td>0</td>\n",
              "      <td>0</td>\n",
              "      <td>0</td>\n",
              "      <td>0</td>\n",
              "      <td>0</td>\n",
              "      <td>1</td>\n",
              "    </tr>\n",
              "    <tr>\n",
              "      <th>2</th>\n",
              "      <td>1</td>\n",
              "      <td>91</td>\n",
              "      <td>0.609167</td>\n",
              "      <td>1</td>\n",
              "      <td>1</td>\n",
              "      <td>1</td>\n",
              "      <td>1</td>\n",
              "      <td>1</td>\n",
              "      <td>1</td>\n",
              "      <td>1</td>\n",
              "      <td>1</td>\n",
              "      <td>0</td>\n",
              "      <td>0</td>\n",
              "      <td>0</td>\n",
              "      <td>1</td>\n",
              "    </tr>\n",
              "    <tr>\n",
              "      <th>3</th>\n",
              "      <td>1</td>\n",
              "      <td>1577</td>\n",
              "      <td>0.998015</td>\n",
              "      <td>1</td>\n",
              "      <td>1</td>\n",
              "      <td>1</td>\n",
              "      <td>1</td>\n",
              "      <td>1</td>\n",
              "      <td>1</td>\n",
              "      <td>1</td>\n",
              "      <td>1</td>\n",
              "      <td>1</td>\n",
              "      <td>1</td>\n",
              "      <td>1</td>\n",
              "      <td>1</td>\n",
              "    </tr>\n",
              "    <tr>\n",
              "      <th>4</th>\n",
              "      <td>0</td>\n",
              "      <td>487</td>\n",
              "      <td>0.204137</td>\n",
              "      <td>0</td>\n",
              "      <td>1</td>\n",
              "      <td>1</td>\n",
              "      <td>1</td>\n",
              "      <td>0</td>\n",
              "      <td>0</td>\n",
              "      <td>0</td>\n",
              "      <td>0</td>\n",
              "      <td>0</td>\n",
              "      <td>0</td>\n",
              "      <td>0</td>\n",
              "      <td>0</td>\n",
              "    </tr>\n",
              "  </tbody>\n",
              "</table>\n",
              "</div>"
            ],
            "text/plain": [
              "   Converted_actual  Lead_index  Converted_Prob  Converted_predicted  0.0  \\\n",
              "0                 0        5279        0.014513                    0    1   \n",
              "1                 0        3099        0.380075                    0    1   \n",
              "2                 1          91        0.609167                    1    1   \n",
              "3                 1        1577        0.998015                    1    1   \n",
              "4                 0         487        0.204137                    0    1   \n",
              "\n",
              "   0.1  0.2  0.3  0.4  0.5  0.6  0.7  0.8  0.9  Final_predicted  \n",
              "0    0    0    0    0    0    0    0    0    0                0  \n",
              "1    1    1    1    0    0    0    0    0    0                1  \n",
              "2    1    1    1    1    1    1    0    0    0                1  \n",
              "3    1    1    1    1    1    1    1    1    1                1  \n",
              "4    1    1    0    0    0    0    0    0    0                0  "
            ]
          },
          "metadata": {
            "tags": []
          },
          "execution_count": 197
        }
      ]
    },
    {
      "cell_type": "code",
      "metadata": {
        "id": "PP91vsPS30qc",
        "colab_type": "code",
        "colab": {}
      },
      "source": [
        "merged = pd.merge(lead_df,y_train_pred_final,on='Lead_index',how='inner')"
      ],
      "execution_count": 0,
      "outputs": []
    },
    {
      "cell_type": "code",
      "metadata": {
        "id": "gMgx4Oyn30qd",
        "colab_type": "code",
        "colab": {},
        "outputId": "bd4e9dae-6d22-4c73-cf6f-1aa48c26715a"
      },
      "source": [
        "merged.head()"
      ],
      "execution_count": 0,
      "outputs": [
        {
          "output_type": "execute_result",
          "data": {
            "text/html": [
              "<div>\n",
              "<style scoped>\n",
              "    .dataframe tbody tr th:only-of-type {\n",
              "        vertical-align: middle;\n",
              "    }\n",
              "\n",
              "    .dataframe tbody tr th {\n",
              "        vertical-align: top;\n",
              "    }\n",
              "\n",
              "    .dataframe thead th {\n",
              "        text-align: right;\n",
              "    }\n",
              "</style>\n",
              "<table border=\"1\" class=\"dataframe\">\n",
              "  <thead>\n",
              "    <tr style=\"text-align: right;\">\n",
              "      <th></th>\n",
              "      <th>Lead Number</th>\n",
              "      <th>Lead_index</th>\n",
              "      <th>Converted_actual</th>\n",
              "      <th>Converted_Prob</th>\n",
              "      <th>Converted_predicted</th>\n",
              "      <th>0.0</th>\n",
              "      <th>0.1</th>\n",
              "      <th>0.2</th>\n",
              "      <th>0.3</th>\n",
              "      <th>0.4</th>\n",
              "      <th>0.5</th>\n",
              "      <th>0.6</th>\n",
              "      <th>0.7</th>\n",
              "      <th>0.8</th>\n",
              "      <th>0.9</th>\n",
              "      <th>Final_predicted</th>\n",
              "    </tr>\n",
              "  </thead>\n",
              "  <tbody>\n",
              "    <tr>\n",
              "      <th>0</th>\n",
              "      <td>660737</td>\n",
              "      <td>0</td>\n",
              "      <td>0</td>\n",
              "      <td>0.004696</td>\n",
              "      <td>0</td>\n",
              "      <td>1</td>\n",
              "      <td>0</td>\n",
              "      <td>0</td>\n",
              "      <td>0</td>\n",
              "      <td>0</td>\n",
              "      <td>0</td>\n",
              "      <td>0</td>\n",
              "      <td>0</td>\n",
              "      <td>0</td>\n",
              "      <td>0</td>\n",
              "      <td>0</td>\n",
              "    </tr>\n",
              "    <tr>\n",
              "      <th>1</th>\n",
              "      <td>660728</td>\n",
              "      <td>1</td>\n",
              "      <td>0</td>\n",
              "      <td>0.015676</td>\n",
              "      <td>0</td>\n",
              "      <td>1</td>\n",
              "      <td>0</td>\n",
              "      <td>0</td>\n",
              "      <td>0</td>\n",
              "      <td>0</td>\n",
              "      <td>0</td>\n",
              "      <td>0</td>\n",
              "      <td>0</td>\n",
              "      <td>0</td>\n",
              "      <td>0</td>\n",
              "      <td>0</td>\n",
              "    </tr>\n",
              "    <tr>\n",
              "      <th>2</th>\n",
              "      <td>660727</td>\n",
              "      <td>2</td>\n",
              "      <td>1</td>\n",
              "      <td>0.994907</td>\n",
              "      <td>1</td>\n",
              "      <td>1</td>\n",
              "      <td>1</td>\n",
              "      <td>1</td>\n",
              "      <td>1</td>\n",
              "      <td>1</td>\n",
              "      <td>1</td>\n",
              "      <td>1</td>\n",
              "      <td>1</td>\n",
              "      <td>1</td>\n",
              "      <td>1</td>\n",
              "      <td>1</td>\n",
              "    </tr>\n",
              "    <tr>\n",
              "      <th>3</th>\n",
              "      <td>660719</td>\n",
              "      <td>3</td>\n",
              "      <td>0</td>\n",
              "      <td>0.000428</td>\n",
              "      <td>0</td>\n",
              "      <td>1</td>\n",
              "      <td>0</td>\n",
              "      <td>0</td>\n",
              "      <td>0</td>\n",
              "      <td>0</td>\n",
              "      <td>0</td>\n",
              "      <td>0</td>\n",
              "      <td>0</td>\n",
              "      <td>0</td>\n",
              "      <td>0</td>\n",
              "      <td>0</td>\n",
              "    </tr>\n",
              "    <tr>\n",
              "      <th>4</th>\n",
              "      <td>660681</td>\n",
              "      <td>4</td>\n",
              "      <td>1</td>\n",
              "      <td>0.898501</td>\n",
              "      <td>1</td>\n",
              "      <td>1</td>\n",
              "      <td>1</td>\n",
              "      <td>1</td>\n",
              "      <td>1</td>\n",
              "      <td>1</td>\n",
              "      <td>1</td>\n",
              "      <td>1</td>\n",
              "      <td>1</td>\n",
              "      <td>1</td>\n",
              "      <td>0</td>\n",
              "      <td>1</td>\n",
              "    </tr>\n",
              "  </tbody>\n",
              "</table>\n",
              "</div>"
            ],
            "text/plain": [
              "   Lead Number  Lead_index  Converted_actual  Converted_Prob  \\\n",
              "0       660737           0                 0        0.004696   \n",
              "1       660728           1                 0        0.015676   \n",
              "2       660727           2                 1        0.994907   \n",
              "3       660719           3                 0        0.000428   \n",
              "4       660681           4                 1        0.898501   \n",
              "\n",
              "   Converted_predicted  0.0  0.1  0.2  0.3  0.4  0.5  0.6  0.7  0.8  0.9  \\\n",
              "0                    0    1    0    0    0    0    0    0    0    0    0   \n",
              "1                    0    1    0    0    0    0    0    0    0    0    0   \n",
              "2                    1    1    1    1    1    1    1    1    1    1    1   \n",
              "3                    0    1    0    0    0    0    0    0    0    0    0   \n",
              "4                    1    1    1    1    1    1    1    1    1    1    0   \n",
              "\n",
              "   Final_predicted  \n",
              "0                0  \n",
              "1                0  \n",
              "2                1  \n",
              "3                0  \n",
              "4                1  "
            ]
          },
          "metadata": {
            "tags": []
          },
          "execution_count": 199
        }
      ]
    },
    {
      "cell_type": "code",
      "metadata": {
        "id": "2rCDR6YQ30qe",
        "colab_type": "code",
        "colab": {}
      },
      "source": [
        "merged2 = pd.merge(lead_df,y_pred_final,on='Lead_index',how='inner')"
      ],
      "execution_count": 0,
      "outputs": []
    },
    {
      "cell_type": "code",
      "metadata": {
        "id": "Fymds9_O30qf",
        "colab_type": "code",
        "colab": {},
        "outputId": "71ded145-a2bd-423f-eb0f-41f65d4d9d3b"
      },
      "source": [
        "merged2.head()"
      ],
      "execution_count": 0,
      "outputs": [
        {
          "output_type": "execute_result",
          "data": {
            "text/html": [
              "<div>\n",
              "<style scoped>\n",
              "    .dataframe tbody tr th:only-of-type {\n",
              "        vertical-align: middle;\n",
              "    }\n",
              "\n",
              "    .dataframe tbody tr th {\n",
              "        vertical-align: top;\n",
              "    }\n",
              "\n",
              "    .dataframe thead th {\n",
              "        text-align: right;\n",
              "    }\n",
              "</style>\n",
              "<table border=\"1\" class=\"dataframe\">\n",
              "  <thead>\n",
              "    <tr style=\"text-align: right;\">\n",
              "      <th></th>\n",
              "      <th>Lead Number</th>\n",
              "      <th>Lead_index</th>\n",
              "      <th>Converted</th>\n",
              "      <th>Converted_Prob</th>\n",
              "      <th>final_predicted</th>\n",
              "    </tr>\n",
              "  </thead>\n",
              "  <tbody>\n",
              "    <tr>\n",
              "      <th>0</th>\n",
              "      <td>660570</td>\n",
              "      <td>11</td>\n",
              "      <td>1</td>\n",
              "      <td>0.998027</td>\n",
              "      <td>1</td>\n",
              "    </tr>\n",
              "    <tr>\n",
              "      <th>1</th>\n",
              "      <td>660553</td>\n",
              "      <td>14</td>\n",
              "      <td>0</td>\n",
              "      <td>0.118630</td>\n",
              "      <td>0</td>\n",
              "    </tr>\n",
              "    <tr>\n",
              "      <th>2</th>\n",
              "      <td>660522</td>\n",
              "      <td>18</td>\n",
              "      <td>1</td>\n",
              "      <td>0.530328</td>\n",
              "      <td>1</td>\n",
              "    </tr>\n",
              "    <tr>\n",
              "      <th>3</th>\n",
              "      <td>660458</td>\n",
              "      <td>24</td>\n",
              "      <td>1</td>\n",
              "      <td>0.997085</td>\n",
              "      <td>1</td>\n",
              "    </tr>\n",
              "    <tr>\n",
              "      <th>4</th>\n",
              "      <td>660424</td>\n",
              "      <td>27</td>\n",
              "      <td>1</td>\n",
              "      <td>0.992553</td>\n",
              "      <td>1</td>\n",
              "    </tr>\n",
              "  </tbody>\n",
              "</table>\n",
              "</div>"
            ],
            "text/plain": [
              "   Lead Number  Lead_index  Converted  Converted_Prob  final_predicted\n",
              "0       660570          11          1        0.998027                1\n",
              "1       660553          14          0        0.118630                0\n",
              "2       660522          18          1        0.530328                1\n",
              "3       660458          24          1        0.997085                1\n",
              "4       660424          27          1        0.992553                1"
            ]
          },
          "metadata": {
            "tags": []
          },
          "execution_count": 201
        }
      ]
    },
    {
      "cell_type": "code",
      "metadata": {
        "id": "St8og5B330qg",
        "colab_type": "code",
        "colab": {}
      },
      "source": [
        "merged1 = merged[['Lead Number','Converted_Prob']]\n",
        "merged2 = merged2[['Lead Number','Converted_Prob']]"
      ],
      "execution_count": 0,
      "outputs": []
    },
    {
      "cell_type": "code",
      "metadata": {
        "id": "bu38p4yC30qh",
        "colab_type": "code",
        "colab": {},
        "outputId": "de2c4e32-f5cb-4069-b5a3-7ae00f91d32b"
      },
      "source": [
        "merged1.shape[0] + merged2.shape[0]"
      ],
      "execution_count": 0,
      "outputs": [
        {
          "output_type": "execute_result",
          "data": {
            "text/plain": [
              "8445"
            ]
          },
          "metadata": {
            "tags": []
          },
          "execution_count": 203
        }
      ]
    },
    {
      "cell_type": "code",
      "metadata": {
        "id": "1fFYOA4f30qh",
        "colab_type": "code",
        "colab": {}
      },
      "source": [
        "result = merged1.append(merged2)"
      ],
      "execution_count": 0,
      "outputs": []
    },
    {
      "cell_type": "code",
      "metadata": {
        "id": "tUz6Au2f30qi",
        "colab_type": "code",
        "colab": {}
      },
      "source": [
        "result['Lead Score'] = round(100*result['Converted_Prob'])"
      ],
      "execution_count": 0,
      "outputs": []
    },
    {
      "cell_type": "code",
      "metadata": {
        "id": "H5fPSzU630qj",
        "colab_type": "code",
        "colab": {}
      },
      "source": [
        "result['Lead Score'] = result['Lead Score'].astype(int)"
      ],
      "execution_count": 0,
      "outputs": []
    },
    {
      "cell_type": "code",
      "metadata": {
        "id": "tIhwq1qN30qk",
        "colab_type": "code",
        "colab": {}
      },
      "source": [
        "result.drop(['Converted_Prob'],axis=1,inplace=True)"
      ],
      "execution_count": 0,
      "outputs": []
    },
    {
      "cell_type": "code",
      "metadata": {
        "id": "ADFGU5WX30ql",
        "colab_type": "code",
        "colab": {},
        "outputId": "1c488d99-faae-457f-e1b9-592f3ef5ddea"
      },
      "source": [
        "result.head(20)"
      ],
      "execution_count": 0,
      "outputs": [
        {
          "output_type": "execute_result",
          "data": {
            "text/html": [
              "<div>\n",
              "<style scoped>\n",
              "    .dataframe tbody tr th:only-of-type {\n",
              "        vertical-align: middle;\n",
              "    }\n",
              "\n",
              "    .dataframe tbody tr th {\n",
              "        vertical-align: top;\n",
              "    }\n",
              "\n",
              "    .dataframe thead th {\n",
              "        text-align: right;\n",
              "    }\n",
              "</style>\n",
              "<table border=\"1\" class=\"dataframe\">\n",
              "  <thead>\n",
              "    <tr style=\"text-align: right;\">\n",
              "      <th></th>\n",
              "      <th>Lead Number</th>\n",
              "      <th>Lead Score</th>\n",
              "    </tr>\n",
              "  </thead>\n",
              "  <tbody>\n",
              "    <tr>\n",
              "      <th>0</th>\n",
              "      <td>660737</td>\n",
              "      <td>0</td>\n",
              "    </tr>\n",
              "    <tr>\n",
              "      <th>1</th>\n",
              "      <td>660728</td>\n",
              "      <td>2</td>\n",
              "    </tr>\n",
              "    <tr>\n",
              "      <th>2</th>\n",
              "      <td>660727</td>\n",
              "      <td>99</td>\n",
              "    </tr>\n",
              "    <tr>\n",
              "      <th>3</th>\n",
              "      <td>660719</td>\n",
              "      <td>0</td>\n",
              "    </tr>\n",
              "    <tr>\n",
              "      <th>4</th>\n",
              "      <td>660681</td>\n",
              "      <td>90</td>\n",
              "    </tr>\n",
              "    <tr>\n",
              "      <th>5</th>\n",
              "      <td>660680</td>\n",
              "      <td>4</td>\n",
              "    </tr>\n",
              "    <tr>\n",
              "      <th>6</th>\n",
              "      <td>660673</td>\n",
              "      <td>98</td>\n",
              "    </tr>\n",
              "    <tr>\n",
              "      <th>7</th>\n",
              "      <td>660664</td>\n",
              "      <td>4</td>\n",
              "    </tr>\n",
              "    <tr>\n",
              "      <th>8</th>\n",
              "      <td>660624</td>\n",
              "      <td>6</td>\n",
              "    </tr>\n",
              "    <tr>\n",
              "      <th>9</th>\n",
              "      <td>660616</td>\n",
              "      <td>18</td>\n",
              "    </tr>\n",
              "    <tr>\n",
              "      <th>10</th>\n",
              "      <td>660558</td>\n",
              "      <td>0</td>\n",
              "    </tr>\n",
              "    <tr>\n",
              "      <th>11</th>\n",
              "      <td>660547</td>\n",
              "      <td>99</td>\n",
              "    </tr>\n",
              "    <tr>\n",
              "      <th>12</th>\n",
              "      <td>660540</td>\n",
              "      <td>4</td>\n",
              "    </tr>\n",
              "    <tr>\n",
              "      <th>13</th>\n",
              "      <td>660534</td>\n",
              "      <td>3</td>\n",
              "    </tr>\n",
              "    <tr>\n",
              "      <th>14</th>\n",
              "      <td>660509</td>\n",
              "      <td>0</td>\n",
              "    </tr>\n",
              "    <tr>\n",
              "      <th>15</th>\n",
              "      <td>660479</td>\n",
              "      <td>0</td>\n",
              "    </tr>\n",
              "    <tr>\n",
              "      <th>16</th>\n",
              "      <td>660478</td>\n",
              "      <td>0</td>\n",
              "    </tr>\n",
              "    <tr>\n",
              "      <th>17</th>\n",
              "      <td>660471</td>\n",
              "      <td>93</td>\n",
              "    </tr>\n",
              "    <tr>\n",
              "      <th>18</th>\n",
              "      <td>660461</td>\n",
              "      <td>1</td>\n",
              "    </tr>\n",
              "    <tr>\n",
              "      <th>19</th>\n",
              "      <td>660447</td>\n",
              "      <td>13</td>\n",
              "    </tr>\n",
              "  </tbody>\n",
              "</table>\n",
              "</div>"
            ],
            "text/plain": [
              "    Lead Number  Lead Score\n",
              "0        660737           0\n",
              "1        660728           2\n",
              "2        660727          99\n",
              "3        660719           0\n",
              "4        660681          90\n",
              "5        660680           4\n",
              "6        660673          98\n",
              "7        660664           4\n",
              "8        660624           6\n",
              "9        660616          18\n",
              "10       660558           0\n",
              "11       660547          99\n",
              "12       660540           4\n",
              "13       660534           3\n",
              "14       660509           0\n",
              "15       660479           0\n",
              "16       660478           0\n",
              "17       660471          93\n",
              "18       660461           1\n",
              "19       660447          13"
            ]
          },
          "metadata": {
            "tags": []
          },
          "execution_count": 208
        }
      ]
    },
    {
      "cell_type": "markdown",
      "metadata": {
        "id": "4V3YwGkG30qm",
        "colab_type": "text"
      },
      "source": [
        "<font color = green> <b> So our final dataset is with just the Lead Number and the Score(ranging from 0 to 100) which we assign to each of the lead which indicates which leads to concentrate more which are more potential leads."
      ]
    }
  ]
}